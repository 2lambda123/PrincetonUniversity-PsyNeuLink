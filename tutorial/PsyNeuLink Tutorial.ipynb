{
 "cells": [
  {
   "cell_type": "markdown",
   "metadata": {},
   "source": [
    "# Welcome to PsyNeuLink\n",
    "\n",
    "PsyNeuLink is an integrated language and toolkit for creating cognitive models. It decreases the overhead required for cognitive modeling by providing standard building blocks (DDMS, Neural Nets, etc.) and the means to connect them together in a single environment. PsyNeuLink is designed to make the user think about computation in a \"mind/brain-like\" way while imposing minimal constraint on the type of models that can be implemented."
   ]
  },
  {
   "cell_type": "markdown",
   "metadata": {
    "collapsed": true
   },
   "source": [
    "## How to get PsyNeuLink\n",
    "\n",
    "PsyNeuLink is compatible with python versions >= 3.5, and is available through PyPI:\n",
    "\n",
    "```python\n",
    "pip install psyneulink\n",
    "```\n",
    "Or you can clone the github repo [here](https://github.com/PrincetonUniversity/PsyNeuLink). Download the package with the green \"Clone or download\" button on the right side of the page and \"Download ZIP.\" Open the version of this Tutorial in the cloned folder before continuing on.\n",
    "\n",
    "## Installation\n",
    "\n",
    "To install the package, navigate to the cloned directory in a terminal, switch to your preferred python3 environment, then run the command __\"pip install .\"__ (make sure to include the period and to use the appropriate pip/pip3 command for python 3.5). All prerequisite packages will be automatically added to your enviroment.\n",
    "\n",
    "For the curious, these are:\n",
    "* numpy\n",
    "* matplotlib\n",
    "* toposort\n",
    "* mpi4py\n",
    "* typecheck-decorator"
   ]
  },
  {
   "cell_type": "markdown",
   "metadata": {},
   "source": [
    "\n",
    "## Tutorial Overview\n",
    "\n",
    "This tutorial is meant to get you accustomed to the structure of PsyNeuLink and be able to construct basic models. Starting with a simple 1-to-1 transformation, we will build up to making the Stroop model from Cohen et al. (1990). Let's get started!"
   ]
  },
  {
   "cell_type": "markdown",
   "metadata": {},
   "source": [
    "### Imports and file structure\n",
    "\n",
    "The following code block will import the necessary components for basic neural network models in PsyNeuLink. In particular, we need tools for handling *[systems](https://princetonuniversity.github.io/PsyNeuLink/System.html)*, *[processes](https://princetonuniversity.github.io/PsyNeuLink/Process.html)*, the set of specific *[mechanisms](https://princetonuniversity.github.io/PsyNeuLink/Mechanism.html)* that will make up our networks, and the *[projections](https://princetonuniversity.github.io/PsyNeuLink/Projection.html)* to connect them. We also import basic prerequisites and set up the jupyter environment for visualization."
   ]
  },
  {
   "cell_type": "code",
   "execution_count": 1,
   "metadata": {
    "collapsed": true
   },
   "outputs": [],
   "source": [
    "import psyneulink as pnl"
   ]
  },
  {
   "cell_type": "code",
   "execution_count": 2,
   "metadata": {
    "collapsed": false
   },
   "outputs": [],
   "source": [
    "import numpy as np\n",
    "import matplotlib.pyplot as plt\n",
    "% matplotlib inline"
   ]
  },
  {
   "cell_type": "markdown",
   "metadata": {},
   "source": [
    "### Creating a mechanism\n",
    "\n",
    "*[Mechanisms](https://princetonuniversity.github.io/PsyNeuLink/Mechanism.html)* are the basic units of computation in PsyNeuLink. At their core is a parameterized *function* but they also contain the machinery to interact with input, output, control, and learning signals. Our first mechanism will perform a linear transformation on a scalar input. For now, we will initialize it by just specifying the *function* of the mechanism."
   ]
  },
  {
   "cell_type": "code",
   "execution_count": 3,
   "metadata": {
    "collapsed": true
   },
   "outputs": [],
   "source": [
    "linear_transfer_mechanism = pnl.TransferMechanism(\n",
    "    function=pnl.Linear(slope=1, intercept=0))"
   ]
  },
  {
   "cell_type": "markdown",
   "metadata": {},
   "source": [
    "In this case, we didn't actually need to specify the slope and intercept as the function will default to reasonable values (in this case, 1 and 0 respectively)."
   ]
  },
  {
   "cell_type": "code",
   "execution_count": 4,
   "metadata": {
    "collapsed": false
   },
   "outputs": [
    {
     "data": {
      "text/plain": [
       "array([[ 1.]])"
      ]
     },
     "execution_count": 4,
     "metadata": {},
     "output_type": "execute_result"
    }
   ],
   "source": [
    "linear_transfer_mechanism.execute([1])"
   ]
  },
  {
   "cell_type": "markdown",
   "metadata": {},
   "source": [
    "Try reparamaterizing the mechanism and executing again before moving on."
   ]
  },
  {
   "cell_type": "markdown",
   "metadata": {},
   "source": [
    "### Organizing into Processes\n",
    "\n",
    "Generally with PsyNeuLink, you won't be executing mechanisms as stand-alone entities. Rather, they will be encapsulated inside *[Processes](https://princetonuniversity.github.io/PsyNeuLink/Process.html)* and later *[Systems](https://princetonuniversity.github.io/PsyNeuLink/System.html)*. A process is a collection of mechanisms and projections to be executed serially. They may be thought of as a way to concatenate mechanisms into a single, more complex unit of analysis in order to simplify interacting with larger models.\n",
    "\n",
    "The main parameter when initializing a process is its pathway, which is the order in which the mechanisms will execute. Of course, with only one mechanism in our process, the list has just one element.\n",
    "\n",
    "To better see how the process runs, we also turn on output reporting. Reporting can happen at every level in PsyNeuLink so we set the preference for both the process and mechanism."
   ]
  },
  {
   "cell_type": "code",
   "execution_count": 5,
   "metadata": {
    "collapsed": true
   },
   "outputs": [],
   "source": [
    "linear_transfer_process = pnl.Process(pathway = [linear_transfer_mechanism])\n",
    "\n",
    "linear_transfer_mechanism.reportOutputPref = True\n",
    "linear_transfer_process.reportOutputPref = True"
   ]
  },
  {
   "cell_type": "code",
   "execution_count": 6,
   "metadata": {
    "collapsed": false
   },
   "outputs": [
    {
     "name": "stdout",
     "output_type": "stream",
     "text": [
      "\n",
      "\n",
      "****************************************\n",
      "\n",
      "\n",
      "''Process-0' process_base' executing with:\n",
      "- pathway: ['TransferMechanism-0']\n",
      "- input: [[4]]\n",
      "\n",
      "'TransferMechanism-0'  executed:\n",
      "- input:  4.0\n",
      "- params:\n",
      "\tfunction: Linear\n",
      "\t\tintercept: 0\n",
      "\t\tslope: 1\n",
      "\tinitial_value: 0\n",
      "\tintegrator_mode: False\n",
      "\tnoise: 0.0\n",
      "\ttime_scale: TimeScale.TRIAL\n",
      "- output: 4.0\n",
      "\n",
      "''Process-0' process_base' completed:\n",
      "- output: 4.0\n",
      "\n",
      "\n",
      "****************************************\n",
      "\n"
     ]
    },
    {
     "data": {
      "text/plain": [
       "array([ 4.])"
      ]
     },
     "execution_count": 6,
     "metadata": {},
     "output_type": "execute_result"
    }
   ],
   "source": [
    "linear_transfer_process.execute([4])"
   ]
  },
  {
   "cell_type": "markdown",
   "metadata": {},
   "source": [
    "Let's turn off the reporting and look at our process' output over a wider range of values."
   ]
  },
  {
   "cell_type": "code",
   "execution_count": 7,
   "metadata": {
    "collapsed": false
   },
   "outputs": [
    {
     "name": "stdout",
     "output_type": "stream",
     "text": [
      "---------------------------------------------------"
     ]
    },
    {
     "data": {
      "image/png": "[encoded data removed]",
      "text/plain": [
       "<matplotlib.figure.Figure at 0x7f5ba42727b8>"
      ]
     },
     "metadata": {},
     "output_type": "display_data"
    }
   ],
   "source": [
    "linear_transfer_mechanism.reportOutputPref = False\n",
    "linear_transfer_process.reportOutputPref = False\n",
    "\n",
    "xVals = np.linspace(-3, 3, num=51)\n",
    "yVals = np.zeros((51,))\n",
    "for i in range(xVals.shape[0]):\n",
    "    yVals[i] = linear_transfer_process.execute([xVals[i]])[0]\n",
    "    # Progress bar\n",
    "    print(\"-\", end=\"\")\n",
    "plt.plot(xVals, yVals)\n",
    "plt.show()"
   ]
  },
  {
   "cell_type": "markdown",
   "metadata": {},
   "source": [
    "The previous cell provides a way to plot the net input-output function of a composed Process.  If you want to see the function associated with an individual Mechanism, there is simple way to do this (and because the current Process is only has one Mechanism the plotted function will be the same):"
   ]
  },
  {
   "cell_type": "code",
   "execution_count": 8,
   "metadata": {
    "collapsed": false
   },
   "outputs": [
    {
     "data": {
      "image/png": "[encoded data removed]",
      "text/plain": [
       "<matplotlib.figure.Figure at 0x7f5ba62b27b8>"
      ]
     },
     "metadata": {},
     "output_type": "display_data"
    }
   ],
   "source": [
    "linear_transfer_mechanism.plot()"
   ]
  },
  {
   "cell_type": "markdown",
   "metadata": {},
   "source": [
    "Now let's put it all together and make a new transfer process, this time with a logistic activation function. We will also extend our mechanism by giving it two units (operating on a 1x2 matrix) rather than the default one (operating on a scalar)."
   ]
  },
  {
   "cell_type": "code",
   "execution_count": 9,
   "metadata": {
    "collapsed": false
   },
   "outputs": [
    {
     "name": "stdout",
     "output_type": "stream",
     "text": [
      "---------------------------------------------------"
     ]
    },
    {
     "data": {
      "image/png": "[encoded data removed]",
      "text/plain": [
       "<matplotlib.figure.Figure at 0x7f5ba633a668>"
      ]
     },
     "metadata": {},
     "output_type": "display_data"
    }
   ],
   "source": [
    "# Create the mechanism\n",
    "logistic_transfer_mechanism = pnl.TransferMechanism(default_variable=[0, 0],\n",
    "                                                function=pnl.Logistic(gain=1,\n",
    "                                                                  bias=0))\n",
    "\n",
    "# Package into a process\n",
    "logistic_transfer_process = pnl.Process(pathway=[logistic_transfer_mechanism])\n",
    "\n",
    "# Iterate and plot\n",
    "xVals = np.linspace(-3, 3, num=51)\n",
    "y1Vals = np.zeros((51,))\n",
    "y2Vals = np.zeros((51,))\n",
    "for i in range(xVals.shape[0]):\n",
    "    # clarify why multiplying times 2\n",
    "    output = logistic_transfer_process.execute([xVals[i], xVals[i] * 2])\n",
    "    y1Vals[i] = output[0]\n",
    "    y2Vals[i] = output[1]\n",
    "    # Progress bar\n",
    "    print(\"-\", end=\"\")\n",
    "plt.plot(xVals, y1Vals)\n",
    "plt.plot(xVals, y2Vals)\n",
    "plt.show()"
   ]
  },
  {
   "cell_type": "markdown",
   "metadata": {},
   "source": [
    "The `default_variable` parameter serves a dual function. It specifies the dimensionality of the mechanism as well as providing the inputs that will be given in the absence of explicit input at runtime."
   ]
  },
  {
   "cell_type": "markdown",
   "metadata": {},
   "source": [
    "You can also think of the functions in mechanisms as simple building blocks, and it is possible to combine them to create a wide variety of different functions, as in the next two examples."
   ]
  },
  {
   "cell_type": "code",
   "execution_count": 10,
   "metadata": {
    "collapsed": false
   },
   "outputs": [
    {
     "name": "stdout",
     "output_type": "stream",
     "text": [
      "---------------------------------------------------"
     ]
    },
    {
     "data": {
      "image/png": "[encoded data removed]",
      "text/plain": [
       "<matplotlib.figure.Figure at 0x7f5ba62dafd0>"
      ]
     },
     "metadata": {},
     "output_type": "display_data"
    }
   ],
   "source": [
    "toymech2 = pnl.TransferMechanism(\n",
    "    name='toymech2',\n",
    "    function=pnl.Logistic(gain = -20, bias = -.5)\n",
    ")\n",
    "\n",
    "toymech3 = pnl.TransferMechanism(\n",
    "    name='toymech3',\n",
    "    function=pnl.Logistic(gain = -20, bias = .5),\n",
    ")\n",
    "\n",
    "toymech4 =pnl.TransferMechanism(\n",
    "    name='toymech4',\n",
    "    function=pnl.Linear()\n",
    ")\n",
    "\n",
    "toyprocess1 = pnl.Process(\n",
    "    pathway=[toymech2, toymech4]    \n",
    ")\n",
    "\n",
    "toyprocess2 = pnl.Process(\n",
    "    pathway=[toymech3, toymech4]    \n",
    ")\n",
    "\n",
    "\n",
    "toysystem2 = pnl.System(processes=[toyprocess1, toyprocess2],\n",
    "                     name='SumLog')\n",
    "\n",
    "toymech2.reportOutputPref = False\n",
    "toymech3.reportOutputPref = False\n",
    "toymech4.reportOutputPref = False\n",
    "\n",
    "# Iterate and plot\n",
    "xVals = np.linspace(-2, 2, num=51)\n",
    "yVals = np.zeros((51,))\n",
    "for i in range(xVals.shape[0]):\n",
    "    yVals[i] = toysystem2.execute([[xVals[i]],[xVals[i]]])[0]\n",
    "    # Progress bar\n",
    "    print(\"-\", end=\"\")\n",
    "plt.plot(xVals, yVals)\n",
    "plt.show()"
   ]
  },
  {
   "cell_type": "code",
   "execution_count": 11,
   "metadata": {
    "collapsed": false
   },
   "outputs": [
    {
     "name": "stdout",
     "output_type": "stream",
     "text": [
      "---------------------------------------------------"
     ]
    },
    {
     "data": {
      "image/png": "[encoded data removed]",
      "text/plain": [
       "<matplotlib.figure.Figure at 0x7f5ba63855c0>"
      ]
     },
     "metadata": {},
     "output_type": "display_data"
    }
   ],
   "source": [
    "toymech2 = pnl.TransferMechanism(\n",
    "    name='toymech2',\n",
    "    function=pnl.Logistic(gain = 3, bias = -.5)\n",
    ")\n",
    "\n",
    "toymech3 = pnl.TransferMechanism(\n",
    "    name='toymech3',\n",
    "    function=pnl.Logistic(gain = -3, bias = .5),\n",
    ")\n",
    "\n",
    "toymech4 =pnl.TransferMechanism(\n",
    "    name='toymech4',\n",
    "    function=pnl.Linear()\n",
    ")\n",
    "\n",
    "toyprocess1 = pnl.Process(\n",
    "    pathway=[toymech2, toymech4]    \n",
    ")\n",
    "\n",
    "toyprocess2 = pnl.Process(\n",
    "    pathway=[toymech3, toymech4]    \n",
    ")\n",
    "\n",
    "\n",
    "toysystem2 = pnl.System(processes=[toyprocess1, toyprocess2],\n",
    "                     name='SumLog')\n",
    "\n",
    "toymech2.reportOutputPref = False\n",
    "toymech3.reportOutputPref = False\n",
    "toymech4.reportOutputPref = False\n",
    "\n",
    "# Iterate and plot\n",
    "xVals = np.linspace(-2, 2, num=51)\n",
    "yVals = np.zeros((51,))\n",
    "for i in range(xVals.shape[0]):\n",
    "    yVals[i] = toysystem2.execute([[xVals[i]],[xVals[i]]])[0]\n",
    "    # Progress bar\n",
    "    print(\"-\", end=\"\")\n",
    "plt.plot(xVals, yVals)\n",
    "plt.show()"
   ]
  },
  {
   "cell_type": "markdown",
   "metadata": {},
   "source": [
    "### Adding Projections\n",
    "\n",
    "To make more complex processes, we need a way to link mechanisms together. This is done through *[Projections](https://princetonuniversity.github.io/PsyNeuLink/Projection.html)*. A projection takes a mechanism output, multiplies it by the projection's mapping matrix, and delivers the transformed value to the next mechanism in the process."
   ]
  },
  {
   "cell_type": "code",
   "execution_count": 12,
   "metadata": {
    "collapsed": false
   },
   "outputs": [
    {
     "name": "stdout",
     "output_type": "stream",
     "text": [
      "---------------------------------------------------"
     ]
    },
    {
     "data": {
      "image/png": "[encoded data removed]",
      "text/plain": [
       "<matplotlib.figure.Figure at 0x7f5ba448b6a0>"
      ]
     },
     "metadata": {},
     "output_type": "display_data"
    }
   ],
   "source": [
    "linear_input_unit = pnl.TransferMechanism(function=pnl.Linear(slope=2, intercept=2))\n",
    "logistic_output_unit = pnl.TransferMechanism(function=pnl.Logistic())\n",
    "mini_connected_network = pnl.Process(\n",
    "    pathway=[linear_input_unit, pnl.IDENTITY_MATRIX, logistic_output_unit])\n",
    "\n",
    "# Iterate and plot\n",
    "xVals = np.linspace(-3, 3, num=51)\n",
    "yVals = np.zeros((51,))\n",
    "for i in range(xVals.shape[0]):\n",
    "    yVals[i] = mini_connected_network.execute([xVals[i]])[0]\n",
    "    # Progress bar\n",
    "    print(\"-\", end=\"\")\n",
    "plt.plot(xVals, yVals)\n",
    "plt.show()"
   ]
  },
  {
   "cell_type": "markdown",
   "metadata": {},
   "source": [
    "If you want to plot the two Mechanism individually, the following cell allows you to do this.  "
   ]
  },
  {
   "cell_type": "code",
   "execution_count": 13,
   "metadata": {
    "collapsed": false
   },
   "outputs": [
    {
     "data": {
      "image/png": "[encoded data removed]",
      "text/plain": [
       "<matplotlib.figure.Figure at 0x7f5ba4483780>"
      ]
     },
     "metadata": {},
     "output_type": "display_data"
    },
    {
     "data": {
      "image/png": "[encoded data removed]",
      "text/plain": [
       "<matplotlib.figure.Figure at 0x7f5ba4483198>"
      ]
     },
     "metadata": {},
     "output_type": "display_data"
    }
   ],
   "source": [
    "linear_input_unit.plot()\n",
    "logistic_output_unit.plot()"
   ]
  },
  {
   "cell_type": "markdown",
   "metadata": {},
   "source": [
    "`IDENTITY_MATRIX` is a keyword that provides a projection from the unit preceding it to the unit following that creates a one-to-one output to input projection between the two. Other useful projection keywords are [here](https://princetonuniversity.github.io/PsyNeuLink/Keywords.html#psyneulink.globals.keywords.MatrixKeywords.IDENTITY_MATRIX)\n",
    "\n",
    "Now let's make our projection definition a bit more explicit."
   ]
  },
  {
   "cell_type": "code",
   "execution_count": 14,
   "metadata": {
    "collapsed": false
   },
   "outputs": [
    {
     "name": "stdout",
     "output_type": "stream",
     "text": [
      "---------------------------------------------------"
     ]
    },
    {
     "data": {
      "image/png": "[encoded data removed]",
      "text/plain": [
       "<matplotlib.figure.Figure at 0x7f5ba43527b8>"
      ]
     },
     "metadata": {},
     "output_type": "display_data"
    }
   ],
   "source": [
    "linear_input_unit = pnl.TransferMechanism(function=pnl.Linear(slope=2, intercept=2))\n",
    "logistic_output_unit = pnl.TransferMechanism(function=pnl.Logistic())\n",
    "\n",
    "mapping_matrix = np.asarray([[1]])\n",
    "unit_mapping_projection = pnl.MappingProjection(sender=linear_input_unit,\n",
    "                                            receiver=logistic_output_unit,\n",
    "                                            matrix=mapping_matrix)\n",
    "mini_connected_network = pnl.Process(\n",
    "    pathway=[linear_input_unit, unit_mapping_projection, logistic_output_unit])\n",
    "\n",
    "# Iterate and plot\n",
    "xVals = np.linspace(-3, 3, num=51)\n",
    "yVals = np.zeros((51,))\n",
    "for i in range(xVals.shape[0]):\n",
    "    yVals[i] = mini_connected_network.execute([xVals[i]])[0]\n",
    "    # Progress bar\n",
    "    print(\"-\", end=\"\")\n",
    "plt.plot(xVals, yVals)\n",
    "plt.show()"
   ]
  },
  {
   "cell_type": "markdown",
   "metadata": {},
   "source": [
    "This time we specified our mapping matrix (which is a 2-D numpy array) then explicitly initialized a *[MappingProjection](https://princetonuniversity.github.io/PsyNeuLink/MappingProjection.html)* with that matrix as well as its input and output mechanisms. Note: because we specified the input and output mechanisms in the projection itself, we didn't need to include it in the process pathway as it will infer its position from those parameters. Ultimately, however, this does the exact same thing as our keyword method above which is far less verbose for this common use case."
   ]
  },
  {
   "cell_type": "markdown",
   "metadata": {},
   "source": [
    "### Systems\n",
    "\n",
    "The highest level at which models are considered in PsyNeuLink is that of the *[System](https://princetonuniversity.github.io/PsyNeuLink/System.html)*. A system is composed of one or more processes which can then run in unison. This allows system graphs to be more complex than the strictly linear ones of processes. Our first system will consist of two input nodes that converge on a single output mechanism. We will be modelling competition between color naming and word reading in the stroop task."
   ]
  },
  {
   "cell_type": "code",
   "execution_count": 15,
   "metadata": {
    "collapsed": true
   },
   "outputs": [],
   "source": [
    "colors = pnl.TransferMechanism(default_variable=[0, 0], function=pnl.Linear,\n",
    "                           name=\"Colors\")\n",
    "words = pnl.TransferMechanism(default_variable=[0, 0],\n",
    "                          function=pnl.Linear(slope=1.5), name=\"Words\")\n",
    "response = pnl.TransferMechanism(default_variable=[0, 0], function=pnl.Logistic,\n",
    "                             name=\"Response\")\n",
    "\n",
    "color_naming_process = pnl.Process(pathway=[colors, pnl.IDENTITY_MATRIX, response],\n",
    "                               name=\"Color Naming\")\n",
    "word_reading_process = pnl.Process(pathway=[words, pnl.IDENTITY_MATRIX, response],\n",
    "                               name=\"Word Reading\")\n",
    "\n",
    "# Should pass in scheduler or have system create new scheduler if scheduler=None\n",
    "mini_stroop = pnl.System(processes=[color_naming_process, word_reading_process],\n",
    "                     name='Stroop Model')"
   ]
  },
  {
   "cell_type": "markdown",
   "metadata": {},
   "source": [
    "In the code above \"colors\" are assigned the default Linear function values of slope = 1, and intercept = 0.  And \"words\" are explicitly assigned a slope of 1.5.  These slope values can be thought of as weights, asserting that words will be processed more than colors.\n",
    "\n",
    "The order of processes in the system initialization is important here as it is the order we will feed inputs to the system.  \n",
    "\n",
    "We can also visually inspect the system by creating a graph: "
   ]
  },
  {
   "cell_type": "code",
   "execution_count": 16,
   "metadata": {
    "collapsed": false
   },
   "outputs": [
    {
     "data": {
      "image/svg+xml": [
       "<?xml version=\"1.0\" encoding=\"UTF-8\" standalone=\"no\"?>\n",
       "<!DOCTYPE svg PUBLIC \"-//W3C//DTD SVG 1.1//EN\"\n",
       " \"http://www.w3.org/Graphics/SVG/1.1/DTD/svg11.dtd\">\n",
       "<!-- Generated by graphviz version 2.38.0 (20140413.2041)\n",
       " -->\n",
       "<!-- Title: %3 Pages: 1 -->\n",
       "<svg width=\"710pt\" height=\"127pt\"\n",
       " viewBox=\"0.00 0.00 710.24 127.00\" xmlns=\"http://www.w3.org/2000/svg\" xmlns:xlink=\"http://www.w3.org/1999/xlink\">\n",
       "<g id=\"graph0\" class=\"graph\" transform=\"scale(1 1) rotate(0) translate(4 123)\">\n",
       "<title>%3</title>\n",
       "<polygon fill=\"white\" stroke=\"none\" points=\"-4,4 -4,-123 706.242,-123 706.242,4 -4,4\"/>\n",
       "<!-- Colors -->\n",
       "<g id=\"node1\" class=\"node\"><title>Colors</title>\n",
       "<ellipse fill=\"none\" stroke=\"green\" stroke-width=\"3\" cx=\"33.2417\" cy=\"-18\" rx=\"33.4852\" ry=\"18\"/>\n",
       "<text text-anchor=\"middle\" x=\"33.2417\" y=\"-14.9\" font-family=\"arial\" font-size=\"12.00\">Colors</text>\n",
       "</g>\n",
       "<!-- Response -->\n",
       "<g id=\"node2\" class=\"node\"><title>Response</title>\n",
       "<ellipse fill=\"none\" stroke=\"red\" stroke-width=\"3\" cx=\"209.242\" cy=\"-101\" rx=\"45.6069\" ry=\"18\"/>\n",
       "<text text-anchor=\"middle\" x=\"209.242\" y=\"-97.9\" font-family=\"arial\" font-size=\"12.00\">Response</text>\n",
       "</g>\n",
       "<!-- Colors&#45;&gt;Response -->\n",
       "<g id=\"edge2\" class=\"edge\"><title>Colors&#45;&gt;Response</title>\n",
       "<path fill=\"none\" stroke=\"black\" d=\"M28.8158,-36.1228C27.4238,-45.6638 27.6738,-57.1638 34.2417,-65 49.4605,-83.1578 108.951,-92.1117 154.385,-96.3782\"/>\n",
       "<polygon fill=\"black\" stroke=\"black\" points=\"154.158,-99.8717 164.428,-97.2678 154.776,-92.899 154.158,-99.8717\"/>\n",
       "<text text-anchor=\"middle\" x=\"199.242\" y=\"-57\" font-family=\"arial\" font-size=\"10.00\">MappingProjection from Colors[RESULTS] to Response[InputState&#45;0]</text>\n",
       "</g>\n",
       "<!-- Words -->\n",
       "<g id=\"node3\" class=\"node\"><title>Words</title>\n",
       "<ellipse fill=\"none\" stroke=\"green\" stroke-width=\"3\" cx=\"386.242\" cy=\"-18\" rx=\"33.4852\" ry=\"18\"/>\n",
       "<text text-anchor=\"middle\" x=\"386.242\" y=\"-14.9\" font-family=\"arial\" font-size=\"12.00\">Words</text>\n",
       "</g>\n",
       "<!-- Words&#45;&gt;Response -->\n",
       "<g id=\"edge1\" class=\"edge\"><title>Words&#45;&gt;Response</title>\n",
       "<path fill=\"none\" stroke=\"black\" d=\"M382.037,-36.2452C378.77,-46.073 373.238,-57.8231 364.242,-65 336.318,-87.2774 296.987,-95.9731 264.932,-99.1271\"/>\n",
       "<polygon fill=\"black\" stroke=\"black\" points=\"264.481,-95.6524 254.804,-99.9665 265.059,-102.628 264.481,-95.6524\"/>\n",
       "<text text-anchor=\"middle\" x=\"537.742\" y=\"-57\" font-family=\"arial\" font-size=\"10.00\">MappingProjection from Words[RESULTS] to Response[InputState&#45;0]</text>\n",
       "</g>\n",
       "</g>\n",
       "</svg>\n"
      ],
      "text/plain": [
       "<graphviz.dot.Digraph at 0x7f5ba42af9b0>"
      ]
     },
     "execution_count": 16,
     "metadata": {},
     "output_type": "execute_result"
    }
   ],
   "source": [
    "# mini_stroop.show_graph(output_fmt = 'jupyter')"
   ]
  },
  {
   "cell_type": "markdown",
   "metadata": {},
   "source": [
    "PsyNeuLink provides multiple convenient ways to inspect a model (to better understand existing models, and to debug and trouble-shoot while building your own models).  Along with turning on reporting, you can use the system_name.show() to get a summary. "
   ]
  },
  {
   "cell_type": "code",
   "execution_count": 17,
   "metadata": {
    "collapsed": false
   },
   "outputs": [
    {
     "name": "stdout",
     "output_type": "stream",
     "text": [
      "\n",
      "---------------------------------------------------------\n",
      "\n",
      "Stroop Model\n",
      "\n",
      "\tControl enabled: False\n",
      "\n",
      "\tProcesses:\n",
      "\t\tColor Naming [learning enabled: False]\n",
      "\t\tWord Reading [learning enabled: False]\n",
      "\n",
      "\tExecution sets: \n",
      "\t\tSet 0:\n",
      "\t\t\t{ Colors Words }\n",
      "\t\tSet 1:\n",
      "\t\t\t{ Response }\n"
     ]
    }
   ],
   "source": [
    "mini_stroop.show()"
   ]
  },
  {
   "cell_type": "markdown",
   "metadata": {},
   "source": [
    "Now we are ready to give the system inputs and run the model.  In this very simple model two possible color inputs are distinguished as [1, 0] or [0, 1], and likewise for words.  For both color and word you can think of [1, 0] as red, and [0, 1] as blue.  In the following cell, the input is the word \"blue\" [0, 1] written in red colored ink [1, 0].  "
   ]
  },
  {
   "cell_type": "code",
   "execution_count": 18,
   "metadata": {
    "collapsed": false
   },
   "outputs": [
    {
     "data": {
      "text/plain": [
       "[[array([ 0.73105858,  0.81757448])]]"
      ]
     },
     "execution_count": 18,
     "metadata": {},
     "output_type": "execute_result"
    }
   ],
   "source": [
    "input = { words: [0, 1],\n",
    "        colors: [1, 0]}\n",
    "\n",
    "mini_stroop.run(input)"
   ]
  },
  {
   "cell_type": "markdown",
   "metadata": {},
   "source": [
    "The first output value corresponds to the strength to respond red, and the second value is the strength to respond blue.  Because the task is to respond to the word, and the word is blue, the second value is higher.  And because the ink is colored red, there is also some activity associated with red.  "
   ]
  },
  {
   "cell_type": "code",
   "execution_count": 19,
   "metadata": {
    "collapsed": false
   },
   "outputs": [
    {
     "data": {
      "text/plain": [
       "[[array([ 0.73105858,  0.81757448])], [array([ 0.5       ,  0.92414182])]]"
      ]
     },
     "execution_count": 19,
     "metadata": {},
     "output_type": "execute_result"
    }
   ],
   "source": [
    "input_dict = {colors: [0, 1],\n",
    "              words: [0, 1]}\n",
    "mini_stroop.run(input_dict)"
   ]
  },
  {
   "cell_type": "markdown",
   "metadata": {},
   "source": [
    "The first pair of values in the output is from our first run of the model with incongruent input [red color / blue word]and the second pair of values is from the second run with congruent input [blue / blue]. As modeled, we see that word reading beats out color naming when there is conflict, but congruent stimuli elicit an even stronger response.  "
   ]
  },
  {
   "cell_type": "markdown",
   "metadata": {},
   "source": [
    "### Pre-trained Complete Stroop Model\n",
    "\n",
    "Let's practice using systems by recreating the more complex stroop model from Cohen et al (1990). Later we will train the network ourselves, but for now we will explicitly model the learned weights."
   ]
  },
  {
   "cell_type": "code",
   "execution_count": 20,
   "metadata": {
    "collapsed": true
   },
   "outputs": [],
   "source": [
    "ink_color = pnl.TransferMechanism(default_variable=[0, 0], function=pnl.Linear())\n",
    "word = pnl.TransferMechanism(default_variable=[0, 0], function=pnl.Linear())\n",
    "task_demand = pnl.TransferMechanism(default_variable=[0, 0], function=pnl.Linear())\n",
    "\n",
    "hidden_layer = pnl.TransferMechanism(default_variable=[0, 0, 0, 0],\n",
    "                                 function=pnl.Logistic(bias=-4))\n",
    "\n",
    "output_layer = pnl.TransferMechanism(default_variable=[0, 0], function=pnl.Linear())\n",
    "\n",
    "color_mapping_matrix = np.asarray([[2.2, -2.2, 0, 0], [-2.2, 2.2, 0, 0]])\n",
    "color_projection = pnl.MappingProjection(sender=ink_color, receiver=hidden_layer,\n",
    "                                     matrix=color_mapping_matrix)\n",
    "word_mapping_matrix = np.asarray([[0, 0, 2.6, -2.6], [0, 0, -2.6, 2.6]])\n",
    "word_projection = pnl.MappingProjection(sender=word, receiver=hidden_layer,\n",
    "                                    matrix=word_mapping_matrix)\n",
    "task_mapping_matrix = np.asarray([[4, 4, 0, 0], [0, 0, 4, 4]])\n",
    "task_projection = pnl.MappingProjection(sender=task_demand, receiver=hidden_layer,\n",
    "                                    matrix=task_mapping_matrix)\n",
    "output_mapping_matrix = np.asarray(\n",
    "    [[1.3, -1.3], [-1.3, 1.3], [2.5, -2.5], [-2.5, 2.5]])\n",
    "pnl.MappingProjection(sender=hidden_layer, receiver=output_layer,\n",
    "                  matrix=output_mapping_matrix)\n",
    "\n",
    "color_naming_process = pnl.Process(pathway=[ink_color, hidden_layer, output_layer])\n",
    "word_reading_process = pnl.Process(pathway=[word, hidden_layer, output_layer])\n",
    "task_process = pnl.Process(pathway=[task_demand, hidden_layer, output_layer])\n",
    "\n",
    "stroop_model = pnl.System(\n",
    "    processes=[color_naming_process, word_reading_process, task_process])\n",
    "\n",
    "ink_color.reportOutputPref = True\n",
    "word.reportOutputPref = True\n",
    "task_demand.reportOutputPref = True\n",
    "hidden_layer.reportOutputPref = True"
   ]
  },
  {
   "cell_type": "markdown",
   "metadata": {},
   "source": [
    "In the next cell we will run the model with inputs.  The \"ink_color\" and \"word\" are the same as the previous model, and the addition of task demand allows us to specify whether the task is to name the color of ink [0, 1], or to read the word [1, 0].  The output can be thought of as activation strengths of two possible responses [red, blue].  "
   ]
  },
  {
   "cell_type": "code",
   "execution_count": 21,
   "metadata": {
    "collapsed": false
   },
   "outputs": [
    {
     "name": "stdout",
     "output_type": "stream",
     "text": [
      "\n",
      "'TransferMechanism-7'  executed:\n",
      "- input:  [array([ 0.,  1.])]\n",
      "- params:\n",
      "\tfunction: Linear\n",
      "\t\tintercept: 0.0\n",
      "\t\tslope: 1.0\n",
      "\tinitial_value: 0 0\n",
      "\tintegrator_mode: False\n",
      "\tnoise: 0.0\n",
      "\ttime_scale: TimeScale.TRIAL\n",
      "- output: 0.0 1.0\n",
      "\n",
      "'TransferMechanism-8'  executed:\n",
      "- input:  [array([ 1.,  0.])]\n",
      "- params:\n",
      "\tfunction: Linear\n",
      "\t\tintercept: 0.0\n",
      "\t\tslope: 1.0\n",
      "\tinitial_value: 0 0\n",
      "\tintegrator_mode: False\n",
      "\tnoise: 0.0\n",
      "\ttime_scale: TimeScale.TRIAL\n",
      "- output: 1.0 0.0\n",
      "\n",
      "'TransferMechanism-6'  executed:\n",
      "- input:  [array([ 1.,  0.])]\n",
      "- params:\n",
      "\tfunction: Linear\n",
      "\t\tintercept: 0.0\n",
      "\t\tslope: 1.0\n",
      "\tinitial_value: 0 0\n",
      "\tintegrator_mode: False\n",
      "\tnoise: 0.0\n",
      "\ttime_scale: TimeScale.TRIAL\n",
      "- output: 1.0 0.0\n",
      "\n",
      "'TransferMechanism-9'  executed:\n",
      "- input:  [array([ 6.2,  1.8, -2.6,  2.6])]\n",
      "- params:\n",
      "\tfunction: Logistic\n",
      "\t\tbias: -4\n",
      "\t\tgain: 1.0\n",
      "\t\toffset: 0.0\n",
      "\tinitial_value: 0 0 0 0\n",
      "\tintegrator_mode: False\n",
      "\tnoise: 0.0\n",
      "\ttime_scale: TimeScale.TRIAL\n",
      "- output: 1.0 0.997 0.802 0.999\n"
     ]
    },
    {
     "data": {
      "text/plain": [
       "[[array([-0.48726836,  0.48726836])]]"
      ]
     },
     "execution_count": 21,
     "metadata": {},
     "output_type": "execute_result"
    }
   ],
   "source": [
    "input_dict = {ink_color: [1, 0],\n",
    "              word: [0, 1],\n",
    "              task_demand: [1, 0]}\n",
    "stroop_model.run(input_dict)"
   ]
  },
  {
   "cell_type": "markdown",
   "metadata": {},
   "source": [
    "To get a better sense of how the model works, try reverse engineering by changing each of the inputs (remember the options are only [1,0] or [0,1]) one at a time and running the model. \n",
    "\n",
    "We can also inspect the model as a graph or using .show(). "
   ]
  },
  {
   "cell_type": "code",
   "execution_count": 22,
   "metadata": {
    "collapsed": false
   },
   "outputs": [
    {
     "data": {
      "image/svg+xml": [
       "<?xml version=\"1.0\" encoding=\"UTF-8\" standalone=\"no\"?>\n",
       "<!DOCTYPE svg PUBLIC \"-//W3C//DTD SVG 1.1//EN\"\n",
       " \"http://www.w3.org/Graphics/SVG/1.1/DTD/svg11.dtd\">\n",
       "<!-- Generated by graphviz version 2.38.0 (20140413.2041)\n",
       " -->\n",
       "<!-- Title: %3 Pages: 1 -->\n",
       "<svg width=\"1516pt\" height=\"210pt\"\n",
       " viewBox=\"0.00 0.00 1515.88 210.00\" xmlns=\"http://www.w3.org/2000/svg\" xmlns:xlink=\"http://www.w3.org/1999/xlink\">\n",
       "<g id=\"graph0\" class=\"graph\" transform=\"scale(1 1) rotate(0) translate(4 206)\">\n",
       "<title>%3</title>\n",
       "<polygon fill=\"white\" stroke=\"none\" points=\"-4,4 -4,-206 1511.88,-206 1511.88,4 -4,4\"/>\n",
       "<!-- TransferMechanism&#45;8 -->\n",
       "<g id=\"node1\" class=\"node\"><title>TransferMechanism&#45;8</title>\n",
       "<ellipse fill=\"none\" stroke=\"green\" stroke-width=\"3\" cx=\"89.8757\" cy=\"-18\" rx=\"89.7516\" ry=\"18\"/>\n",
       "<text text-anchor=\"middle\" x=\"89.8757\" y=\"-14.9\" font-family=\"arial\" font-size=\"12.00\">TransferMechanism&#45;8</text>\n",
       "</g>\n",
       "<!-- TransferMechanism&#45;9 -->\n",
       "<g id=\"node2\" class=\"node\"><title>TransferMechanism&#45;9</title>\n",
       "<ellipse fill=\"none\" stroke=\"black\" cx=\"573.876\" cy=\"-101\" rx=\"89.7516\" ry=\"18\"/>\n",
       "<text text-anchor=\"middle\" x=\"573.876\" y=\"-97.9\" font-family=\"arial\" font-size=\"12.00\">TransferMechanism&#45;9</text>\n",
       "</g>\n",
       "<!-- TransferMechanism&#45;8&#45;&gt;TransferMechanism&#45;9 -->\n",
       "<g id=\"edge2\" class=\"edge\"><title>TransferMechanism&#45;8&#45;&gt;TransferMechanism&#45;9</title>\n",
       "<path fill=\"none\" stroke=\"black\" d=\"M92.4302,-36.2114C94.8775,-46.2863 99.6404,-58.3072 108.876,-65 137.737,-85.9155 346.939,-94.6177 474.707,-98.0123\"/>\n",
       "<polygon fill=\"black\" stroke=\"black\" points=\"474.816,-101.516 484.903,-98.2766 474.997,-94.5186 474.816,-101.516\"/>\n",
       "<text text-anchor=\"middle\" x=\"339.376\" y=\"-57\" font-family=\"arial\" font-size=\"10.00\">MappingProjection from TransferMechanism&#45;8[RESULTS] to TransferMechanism&#45;9[InputState&#45;0]</text>\n",
       "</g>\n",
       "<!-- TransferMechanism&#45;10 -->\n",
       "<g id=\"node5\" class=\"node\"><title>TransferMechanism&#45;10</title>\n",
       "<ellipse fill=\"none\" stroke=\"red\" stroke-width=\"3\" cx=\"573.876\" cy=\"-184\" rx=\"94.6012\" ry=\"18\"/>\n",
       "<text text-anchor=\"middle\" x=\"573.876\" y=\"-180.9\" font-family=\"arial\" font-size=\"12.00\">TransferMechanism&#45;10</text>\n",
       "</g>\n",
       "<!-- TransferMechanism&#45;9&#45;&gt;TransferMechanism&#45;10 -->\n",
       "<g id=\"edge4\" class=\"edge\"><title>TransferMechanism&#45;9&#45;&gt;TransferMechanism&#45;10</title>\n",
       "<path fill=\"none\" stroke=\"black\" d=\"M573.876,-119.178C573.876,-129.81 573.876,-143.694 573.876,-155.796\"/>\n",
       "<polygon fill=\"black\" stroke=\"black\" points=\"570.376,-155.847 573.876,-165.847 577.376,-155.847 570.376,-155.847\"/>\n",
       "<text text-anchor=\"middle\" x=\"807.376\" y=\"-140\" font-family=\"arial\" font-size=\"10.00\">MappingProjection from TransferMechanism&#45;9[RESULTS] to TransferMechanism&#45;10[InputState&#45;0]</text>\n",
       "</g>\n",
       "<!-- TransferMechanism&#45;7 -->\n",
       "<g id=\"node3\" class=\"node\"><title>TransferMechanism&#45;7</title>\n",
       "<ellipse fill=\"none\" stroke=\"green\" stroke-width=\"3\" cx=\"573.876\" cy=\"-18\" rx=\"89.7516\" ry=\"18\"/>\n",
       "<text text-anchor=\"middle\" x=\"573.876\" y=\"-14.9\" font-family=\"arial\" font-size=\"12.00\">TransferMechanism&#45;7</text>\n",
       "</g>\n",
       "<!-- TransferMechanism&#45;7&#45;&gt;TransferMechanism&#45;9 -->\n",
       "<g id=\"edge1\" class=\"edge\"><title>TransferMechanism&#45;7&#45;&gt;TransferMechanism&#45;9</title>\n",
       "<path fill=\"none\" stroke=\"black\" d=\"M573.876,-36.178C573.876,-46.8097 573.876,-60.694 573.876,-72.7965\"/>\n",
       "<polygon fill=\"black\" stroke=\"black\" points=\"570.376,-72.8467 573.876,-82.8467 577.376,-72.8468 570.376,-72.8467\"/>\n",
       "<text text-anchor=\"middle\" x=\"804.376\" y=\"-57\" font-family=\"arial\" font-size=\"10.00\">MappingProjection from TransferMechanism&#45;7[RESULTS] to TransferMechanism&#45;9[InputState&#45;0]</text>\n",
       "</g>\n",
       "<!-- TransferMechanism&#45;6 -->\n",
       "<g id=\"node4\" class=\"node\"><title>TransferMechanism&#45;6</title>\n",
       "<ellipse fill=\"none\" stroke=\"green\" stroke-width=\"3\" cx=\"1057.88\" cy=\"-18\" rx=\"89.7516\" ry=\"18\"/>\n",
       "<text text-anchor=\"middle\" x=\"1057.88\" y=\"-14.9\" font-family=\"arial\" font-size=\"12.00\">TransferMechanism&#45;6</text>\n",
       "</g>\n",
       "<!-- TransferMechanism&#45;6&#45;&gt;TransferMechanism&#45;9 -->\n",
       "<g id=\"edge3\" class=\"edge\"><title>TransferMechanism&#45;6&#45;&gt;TransferMechanism&#45;9</title>\n",
       "<path fill=\"none\" stroke=\"black\" d=\"M1054.18,-36.2772C1051.07,-46.3768 1045.52,-58.4005 1035.88,-65 1006.69,-84.9731 799.578,-94.0218 672.769,-97.7297\"/>\n",
       "<polygon fill=\"black\" stroke=\"black\" points=\"672.545,-94.2346 662.649,-98.0193 672.745,-101.232 672.545,-94.2346\"/>\n",
       "<text text-anchor=\"middle\" x=\"1277.38\" y=\"-57\" font-family=\"arial\" font-size=\"10.00\">MappingProjection from TransferMechanism&#45;6[RESULTS] to TransferMechanism&#45;9[InputState&#45;0]</text>\n",
       "</g>\n",
       "</g>\n",
       "</svg>\n"
      ],
      "text/plain": [
       "<graphviz.dot.Digraph at 0x7f5ba4488390>"
      ]
     },
     "execution_count": 22,
     "metadata": {},
     "output_type": "execute_result"
    }
   ],
   "source": [
    "# stroop_model.show_graph(output_fmt = 'jupyter')"
   ]
  },
  {
   "cell_type": "code",
   "execution_count": 23,
   "metadata": {
    "collapsed": false
   },
   "outputs": [
    {
     "name": "stdout",
     "output_type": "stream",
     "text": [
      "\n",
      "---------------------------------------------------------\n",
      "\n",
      "System-0\n",
      "\n",
      "\tControl enabled: False\n",
      "\n",
      "\tProcesses:\n",
      "\t\tProcess-8 [learning enabled: False]\n",
      "\t\tProcess-9 [learning enabled: False]\n",
      "\t\tProcess-10 [learning enabled: False]\n",
      "\n",
      "\tExecution sets: \n",
      "\t\tSet 0:\n",
      "\t\t\t{ TransferMechanism-6 TransferMechanism-7 TransferMechanism-8 }\n",
      "\t\tSet 1:\n",
      "\t\t\t{ TransferMechanism-9 }\n",
      "\t\tSet 2:\n",
      "\t\t\t{ TransferMechanism-10 }\n"
     ]
    }
   ],
   "source": [
    "stroop_model.show()"
   ]
  },
  {
   "cell_type": "markdown",
   "metadata": {},
   "source": [
    "You can see that this model's components were not given names, so the graph and summary are more difficult to understand.  To get little practice modifying the code, you can add names using the same syntax as was used for the mini_stroop model above.   "
   ]
  },
  {
   "cell_type": "markdown",
   "metadata": {},
   "source": [
    "## Configuring Systems\n",
    "\n",
    "The following cells provide some basic examples of how to build extremely simple to increasingly complex systems.  These systems aren't configured to do anything in particular -- they are merely included to show you how to get started building systems with different graph configurations.  Input mechanisms are green and output mechanisms are red"
   ]
  },
  {
   "cell_type": "code",
   "execution_count": 24,
   "metadata": {
    "collapsed": false
   },
   "outputs": [
    {
     "data": {
      "image/svg+xml": [
       "<?xml version=\"1.0\" encoding=\"UTF-8\" standalone=\"no\"?>\n",
       "<!DOCTYPE svg PUBLIC \"-//W3C//DTD SVG 1.1//EN\"\n",
       " \"http://www.w3.org/Graphics/SVG/1.1/DTD/svg11.dtd\">\n",
       "<!-- Generated by graphviz version 2.38.0 (20140413.2041)\n",
       " -->\n",
       "<!-- Title: %3 Pages: 1 -->\n",
       "<svg width=\"317pt\" height=\"127pt\"\n",
       " viewBox=\"0.00 0.00 316.63 127.00\" xmlns=\"http://www.w3.org/2000/svg\" xmlns:xlink=\"http://www.w3.org/1999/xlink\">\n",
       "<g id=\"graph0\" class=\"graph\" transform=\"scale(1 1) rotate(0) translate(4 123)\">\n",
       "<title>%3</title>\n",
       "<polygon fill=\"white\" stroke=\"none\" points=\"-4,4 -4,-123 312.634,-123 312.634,4 -4,4\"/>\n",
       "<!-- input_layer -->\n",
       "<g id=\"node1\" class=\"node\"><title>input_layer</title>\n",
       "<ellipse fill=\"none\" stroke=\"green\" stroke-width=\"3\" cx=\"56.634\" cy=\"-18\" rx=\"51.1876\" ry=\"18\"/>\n",
       "<text text-anchor=\"middle\" x=\"56.634\" y=\"-14.9\" font-family=\"arial\" font-size=\"12.00\">input_layer</text>\n",
       "</g>\n",
       "<!-- output_layer -->\n",
       "<g id=\"node2\" class=\"node\"><title>output_layer</title>\n",
       "<ellipse fill=\"none\" stroke=\"red\" stroke-width=\"3\" cx=\"56.634\" cy=\"-101\" rx=\"56.7683\" ry=\"18\"/>\n",
       "<text text-anchor=\"middle\" x=\"56.634\" y=\"-97.9\" font-family=\"arial\" font-size=\"12.00\">output_layer</text>\n",
       "</g>\n",
       "<!-- input_layer&#45;&gt;output_layer -->\n",
       "<g id=\"edge1\" class=\"edge\"><title>input_layer&#45;&gt;output_layer</title>\n",
       "<path fill=\"none\" stroke=\"black\" d=\"M56.634,-36.178C56.634,-46.8097 56.634,-60.694 56.634,-72.7965\"/>\n",
       "<polygon fill=\"black\" stroke=\"black\" points=\"53.1341,-72.8467 56.634,-82.8467 60.1341,-72.8468 53.1341,-72.8467\"/>\n",
       "<text text-anchor=\"middle\" x=\"182.634\" y=\"-57\" font-family=\"arial\" font-size=\"10.00\">MappingProjection from input_layer to output_layer</text>\n",
       "</g>\n",
       "</g>\n",
       "</svg>\n"
      ],
      "text/plain": [
       "<graphviz.dot.Digraph at 0x7f5ba44909b0>"
      ]
     },
     "execution_count": 24,
     "metadata": {},
     "output_type": "execute_result"
    }
   ],
   "source": [
    "input_layer = pnl.TransferMechanism(\n",
    "    name='input_layer',\n",
    "    function=pnl.Linear,\n",
    "    default_variable=np.ones((4,)),\n",
    ")\n",
    "\n",
    "output_layer = pnl.TransferMechanism(\n",
    "    name='output_layer',\n",
    "    function=pnl.Linear,\n",
    "    default_variable=np.ones((4,)),\n",
    ")\n",
    "\n",
    "simple_process1 = pnl.Process(pathway=[input_layer, output_layer])\n",
    "\n",
    "simple_system1 = pnl.System(\n",
    "    processes=[simple_process1])\n",
    "\n",
    "\n",
    "# simple_system1.show_graph(output_fmt = 'jupyter')"
   ]
  },
  {
   "cell_type": "code",
   "execution_count": 25,
   "metadata": {
    "collapsed": false
   },
   "outputs": [
    {
     "data": {
      "image/svg+xml": [
       "<?xml version=\"1.0\" encoding=\"UTF-8\" standalone=\"no\"?>\n",
       "<!DOCTYPE svg PUBLIC \"-//W3C//DTD SVG 1.1//EN\"\n",
       " \"http://www.w3.org/Graphics/SVG/1.1/DTD/svg11.dtd\">\n",
       "<!-- Generated by graphviz version 2.38.0 (20140413.2041)\n",
       " -->\n",
       "<!-- Title: %3 Pages: 1 -->\n",
       "<svg width=\"342pt\" height=\"210pt\"\n",
       " viewBox=\"0.00 0.00 342.17 210.00\" xmlns=\"http://www.w3.org/2000/svg\" xmlns:xlink=\"http://www.w3.org/1999/xlink\">\n",
       "<g id=\"graph0\" class=\"graph\" transform=\"scale(1 1) rotate(0) translate(4 206)\">\n",
       "<title>%3</title>\n",
       "<polygon fill=\"white\" stroke=\"none\" points=\"-4,4 -4,-206 338.174,-206 338.174,4 -4,4\"/>\n",
       "<!-- input_layer2 -->\n",
       "<g id=\"node1\" class=\"node\"><title>input_layer2</title>\n",
       "<ellipse fill=\"none\" stroke=\"green\" stroke-width=\"3\" cx=\"62.1743\" cy=\"-18\" rx=\"55.3058\" ry=\"18\"/>\n",
       "<text text-anchor=\"middle\" x=\"62.1743\" y=\"-14.9\" font-family=\"arial\" font-size=\"12.00\">input_layer2</text>\n",
       "</g>\n",
       "<!-- hidden_layer2 -->\n",
       "<g id=\"node2\" class=\"node\"><title>hidden_layer2</title>\n",
       "<ellipse fill=\"none\" stroke=\"black\" cx=\"62.1743\" cy=\"-101\" rx=\"62.3491\" ry=\"18\"/>\n",
       "<text text-anchor=\"middle\" x=\"62.1743\" y=\"-97.9\" font-family=\"arial\" font-size=\"12.00\">hidden_layer2</text>\n",
       "</g>\n",
       "<!-- input_layer2&#45;&gt;hidden_layer2 -->\n",
       "<g id=\"edge1\" class=\"edge\"><title>input_layer2&#45;&gt;hidden_layer2</title>\n",
       "<path fill=\"none\" stroke=\"black\" d=\"M62.1743,-36.178C62.1743,-46.8097 62.1743,-60.694 62.1743,-72.7965\"/>\n",
       "<polygon fill=\"black\" stroke=\"black\" points=\"58.6744,-72.8467 62.1743,-82.8467 65.6744,-72.8468 58.6744,-72.8467\"/>\n",
       "<text text-anchor=\"middle\" x=\"194.674\" y=\"-57\" font-family=\"arial\" font-size=\"10.00\">MappingProjection from input_layer2 to hidden_layer2</text>\n",
       "</g>\n",
       "<!-- output_layer2 -->\n",
       "<g id=\"node3\" class=\"node\"><title>output_layer2</title>\n",
       "<ellipse fill=\"none\" stroke=\"red\" stroke-width=\"3\" cx=\"62.1743\" cy=\"-184\" rx=\"60.8863\" ry=\"18\"/>\n",
       "<text text-anchor=\"middle\" x=\"62.1743\" y=\"-180.9\" font-family=\"arial\" font-size=\"12.00\">output_layer2</text>\n",
       "</g>\n",
       "<!-- hidden_layer2&#45;&gt;output_layer2 -->\n",
       "<g id=\"edge2\" class=\"edge\"><title>hidden_layer2&#45;&gt;output_layer2</title>\n",
       "<path fill=\"none\" stroke=\"black\" d=\"M62.1743,-119.178C62.1743,-129.81 62.1743,-143.694 62.1743,-155.796\"/>\n",
       "<polygon fill=\"black\" stroke=\"black\" points=\"58.6744,-155.847 62.1743,-165.847 65.6744,-155.847 58.6744,-155.847\"/>\n",
       "<text text-anchor=\"middle\" x=\"198.174\" y=\"-140\" font-family=\"arial\" font-size=\"10.00\">MappingProjection from hidden_layer2 to output_layer2</text>\n",
       "</g>\n",
       "</g>\n",
       "</svg>\n"
      ],
      "text/plain": [
       "<graphviz.dot.Digraph at 0x7f5ba632e0f0>"
      ]
     },
     "execution_count": 25,
     "metadata": {},
     "output_type": "execute_result"
    }
   ],
   "source": [
    "input_layer2 = pnl.TransferMechanism(\n",
    "    name='input_layer2',\n",
    "    function=pnl.Linear,\n",
    "    default_variable=np.ones((4,)),\n",
    ")\n",
    "\n",
    "\n",
    "hidden_layer2 = pnl.TransferMechanism(\n",
    "    name='hidden_layer2',\n",
    "    function=pnl.Linear,\n",
    "    default_variable=np.ones((4,)),\n",
    ")\n",
    "\n",
    "output_layer2 = pnl.TransferMechanism(\n",
    "    name='output_layer2',\n",
    "    function=pnl.Linear,\n",
    "    default_variable=np.ones((4,)),\n",
    ")\n",
    "\n",
    "simple_process2 = pnl.Process(pathway=[input_layer2, hidden_layer2, output_layer2])\n",
    "\n",
    "simple_system2 = pnl.System(processes=[simple_process2])\n",
    "\n",
    "## the previous two lines of code builiding a 3 layer system could alternatively take the following form:\n",
    "\n",
    "# simple_process2a = process(pathway=[input_layer2, hidden_layer2])\n",
    "# simple_process2b = process(pathway=[hidden_layer2, output_layer2])\n",
    "#\n",
    "# simple_system2 = system(processes=[simple_process2a, simple_process2b])\n",
    "\n",
    "\n",
    "\n",
    "# simple_system2.show_graph(output_fmt = 'jupyter')"
   ]
  },
  {
   "cell_type": "code",
   "execution_count": 26,
   "metadata": {
    "collapsed": false
   },
   "outputs": [
    {
     "data": {
      "image/svg+xml": [
       "<?xml version=\"1.0\" encoding=\"UTF-8\" standalone=\"no\"?>\n",
       "<!DOCTYPE svg PUBLIC \"-//W3C//DTD SVG 1.1//EN\"\n",
       " \"http://www.w3.org/Graphics/SVG/1.1/DTD/svg11.dtd\">\n",
       "<!-- Generated by graphviz version 2.38.0 (20140413.2041)\n",
       " -->\n",
       "<!-- Title: %3 Pages: 1 -->\n",
       "<svg width=\"596pt\" height=\"293pt\"\n",
       " viewBox=\"0.00 0.00 595.99 293.00\" xmlns=\"http://www.w3.org/2000/svg\" xmlns:xlink=\"http://www.w3.org/1999/xlink\">\n",
       "<g id=\"graph0\" class=\"graph\" transform=\"scale(1 1) rotate(0) translate(4 289)\">\n",
       "<title>%3</title>\n",
       "<polygon fill=\"white\" stroke=\"none\" points=\"-4,4 -4,-289 591.99,-289 591.99,4 -4,4\"/>\n",
       "<!-- input_layer3 -->\n",
       "<g id=\"node1\" class=\"node\"><title>input_layer3</title>\n",
       "<ellipse fill=\"none\" stroke=\"green\" stroke-width=\"3\" cx=\"163.99\" cy=\"-18\" rx=\"55.3058\" ry=\"18\"/>\n",
       "<text text-anchor=\"middle\" x=\"163.99\" y=\"-14.9\" font-family=\"arial\" font-size=\"12.00\">input_layer3</text>\n",
       "</g>\n",
       "<!-- hidden_layer3a -->\n",
       "<g id=\"node2\" class=\"node\"><title>hidden_layer3a</title>\n",
       "<ellipse fill=\"none\" stroke=\"black\" cx=\"163.99\" cy=\"-101\" rx=\"66.4668\" ry=\"18\"/>\n",
       "<text text-anchor=\"middle\" x=\"163.99\" y=\"-97.9\" font-family=\"arial\" font-size=\"12.00\">hidden_layer3a</text>\n",
       "</g>\n",
       "<!-- input_layer3&#45;&gt;hidden_layer3a -->\n",
       "<g id=\"edge1\" class=\"edge\"><title>input_layer3&#45;&gt;hidden_layer3a</title>\n",
       "<path fill=\"none\" stroke=\"black\" d=\"M163.99,-36.178C163.99,-46.8097 163.99,-60.694 163.99,-72.7965\"/>\n",
       "<polygon fill=\"black\" stroke=\"black\" points=\"160.49,-72.8467 163.99,-82.8467 167.49,-72.8468 160.49,-72.8467\"/>\n",
       "<text text-anchor=\"middle\" x=\"299.49\" y=\"-57\" font-family=\"arial\" font-size=\"10.00\">MappingProjection from input_layer3 to hidden_layer3a</text>\n",
       "</g>\n",
       "<!-- hidden_layer3b -->\n",
       "<g id=\"node3\" class=\"node\"><title>hidden_layer3b</title>\n",
       "<ellipse fill=\"none\" stroke=\"green\" stroke-width=\"3\" cx=\"163.99\" cy=\"-184\" rx=\"66.4668\" ry=\"18\"/>\n",
       "<text text-anchor=\"middle\" x=\"163.99\" y=\"-180.9\" font-family=\"arial\" font-size=\"12.00\">hidden_layer3b</text>\n",
       "</g>\n",
       "<!-- hidden_layer3a&#45;&gt;hidden_layer3b -->\n",
       "<g id=\"edge3\" class=\"edge\"><title>hidden_layer3a&#45;&gt;hidden_layer3b</title>\n",
       "<path fill=\"none\" stroke=\"black\" d=\"M102.352,-107.87C63.7227,-112.969 19.0419,-121.965 6.98983,-137 -18.8665,-169.255 35.4268,-179.703 87.0906,-182.713\"/>\n",
       "<polygon fill=\"black\" stroke=\"black\" points=\"87.2033,-186.223 97.3637,-183.22 87.5485,-179.232 87.2033,-186.223\"/>\n",
       "<text text-anchor=\"middle\" x=\"149.99\" y=\"-140\" font-family=\"arial\" font-size=\"10.00\">MappingProjection from hidden_layer3a to hidden_layer3b</text>\n",
       "</g>\n",
       "<!-- hidden_layer3b&#45;&gt;hidden_layer3a -->\n",
       "<g id=\"edge2\" class=\"edge\"><title>hidden_layer3b&#45;&gt;hidden_layer3a</title>\n",
       "<path fill=\"none\" stroke=\"black\" d=\"M229.519,-180.38C273.078,-176.089 318.619,-165.058 296.99,-137 288.481,-125.963 260.077,-117.714 231.691,-112.005\"/>\n",
       "<polygon fill=\"black\" stroke=\"black\" points=\"232.163,-108.532 221.684,-110.091 230.849,-115.407 232.163,-108.532\"/>\n",
       "<text text-anchor=\"middle\" x=\"444.99\" y=\"-140\" font-family=\"arial\" font-size=\"10.00\">MappingProjection from hidden_layer3b to hidden_layer3a</text>\n",
       "</g>\n",
       "<!-- output_layer3 -->\n",
       "<g id=\"node4\" class=\"node\"><title>output_layer3</title>\n",
       "<ellipse fill=\"none\" stroke=\"red\" stroke-width=\"3\" cx=\"163.99\" cy=\"-267\" rx=\"60.8863\" ry=\"18\"/>\n",
       "<text text-anchor=\"middle\" x=\"163.99\" y=\"-263.9\" font-family=\"arial\" font-size=\"12.00\">output_layer3</text>\n",
       "</g>\n",
       "<!-- hidden_layer3b&#45;&gt;output_layer3 -->\n",
       "<g id=\"edge4\" class=\"edge\"><title>hidden_layer3b&#45;&gt;output_layer3</title>\n",
       "<path fill=\"none\" stroke=\"black\" d=\"M163.99,-202.178C163.99,-212.81 163.99,-226.694 163.99,-238.796\"/>\n",
       "<polygon fill=\"black\" stroke=\"black\" points=\"160.49,-238.847 163.99,-248.847 167.49,-238.847 160.49,-238.847\"/>\n",
       "<text text-anchor=\"middle\" x=\"302.99\" y=\"-223\" font-family=\"arial\" font-size=\"10.00\">MappingProjection from hidden_layer3b to output_layer3</text>\n",
       "</g>\n",
       "</g>\n",
       "</svg>\n"
      ],
      "text/plain": [
       "<graphviz.dot.Digraph at 0x7f5ba442b940>"
      ]
     },
     "execution_count": 26,
     "metadata": {},
     "output_type": "execute_result"
    }
   ],
   "source": [
    "input_layer3 = pnl.TransferMechanism(\n",
    "    name='input_layer3',\n",
    "    function=pnl.Linear,\n",
    "    default_variable=np.ones((4,)),\n",
    ")\n",
    "\n",
    "\n",
    "hidden_layer3a = pnl.TransferMechanism(\n",
    "    name='hidden_layer3a',\n",
    "    function=pnl.Linear,\n",
    "    default_variable=np.ones((4,)),\n",
    ")\n",
    "\n",
    "hidden_layer3b = pnl.TransferMechanism(\n",
    "    name='hidden_layer3b',\n",
    "    function=pnl.Linear,\n",
    "    default_variable=np.ones((4,)),\n",
    ")\n",
    "\n",
    "output_layer3 = pnl.TransferMechanism(\n",
    "    name='output_layer3',\n",
    "    function=pnl.Linear,\n",
    "    default_variable=np.ones((4,)),\n",
    ")\n",
    "\n",
    "simple_process3a = pnl.Process(pathway=[input_layer3, hidden_layer3a])\n",
    "simple_process3b = pnl.Process(pathway=[hidden_layer3a, hidden_layer3b])\n",
    "simple_process3c = pnl.Process(pathway=[hidden_layer3b, hidden_layer3a])\n",
    "simple_process3d = pnl.Process(pathway=[hidden_layer3a, hidden_layer3b])\n",
    "simple_process3e = pnl.Process(pathway=[hidden_layer3b, output_layer3])\n",
    "\n",
    "\n",
    "simple_system3 = pnl.System(processes=[simple_process3a, simple_process3b, simple_process3c, simple_process3d, simple_process3e])\n",
    "\n",
    "\n",
    "# simple_system3.show_graph(output_fmt = 'jupyter')"
   ]
  },
  {
   "cell_type": "code",
   "execution_count": 27,
   "metadata": {
    "collapsed": false
   },
   "outputs": [
    {
     "data": {
      "image/svg+xml": [
       "<?xml version=\"1.0\" encoding=\"UTF-8\" standalone=\"no\"?>\n",
       "<!DOCTYPE svg PUBLIC \"-//W3C//DTD SVG 1.1//EN\"\n",
       " \"http://www.w3.org/Graphics/SVG/1.1/DTD/svg11.dtd\">\n",
       "<!-- Generated by graphviz version 2.38.0 (20140413.2041)\n",
       " -->\n",
       "<!-- Title: %3 Pages: 1 -->\n",
       "<svg width=\"937pt\" height=\"210pt\"\n",
       " viewBox=\"0.00 0.00 937.48 210.00\" xmlns=\"http://www.w3.org/2000/svg\" xmlns:xlink=\"http://www.w3.org/1999/xlink\">\n",
       "<g id=\"graph0\" class=\"graph\" transform=\"scale(1 1) rotate(0) translate(4 206)\">\n",
       "<title>%3</title>\n",
       "<polygon fill=\"white\" stroke=\"none\" points=\"-4,4 -4,-206 933.483,-206 933.483,4 -4,4\"/>\n",
       "<!-- input_layer4 -->\n",
       "<g id=\"node1\" class=\"node\"><title>input_layer4</title>\n",
       "<ellipse fill=\"none\" stroke=\"green\" stroke-width=\"3\" cx=\"365.483\" cy=\"-18\" rx=\"55.3058\" ry=\"18\"/>\n",
       "<text text-anchor=\"middle\" x=\"365.483\" y=\"-14.9\" font-family=\"arial\" font-size=\"12.00\">input_layer4</text>\n",
       "</g>\n",
       "<!-- hidden_layer4a -->\n",
       "<g id=\"node2\" class=\"node\"><title>hidden_layer4a</title>\n",
       "<ellipse fill=\"none\" stroke=\"black\" cx=\"66.4834\" cy=\"-101\" rx=\"66.4668\" ry=\"18\"/>\n",
       "<text text-anchor=\"middle\" x=\"66.4834\" y=\"-97.9\" font-family=\"arial\" font-size=\"12.00\">hidden_layer4a</text>\n",
       "</g>\n",
       "<!-- input_layer4&#45;&gt;hidden_layer4a -->\n",
       "<g id=\"edge1\" class=\"edge\"><title>input_layer4&#45;&gt;hidden_layer4a</title>\n",
       "<path fill=\"none\" stroke=\"black\" d=\"M310.392,-20.0772C240.53,-22.4378 124.993,-29.9701 90.4834,-54 83.6225,-58.7773 78.5819,-66.137 74.9434,-73.5785\"/>\n",
       "<polygon fill=\"black\" stroke=\"black\" points=\"71.6908,-72.2845 71.0531,-82.8601 78.1467,-74.9904 71.6908,-72.2845\"/>\n",
       "<text text-anchor=\"middle\" x=\"225.983\" y=\"-57\" font-family=\"arial\" font-size=\"10.00\">MappingProjection from input_layer4 to hidden_layer4a</text>\n",
       "</g>\n",
       "<!-- hidden_layer4c -->\n",
       "<g id=\"node4\" class=\"node\"><title>hidden_layer4c</title>\n",
       "<ellipse fill=\"none\" stroke=\"black\" cx=\"365.483\" cy=\"-101\" rx=\"65.7359\" ry=\"18\"/>\n",
       "<text text-anchor=\"middle\" x=\"365.483\" y=\"-97.9\" font-family=\"arial\" font-size=\"12.00\">hidden_layer4c</text>\n",
       "</g>\n",
       "<!-- input_layer4&#45;&gt;hidden_layer4c -->\n",
       "<g id=\"edge6\" class=\"edge\"><title>input_layer4&#45;&gt;hidden_layer4c</title>\n",
       "<path fill=\"none\" stroke=\"black\" d=\"M365.483,-36.178C365.483,-46.8097 365.483,-60.694 365.483,-72.7965\"/>\n",
       "<polygon fill=\"black\" stroke=\"black\" points=\"361.983,-72.8467 365.483,-82.8467 368.983,-72.8468 361.983,-72.8467\"/>\n",
       "<text text-anchor=\"middle\" x=\"500.983\" y=\"-57\" font-family=\"arial\" font-size=\"10.00\">MappingProjection from input_layer4 to hidden_layer4c</text>\n",
       "</g>\n",
       "<!-- hidden_layer4b -->\n",
       "<g id=\"node5\" class=\"node\"><title>hidden_layer4b</title>\n",
       "<ellipse fill=\"none\" stroke=\"black\" cx=\"663.483\" cy=\"-101\" rx=\"66.4668\" ry=\"18\"/>\n",
       "<text text-anchor=\"middle\" x=\"663.483\" y=\"-97.9\" font-family=\"arial\" font-size=\"12.00\">hidden_layer4b</text>\n",
       "</g>\n",
       "<!-- input_layer4&#45;&gt;hidden_layer4b -->\n",
       "<g id=\"edge5\" class=\"edge\"><title>input_layer4&#45;&gt;hidden_layer4b</title>\n",
       "<path fill=\"none\" stroke=\"black\" d=\"M420.711,-20.234C490.06,-22.7658 604.129,-30.4847 638.483,-54 645.445,-58.765 650.645,-66.1213 654.445,-73.5635\"/>\n",
       "<polygon fill=\"black\" stroke=\"black\" points=\"651.301,-75.1093 658.538,-82.8478 657.707,-72.2856 651.301,-75.1093\"/>\n",
       "<text text-anchor=\"middle\" x=\"783.983\" y=\"-57\" font-family=\"arial\" font-size=\"10.00\">MappingProjection from input_layer4 to hidden_layer4b</text>\n",
       "</g>\n",
       "<!-- output_layer4 -->\n",
       "<g id=\"node3\" class=\"node\"><title>output_layer4</title>\n",
       "<ellipse fill=\"none\" stroke=\"red\" stroke-width=\"3\" cx=\"365.483\" cy=\"-184\" rx=\"60.8863\" ry=\"18\"/>\n",
       "<text text-anchor=\"middle\" x=\"365.483\" y=\"-180.9\" font-family=\"arial\" font-size=\"12.00\">output_layer4</text>\n",
       "</g>\n",
       "<!-- hidden_layer4a&#45;&gt;output_layer4 -->\n",
       "<g id=\"edge2\" class=\"edge\"><title>hidden_layer4a&#45;&gt;output_layer4</title>\n",
       "<path fill=\"none\" stroke=\"black\" d=\"M68.3855,-119.009C70.4309,-129.008 74.6754,-141.02 83.4834,-148 115.149,-173.094 221.739,-180.405 294.412,-182.416\"/>\n",
       "<polygon fill=\"black\" stroke=\"black\" points=\"294.346,-185.915 304.43,-182.665 294.521,-178.917 294.346,-185.915\"/>\n",
       "<text text-anchor=\"middle\" x=\"222.483\" y=\"-140\" font-family=\"arial\" font-size=\"10.00\">MappingProjection from hidden_layer4a to output_layer4</text>\n",
       "</g>\n",
       "<!-- hidden_layer4c&#45;&gt;output_layer4 -->\n",
       "<g id=\"edge3\" class=\"edge\"><title>hidden_layer4c&#45;&gt;output_layer4</title>\n",
       "<path fill=\"none\" stroke=\"black\" d=\"M365.483,-119.178C365.483,-129.81 365.483,-143.694 365.483,-155.796\"/>\n",
       "<polygon fill=\"black\" stroke=\"black\" points=\"361.983,-155.847 365.483,-165.847 368.983,-155.847 361.983,-155.847\"/>\n",
       "<text text-anchor=\"middle\" x=\"503.983\" y=\"-140\" font-family=\"arial\" font-size=\"10.00\">MappingProjection from hidden_layer4c to output_layer4</text>\n",
       "</g>\n",
       "<!-- hidden_layer4b&#45;&gt;output_layer4 -->\n",
       "<g id=\"edge4\" class=\"edge\"><title>hidden_layer4b&#45;&gt;output_layer4</title>\n",
       "<path fill=\"none\" stroke=\"black\" d=\"M660.427,-119.071C657.713,-129.093 652.683,-141.108 643.483,-148 611.803,-171.733 508.05,-179.436 436.664,-181.898\"/>\n",
       "<polygon fill=\"black\" stroke=\"black\" points=\"436.263,-178.409 426.379,-182.225 436.485,-185.406 436.263,-178.409\"/>\n",
       "<text text-anchor=\"middle\" x=\"790.483\" y=\"-140\" font-family=\"arial\" font-size=\"10.00\">MappingProjection from hidden_layer4b to output_layer4</text>\n",
       "</g>\n",
       "</g>\n",
       "</svg>\n"
      ],
      "text/plain": [
       "<graphviz.dot.Digraph at 0x7f5bd50a5160>"
      ]
     },
     "execution_count": 27,
     "metadata": {},
     "output_type": "execute_result"
    }
   ],
   "source": [
    "input_layer4 = pnl.TransferMechanism(\n",
    "    name='input_layer4',\n",
    "    function=pnl.Linear,\n",
    "    default_variable=np.ones((4,)),\n",
    ")\n",
    "\n",
    "hidden_layer4a = pnl.TransferMechanism(\n",
    "    name='hidden_layer4a',\n",
    "    function=pnl.Linear,\n",
    "    default_variable=np.ones((4,)),\n",
    ")\n",
    "\n",
    "hidden_layer4b = pnl.TransferMechanism(\n",
    "    name='hidden_layer4b',\n",
    "    function=pnl.Linear,\n",
    "    default_variable=np.ones((4,)),\n",
    ")\n",
    "\n",
    "hidden_layer4c = pnl.TransferMechanism(\n",
    "    name='hidden_layer4c',\n",
    "    function=pnl.Linear,\n",
    "    default_variable=np.ones((4,)),\n",
    ")\n",
    "\n",
    "output_layer4 = pnl.TransferMechanism(\n",
    "    name='output_layer4',\n",
    "    function=pnl.Linear,\n",
    "    default_variable=np.ones((4,)),\n",
    ")\n",
    "\n",
    "simple_process4a = pnl.Process(pathway=[input_layer4, hidden_layer4a, output_layer4])\n",
    "simple_process4b = pnl.Process(pathway=[input_layer4, hidden_layer4b, output_layer4])\n",
    "simple_process4c = pnl.Process(pathway=[input_layer4, hidden_layer4c, output_layer4])\n",
    "\n",
    "\n",
    "simple_system4 = pnl.System(processes=[simple_process4a, simple_process4b, simple_process4c])\n",
    "\n",
    "\n",
    "# simple_system4.show_graph(output_fmt = 'jupyter')"
   ]
  },
  {
   "cell_type": "code",
   "execution_count": 29,
   "metadata": {
    "collapsed": false
   },
   "outputs": [
    {
     "data": {
      "image/svg+xml": [
       "<?xml version=\"1.0\" encoding=\"UTF-8\" standalone=\"no\"?>\n",
       "<!DOCTYPE svg PUBLIC \"-//W3C//DTD SVG 1.1//EN\"\n",
       " \"http://www.w3.org/Graphics/SVG/1.1/DTD/svg11.dtd\">\n",
       "<!-- Generated by graphviz version 2.38.0 (20140413.2041)\n",
       " -->\n",
       "<!-- Title: %3 Pages: 1 -->\n",
       "<svg width=\"1765pt\" height=\"376pt\"\n",
       " viewBox=\"0.00 0.00 1765.10 376.00\" xmlns=\"http://www.w3.org/2000/svg\" xmlns:xlink=\"http://www.w3.org/1999/xlink\">\n",
       "<g id=\"graph0\" class=\"graph\" transform=\"scale(1 1) rotate(0) translate(4 372)\">\n",
       "<title>%3</title>\n",
       "<polygon fill=\"white\" stroke=\"none\" points=\"-4,4 -4,-372 1761.1,-372 1761.1,4 -4,4\"/>\n",
       "<!-- preinputmech1c&#45;1 -->\n",
       "<g id=\"node1\" class=\"node\"><title>preinputmech1c&#45;1</title>\n",
       "<ellipse fill=\"none\" stroke=\"green\" stroke-width=\"3\" cx=\"749.101\" cy=\"-18\" rx=\"78.3595\" ry=\"18\"/>\n",
       "<text text-anchor=\"middle\" x=\"749.101\" y=\"-14.9\" font-family=\"arial\" font-size=\"12.00\">preinputmech1c&#45;1</text>\n",
       "</g>\n",
       "<!-- inputmech1c&#45;1 -->\n",
       "<g id=\"node2\" class=\"node\"><title>inputmech1c&#45;1</title>\n",
       "<ellipse fill=\"none\" stroke=\"black\" cx=\"749.101\" cy=\"-101\" rx=\"65.7359\" ry=\"18\"/>\n",
       "<text text-anchor=\"middle\" x=\"749.101\" y=\"-97.9\" font-family=\"arial\" font-size=\"12.00\">inputmech1c&#45;1</text>\n",
       "</g>\n",
       "<!-- preinputmech1c&#45;1&#45;&gt;inputmech1c&#45;1 -->\n",
       "<g id=\"edge1\" class=\"edge\"><title>preinputmech1c&#45;1&#45;&gt;inputmech1c&#45;1</title>\n",
       "<path fill=\"none\" stroke=\"black\" d=\"M749.101,-36.178C749.101,-46.8097 749.101,-60.694 749.101,-72.7965\"/>\n",
       "<polygon fill=\"black\" stroke=\"black\" points=\"745.601,-72.8467 749.101,-82.8467 752.601,-72.8468 745.601,-72.8467\"/>\n",
       "<text text-anchor=\"middle\" x=\"897.601\" y=\"-57\" font-family=\"arial\" font-size=\"10.00\">MappingProjection from preinputmech1c&#45;1 to inputmech1c&#45;1</text>\n",
       "</g>\n",
       "<!-- opposemech1c&#45;1 -->\n",
       "<g id=\"node5\" class=\"node\"><title>opposemech1c&#45;1</title>\n",
       "<ellipse fill=\"none\" stroke=\"black\" cx=\"533.101\" cy=\"-184\" rx=\"73.7411\" ry=\"18\"/>\n",
       "<text text-anchor=\"middle\" x=\"533.101\" y=\"-180.9\" font-family=\"arial\" font-size=\"12.00\">opposemech1c&#45;1</text>\n",
       "</g>\n",
       "<!-- inputmech1c&#45;1&#45;&gt;opposemech1c&#45;1 -->\n",
       "<g id=\"edge4\" class=\"edge\"><title>inputmech1c&#45;1&#45;&gt;opposemech1c&#45;1</title>\n",
       "<path fill=\"none\" stroke=\"black\" d=\"M683.818,-103.73C627.85,-106.742 553.298,-114.916 534.101,-137 529.699,-142.064 528.078,-148.757 527.887,-155.466\"/>\n",
       "<polygon fill=\"black\" stroke=\"black\" points=\"524.418,-156.04 528.57,-165.788 531.402,-155.578 524.418,-156.04\"/>\n",
       "<text text-anchor=\"middle\" x=\"738.601\" y=\"-140\" font-family=\"arial\" font-size=\"10.00\">MappingProjection from inputmech1c&#45;1[RESULTS] to opposemech1c&#45;1[InputState&#45;0]</text>\n",
       "</g>\n",
       "<!-- opposemech2c&#45;1 -->\n",
       "<g id=\"node8\" class=\"node\"><title>opposemech2c&#45;1</title>\n",
       "<ellipse fill=\"none\" stroke=\"black\" cx=\"965.101\" cy=\"-184\" rx=\"73.7411\" ry=\"18\"/>\n",
       "<text text-anchor=\"middle\" x=\"965.101\" y=\"-180.9\" font-family=\"arial\" font-size=\"12.00\">opposemech2c&#45;1</text>\n",
       "</g>\n",
       "<!-- inputmech1c&#45;1&#45;&gt;opposemech2c&#45;1 -->\n",
       "<g id=\"edge9\" class=\"edge\"><title>inputmech1c&#45;1&#45;&gt;opposemech2c&#45;1</title>\n",
       "<path fill=\"none\" stroke=\"black\" d=\"M811.33,-107.077C860.015,-112.155 922.76,-121.485 943.101,-137 949.392,-141.798 953.972,-148.853 957.269,-156.004\"/>\n",
       "<polygon fill=\"black\" stroke=\"black\" points=\"954.119,-157.562 961.009,-165.611 960.642,-155.023 954.119,-157.562\"/>\n",
       "<text text-anchor=\"middle\" x=\"1157.6\" y=\"-140\" font-family=\"arial\" font-size=\"10.00\">MappingProjection from inputmech1c&#45;1[RESULTS] to opposemech2c&#45;1[InputState&#45;0]</text>\n",
       "</g>\n",
       "<!-- fatmech3c&#45;1 -->\n",
       "<g id=\"node3\" class=\"node\"><title>fatmech3c&#45;1</title>\n",
       "<ellipse fill=\"none\" stroke=\"black\" cx=\"295.101\" cy=\"-350\" rx=\"57.5003\" ry=\"18\"/>\n",
       "<text text-anchor=\"middle\" x=\"295.101\" y=\"-346.9\" font-family=\"arial\" font-size=\"12.00\">fatmech3c&#45;1</text>\n",
       "</g>\n",
       "<!-- fatmech3c&#45;1&#45;&gt;inputmech1c&#45;1 -->\n",
       "<g id=\"edge2\" class=\"edge\"><title>fatmech3c&#45;1&#45;&gt;inputmech1c&#45;1</title>\n",
       "<path fill=\"none\" stroke=\"black\" d=\"M240.998,-343.835C141.78,-332.332 -53.2016,-299.116 14.1011,-220 98.1647,-121.181 502.456,-104.784 672.978,-102.309\"/>\n",
       "<polygon fill=\"black\" stroke=\"black\" points=\"673.179,-105.806 683.131,-102.174 673.086,-98.8069 673.179,-105.806\"/>\n",
       "<text text-anchor=\"middle\" x=\"149.101\" y=\"-223\" font-family=\"arial\" font-size=\"10.00\">MappingProjection from fatmech3c&#45;1 to inputmech1c&#45;1</text>\n",
       "</g>\n",
       "<!-- fatmech6c&#45;1 -->\n",
       "<g id=\"node4\" class=\"node\"><title>fatmech6c&#45;1</title>\n",
       "<ellipse fill=\"none\" stroke=\"black\" cx=\"1204.1\" cy=\"-350\" rx=\"57.5003\" ry=\"18\"/>\n",
       "<text text-anchor=\"middle\" x=\"1204.1\" y=\"-346.9\" font-family=\"arial\" font-size=\"12.00\">fatmech6c&#45;1</text>\n",
       "</g>\n",
       "<!-- fatmech6c&#45;1&#45;&gt;inputmech1c&#45;1 -->\n",
       "<g id=\"edge3\" class=\"edge\"><title>fatmech6c&#45;1&#45;&gt;inputmech1c&#45;1</title>\n",
       "<path fill=\"none\" stroke=\"black\" d=\"M1261.53,-349.325C1330.22,-348.404 1439.43,-342.349 1467.1,-314 1550.3,-228.751 1488.71,-245.318 1476.1,-220 1448.79,-165.181 1423.6,-158.089 1366.1,-137 1316.53,-118.819 978.369,-107.903 824.754,-103.83\"/>\n",
       "<polygon fill=\"black\" stroke=\"black\" points=\"824.551,-100.324 814.463,-103.56 824.368,-107.321 824.551,-100.324\"/>\n",
       "<text text-anchor=\"middle\" x=\"1622.1\" y=\"-223\" font-family=\"arial\" font-size=\"10.00\">MappingProjection from fatmech6c&#45;1 to inputmech1c&#45;1</text>\n",
       "</g>\n",
       "<!-- fatmech1c&#45;1 -->\n",
       "<g id=\"node6\" class=\"node\"><title>fatmech1c&#45;1</title>\n",
       "<ellipse fill=\"none\" stroke=\"black\" cx=\"588.101\" cy=\"-267\" rx=\"57.5003\" ry=\"18\"/>\n",
       "<text text-anchor=\"middle\" x=\"588.101\" y=\"-263.9\" font-family=\"arial\" font-size=\"12.00\">fatmech1c&#45;1</text>\n",
       "</g>\n",
       "<!-- opposemech1c&#45;1&#45;&gt;fatmech1c&#45;1 -->\n",
       "<g id=\"edge5\" class=\"edge\"><title>opposemech1c&#45;1&#45;&gt;fatmech1c&#45;1</title>\n",
       "<path fill=\"none\" stroke=\"black\" d=\"M558.433,-201.231C565.008,-206.513 571.52,-212.875 576.101,-220 579.733,-225.649 582.269,-232.355 584.038,-238.875\"/>\n",
       "<polygon fill=\"black\" stroke=\"black\" points=\"580.654,-239.782 586.234,-248.788 587.488,-238.268 580.654,-239.782\"/>\n",
       "<text text-anchor=\"middle\" x=\"722.101\" y=\"-223\" font-family=\"arial\" font-size=\"10.00\">MappingProjection from opposemech1c&#45;1 to fatmech1c&#45;1</text>\n",
       "</g>\n",
       "<!-- fatmech2c&#45;1 -->\n",
       "<g id=\"node7\" class=\"node\"><title>fatmech2c&#45;1</title>\n",
       "<ellipse fill=\"none\" stroke=\"black\" cx=\"295.101\" cy=\"-267\" rx=\"57.5003\" ry=\"18\"/>\n",
       "<text text-anchor=\"middle\" x=\"295.101\" y=\"-263.9\" font-family=\"arial\" font-size=\"12.00\">fatmech2c&#45;1</text>\n",
       "</g>\n",
       "<!-- opposemech1c&#45;1&#45;&gt;fatmech2c&#45;1 -->\n",
       "<g id=\"edge8\" class=\"edge\"><title>opposemech1c&#45;1&#45;&gt;fatmech2c&#45;1</title>\n",
       "<path fill=\"none\" stroke=\"black\" d=\"M459.261,-185.506C396.557,-187.692 313.437,-195.341 292.101,-220 287.702,-225.084 286.513,-231.784 286.901,-238.492\"/>\n",
       "<polygon fill=\"black\" stroke=\"black\" points=\"283.519,-239.499 288.574,-248.81 290.428,-238.379 283.519,-239.499\"/>\n",
       "<text text-anchor=\"middle\" x=\"432.101\" y=\"-223\" font-family=\"arial\" font-size=\"10.00\">MappingProjection from opposemech1c&#45;1 to fatmech2c&#45;1</text>\n",
       "</g>\n",
       "<!-- fatmech1c&#45;1&#45;&gt;fatmech3c&#45;1 -->\n",
       "<g id=\"edge7\" class=\"edge\"><title>fatmech1c&#45;1&#45;&gt;fatmech3c&#45;1</title>\n",
       "<path fill=\"none\" stroke=\"black\" d=\"M581.297,-285.197C576.39,-295.267 568.747,-307.287 558.101,-314 526.415,-333.981 428.826,-342.7 361.869,-346.403\"/>\n",
       "<polygon fill=\"black\" stroke=\"black\" points=\"361.614,-342.911 351.812,-346.934 361.983,-349.902 361.614,-342.911\"/>\n",
       "<text text-anchor=\"middle\" x=\"700.601\" y=\"-306\" font-family=\"arial\" font-size=\"10.00\">MappingProjection from fatmech1c&#45;1 to fatmech3c&#45;1</text>\n",
       "</g>\n",
       "<!-- fatmech2c&#45;1&#45;&gt;fatmech3c&#45;1 -->\n",
       "<g id=\"edge6\" class=\"edge\"><title>fatmech2c&#45;1&#45;&gt;fatmech3c&#45;1</title>\n",
       "<path fill=\"none\" stroke=\"black\" d=\"M295.101,-285.178C295.101,-295.81 295.101,-309.694 295.101,-321.796\"/>\n",
       "<polygon fill=\"black\" stroke=\"black\" points=\"291.601,-321.847 295.101,-331.847 298.601,-321.847 291.601,-321.847\"/>\n",
       "<text text-anchor=\"middle\" x=\"424.601\" y=\"-306\" font-family=\"arial\" font-size=\"10.00\">MappingProjection from fatmech2c&#45;1 to fatmech3c&#45;1</text>\n",
       "</g>\n",
       "<!-- fatmech4c&#45;1 -->\n",
       "<g id=\"node9\" class=\"node\"><title>fatmech4c&#45;1</title>\n",
       "<ellipse fill=\"none\" stroke=\"black\" cx=\"906.101\" cy=\"-267\" rx=\"57.5003\" ry=\"18\"/>\n",
       "<text text-anchor=\"middle\" x=\"906.101\" y=\"-263.9\" font-family=\"arial\" font-size=\"12.00\">fatmech4c&#45;1</text>\n",
       "</g>\n",
       "<!-- opposemech2c&#45;1&#45;&gt;fatmech4c&#45;1 -->\n",
       "<g id=\"edge10\" class=\"edge\"><title>opposemech2c&#45;1&#45;&gt;fatmech4c&#45;1</title>\n",
       "<path fill=\"none\" stroke=\"black\" d=\"M924.563,-199.272C915.638,-204.388 907.304,-211.157 902.101,-220 898.793,-225.622 897.992,-232.318 898.439,-238.837\"/>\n",
       "<polygon fill=\"black\" stroke=\"black\" points=\"894.987,-239.415 899.987,-248.755 901.903,-238.335 894.987,-239.415\"/>\n",
       "<text text-anchor=\"middle\" x=\"1042.1\" y=\"-223\" font-family=\"arial\" font-size=\"10.00\">MappingProjection from opposemech2c&#45;1 to fatmech4c&#45;1</text>\n",
       "</g>\n",
       "<!-- fatmech5c&#45;1 -->\n",
       "<g id=\"node10\" class=\"node\"><title>fatmech5c&#45;1</title>\n",
       "<ellipse fill=\"none\" stroke=\"black\" cx=\"1204.1\" cy=\"-267\" rx=\"57.5003\" ry=\"18\"/>\n",
       "<text text-anchor=\"middle\" x=\"1204.1\" y=\"-263.9\" font-family=\"arial\" font-size=\"12.00\">fatmech5c&#45;1</text>\n",
       "</g>\n",
       "<!-- opposemech2c&#45;1&#45;&gt;fatmech5c&#45;1 -->\n",
       "<g id=\"edge13\" class=\"edge\"><title>opposemech2c&#45;1&#45;&gt;fatmech5c&#45;1</title>\n",
       "<path fill=\"none\" stroke=\"black\" d=\"M1035.76,-189.353C1090.03,-193.968 1159.41,-203.027 1182.1,-220 1188.53,-224.812 1193.17,-231.994 1196.48,-239.259\"/>\n",
       "<polygon fill=\"black\" stroke=\"black\" points=\"1193.36,-240.914 1200.2,-249.005 1199.9,-238.414 1193.36,-240.914\"/>\n",
       "<text text-anchor=\"middle\" x=\"1332.1\" y=\"-223\" font-family=\"arial\" font-size=\"10.00\">MappingProjection from opposemech2c&#45;1 to fatmech5c&#45;1</text>\n",
       "</g>\n",
       "<!-- fatmech4c&#45;1&#45;&gt;fatmech6c&#45;1 -->\n",
       "<g id=\"edge11\" class=\"edge\"><title>fatmech4c&#45;1&#45;&gt;fatmech6c&#45;1</title>\n",
       "<path fill=\"none\" stroke=\"black\" d=\"M914.72,-285.238C920.7,-295.323 929.648,-307.346 941.101,-314 973.491,-332.819 1070.89,-341.853 1137.61,-345.939\"/>\n",
       "<polygon fill=\"black\" stroke=\"black\" points=\"1137.45,-349.435 1147.63,-346.53 1137.86,-342.448 1137.45,-349.435\"/>\n",
       "<text text-anchor=\"middle\" x=\"1070.6\" y=\"-306\" font-family=\"arial\" font-size=\"10.00\">MappingProjection from fatmech4c&#45;1 to fatmech6c&#45;1</text>\n",
       "</g>\n",
       "<!-- fatmech5c&#45;1&#45;&gt;fatmech6c&#45;1 -->\n",
       "<g id=\"edge12\" class=\"edge\"><title>fatmech5c&#45;1&#45;&gt;fatmech6c&#45;1</title>\n",
       "<path fill=\"none\" stroke=\"black\" d=\"M1204.1,-285.178C1204.1,-295.81 1204.1,-309.694 1204.1,-321.796\"/>\n",
       "<polygon fill=\"black\" stroke=\"black\" points=\"1200.6,-321.847 1204.1,-331.847 1207.6,-321.847 1200.6,-321.847\"/>\n",
       "<text text-anchor=\"middle\" x=\"1333.6\" y=\"-306\" font-family=\"arial\" font-size=\"10.00\">MappingProjection from fatmech5c&#45;1 to fatmech6c&#45;1</text>\n",
       "</g>\n",
       "</g>\n",
       "</svg>\n"
      ],
      "text/plain": [
       "<graphviz.dot.Digraph at 0x7f5bd4f875c0>"
      ]
     },
     "execution_count": 29,
     "metadata": {},
     "output_type": "execute_result"
    }
   ],
   "source": [
    "preinputmech1c = pnl.TransferMechanism(\n",
    "    name='preinputmech1c',\n",
    "    function=pnl.Linear(slope=1, intercept=0),\n",
    "    size = 2\n",
    ")\n",
    "\n",
    "inputmech1c = pnl.TransferMechanism(\n",
    "    name='inputmech1c',\n",
    "    function=pnl.Linear(slope=1, intercept=0),\n",
    "    size = 2\n",
    ")\n",
    "\n",
    "opposemech1c = pnl.TransferMechanism(\n",
    "    name='opposemech1c',\n",
    "    #function=pnl.Logistic(gain=3,bias=1),\n",
    "    function=pnl.Linear(),\n",
    "    size = 2\n",
    ")\n",
    "\n",
    "opposemech2c = pnl.TransferMechanism(\n",
    "    name='opposemech2c',\n",
    "    #function=pnl.Logistic(gain=3,bias=1),\n",
    "    function=pnl.Linear(),\n",
    "    size = 2\n",
    ")\n",
    "\n",
    "fatmech1c = pnl.TransferMechanism(\n",
    "    name='fatmech1c',\n",
    "    function=pnl.Logistic()\n",
    ")\n",
    "\n",
    "fatmech2c = pnl.TransferMechanism(\n",
    "    name='fatmech2c',\n",
    "    function=pnl.Logistic(),\n",
    ")\n",
    "\n",
    "fatmech3c =pnl.TransferMechanism(\n",
    "    name='fatmech3c',\n",
    "    function=pnl.Linear()\n",
    ")\n",
    "\n",
    "fatmech4c = pnl.TransferMechanism(\n",
    "    name='fatmech4c',\n",
    "    function=pnl.Logistic()\n",
    ")\n",
    "\n",
    "fatmech5c = pnl.TransferMechanism(\n",
    "    name='fatmech5c',\n",
    "    function=pnl.Logistic(),\n",
    ")\n",
    "\n",
    "fatmech6c =pnl.TransferMechanism(\n",
    "    name='fatmech6c',\n",
    "    function=pnl.Linear()\n",
    ")\n",
    "\n",
    "# Create projections\n",
    "xy_mapmat = np.array(((1,0),(0,-1)))\n",
    "yx_mapmat = np.array(((-1,0),(0,1)))\n",
    "                \n",
    "\n",
    "# Create processes\n",
    "\n",
    "toyprocess1cp = pnl.Process(\n",
    "    pathway=[preinputmech1c, inputmech1c]\n",
    ")\n",
    "\n",
    "toyprocess1c = pnl.Process(\n",
    "    pathway=[inputmech1c, xy_mapmat, opposemech1c]\n",
    ")\n",
    "\n",
    "toyprocess2c = pnl.Process(\n",
    "    pathway=[inputmech1c, yx_mapmat, opposemech2c]    \n",
    ")\n",
    "\n",
    "toyprocess3c = pnl.Process(\n",
    "    pathway=[opposemech1c, fatmech1c, fatmech3c]    \n",
    ")\n",
    "\n",
    "toyprocess4c = pnl.Process(\n",
    "    pathway=[opposemech1c, fatmech2c, fatmech3c]    \n",
    ")\n",
    "\n",
    "toyprocess5c = pnl.Process(\n",
    "    pathway=[opposemech2c, fatmech4c, fatmech6c]    \n",
    ")\n",
    "\n",
    "toyprocess6c = pnl.Process(\n",
    "    pathway=[opposemech2c, fatmech5c, fatmech6c]    \n",
    ")\n",
    "\n",
    "toyprocess7c = pnl.Process(\n",
    "    pathway=[fatmech3c, inputmech1c]    \n",
    ")\n",
    "\n",
    "toyprocess8c = pnl.Process(\n",
    "    pathway=[fatmech6c, inputmech1c]    \n",
    ")\n",
    "\n",
    "# Create system\n",
    "\n",
    "\n",
    "toysystem1c = pnl.System(processes=[toyprocess1cp, toyprocess1c, toyprocess2c, toyprocess3c, toyprocess4c, toyprocess5c, toyprocess6c, toyprocess7c, toyprocess8c],\n",
    "                     name='toysystem1c')\n",
    "\n",
    "# toysystem1c.show_graph(output_fmt = 'jupyter')"
   ]
  },
  {
   "cell_type": "markdown",
   "metadata": {},
   "source": [
    "This is currently the end of the tutorial, but more content is being added weekly. For further examples, look to the Scripts folder inside your PsyNeuLink directory for several functioning models."
   ]
  }
 ],
 "metadata": {
  "anaconda-cloud": {},
  "kernelspec": {
   "display_name": "Python 3",
   "language": "python",
   "name": "python3"
  },
  "language_info": {
   "codemirror_mode": {
    "name": "ipython",
    "version": 3.0
   },
   "file_extension": ".py",
   "mimetype": "text/x-python",
   "name": "python",
   "nbconvert_exporter": "python",
   "pygments_lexer": "ipython3",
   "version": "3.5.2"
  }
 },
 "nbformat": 4,
 "nbformat_minor": 0
}