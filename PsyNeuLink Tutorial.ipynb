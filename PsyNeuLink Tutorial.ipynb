{
 "cells": [
  {
   "cell_type": "code",
   "execution_count": null,
   "metadata": {
    "collapsed": true
   },
   "outputs": [],
   "source": [
    "##############################################################################\n",
    "# What is PsyNeuLink?\n",
    "#\n",
    "# PsyNeuLink is an integrated language and toolkit for creating\n",
    "# cognitive models. It decreases the overhead required for cognitive\n",
    "# modeling by providing standard building blocks (DDMS, Neural Nets, etc.)\n",
    "# and the means to connect them together in a single environment.\n",
    "# PsyNeuLink is designed to make the user think about computation\n",
    "# in a \"mind/brain-like\" way while imposing minimal constraint\n",
    "# on the type of models that can be implemented.\n",
    "##############################################################################"
   ]
  },
  {
   "cell_type": "code",
   "execution_count": null,
   "metadata": {
    "collapsed": true
   },
   "outputs": [],
   "source": [
    "##############################################################################\n",
    "# How do I get PsyNeuLink?\n",
    "# \n",
    "# Go to https://github.com/PrincetonUniversity/PsyNeuLink\n",
    "# Press the green \"Clone or download\" button, then \"Download ZIP\"\n",
    "# Unzip in the directory of your choice.\n",
    "#\n",
    "# Right now, you need explicit permission to download PsyNeuLink,\n",
    "# so if you can't follow these directions, this is likely the reason.\n",
    "#\n",
    "# Once you have downloaded the repository, move this file to the main PsyNeuLink\n",
    "# folder and restart the kernel from the jupyter toolbar (Kernel, Restart & Clear Output).\n",
    "##############################################################################"
   ]
  },
  {
   "cell_type": "code",
   "execution_count": null,
   "metadata": {
    "collapsed": false
   },
   "outputs": [],
   "source": [
    "# Run this cell to download required packages.\n",
    "! pip3 install toposort\n",
    "! pip3 install mpi4py\n",
    "! pip3 install numpy\n",
    "! pip3 install matplotlib\n",
    "! pip3 install typecheck-decorator"
   ]
  },
  {
   "cell_type": "code",
   "execution_count": null,
   "metadata": {
    "collapsed": false
   },
   "outputs": [],
   "source": [
    "# Making sure this tutorial is in the root PsyNeuLink directory,\n",
    "# run this cell to install PsyNeuLink locally and upgrade to the\n",
    "# current version. (Right now the tutorial is assuming version 0.0.1.dev1)\n",
    "! pip3 install --upgrade ."
   ]
  },
  {
   "cell_type": "code",
   "execution_count": null,
   "metadata": {
    "collapsed": false
   },
   "outputs": [],
   "source": [
    "##############################################################################\n",
    "# What will we do in this tutorial?\n",
    "#\n",
    "# This tutorial is meant to get you accustomed to the structure of PsyNeuLink\n",
    "# and be able to construct basic models. Starting with a simple 1-to-1 transformation,\n",
    "# we will build up to making the Stroop model from Cohen et al. (1990) and a \n",
    "# reinforcement learning agent\n",
    "##############################################################################"
   ]
  },
  {
   "cell_type": "code",
   "execution_count": null,
   "metadata": {
    "collapsed": false
   },
   "outputs": [],
   "source": [
    "# First we need to import the necessary packages. We will discuss their function\n",
    "# as they are used\n",
    "\n",
    "# This first package contains the basic methods to create and handle Processes.\n",
    "from PsyNeuLink.Functions.Process import *\n",
    "\n",
    "# The second set imports specific types of mechansims, a Transfer mechanism, that we \n",
    "# will be using in this tutorial.\n",
    "from PsyNeuLink.Functions.Mechanisms.ProcessingMechanisms.Transfer import Transfer\n",
    "from PsyNeuLink.Functions.Utilities.Utility import Linear, Logistic\n",
    "\n",
    "# The third will handle projections\n",
    "from PsyNeuLink.Functions.Projections.Mapping import Mapping"
   ]
  },
  {
   "cell_type": "code",
   "execution_count": null,
   "metadata": {
    "collapsed": false
   },
   "outputs": [],
   "source": [
    "# Now we import tools for plotting so we can see what our mechanisms do.\n",
    "import numpy as np\n",
    "import matplotlib.pyplot as plt\n",
    "% matplotlib inline"
   ]
  },
  {
   "cell_type": "code",
   "execution_count": null,
   "metadata": {
    "collapsed": false
   },
   "outputs": [],
   "source": [
    "# Now we are ready to create our first mechanism. A mechanism is the basic unit\n",
    "# of computation in PsyNeuLink. It takes inputs, runs them through a certain function, \n",
    "# then handles the outputs of that function. First we will make a Transfer mechanism \n",
    "# that performs a linear transformation on its input.\n",
    "\n",
    "linear_transfer_mechanism = Transfer(function=Linear(slope = 1, intercept = 0))\n",
    "\n",
    "# In this case, we didn't actually need to specify the slope and intercept as the \n",
    "# mechanism will default to reasonable values (in this case, 1 and 0 respectively)."
   ]
  },
  {
   "cell_type": "code",
   "execution_count": null,
   "metadata": {
    "collapsed": false
   },
   "outputs": [],
   "source": [
    "# Now we need to put our mechanism in a process. In PsyNeuLink, a process is\n",
    "# a collection of mechanisms and projections (which we will learn about later)\n",
    "# connected in a certain configuration to be executed.\n",
    "# Since we only have one mechanism, the configuration list has only one element.\n",
    "# We will leave the other parameters to default.\n",
    "\n",
    "linear_transfer_process = process(configuration = [linear_transfer_mechanism])\n",
    "\n",
    "# Note: Make sure you do not run this cell multiple times. This would create multiple\n",
    "# processes that share the same variable name in the PsyNeuLink registry causing\n",
    "# unexpected behavior.\n",
    "\n",
    "# We want to see how this mechanism is behaving, so we will turn on reporting\n",
    "# just for this block. This happens at both the mechanism and process level\n",
    "linear_transfer_mechanism.prefs.verbosePref = True\n",
    "linear_transfer_mechanism.prefs.reportOutputPref = True\n",
    "linear_transfer_process.prefs.verbosePref = True\n",
    "linear_transfer_process.prefs.reportOutputPref = True"
   ]
  },
  {
   "cell_type": "code",
   "execution_count": null,
   "metadata": {
    "collapsed": false
   },
   "outputs": [],
   "source": [
    "# Now we can run our process. Since our only mechanism is the 1-to-1 linear\n",
    "# mechanism, the process output should be the same as its input. Run this cell\n",
    "# a few times with different inputs to see how the output changes.\n",
    "linear_transfer_process.execute([4])"
   ]
  },
  {
   "cell_type": "code",
   "execution_count": null,
   "metadata": {
    "collapsed": false
   },
   "outputs": [],
   "source": [
    "# Now let's see if it runs properly over a wide range of values\n",
    "# Now we will want to get rid of some of that output. Again, we \n",
    "# need to set this for both our mechanism and our process\n",
    "\n",
    "linear_transfer_mechanism.prefs.verbosePref = False\n",
    "linear_transfer_mechanism.prefs.reportOutputPref = False\n",
    "linear_transfer_process.prefs.verbosePref = False\n",
    "linear_transfer_process.prefs.reportOutputPref = False"
   ]
  },
  {
   "cell_type": "code",
   "execution_count": null,
   "metadata": {
    "collapsed": false
   },
   "outputs": [],
   "source": [
    "# Finally, let's see the output of our process over a range of values using pyplot\n",
    "xVals = np.linspace(-3, 3, num=51)\n",
    "yVals = np.zeros((51,))\n",
    "for i in range(xVals.shape[0]):\n",
    "    yVals[i] = linear_transfer_process.execute([xVals[i]])[0]\n",
    "    # Progress bar\n",
    "    print(\"-\", end=\"\")\n",
    "plt.plot(xVals, yVals)\n",
    "plt.show()"
   ]
  },
  {
   "cell_type": "code",
   "execution_count": null,
   "metadata": {
    "collapsed": false
   },
   "outputs": [],
   "source": [
    "# Now let's put it all together and make a new logistic transfer process\n",
    "\n",
    "# Create the mechanism\n",
    "logistic_transfer_mechanism = Transfer(function=Logistic(gain = 1, bias = 0))\n",
    "\n",
    "# Package into a process\n",
    "logistic_transfer_process = process(configuration = [logistic_transfer_mechanism])\n",
    "\n",
    "# Iterate and plot\n",
    "xVals = np.linspace(-3, 3, num=51)\n",
    "yVals = np.zeros((51,))\n",
    "for i in range(xVals.shape[0]):\n",
    "    yVals[i] = logistic_transfer_process.execute([xVals[i]])[0]\n",
    "    # Progress bar\n",
    "    print(\"-\", end=\"\")\n",
    "plt.plot(xVals, yVals)\n",
    "plt.show()"
   ]
  },
  {
   "cell_type": "code",
   "execution_count": null,
   "metadata": {
    "collapsed": false
   },
   "outputs": [],
   "source": [
    "# So far, all of our mechanisms have executed entirely on a single phase.\n",
    "# Now we will make transfer units that integrate their input over time\n",
    "# to work towards building elementary neural networks\n",
    "\n",
    "linear_integrating_mechanism = Transfer(function=Linear(), noise = 0, rate = .1, time_scale = TimeScale.REAL_TIME)"
   ]
  },
  {
   "cell_type": "code",
   "execution_count": null,
   "metadata": {
    "collapsed": false
   },
   "outputs": [],
   "source": [
    "linear_integrating_process = process(configuration = [linear_integrating_mechanism])"
   ]
  },
  {
   "cell_type": "code",
   "execution_count": null,
   "metadata": {
    "collapsed": false
   },
   "outputs": [],
   "source": [
    "time_steps = np.linspace(0, 50, num=51)\n",
    "yVals = np.zeros((51,))\n",
    "for i in range(1, 51):\n",
    "    yVals[i] = linear_integrating_process.execute([1])[0]\n",
    "    # Progress bar\n",
    "    print(\"-\", end=\"\")\n",
    "plt.plot(time_steps, yVals)\n",
    "plt.show()\n",
    "\n",
    "# Notice that this time activation is accumulating slowly over time\n",
    "# rather than all at once."
   ]
  },
  {
   "cell_type": "code",
   "execution_count": null,
   "metadata": {
    "collapsed": false
   },
   "outputs": [],
   "source": [
    "# The final step before we make our first real model is to connect\n",
    "# mechanisms together using projections. To start simple, we will\n",
    "# connect two linear transfer mechanisms in series.\n",
    "linear_input_unit = Transfer(function = Linear(slope = 2, intercept = 2))\n",
    "linear_output_unit = Transfer(function = Linear(slope = 5, intercept = -4))\n",
    "small_linear_process = process(configuration = [linear_input_unit, IDENTITY_MATRIX, linear_output_unit])\n",
    "\n",
    "# IDENTITY_MATRIX is a keyword that provides a projection from the unit preceding\n",
    "# it to the unit following that creates a one-to-one output to input projection\n",
    "# between the two. Other useful projection keywords are..."
   ]
  },
  {
   "cell_type": "code",
   "execution_count": null,
   "metadata": {
    "collapsed": false
   },
   "outputs": [],
   "source": [
    "# Make sure we see the desired output\n",
    "small_linear_process.execute([0])"
   ]
  },
  {
   "cell_type": "code",
   "execution_count": null,
   "metadata": {
    "collapsed": false
   },
   "outputs": [],
   "source": [
    "# Now let's make our projection definition a bit more explicit.\n",
    "linear_input_unit = Transfer(function = Linear(slope = 2, intercept = 2))\n",
    "linear_output_unit = Transfer(function = Linear(slope = 5, intercept = -4))\n",
    "\n",
    "# This time we create a Mapping projection which takes an output state and sends\n",
    "# its value multiplied by a given matrix to an input state (instead of explicitly\n",
    "# calling the output and input states, we here just provide the sending and receiving\n",
    "# mechanisms for simplicity).\n",
    "unit_mapping_projection = Mapping(sender = linear_input_unit, receiver = linear_output_unit, matrix = np.asarray([[1]]))\n",
    "small_linear_process = process(configuration = [linear_input_unit, unit_mapping_projection, linear_output_unit])"
   ]
  },
  {
   "cell_type": "code",
   "execution_count": null,
   "metadata": {
    "collapsed": false
   },
   "outputs": [],
   "source": [
    "# Change the value in the projection matrix above and make sure the output\n",
    "# matches your expectations\n",
    "print(small_linear_process.execute([0]))\n",
    "xVals = np.linspace(-3, 3, num=51)\n",
    "yVals = np.zeros((51,))\n",
    "for i in range(xVals.shape[0]):\n",
    "    yVals[i] = small_linear_process.execute([xVals[i]])[0]\n",
    "    # Progress bar\n",
    "    print(\"-\", end=\"\")\n",
    "plt.plot(xVals, yVals)\n",
    "plt.show()"
   ]
  },
  {
   "cell_type": "code",
   "execution_count": null,
   "metadata": {
    "collapsed": false
   },
   "outputs": [],
   "source": [
    "#\n",
    "linear_input_unit = Transfer(function = Linear(), noise = 0, rate = 0.1, time_scale = TimeScale.REAL_TIME)\n",
    "logistic_input_unit = Transfer(function = Logistic(), noise = 0, rate = 0.1, time_scale = TimeScale.REAL_TIME)\n",
    "linear_output_unit = Transfer(function = Linear(), noise = 0, rate = 0.1, time_scale = TimeScale.REAL_TIME)\n",
    "\n",
    "projection_1 = Mapping(sender = linear_input_unit, receiver = linear_output_unit, matrix = np.asarray([[1]]))\n",
    "projection_2 = Mapping(sender = logistic_input_unit, receiver = linear_output_unit, matrix = np.asarray([[-1]]))\n",
    "\n",
    "small_dynamic_process = process(configuration = [linear_input_unit, logistic_input_unit, linear_output_unit])\n",
    "\n",
    "time_steps = np.linspace(0, 50, num=51)\n",
    "yVals = np.zeros((51,))\n",
    "for i in range(1, 51):\n",
    "    yVals[i] = small_dynamic_process.execute([1, 1])[0]\n",
    "    # Progress bar\n",
    "    print(\"-\", end=\"\")\n",
    "plt.plot(time_steps, yVals)\n",
    "plt.show()"
   ]
  },
  {
   "cell_type": "code",
   "execution_count": null,
   "metadata": {
    "collapsed": true
   },
   "outputs": [],
   "source": []
  }
 ],
 "metadata": {
  "kernelspec": {
   "display_name": "Python 3",
   "language": "python",
   "name": "python3"
  },
  "language_info": {
   "codemirror_mode": {
    "name": "ipython",
    "version": 3
   },
   "file_extension": ".py",
   "mimetype": "text/x-python",
   "name": "python",
   "nbconvert_exporter": "python",
   "pygments_lexer": "ipython3",
   "version": "3.5.2"
  }
 },
 "nbformat": 4,
 "nbformat_minor": 0
}
