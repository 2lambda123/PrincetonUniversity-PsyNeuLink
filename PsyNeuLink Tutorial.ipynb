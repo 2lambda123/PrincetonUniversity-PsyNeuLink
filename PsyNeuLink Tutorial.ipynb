{
 "cells": [
  {
<<<<<<< HEAD
   "cell_type": "markdown",
   "metadata": {},
   "source": [
    "# Welcome to PsyNeuLink\n",
    "\n",
    "PsyNeuLink is an integrated language and toolkit for creating cognitive models. It decreases the overhead required for cognitive modeling by providing standard building blocks (DDMS, Neural Nets, etc.) and the means to connect them together in a single environment. PsyNeuLink is designed to make the user think about computation in a \"mind/brain-like\" way while imposing minimal constraint on the type of models that can be implemented."
   ]
  },
  {
   "cell_type": "markdown",
=======
   "cell_type": "code",
   "execution_count": null,
>>>>>>> 64626ad6e08f3d8fbc2b0e8a88935c39fda05592
   "metadata": {
    "collapsed": true
   },
   "outputs": [],
   "source": [
    "##############################################################################\n",
    "# What is PsyNeuLink?\n",
    "#\n",
    "# PsyNeuLink is an integrated language and toolkit for creating\n",
    "# cognitive models. It decreases the overhead required for cognitive\n",
    "# modeling by providing standard building blocks (DDMS, Neural Nets, etc.)\n",
    "# and the means to connect them together in a single environment.\n",
    "# PsyNeuLink is designed to make the user think about computation\n",
    "# in a \"mind/brain-like\" way while imposing minimal constraint\n",
    "# on the type of models that can be implemented.\n",
    "##############################################################################"
   ]
  },
  {
   "cell_type": "code",
   "execution_count": null,
   "metadata": {
    "collapsed": true
   },
   "outputs": [],
   "source": [
    "##############################################################################\n",
    "# How do I get PsyNeuLink?\n",
    "# \n",
    "# Go to https://github.com/PrincetonUniversity/PsyNeuLink\n",
    "# Press the green \"Clone or download\" button, then \"Download ZIP\"\n",
    "# Unzip in the directory of your choice.\n",
    "#\n",
    "# Right now, you need explicit permission to download PsyNeuLink,\n",
    "# so if you can't follow these directions, this is likely the reason.\n",
    "#\n",
    "# Once you have downloaded the repository, move this file to the main PsyNeuLink\n",
    "# folder and restart the kernel from the jupyter toolbar (Kernel, Restart & Clear Output).\n",
    "##############################################################################"
   ]
  },
  {
   "cell_type": "code",
   "execution_count": null,
   "metadata": {
    "collapsed": false
   },
   "outputs": [],
   "source": [
    "# Run this cell to download required packages.\n",
    "! pip3 install toposort\n",
    "! pip3 install mpi4py\n",
    "! pip3 install numpy\n",
    "! pip3 install matplotlib\n",
    "! pip3 install typecheck-decorator"
   ]
  },
  {
   "cell_type": "code",
   "execution_count": null,
   "metadata": {
    "collapsed": false
   },
   "outputs": [],
   "source": [
    "# Making sure this tutorial is in the root PsyNeuLink directory,\n",
    "# run this cell to install PsyNeuLink locally and upgrade to the\n",
    "# current version. (Right now the tutorial is assuming version 0.0.1.dev1)\n",
    "! pip3 install --upgrade ."
   ]
  },
  {
   "cell_type": "code",
   "execution_count": null,
   "metadata": {
    "collapsed": false
   },
   "outputs": [],
   "source": [
<<<<<<< HEAD
    "### Imports and file structure\n",
    "\n",
    "The following code block will import the necessary components for basic neural network models in PsyNeuLink. In particular, we need tools for handling *systems*, *processes*, the set of specific *mechanisms* that will make up our networks, and the *projections* to connect them. We also import basic prerequisites and set up the jupyter environment for visualization."
=======
    "##############################################################################\n",
    "# What will we do in this tutorial?\n",
    "#\n",
    "# This tutorial is meant to get you accustomed to the structure of PsyNeuLink\n",
    "# and be able to construct basic models. Starting with a simple 1-to-1 transformation,\n",
    "# we will build up to making the Stroop model from Cohen et al. (1990) and a \n",
    "# reinforcement learning agent\n",
    "##############################################################################"
>>>>>>> 64626ad6e08f3d8fbc2b0e8a88935c39fda05592
   ]
  },
  {
   "cell_type": "code",
<<<<<<< HEAD
   "execution_count": null,
=======
   "execution_count": 3,
>>>>>>> 64626ad6e08f3d8fbc2b0e8a88935c39fda05592
   "metadata": {
    "collapsed": false
   },
   "outputs": [],
   "source": [
<<<<<<< HEAD
    "from PsyNeuLink.Functions.System import system\n",
    "\n",
=======
    "# First we need to import the necessary packages. We will discuss their function\n",
    "# as they are used\n",
    "\n",
    "# This first package contains the basic methods to create and handle Processes.\n",
>>>>>>> 64626ad6e08f3d8fbc2b0e8a88935c39fda05592
    "from PsyNeuLink.Functions.Process import *\n",
    "\n",
    "# The second set imports specific types of mechansims, a Transfer mechanism, that we \n",
    "# will be using in this tutorial.\n",
    "from PsyNeuLink.Functions.Mechanisms.ProcessingMechanisms.Transfer import Transfer\n",
    "from PsyNeuLink.Functions.Utilities.Utility import Linear, Logistic\n",
    "\n",
    "# The third will handle projections\n",
    "from PsyNeuLink.Functions.Projections.Mapping import Mapping"
   ]
  },
  {
   "cell_type": "code",
<<<<<<< HEAD
   "execution_count": null,
=======
   "execution_count": 1,
>>>>>>> 64626ad6e08f3d8fbc2b0e8a88935c39fda05592
   "metadata": {
    "collapsed": false
   },
   "outputs": [],
   "source": [
    "# Now we import tools for plotting so we can see what our mechanisms do.\n",
    "import numpy as np\n",
    "import matplotlib.pyplot as plt\n",
    "% matplotlib inline"
   ]
  },
  {
<<<<<<< HEAD
   "cell_type": "markdown",
   "metadata": {},
   "source": [
    "### Creating a mechanism\n",
    "\n",
    "*Mechansims* are the basic units of computation in PsyNeuLink. At their core is a parameterized *function* but they also contain the machinery to interact with input, output, control, and learning signals. Our first mechanism will perform a linear transformation on a scalar input. For now, we will initialize it by just specifying the *function* of the mechanism."
   ]
  },
  {
   "cell_type": "code",
   "execution_count": null,
   "metadata": {
    "collapsed": false
   },
   "outputs": [],
   "source": [
    "linear_transfer_mechanism = Transfer(function=Linear(slope = 1, intercept = 0))"
   ]
  },
  {
   "cell_type": "markdown",
   "metadata": {},
   "source": [
    "In this case, we didn't actually need to specify the slope and intercept as the function will default to reasonable values (in this case, 1 and 0 respectively)."
   ]
  },
  {
=======
>>>>>>> 64626ad6e08f3d8fbc2b0e8a88935c39fda05592
   "cell_type": "code",
   "execution_count": null,
   "metadata": {
    "collapsed": false
   },
   "outputs": [],
<<<<<<< HEAD
   "source": [
    "linear_transfer_mechanism.execute([1]) #Why isn't this working?"
   ]
  },
  {
   "cell_type": "markdown",
   "metadata": {},
   "source": [
    "Try reparamaterizing the mechanism and executing again before moving on."
   ]
  },
  {
   "cell_type": "markdown",
   "metadata": {},
=======
>>>>>>> 64626ad6e08f3d8fbc2b0e8a88935c39fda05592
   "source": [
    "# Now we are ready to create our first mechanism. A mechanism is the basic unit\n",
    "# of computation in PsyNeuLink. It takes inputs, runs them through a certain function, \n",
    "# then handles the outputs of that function. First we will make a Transfer mechanism \n",
    "# that performs a linear transformation on its input.\n",
    "\n",
    "linear_transfer_mechanism = Transfer(function=Linear(slope = 2, intercept = 0))\n",
    "\n",
    "# In this case, we didn't actually need to specify the slope and intercept as the \n",
    "# mechanism will default to reasonable values (in this case, 1 and 0 respectively)."
   ]
  },
  {
   "cell_type": "code",
   "execution_count": null,
   "metadata": {
    "collapsed": false
   },
   "outputs": [],
   "source": [
    "# Now we need to put our mechanism in a process. In PsyNeuLink, a process is\n",
    "# a collection of mechanisms and projections (which we will learn about later)\n",
    "# connected in a certain pathway to be executed.\n",
    "# Since we only have one mechanism, the pathway list has only one element.\n",
    "# We will leave the other parameters to default.\n",
    "\n",
    "linear_transfer_process = process(pathway = [linear_transfer_mechanism])\n",
    "\n",
    "# Note: Make sure you do not run this cell multiple times. This would create multiple\n",
    "# processes that share the same variable name in the PsyNeuLink registry causing\n",
    "# unexpected behavior.\n",
    "\n",
    "# We want to see how this mechanism is behaving, so we will turn on reporting\n",
    "# just for this block. This happens at both the mechanism and process level\n",
    "linear_transfer_mechanism.prefs.verbosePref = True\n",
    "linear_transfer_mechanism.prefs.reportOutputPref = True\n",
    "linear_transfer_process.prefs.verbosePref = True\n",
    "linear_transfer_process.prefs.reportOutputPref = True"
   ]
  },
  {
   "cell_type": "code",
   "execution_count": null,
   "metadata": {
    "collapsed": false
   },
<<<<<<< HEAD
   "outputs": [],
=======
   "outputs": [
    {
     "name": "stdout",
     "output_type": "stream",
     "text": [
      "\n",
      "\n",
      "****************************************\n",
      "\n",
      "\n",
      "'Process-1' executing with:\n",
      "- pathway: ['Transfer-1']\n",
      "- input: 4\n",
      "\n",
      "'Transfer-1' mechanism executed:\n",
      "- input:   4.\n",
      "- params:\n",
      "\ttime_scale: TimeScale.TRIAL\n",
      "\tinitial_state: 0\n",
      "\tfunction: Linear\n",
      "\t\tslope: 2\n",
      "\t\tintercept: 0\n",
      "\tnoise: 0.0\n",
      "- output:  8.\n",
      "\n",
      "'Process-1' completed:\n",
      "- output:  8.\n",
      "\n",
      "\n",
      "****************************************\n",
      "\n"
     ]
    },
    {
     "ename": "DeprecationWarning",
     "evalue": "DisplayFormatter._ipython_display_formatter_default is deprecated: use @default decorator instead.",
     "output_type": "error",
     "traceback": [
      "\u001b[0;31m---------------------------------------------------------------------------\u001b[0m",
      "\u001b[0;31mKeyError\u001b[0m                                  Traceback (most recent call last)",
      "\u001b[0;32m/Users/jdc/anaconda/lib/python3.5/site-packages/traitlets/traitlets.py\u001b[0m in \u001b[0;36mget\u001b[0;34m(self, obj, cls)\u001b[0m\n\u001b[1;32m    500\u001b[0m         \u001b[0;32mtry\u001b[0m\u001b[0;34m:\u001b[0m\u001b[0;34m\u001b[0m\u001b[0m\n\u001b[0;32m--> 501\u001b[0;31m             \u001b[0mvalue\u001b[0m \u001b[0;34m=\u001b[0m \u001b[0mobj\u001b[0m\u001b[0;34m.\u001b[0m\u001b[0m_trait_values\u001b[0m\u001b[0;34m[\u001b[0m\u001b[0mself\u001b[0m\u001b[0;34m.\u001b[0m\u001b[0mname\u001b[0m\u001b[0;34m]\u001b[0m\u001b[0;34m\u001b[0m\u001b[0m\n\u001b[0m\u001b[1;32m    502\u001b[0m         \u001b[0;32mexcept\u001b[0m \u001b[0mKeyError\u001b[0m\u001b[0;34m:\u001b[0m\u001b[0;34m\u001b[0m\u001b[0m\n",
      "\u001b[0;31mKeyError\u001b[0m: 'ipython_display_formatter'",
      "\nDuring handling of the above exception, another exception occurred:\n",
      "\u001b[0;31mDeprecationWarning\u001b[0m                        Traceback (most recent call last)",
      "\u001b[0;32m<ipython-input-6-83b33a89efeb>\u001b[0m in \u001b[0;36m<module>\u001b[0;34m()\u001b[0m\n\u001b[1;32m      2\u001b[0m \u001b[0;31m# mechanism, the process output should be the same as its input. Run this cell\u001b[0m\u001b[0;34m\u001b[0m\u001b[0;34m\u001b[0m\u001b[0m\n\u001b[1;32m      3\u001b[0m \u001b[0;31m# a few times with different inputs to see how the output changes.\u001b[0m\u001b[0;34m\u001b[0m\u001b[0;34m\u001b[0m\u001b[0m\n\u001b[0;32m----> 4\u001b[0;31m \u001b[0mlinear_transfer_process\u001b[0m\u001b[0;34m.\u001b[0m\u001b[0mexecute\u001b[0m\u001b[0;34m(\u001b[0m\u001b[0;34m[\u001b[0m\u001b[0;36m4\u001b[0m\u001b[0;34m]\u001b[0m\u001b[0;34m)\u001b[0m\u001b[0;34m\u001b[0m\u001b[0m\n\u001b[0m",
      "\u001b[0;32m/Users/jdc/anaconda/lib/python3.5/site-packages/IPython/core/displayhook.py\u001b[0m in \u001b[0;36m__call__\u001b[0;34m(self, result)\u001b[0m\n\u001b[1;32m    244\u001b[0m             \u001b[0mself\u001b[0m\u001b[0;34m.\u001b[0m\u001b[0mstart_displayhook\u001b[0m\u001b[0;34m(\u001b[0m\u001b[0;34m)\u001b[0m\u001b[0;34m\u001b[0m\u001b[0m\n\u001b[1;32m    245\u001b[0m             \u001b[0mself\u001b[0m\u001b[0;34m.\u001b[0m\u001b[0mwrite_output_prompt\u001b[0m\u001b[0;34m(\u001b[0m\u001b[0;34m)\u001b[0m\u001b[0;34m\u001b[0m\u001b[0m\n\u001b[0;32m--> 246\u001b[0;31m             \u001b[0mformat_dict\u001b[0m\u001b[0;34m,\u001b[0m \u001b[0mmd_dict\u001b[0m \u001b[0;34m=\u001b[0m \u001b[0mself\u001b[0m\u001b[0;34m.\u001b[0m\u001b[0mcompute_format_data\u001b[0m\u001b[0;34m(\u001b[0m\u001b[0mresult\u001b[0m\u001b[0;34m)\u001b[0m\u001b[0;34m\u001b[0m\u001b[0m\n\u001b[0m\u001b[1;32m    247\u001b[0m             \u001b[0mself\u001b[0m\u001b[0;34m.\u001b[0m\u001b[0mupdate_user_ns\u001b[0m\u001b[0;34m(\u001b[0m\u001b[0mresult\u001b[0m\u001b[0;34m)\u001b[0m\u001b[0;34m\u001b[0m\u001b[0m\n\u001b[1;32m    248\u001b[0m             \u001b[0mself\u001b[0m\u001b[0;34m.\u001b[0m\u001b[0mfill_exec_result\u001b[0m\u001b[0;34m(\u001b[0m\u001b[0mresult\u001b[0m\u001b[0;34m)\u001b[0m\u001b[0;34m\u001b[0m\u001b[0m\n",
      "\u001b[0;32m/Users/jdc/anaconda/lib/python3.5/site-packages/IPython/core/displayhook.py\u001b[0m in \u001b[0;36mcompute_format_data\u001b[0;34m(self, result)\u001b[0m\n\u001b[1;32m    150\u001b[0m \u001b[0;34m\u001b[0m\u001b[0m\n\u001b[1;32m    151\u001b[0m         \"\"\"\n\u001b[0;32m--> 152\u001b[0;31m         \u001b[0;32mreturn\u001b[0m \u001b[0mself\u001b[0m\u001b[0;34m.\u001b[0m\u001b[0mshell\u001b[0m\u001b[0;34m.\u001b[0m\u001b[0mdisplay_formatter\u001b[0m\u001b[0;34m.\u001b[0m\u001b[0mformat\u001b[0m\u001b[0;34m(\u001b[0m\u001b[0mresult\u001b[0m\u001b[0;34m)\u001b[0m\u001b[0;34m\u001b[0m\u001b[0m\n\u001b[0m\u001b[1;32m    153\u001b[0m \u001b[0;34m\u001b[0m\u001b[0m\n\u001b[1;32m    154\u001b[0m     \u001b[0;32mdef\u001b[0m \u001b[0mwrite_format_data\u001b[0m\u001b[0;34m(\u001b[0m\u001b[0mself\u001b[0m\u001b[0;34m,\u001b[0m \u001b[0mformat_dict\u001b[0m\u001b[0;34m,\u001b[0m \u001b[0mmd_dict\u001b[0m\u001b[0;34m=\u001b[0m\u001b[0;32mNone\u001b[0m\u001b[0;34m)\u001b[0m\u001b[0;34m:\u001b[0m\u001b[0;34m\u001b[0m\u001b[0m\n",
      "\u001b[0;32m/Users/jdc/anaconda/lib/python3.5/site-packages/IPython/core/formatters.py\u001b[0m in \u001b[0;36mformat\u001b[0;34m(self, obj, include, exclude)\u001b[0m\n\u001b[1;32m    161\u001b[0m         \u001b[0mmd_dict\u001b[0m \u001b[0;34m=\u001b[0m \u001b[0;34m{\u001b[0m\u001b[0;34m}\u001b[0m\u001b[0;34m\u001b[0m\u001b[0m\n\u001b[1;32m    162\u001b[0m \u001b[0;34m\u001b[0m\u001b[0m\n\u001b[0;32m--> 163\u001b[0;31m         \u001b[0;32mif\u001b[0m \u001b[0mself\u001b[0m\u001b[0;34m.\u001b[0m\u001b[0mipython_display_formatter\u001b[0m\u001b[0;34m(\u001b[0m\u001b[0mobj\u001b[0m\u001b[0;34m)\u001b[0m\u001b[0;34m:\u001b[0m\u001b[0;34m\u001b[0m\u001b[0m\n\u001b[0m\u001b[1;32m    164\u001b[0m             \u001b[0;31m# object handled itself, don't proceed\u001b[0m\u001b[0;34m\u001b[0m\u001b[0;34m\u001b[0m\u001b[0m\n\u001b[1;32m    165\u001b[0m             \u001b[0;32mreturn\u001b[0m \u001b[0;34m{\u001b[0m\u001b[0;34m}\u001b[0m\u001b[0;34m,\u001b[0m \u001b[0;34m{\u001b[0m\u001b[0;34m}\u001b[0m\u001b[0;34m\u001b[0m\u001b[0m\n",
      "\u001b[0;32m/Users/jdc/anaconda/lib/python3.5/site-packages/traitlets/traitlets.py\u001b[0m in \u001b[0;36m__get__\u001b[0;34m(self, obj, cls)\u001b[0m\n\u001b[1;32m    527\u001b[0m             \u001b[0;32mreturn\u001b[0m \u001b[0mself\u001b[0m\u001b[0;34m\u001b[0m\u001b[0m\n\u001b[1;32m    528\u001b[0m         \u001b[0;32melse\u001b[0m\u001b[0;34m:\u001b[0m\u001b[0;34m\u001b[0m\u001b[0m\n\u001b[0;32m--> 529\u001b[0;31m             \u001b[0;32mreturn\u001b[0m \u001b[0mself\u001b[0m\u001b[0;34m.\u001b[0m\u001b[0mget\u001b[0m\u001b[0;34m(\u001b[0m\u001b[0mobj\u001b[0m\u001b[0;34m,\u001b[0m \u001b[0mcls\u001b[0m\u001b[0;34m)\u001b[0m\u001b[0;34m\u001b[0m\u001b[0m\n\u001b[0m\u001b[1;32m    530\u001b[0m \u001b[0;34m\u001b[0m\u001b[0m\n\u001b[1;32m    531\u001b[0m     \u001b[0;32mdef\u001b[0m \u001b[0mset\u001b[0m\u001b[0;34m(\u001b[0m\u001b[0mself\u001b[0m\u001b[0;34m,\u001b[0m \u001b[0mobj\u001b[0m\u001b[0;34m,\u001b[0m \u001b[0mvalue\u001b[0m\u001b[0;34m)\u001b[0m\u001b[0;34m:\u001b[0m\u001b[0;34m\u001b[0m\u001b[0m\n",
      "\u001b[0;32m/Users/jdc/anaconda/lib/python3.5/site-packages/traitlets/traitlets.py\u001b[0m in \u001b[0;36mget\u001b[0;34m(self, obj, cls)\u001b[0m\n\u001b[1;32m    502\u001b[0m         \u001b[0;32mexcept\u001b[0m \u001b[0mKeyError\u001b[0m\u001b[0;34m:\u001b[0m\u001b[0;34m\u001b[0m\u001b[0m\n\u001b[1;32m    503\u001b[0m             \u001b[0;31m# Check for a dynamic initializer.\u001b[0m\u001b[0;34m\u001b[0m\u001b[0;34m\u001b[0m\u001b[0m\n\u001b[0;32m--> 504\u001b[0;31m             \u001b[0mdynamic_default\u001b[0m \u001b[0;34m=\u001b[0m \u001b[0mself\u001b[0m\u001b[0;34m.\u001b[0m\u001b[0m_dynamic_default_callable\u001b[0m\u001b[0;34m(\u001b[0m\u001b[0mobj\u001b[0m\u001b[0;34m)\u001b[0m\u001b[0;34m\u001b[0m\u001b[0m\n\u001b[0m\u001b[1;32m    505\u001b[0m             \u001b[0;32mif\u001b[0m \u001b[0mdynamic_default\u001b[0m \u001b[0;32mis\u001b[0m \u001b[0;32mNone\u001b[0m\u001b[0;34m:\u001b[0m\u001b[0;34m\u001b[0m\u001b[0m\n\u001b[1;32m    506\u001b[0m                 raise TraitError(\"No default value found for %s trait of %r\"\n",
      "\u001b[0;32m/Users/jdc/anaconda/lib/python3.5/site-packages/traitlets/traitlets.py\u001b[0m in \u001b[0;36m_dynamic_default_callable\u001b[0;34m(self, obj)\u001b[0m\n\u001b[1;32m    481\u001b[0m                 \u001b[0;32mif\u001b[0m \u001b[0mmeth_name\u001b[0m \u001b[0;32min\u001b[0m \u001b[0mcls\u001b[0m\u001b[0;34m.\u001b[0m\u001b[0m__dict__\u001b[0m\u001b[0;34m:\u001b[0m\u001b[0;34m\u001b[0m\u001b[0m\n\u001b[1;32m    482\u001b[0m                     \u001b[0mmethod\u001b[0m \u001b[0;34m=\u001b[0m \u001b[0mgetattr\u001b[0m\u001b[0;34m(\u001b[0m\u001b[0mobj\u001b[0m\u001b[0;34m,\u001b[0m \u001b[0mmeth_name\u001b[0m\u001b[0;34m)\u001b[0m\u001b[0;34m\u001b[0m\u001b[0m\n\u001b[0;32m--> 483\u001b[0;31m                     \u001b[0m_deprecated_method\u001b[0m\u001b[0;34m(\u001b[0m\u001b[0mmethod\u001b[0m\u001b[0;34m,\u001b[0m \u001b[0mcls\u001b[0m\u001b[0;34m,\u001b[0m \u001b[0mmeth_name\u001b[0m\u001b[0;34m,\u001b[0m \u001b[0;34m\"use @default decorator instead.\"\u001b[0m\u001b[0;34m)\u001b[0m\u001b[0;34m\u001b[0m\u001b[0m\n\u001b[0m\u001b[1;32m    484\u001b[0m                     \u001b[0;32mreturn\u001b[0m \u001b[0mmethod\u001b[0m\u001b[0;34m\u001b[0m\u001b[0m\n\u001b[1;32m    485\u001b[0m \u001b[0;34m\u001b[0m\u001b[0m\n",
      "\u001b[0;32m/Users/jdc/anaconda/lib/python3.5/site-packages/traitlets/traitlets.py\u001b[0m in \u001b[0;36m_deprecated_method\u001b[0;34m(method, cls, method_name, msg)\u001b[0m\n\u001b[1;32m    112\u001b[0m         \u001b[0mwarn\u001b[0m\u001b[0;34m(\u001b[0m\u001b[0mwarn_msg\u001b[0m \u001b[0;34m+\u001b[0m \u001b[0;34m(\u001b[0m\u001b[0;34m'\\n(inspection failed) %s'\u001b[0m \u001b[0;34m%\u001b[0m \u001b[0me\u001b[0m\u001b[0;34m)\u001b[0m\u001b[0;34m,\u001b[0m \u001b[0mDeprecationWarning\u001b[0m\u001b[0;34m)\u001b[0m\u001b[0;34m\u001b[0m\u001b[0m\n\u001b[1;32m    113\u001b[0m     \u001b[0;32melse\u001b[0m\u001b[0;34m:\u001b[0m\u001b[0;34m\u001b[0m\u001b[0m\n\u001b[0;32m--> 114\u001b[0;31m         \u001b[0mwarn_explicit\u001b[0m\u001b[0;34m(\u001b[0m\u001b[0mwarn_msg\u001b[0m\u001b[0;34m,\u001b[0m \u001b[0mDeprecationWarning\u001b[0m\u001b[0;34m,\u001b[0m \u001b[0mfname\u001b[0m\u001b[0;34m,\u001b[0m \u001b[0mlineno\u001b[0m\u001b[0;34m)\u001b[0m\u001b[0;34m\u001b[0m\u001b[0m\n\u001b[0m\u001b[1;32m    115\u001b[0m \u001b[0;34m\u001b[0m\u001b[0m\n\u001b[1;32m    116\u001b[0m \u001b[0;32mdef\u001b[0m \u001b[0mclass_of\u001b[0m\u001b[0;34m(\u001b[0m\u001b[0mobject\u001b[0m\u001b[0;34m)\u001b[0m\u001b[0;34m:\u001b[0m\u001b[0;34m\u001b[0m\u001b[0m\n",
      "\u001b[0;31mDeprecationWarning\u001b[0m: DisplayFormatter._ipython_display_formatter_default is deprecated: use @default decorator instead."
     ]
    }
   ],
>>>>>>> 64626ad6e08f3d8fbc2b0e8a88935c39fda05592
   "source": [
    "# Now we can run our process. Since our only mechanism is the 1-to-1 linear\n",
    "# mechanism, the process output should be the same as its input. Run this cell\n",
    "# a few times with different inputs to see how the output changes.\n",
    "linear_transfer_process.execute([4])"
   ]
  },
  {
   "cell_type": "code",
   "execution_count": null,
   "metadata": {
    "collapsed": false
   },
   "outputs": [],
   "source": [
    "# Now let's see if it runs properly over a wide range of values\n",
    "# Now we will want to get rid of some of that output. Again, we \n",
    "# need to set this for both our mechanism and our process\n",
    "\n",
    "linear_transfer_mechanism.prefs.verbosePref = False\n",
    "linear_transfer_mechanism.prefs.reportOutputPref = False\n",
    "linear_transfer_process.prefs.verbosePref = False\n",
    "linear_transfer_process.prefs.reportOutputPref = False"
   ]
  },
  {
   "cell_type": "code",
   "execution_count": null,
   "metadata": {
    "collapsed": false
   },
   "outputs": [],
   "source": [
    "# Finally, let's see the output of our process over a range of values using pyplot\n",
    "xVals = np.linspace(-3, 3, num=51)\n",
    "yVals = np.zeros((51,))\n",
    "for i in range(xVals.shape[0]):\n",
    "    yVals[i] = linear_transfer_process.execute([xVals[i]])[0]\n",
    "    # Progress bar\n",
    "    print(\"-\", end=\"\")\n",
    "plt.plot(xVals, yVals)\n",
    "plt.show()"
   ]
  },
  {
   "cell_type": "code",
   "execution_count": null,
   "metadata": {
    "collapsed": false
   },
   "outputs": [],
   "source": [
    "# Now let's put it all together and make a new logistic transfer process\n",
    "\n",
    "# Create the mechanism\n",
    "logistic_transfer_mechanism = Transfer(function=Logistic(gain = 1, bias = 0))\n",
    "\n",
    "# Package into a process\n",
    "logistic_transfer_process = process(pathway = [logistic_transfer_mechanism])\n",
    "\n",
    "# Iterate and plot\n",
    "xVals = np.linspace(-3, 3, num=51)\n",
    "yVals = np.zeros((51,))\n",
    "for i in range(xVals.shape[0]):\n",
    "    yVals[i] = logistic_transfer_process.execute([xVals[i]])[0]\n",
    "    # Progress bar\n",
    "    print(\"-\", end=\"\")\n",
    "plt.plot(xVals, yVals)\n",
    "plt.show()"
   ]
  },
  {
   "cell_type": "code",
   "execution_count": null,
   "metadata": {
    "collapsed": false
   },
   "outputs": [],
   "source": [
    "# So far, all of our mechanisms have executed entirely on a single phase.\n",
    "# Now we will make transfer units that integrate their input over time\n",
    "# to work towards building elementary neural networks\n",
    "\n",
    "linear_integrating_mechanism = Transfer(function=Linear(), noise = 0, rate = .1, time_scale = TimeScale.REAL_TIME)"
   ]
  },
  {
   "cell_type": "code",
   "execution_count": null,
   "metadata": {
    "collapsed": false
   },
   "outputs": [],
   "source": [
    "linear_integrating_process = process(pathway = [linear_integrating_mechanism])"
   ]
  },
  {
   "cell_type": "code",
   "execution_count": null,
   "metadata": {
    "collapsed": false
   },
   "outputs": [],
   "source": [
    "time_steps = np.linspace(0, 50, num=51)\n",
    "yVals = np.zeros((51,))\n",
    "for i in range(1, 51):\n",
    "    yVals[i] = linear_integrating_process.execute([1])[0]\n",
    "    # Progress bar\n",
    "    print(\"-\", end=\"\")\n",
    "plt.plot(time_steps, yVals)\n",
    "plt.show()\n",
    "\n",
<<<<<<< HEAD
    "mapping_matrix = np.asarray([[1]])\n",
    "unit_mapping_projection = Mapping(sender = linear_input_unit, receiver = logistic_output_unit, matrix = mapping_matrix)\n",
    "mini_connected_network = process(configuration = [linear_input_unit, unit_mapping_projection, logistic_output_unit])\n",
    "\n",
    "# Iterate and plot\n",
    "xVals = np.linspace(-3, 3, num=51)\n",
    "yVals = np.zeros((51,))\n",
    "for i in range(xVals.shape[0]):\n",
    "    yVals[i] = mini_connected_network.execute([xVals[i]])[0]\n",
    "    # Progress bar\n",
    "    print(\"-\", end=\"\")\n",
    "plt.plot(xVals, yVals)\n",
    "plt.show()"
   ]
  },
  {
   "cell_type": "markdown",
   "metadata": {},
   "source": [
    "This time we specified our mapping matrix (which is a 2-D numpy array) then explicitly initialized a Mapping projection with that matrix as well as its input and output mechanisms. Note: because we specified the input and output mechanisms in the projection itself, we didn't need to include it in the process configuration as it will infer its position from those parameters. Ultimately, however, this does the exact same thing as our keyword method above which is far less verbose for this common use case."
   ]
  },
  {
   "cell_type": "markdown",
   "metadata": {},
   "source": [
    "### Systems\n",
    "\n",
    "The highest level at which models are considered in PsyNeuLink is that of the *System*. A system is composed of one or more processes which can then run in unison. This allows system graphs to be more complex than the strictly linear ones of processes. Our first system will consist of two input nodes that converge on a single output mechanism. We will be modelling competition between color naming and word reading in the stroop task."
   ]
  },
  {
   "cell_type": "code",
   "execution_count": null,
   "metadata": {
    "collapsed": false
   },
   "outputs": [],
   "source": [
    "colors = Transfer(default_input_value=[0,0], function=Linear, name=\"Colors\")\n",
    "words = Transfer(default_input_value=[0,0], function=Linear(slope = 1.5), name=\"Words\")\n",
    "response = Transfer(default_input_value=[0,0], function=Logistic, name=\"Response\")\n",
    "\n",
    "color_naming_process = process(configuration = [colors, IDENTITY_MATRIX, response], name = \"Color Naming\")\n",
    "word_reading_process = process(configuration = [words, IDENTITY_MATRIX, response], name = \"Word Reading\")\n",
    "\n",
    "mini_stroop = system(processes=[color_naming_process, word_reading_process], name='Stroop Model')\n",
    "\n",
    "# Note: Once again, make sure you do not run this cell multiple times. This would create multiple\n",
    "# processes and systems that share the same variable name in the PsyNeuLink registry causing\n",
    "# unexpected behavior."
   ]
  },
  {
   "cell_type": "markdown",
   "metadata": {},
   "source": [
    "The order of processes in the system initialization is important here as it is the order we will feed inputs to the system."
   ]
  },
  {
   "cell_type": "code",
   "execution_count": null,
   "metadata": {
    "collapsed": false
   },
   "outputs": [],
   "source": [
    "mini_stroop.execute([[1, 0], [0, 1]]) #What is this additional output?"
   ]
  },
  {
   "cell_type": "code",
   "execution_count": null,
   "metadata": {
    "collapsed": false
   },
   "outputs": [],
   "source": [
    "mini_stroop.execute([[0, 1], [0, 1]])"
   ]
  },
  {
   "cell_type": "markdown",
   "metadata": {},
   "source": [
    "As modeled, we see that word reading beats out color naming when there is conflict, but congruent stimuli elicit an even stronger response."
   ]
  },
  {
   "cell_type": "markdown",
   "metadata": {},
   "source": [
    "### Pre-trained Complete Stroop Model\n",
    "\n",
    "Let's practice using systems by recreating the more complex stroop model from the Cohen et al (1990). Later we will train the network ourselves, but for now we will explicitly model the learned weights."
   ]
  },
  {
   "cell_type": "code",
   "execution_count": null,
   "metadata": {
    "collapsed": false
   },
   "outputs": [],
   "source": [
    "ink_color = Transfer(default_input_value = [0, 0], function = Linear())\n",
    "word = Transfer(default_input_value = [0, 0], function = Linear())\n",
    "task_demand = Transfer(default_input_value = [0, 0], function = Linear())\n",
    "\n",
    "hidden_layer = Transfer(default_input_value = [0, 0, 0, 0], function = Logistic(bias = -4))\n",
    "\n",
    "output_layer = Transfer(default_input_value = [0, 0], function = Linear())\n",
    "\n",
    "color_mapping_matrix = np.asarray([[2.2, -2.2, 0, 0], [-2.2, 2.2, 0, 0]])\n",
    "color_projection = Mapping(sender = ink_color, receiver = hidden_layer, matrix = color_mapping_matrix)\n",
    "word_mapping_matrix = np.asarray([[0, 0, 2.6, -2.6], [0, 0, -2.6, 2.6]])\n",
    "word_projection = Mapping(sender = word, receiver = hidden_layer, matrix = word_mapping_matrix)\n",
    "task_mapping_matrix = np.asarray([[4, 4, 0, 0], [0, 0, 4, 4]])\n",
    "task_projection = Mapping(sender = task_demand, receiver = hidden_layer, matrix = task_mapping_matrix)\n",
    "output_mapping_matrix = np.asarray([[1.3, -1.3], [-1.3, 1.3], [2.5, -2.5], [-2.5, 2.5]])\n",
    "Mapping(sender = hidden_layer, receiver = output_layer, matrix = output_mapping_matrix)\n",
    "\n",
    "color_naming_process = process(configuration = [ink_color, hidden_layer, output_layer])\n",
    "word_reading_process = process(configuration = [word, hidden_layer, output_layer])\n",
    "task_process = process(configuration = [task_demand, hidden_layer, output_layer])\n",
    "\n",
    "stroop_model = system(processes = [color_naming_process, word_reading_process, task_process])\n",
    "\n",
    "ink_color.reportOutputPref = True\n",
    "word.reportOutputPref = True\n",
    "task_demand.reportOutputPref = True\n",
    "hidden_layer.reportOutputPref = True\n",
    "\n",
    "# Note: Once again, make sure you do not run this cell multiple times. This would create multiple\n",
    "# processes and systems that share the same variable name in the PsyNeuLink registry causing\n",
    "# unexpected behavior."
   ]
  },
  {
   "cell_type": "code",
   "execution_count": null,
   "metadata": {
    "collapsed": false
   },
   "outputs": [],
   "source": [
    "stroop_model.execute([[1, 0], [1, 0], [0, 1]])"
=======
    "# Notice that this time activation is accumulating slowly over time\n",
    "# rather than all at once."
>>>>>>> 64626ad6e08f3d8fbc2b0e8a88935c39fda05592
   ]
  },
  {
   "cell_type": "code",
   "execution_count": null,
   "metadata": {
    "collapsed": false
   },
   "outputs": [],
   "source": [
    "# The final step before we make our first real model is to connect\n",
    "# mechanisms together using projections. To start simple, we will\n",
    "# connect two linear transfer mechanisms in series.\n",
    "linear_input_unit = Transfer(function = Linear(slope = 2, intercept = 2))\n",
    "linear_output_unit = Transfer(function = Linear(slope = 5, intercept = -4))\n",
    "small_linear_process = process(pathway = [linear_input_unit, IDENTITY_MATRIX, linear_output_unit])\n",
    "\n",
    "# IDENTITY_MATRIX is a keyword that provides a projection from the unit preceding\n",
    "# it to the unit following that creates a one-to-one output to input projection\n",
    "# between the two. Other useful projection keywords are..."
   ]
  },
  {
   "cell_type": "code",
   "execution_count": null,
   "metadata": {
    "collapsed": false
   },
   "outputs": [],
   "source": [
    "# Make sure we see the desired output\n",
    "small_linear_process.execute([0])"
   ]
  },
  {
   "cell_type": "code",
   "execution_count": null,
   "metadata": {
    "collapsed": false
   },
   "outputs": [],
   "source": [
    "# Now let's make our projection definition a bit more explicit.\n",
    "linear_input_unit = Transfer(function = Linear(slope = 2, intercept = 2))\n",
    "linear_output_unit = Transfer(function = Linear(slope = 5, intercept = -4))\n",
    "\n",
    "# This time we create a Mapping projection which takes an output state and sends\n",
    "# its value multiplied by a given matrix to an input state (instead of explicitly\n",
    "# calling the output and input states, we here just provide the sending and receiving\n",
    "# mechanisms for simplicity).\n",
    "unit_mapping_projection = Mapping(sender = linear_input_unit, receiver = linear_output_unit, matrix = np.asarray([[1]]))\n",
    "small_linear_process = process(pathway = [linear_input_unit, unit_mapping_projection, linear_output_unit])"
   ]
  },
  {
   "cell_type": "code",
   "execution_count": null,
   "metadata": {
    "collapsed": false
   },
   "outputs": [],
   "source": [
    "# Change the value in the projection matrix above and make sure the output\n",
    "# matches your expectations\n",
    "print(small_linear_process.execute([0]))\n",
    "xVals = np.linspace(-3, 3, num=51)\n",
    "yVals = np.zeros((51,))\n",
    "for i in range(xVals.shape[0]):\n",
    "    yVals[i] = small_linear_process.execute([xVals[i]])[0]\n",
    "    # Progress bar\n",
    "    print(\"-\", end=\"\")\n",
    "plt.plot(xVals, yVals)\n",
    "plt.show()"
   ]
  },
  {
   "cell_type": "code",
   "execution_count": null,
   "metadata": {
    "collapsed": false
   },
   "outputs": [],
   "source": [
    "#\n",
    "linear_input_unit = Transfer(function = Linear(), noise = 0, rate = 0.1, time_scale = TimeScale.REAL_TIME)\n",
    "logistic_input_unit = Transfer(function = Logistic(), noise = 0, rate = 0.1, time_scale = TimeScale.REAL_TIME)\n",
    "linear_output_unit = Transfer(function = Linear(), noise = 0, rate = 0.1, time_scale = TimeScale.REAL_TIME)\n",
    "\n",
    "projection_1 = Mapping(sender = linear_input_unit, receiver = linear_output_unit, matrix = np.asarray([[1]]))\n",
    "projection_2 = Mapping(sender = logistic_input_unit, receiver = linear_output_unit, matrix = np.asarray([[-1]]))\n",
    "\n",
    "small_dynamic_process = process(pathway = [linear_input_unit, logistic_input_unit, linear_output_unit])\n",
    "\n",
    "time_steps = np.linspace(0, 50, num=51)\n",
    "yVals = np.zeros((51,))\n",
    "for i in range(1, 51):\n",
    "    yVals[i] = small_dynamic_process.execute([1, 1])[0]\n",
    "    # Progress bar\n",
    "    print(\"-\", end=\"\")\n",
    "plt.plot(time_steps, yVals)\n",
    "plt.show()"
   ]
  },
  {
   "cell_type": "code",
   "execution_count": null,
   "metadata": {
    "collapsed": true
   },
   "outputs": [],
   "source": []
  }
 ],
 "metadata": {
  "kernelspec": {
   "display_name": "Python 3",
   "language": "python",
   "name": "python3"
  },
  "language_info": {
   "codemirror_mode": {
    "name": "ipython",
    "version": 3
   },
   "file_extension": ".py",
   "mimetype": "text/x-python",
   "name": "python",
   "nbconvert_exporter": "python",
   "pygments_lexer": "ipython3",
   "version": "3.5.1"
  }
 },
 "nbformat": 4,
 "nbformat_minor": 0
}
