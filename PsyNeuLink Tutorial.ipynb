{
 "cells": [
  {
   "cell_type": "code",
   "execution_count": 1,
   "metadata": {
    "collapsed": true
   },
   "outputs": [],
   "source": [
    "##############################################################################\n",
    "# What is PsyNeuLink?\n",
    "#\n",
    "# PsyNeuLink is an integrated language and toolkit for creating\n",
    "# cognitive models. It decreases the overhead required for cognitive\n",
    "# modeling by providing standard building blocks (DDMS, Neural Nets, etc.)\n",
    "# and the means to connect them together in a single environment.\n",
    "# PsyNeuLink is designed to make the user think about computation\n",
    "# in a \"mind/brain-like\" way while imposing minimal constraint\n",
    "# on the type of models that can be implemented.\n",
    "##############################################################################"
   ]
  },
  {
   "cell_type": "code",
   "execution_count": 2,
   "metadata": {
    "collapsed": true
   },
   "outputs": [],
   "source": [
    "##############################################################################\n",
    "# How do I get PsyNeuLink?\n",
    "# \n",
    "# Go to https://github.com/PrincetonUniversity/PsyNeuLink\n",
    "# Press the green \"Clone or download\" button, then \"Download ZIP\"\n",
    "# Unzip in the directory of your choice.\n",
    "#\n",
    "# Right now, you need explicit permission to download PsyNeuLink,\n",
    "# so if you can't follow these directions, this is likely the reason.\n",
    "#\n",
    "# Note to Jon: Should I teach them with these directions or should I\n",
    "# teach them to use git clone?\n",
    "#\n",
    "# Once you have downloaded the repository, move this file to the main PsyNeuLink\n",
    "# folder and restart the kernel from the jupyter toolbar.\n",
    "##############################################################################"
   ]
  },
  {
   "cell_type": "code",
   "execution_count": 3,
   "metadata": {
    "collapsed": false
   },
   "outputs": [
    {
     "name": "stdout",
     "output_type": "stream",
     "text": [
      "Requirement already satisfied (use --upgrade to upgrade): toposort in /usr/local/lib/python3.5/site-packages\n",
      "Requirement already satisfied (use --upgrade to upgrade): mpi4py in /usr/local/lib/python3.5/site-packages\n"
     ]
    }
   ],
   "source": [
    "# Run this cell to download required packages.\n",
    "! pip3 install toposort\n",
    "! pip3 install mpi4py"
   ]
  },
  {
   "cell_type": "code",
   "execution_count": 4,
   "metadata": {
    "collapsed": false
   },
   "outputs": [],
   "source": [
    "##############################################################################\n",
    "# What will we do in this tutorial?\n",
    "#\n",
    "# This tutorial is meant to get you accustomed to the basic structure of PsyNeuLink\n",
    "# and be able to construct basic models. Starting with a simple 1-to-1 transformation,\n",
    "# we will build up to making a Stroop model and reinforcement learning agent\n",
    "##############################################################################"
   ]
  },
  {
   "cell_type": "code",
   "execution_count": 5,
   "metadata": {
    "collapsed": false
   },
   "outputs": [],
   "source": [
    "# First we need to import the necessary packages. Right now, these lines only work from\n",
    "# files in this directory, but eventually PsyNeuLink will be an installable python package.\n",
    "\n",
    "# This first package contains the basic methods to create and handle Processes,\n",
    "# which we will discuss later.\n",
    "from PsyNeuLink.Functions.Process import *\n",
    "\n",
    "# The second imports a specific type of mechansim, a Transfer mechanism, that we will be\n",
    "# using in this tutorial.\n",
    "from PsyNeuLink.Functions.Mechanisms.ProcessingMechanisms.Transfer import Transfer\n",
    "from PsyNeuLink.Functions.Utility import Linear"
   ]
  },
  {
   "cell_type": "code",
   "execution_count": 6,
   "metadata": {
    "collapsed": false
   },
   "outputs": [],
   "source": [
    "# Now we import tools for plotting so we can see what our mechanisms do.\n",
    "import numpy as np\n",
    "import matplotlib.pyplot as plt\n",
    "% matplotlib inline"
   ]
  },
  {
   "cell_type": "code",
   "execution_count": 7,
   "metadata": {
    "collapsed": false
   },
   "outputs": [
    {
     "name": "stdout",
     "output_type": "stream",
     "text": [
      "Requirement already satisfied (use --upgrade to upgrade): numpy in /usr/local/lib/python3.5/site-packages\n",
      "Requirement already satisfied (use --upgrade to upgrade): matplotlib in /usr/local/lib/python3.5/site-packages\n",
      "Requirement already satisfied (use --upgrade to upgrade): python-dateutil in /usr/local/lib/python3.5/site-packages (from matplotlib)\n",
      "Requirement already satisfied (use --upgrade to upgrade): numpy>=1.6 in /usr/local/lib/python3.5/site-packages (from matplotlib)\n",
      "Requirement already satisfied (use --upgrade to upgrade): pyparsing!=2.0.0,!=2.0.4,!=2.1.2,>=1.5.6 in /usr/local/lib/python3.5/site-packages (from matplotlib)\n",
      "Requirement already satisfied (use --upgrade to upgrade): cycler in /usr/local/lib/python3.5/site-packages (from matplotlib)\n",
      "Requirement already satisfied (use --upgrade to upgrade): pytz in /usr/local/lib/python3.5/site-packages (from matplotlib)\n",
      "Requirement already satisfied (use --upgrade to upgrade): six>=1.5 in /usr/local/lib/python3.5/site-packages (from python-dateutil->matplotlib)\n"
     ]
    }
   ],
   "source": [
    "# If this doesn't work, execute this cell to download the packages, then rerun the import statements\n",
    "! pip3 install numpy\n",
    "! pip3 install matplotlib"
   ]
  },
  {
   "cell_type": "code",
   "execution_count": 8,
   "metadata": {
    "collapsed": false
   },
   "outputs": [],
   "source": [
    "# Now we are ready to create our first mechanism. A mechanism is the basic unit\n",
    "# of computation in PsyNeuLink. It takes inputs, runs them through a function, \n",
    "# then provides outputs. First we will make a Transfer mechanism that performs a\n",
    "# linear transformation on its input. In this case, we didn't actually need to\n",
    "# specify the slope and intercept as the mechanism will default to reasonable\n",
    "# values (in this case, 1 and 0 respectively).\n",
    "\n",
    "linear_transfer_mechanism = Transfer(function=Linear(slope = 1, intercept = 0))"
   ]
  },
  {
   "cell_type": "code",
   "execution_count": null,
   "metadata": {
    "collapsed": false
   },
   "outputs": [],
   "source": [
    "# The \"Transfer\" function creates a new transfer mechanism.\n",
    "linear_transfer_mechanism = Transfer(name = mechanism_name, params = mechanism_params)"
   ]
  },
  {
   "cell_type": "code",
   "execution_count": 9,
   "metadata": {
    "collapsed": false
   },
   "outputs": [
    {
     "name": "stdout",
     "output_type": "stream",
     "text": [
      "\n",
      "Process-1 initialized with:\n",
      "- configuration: ['Transfer-1']\n"
     ]
    }
   ],
   "source": [
    "# Now we have to put our mechanism in a process. In PsyNeuLink, a process is\n",
    "# a collection of mechanisms and projections (which we will learn about later)\n",
    "# connected in a certain configuration to be executed.\n",
    "# Since we only have one mechanism, the configuration list has only one element.\n",
    "# We will leave the other parameters to default.\n",
    "process_params = {CONFIGURATION:[linear_transfer_mechanism]}\n",
    "\n",
    "linear_transfer_process = Process_Base(params = process_params)"
   ]
  },
  {
   "cell_type": "code",
   "execution_count": 10,
   "metadata": {
    "collapsed": false
   },
   "outputs": [
    {
     "name": "stdout",
     "output_type": "stream",
     "text": [
      "\n",
      "\n",
      "****************************************\n",
      "\n",
      "Process-1 executing with:\n",
      "- configuration: ['Transfer-1']\n",
      "- input: 1\n",
      "\n",
      "Transfer-1 mechanism:\n",
      "- input:  1.\n",
      "- params:\n",
      "    length: 1 \n",
      "    input:  1. \n",
      "    value range:  \n",
      "- output: \n",
      "    mean output: 1.0 \n",
      "    output variance: 0.0\n",
      "Output:   1.\n",
      "\n",
      "Transfer-1 Mechanism executed:\n",
      "- output:  1.\n",
      "\n",
      "Process-1 executed Transfer-1:\n",
      "- output:  1.\n",
      "\n",
      "--------------------------------------\n",
      "\n",
      "Process-1 completed:\n",
      "- output:  1.\n",
      "\n",
      "*********************************************\n",
      "\n"
     ]
    },
    {
     "data": {
      "text/plain": [
       "array([ 1.])"
      ]
     },
     "execution_count": 10,
     "metadata": {},
     "output_type": "execute_result"
    }
   ],
   "source": [
    "# Now we can run our process. Since our only mechanism is the 1-to-1 linear\n",
    "# mechanism, the process output should be the same as its input.\n",
    "linear_transfer_process.execute([1])"
   ]
  },
  {
   "cell_type": "code",
   "execution_count": 11,
   "metadata": {
    "collapsed": false
   },
   "outputs": [],
   "source": [
    "# Now let's see if it runs properly over a wide range of values\n",
    "# First we want to get rid of some of that output. This is done by setting\n",
    "# up a preference set and passing it to our mechanism. We need to set this both for\n",
    "# our mechanism(s) and our process(es)\n",
    "\n",
    "mechanism_prefs = FunctionPreferenceSet(\n",
    "                   prefs = {\n",
    "                    kpVerbosePref: PreferenceEntry(False,PreferenceLevel.INSTANCE),\n",
    "                    kpReportOutputPref: PreferenceEntry(False,PreferenceLevel.INSTANCE)})\n",
    "linear_transfer_mechanism.prefs = mechanism_prefs\n",
    "process_prefs = FunctionPreferenceSet(\n",
    "                 prefs = {\n",
    "                  kpVerbosePref: PreferenceEntry(False,PreferenceLevel.INSTANCE),\n",
    "                  kpReportOutputPref: PreferenceEntry(False,PreferenceLevel.INSTANCE)})\n",
    "linear_transfer_process.prefs = process_prefs\n",
    "# Notice that while process and mechanism params are passed in a dictionary, prefs are\n",
    "# packaged in a FunctionPreferenceSet object"
   ]
  },
  {
   "cell_type": "code",
   "execution_count": 12,
   "metadata": {
    "collapsed": false
   },
   "outputs": [
    {
     "data": {
      "text/plain": [
       "array([ 2.])"
      ]
     },
     "execution_count": 12,
     "metadata": {},
     "output_type": "execute_result"
    }
   ],
   "source": [
    "### EXERCISE 1 ###\n",
    "# Let's check to make sure our preferences suppress the output.\n",
    "# Type your own code to execute the process with an input of 2\n",
    "\n",
    "linear_transfer_process.execute([2])"
   ]
  },
  {
   "cell_type": "code",
   "execution_count": 13,
   "metadata": {
    "collapsed": false
   },
   "outputs": [
    {
     "name": "stdout",
     "output_type": "stream",
     "text": [
      "---------------------------------------------------"
     ]
    },
    {
     "data": {
      "image/png": "[encoded data removed]",
      "text/plain": [
       "<matplotlib.figure.Figure at 0x10f3b5ba8>"
      ]
     },
     "metadata": {},
     "output_type": "display_data"
    }
   ],
   "source": [
    "# Finally, let's see the output of our process over a range of values using pyplot\n",
    "xVals = np.linspace(-3, 3, num=51)\n",
    "yVals = np.zeros((51,))\n",
    "for i in range(xVals.shape[0]):\n",
    "    # Progress bar\n",
    "    print(\"-\", end=\"\")\n",
    "    yVals[i] = linear_transfer_process.execute([xVals[i]])[0]\n",
    "plt.plot(xVals, yVals)\n",
    "plt.show()"
   ]
  },
  {
   "cell_type": "code",
   "execution_count": null,
   "metadata": {
    "collapsed": false
   },
   "outputs": [],
   "source": [
    "# Now let's put it all together and make a new logistic transfer process\n",
    "# Create the mechanism\n",
    "mechanism_name = \"Logistic Transfer Mechanism\"\n",
    "mechanism_params = {FUNCTION:Logistic}\n",
    "logistic_transfer_mechanism = Transfer(name = mechanism_name, params = mechanism_params)\n",
    "\n",
    "# Package into a process\n",
    "process_name = \"Logistic Transfer Process\"\n",
    "process_params = {CONFIGURATION:[logistic_transfer_mechanism]}\n",
    "logistic_transfer_process = Process_Base(name = process_name, params = process_params)\n",
    "\n",
    "# Test execution\n",
    "logistic_transfer_process.execute([1])\n",
    "\n",
    "# Silence output\n",
    "mechanism_prefs = FunctionPreferenceSet(\n",
    "                   prefs = {\n",
    "                    kpVerbosePref: PreferenceEntry(False,PreferenceLevel.INSTANCE),\n",
    "                    kpReportOutputPref: PreferenceEntry(False,PreferenceLevel.INSTANCE)})\n",
    "logistic_transfer_mechanism.prefs = mechanism_prefs\n",
    "process_prefs = FunctionPreferenceSet(\n",
    "                 prefs = {\n",
    "                  kpVerbosePref: PreferenceEntry(False,PreferenceLevel.INSTANCE),\n",
    "                  kpReportOutputPref: PreferenceEntry(False,PreferenceLevel.INSTANCE)})\n",
    "logistic_transfer_process.prefs = process_prefs\n",
    "\n",
    "# Iterate and plot\n",
    "xVals = np.linspace(-3, 3, num=51)\n",
    "yVals = np.zeros((51,))\n",
    "for i in range(xVals.shape[0]):\n",
    "    # Progress bar\n",
    "    print(\"-\", end=\"\")\n",
    "    yVals[i] = logistic_transfer_process.execute([xVals[i]])[0]\n",
    "plt.plot(xVals, yVals)\n",
    "plt.show()"
   ]
  },
  {
   "cell_type": "code",
   "execution_count": null,
   "metadata": {
    "collapsed": false
   },
   "outputs": [],
   "source": [
    "logistic_transfer_mechanism.params"
   ]
  },
  {
   "cell_type": "code",
   "execution_count": null,
   "metadata": {
    "collapsed": true
   },
   "outputs": [],
   "source": []
  }
 ],
 "metadata": {
  "kernelspec": {
   "display_name": "Python 3",
   "language": "python",
   "name": "python3"
  },
  "language_info": {
   "codemirror_mode": {
    "name": "ipython",
    "version": 3
   },
   "file_extension": ".py",
   "mimetype": "text/x-python",
   "name": "python",
   "nbconvert_exporter": "python",
   "pygments_lexer": "ipython3",
   "version": "3.5.2"
  }
 },
 "nbformat": 4,
 "nbformat_minor": 0
}
