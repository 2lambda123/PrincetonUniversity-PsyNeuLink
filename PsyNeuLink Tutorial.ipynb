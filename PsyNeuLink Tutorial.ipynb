{
 "cells": [
  {
   "cell_type": "markdown",
   "metadata": {},
   "source": [
    "# Welcome to PsyNeuLink\n",
    "\n",
    "PsyNeuLink is an integrated language and toolkit for creating cognitive models. It decreases the overhead required for cognitive modeling by providing standard building blocks (DDMS, Neural Nets, etc.) and the means to connect them together in a single environment. PsyNeuLink is designed to make the user think about computation in a \"mind/brain-like\" way while imposing minimal constraint on the type of models that can be implemented."
   ]
  },
  {
   "cell_type": "markdown",
   "metadata": {
    "collapsed": true
   },
   "source": [
    "## How to get PsyNeuLink\n",
    "\n",
    "Right now, PsyNeuLink is in an alpha state and is not available through pypi/pip. Instead, you can clone the github repo [here](https://github.com/PrincetonUniversity/PsyNeuLink). For now, clone the devel branch rather than the master branch. You can switch branches by pressing the \"branch: master\" dropdown menu on the left side of the page. Then download the package with the green \"Clone or download\" button on the right side of the page and \"Download ZIP.\" Open the version of this Tutorial in the cloned folder before continuing on.\n",
    "\n",
    "Alternatively, if you are familiar with git, the directory can be cloned as usual through the terminal.\n",
    "Note: The repo is currently private, so if the link leads to a dead page, reach out to one of the developers to get acccess."
   ]
  },
  {
   "cell_type": "markdown",
   "metadata": {},
   "source": [
    "## Prerequisites\n",
    "\n",
    "PsyNeuLink is compatible with any version of python 3, but this tutorial requires a 3.5 installation with the latest versions of IPython, jupyter, and matplotlib installed."
   ]
  },
  {
   "cell_type": "markdown",
   "metadata": {
    "collapsed": true
   },
   "source": [
    "## Installation\n",
    "\n",
    "To install the package, navigate to the cloned directory in a terminal, switch to your preferred python3 environment, then run the command __\"pip install .\"__ (make sure to include the period and to use the appropriate pip/pip3 command for python 3.5). All prerequisite packages will be automatically added to your enviroment.\n",
    "\n",
    "For the curious, these are:\n",
    "* numpy\n",
    "* matplotlib\n",
    "* toposort\n",
    "* mpi4py\n",
    "* typecheck-decorator"
   ]
  },
  {
   "cell_type": "markdown",
   "metadata": {
    "collapsed": false
   },
   "source": [
    "\n",
    "## Tutorial Overview\n",
    "\n",
    "This tutorial is meant to get you accustomed to the structure of PsyNeuLink and be able to construct basic models. Starting with a simple 1-to-1 transformation, we will build up to making the Stroop model from Cohen et al. (1990). Let's get started!"
   ]
  },
  {
   "cell_type": "markdown",
   "metadata": {},
   "source": [
    "### Imports and file structure\n",
    "\n",
    "The following code block will import the necessary components for basic neural network models in PsyNeuLink. In particular, we need tools for handling *[systems](https://princetonuniversity.github.io/PsyNeuLink/System.html)*, *[processes](https://princetonuniversity.github.io/PsyNeuLink/Process.html)*, the set of specific *[mechanisms](https://princetonuniversity.github.io/PsyNeuLink/Mechanism.html)* that will make up our networks, and the *[projections](https://princetonuniversity.github.io/PsyNeuLink/Projection.html)* to connect them. We also import basic prerequisites and set up the jupyter environment for visualization."
   ]
  },
  {
   "cell_type": "code",
   "execution_count": null,
   "metadata": {},
   "outputs": [
    {
     "ename": "TypeError",
     "evalue": "Unions cannot be used with issubclass().",
     "traceback": [
      "\u001b[0;31m---------------------------------------------------------------------------\u001b[0m",
      "\u001b[0;31mTypeError\u001b[0m                                 Traceback (most recent call last)",
      "\u001b[0;32m<ipython-input-3-6d90d77ad560>\u001b[0m in \u001b[0;36m<module>\u001b[0;34m()\u001b[0m\n\u001b[0;32m----> 1\u001b[0;31m \u001b[0;32mfrom\u001b[0m \u001b[0mPsyNeuLink\u001b[0m\u001b[0;34m.\u001b[0m\u001b[0mComponents\u001b[0m\u001b[0;34m.\u001b[0m\u001b[0mSystem\u001b[0m \u001b[0;32mimport\u001b[0m \u001b[0msystem\u001b[0m\u001b[0;34m\u001b[0m\u001b[0m\n\u001b[0m\u001b[1;32m      2\u001b[0m \u001b[0;34m\u001b[0m\u001b[0m\n\u001b[1;32m      3\u001b[0m \u001b[0;32mfrom\u001b[0m \u001b[0mPsyNeuLink\u001b[0m\u001b[0;34m.\u001b[0m\u001b[0mComponents\u001b[0m\u001b[0;34m.\u001b[0m\u001b[0mProcess\u001b[0m \u001b[0;32mimport\u001b[0m \u001b[0;34m*\u001b[0m\u001b[0;34m\u001b[0m\u001b[0m\n\u001b[1;32m      4\u001b[0m \u001b[0;34m\u001b[0m\u001b[0m\n\u001b[1;32m      5\u001b[0m \u001b[0;32mfrom\u001b[0m \u001b[0mPsyNeuLink\u001b[0m\u001b[0;34m.\u001b[0m\u001b[0mComponents\u001b[0m\u001b[0;34m.\u001b[0m\u001b[0mMechanisms\u001b[0m\u001b[0;34m.\u001b[0m\u001b[0mProcessingMechanisms\u001b[0m\u001b[0;34m.\u001b[0m\u001b[0mTransferMechanism\u001b[0m \u001b[0;32mimport\u001b[0m \u001b[0mTransferMechanism\u001b[0m\u001b[0;34m\u001b[0m\u001b[0m\n",
      "\u001b[0;32m/Volumes/Transcend/Projects/PsyNeuLink/PsyNeuLink/__init__.py\u001b[0m in \u001b[0;36m<module>\u001b[0;34m()\u001b[0m\n\u001b[1;32m     10\u001b[0m \u001b[0;32mimport\u001b[0m \u001b[0mlogging\u001b[0m\u001b[0;34m\u001b[0m\u001b[0m\n\u001b[1;32m     11\u001b[0m \u001b[0;34m\u001b[0m\u001b[0m\n\u001b[0;32m---> 12\u001b[0;31m \u001b[0;32mfrom\u001b[0m \u001b[0mPsyNeuLink\u001b[0m\u001b[0;34m.\u001b[0m\u001b[0mComponents\u001b[0m\u001b[0;34m.\u001b[0m\u001b[0mFunctions\u001b[0m\u001b[0;34m.\u001b[0m\u001b[0mFunction\u001b[0m \u001b[0;32mimport\u001b[0m \u001b[0mBackPropagation\u001b[0m\u001b[0;34m,\u001b[0m \u001b[0mExponential\u001b[0m\u001b[0;34m,\u001b[0m \u001b[0mFunctionOutputType\u001b[0m\u001b[0;34m,\u001b[0m \u001b[0mIntegrator\u001b[0m\u001b[0;34m,\u001b[0m\u001b[0;31m \u001b[0m\u001b[0;31m\\\u001b[0m\u001b[0;34m\u001b[0m\u001b[0m\n\u001b[0m\u001b[1;32m     13\u001b[0m     \u001b[0mLinear\u001b[0m\u001b[0;34m,\u001b[0m \u001b[0mLinearCombination\u001b[0m\u001b[0;34m,\u001b[0m \u001b[0mLinearMatrix\u001b[0m\u001b[0;34m,\u001b[0m \u001b[0mLogistic\u001b[0m\u001b[0;34m,\u001b[0m \u001b[0mSoftMax\u001b[0m\u001b[0;34m,\u001b[0m \u001b[0mUserDefinedFunction\u001b[0m\u001b[0;34m\u001b[0m\u001b[0m\n\u001b[1;32m     14\u001b[0m \u001b[0;32mfrom\u001b[0m \u001b[0mPsyNeuLink\u001b[0m\u001b[0;34m.\u001b[0m\u001b[0mComponents\u001b[0m\u001b[0;34m.\u001b[0m\u001b[0mMechanisms\u001b[0m\u001b[0;34m.\u001b[0m\u001b[0mProcessingMechanisms\u001b[0m\u001b[0;34m.\u001b[0m\u001b[0mTransferMechanism\u001b[0m \u001b[0;32mimport\u001b[0m \u001b[0mTransferMechanism\u001b[0m\u001b[0;34m\u001b[0m\u001b[0m\n",
      "\u001b[0;32m/Volumes/Transcend/Projects/PsyNeuLink/PsyNeuLink/Components/__init__.py\u001b[0m in \u001b[0;36m<module>\u001b[0;34m()\u001b[0m\n\u001b[1;32m     33\u001b[0m \u001b[0;31m#region ***************************************** MECHANISM SUBCLASSES *************************************************\u001b[0m\u001b[0;34m\u001b[0m\u001b[0;34m\u001b[0m\u001b[0m\n\u001b[1;32m     34\u001b[0m \u001b[0;34m\u001b[0m\u001b[0m\n\u001b[0;32m---> 35\u001b[0;31m \u001b[0;32mfrom\u001b[0m \u001b[0mPsyNeuLink\u001b[0m\u001b[0;34m.\u001b[0m\u001b[0mComponents\u001b[0m\u001b[0;34m.\u001b[0m\u001b[0mMechanisms\u001b[0m\u001b[0;34m.\u001b[0m\u001b[0mMechanism\u001b[0m \u001b[0;32mimport\u001b[0m \u001b[0mMechanismRegistry\u001b[0m\u001b[0;34m\u001b[0m\u001b[0m\n\u001b[0m\u001b[1;32m     36\u001b[0m \u001b[0;32mfrom\u001b[0m \u001b[0mPsyNeuLink\u001b[0m\u001b[0;34m.\u001b[0m\u001b[0mComponents\u001b[0m\u001b[0;34m.\u001b[0m\u001b[0mMechanisms\u001b[0m\u001b[0;34m.\u001b[0m\u001b[0mMechanism\u001b[0m \u001b[0;32mimport\u001b[0m \u001b[0mMechanism_Base\u001b[0m\u001b[0;34m\u001b[0m\u001b[0m\n\u001b[1;32m     37\u001b[0m \u001b[0;32mfrom\u001b[0m \u001b[0mPsyNeuLink\u001b[0m\u001b[0;34m.\u001b[0m\u001b[0mComponents\u001b[0m\u001b[0;34m.\u001b[0m\u001b[0mMechanisms\u001b[0m\u001b[0;34m.\u001b[0m\u001b[0mProcessingMechanisms\u001b[0m\u001b[0;34m.\u001b[0m\u001b[0mDefaultProcessingMechanism\u001b[0m\u001b[0;31m \u001b[0m\u001b[0;31m\\\u001b[0m\u001b[0;34m\u001b[0m\u001b[0m\n",
      "\u001b[0;32m/Volumes/Transcend/Projects/PsyNeuLink/PsyNeuLink/Components/Mechanisms/Mechanism.py\u001b[0m in \u001b[0;36m<module>\u001b[0;34m()\u001b[0m\n\u001b[1;32m    627\u001b[0m \u001b[0;32mimport\u001b[0m \u001b[0mtypecheck\u001b[0m \u001b[0;32mas\u001b[0m \u001b[0mtc\u001b[0m\u001b[0;34m\u001b[0m\u001b[0m\n\u001b[1;32m    628\u001b[0m \u001b[0;34m\u001b[0m\u001b[0m\n\u001b[0;32m--> 629\u001b[0;31m \u001b[0;32mfrom\u001b[0m \u001b[0mPsyNeuLink\u001b[0m\u001b[0;34m.\u001b[0m\u001b[0mComponents\u001b[0m\u001b[0;34m.\u001b[0m\u001b[0mComponent\u001b[0m \u001b[0;32mimport\u001b[0m \u001b[0mComponent\u001b[0m\u001b[0;34m,\u001b[0m \u001b[0mExecutionStatus\u001b[0m\u001b[0;34m,\u001b[0m \u001b[0mfunction_type\u001b[0m\u001b[0;34m,\u001b[0m \u001b[0mmethod_type\u001b[0m\u001b[0;34m\u001b[0m\u001b[0m\n\u001b[0m\u001b[1;32m    630\u001b[0m \u001b[0;32mfrom\u001b[0m \u001b[0mPsyNeuLink\u001b[0m\u001b[0;34m.\u001b[0m\u001b[0mComponents\u001b[0m\u001b[0;34m.\u001b[0m\u001b[0mShellClasses\u001b[0m \u001b[0;32mimport\u001b[0m \u001b[0mFunction\u001b[0m\u001b[0;34m,\u001b[0m \u001b[0mMechanism\u001b[0m\u001b[0;34m,\u001b[0m \u001b[0mProjection\u001b[0m\u001b[0;34m\u001b[0m\u001b[0m\n\u001b[1;32m    631\u001b[0m \u001b[0;32mfrom\u001b[0m \u001b[0mPsyNeuLink\u001b[0m\u001b[0;34m.\u001b[0m\u001b[0mGlobals\u001b[0m\u001b[0;34m.\u001b[0m\u001b[0mDefaults\u001b[0m \u001b[0;32mimport\u001b[0m \u001b[0mtimeScaleSystemDefault\u001b[0m\u001b[0;34m\u001b[0m\u001b[0m\n",
      "\u001b[0;32m/Volumes/Transcend/Projects/PsyNeuLink/PsyNeuLink/Components/Component.py\u001b[0m in \u001b[0;36m<module>\u001b[0;34m()\u001b[0m\n\u001b[1;32m    496\u001b[0m \u001b[0;34m\u001b[0m\u001b[0m\n\u001b[1;32m    497\u001b[0m \u001b[0;34m\u001b[0m\u001b[0m\n\u001b[0;32m--> 498\u001b[0;31m \u001b[0;32mclass\u001b[0m \u001b[0mComponent\u001b[0m\u001b[0;34m(\u001b[0m\u001b[0mobject\u001b[0m\u001b[0;34m)\u001b[0m\u001b[0;34m:\u001b[0m\u001b[0;34m\u001b[0m\u001b[0m\n\u001b[0m\u001b[1;32m    499\u001b[0m     \"\"\"Base class for Component.\n\u001b[1;32m    500\u001b[0m \u001b[0;34m\u001b[0m\u001b[0m\n",
      "\u001b[0;32m/Volumes/Transcend/Projects/PsyNeuLink/PsyNeuLink/Components/Component.py\u001b[0m in \u001b[0;36mComponent\u001b[0;34m()\u001b[0m\n\u001b[1;32m   1764\u001b[0m \u001b[0;34m\u001b[0m\u001b[0m\n\u001b[1;32m   1765\u001b[0m     \u001b[0;34m@\u001b[0m\u001b[0mtc\u001b[0m\u001b[0;34m.\u001b[0m\u001b[0mtypecheck\u001b[0m\u001b[0;34m\u001b[0m\u001b[0m\n\u001b[0;32m-> 1766\u001b[0;31m     \u001b[0;32mdef\u001b[0m \u001b[0m_assign_params\u001b[0m\u001b[0;34m(\u001b[0m\u001b[0mself\u001b[0m\u001b[0;34m,\u001b[0m \u001b[0mrequest_set\u001b[0m\u001b[0;34m:\u001b[0m\u001b[0mtc\u001b[0m\u001b[0;34m.\u001b[0m\u001b[0moptional\u001b[0m\u001b[0;34m(\u001b[0m\u001b[0mdict\u001b[0m\u001b[0;34m)\u001b[0m\u001b[0;34m=\u001b[0m\u001b[0;32mNone\u001b[0m\u001b[0;34m,\u001b[0m \u001b[0mcontext\u001b[0m\u001b[0;34m=\u001b[0m\u001b[0;32mNone\u001b[0m\u001b[0;34m)\u001b[0m\u001b[0;34m:\u001b[0m\u001b[0;34m\u001b[0m\u001b[0m\n\u001b[0m\u001b[1;32m   1767\u001b[0m \u001b[0;34m\u001b[0m\u001b[0m\n\u001b[1;32m   1768\u001b[0m         \u001b[0;32mfrom\u001b[0m \u001b[0mPsyNeuLink\u001b[0m\u001b[0;34m.\u001b[0m\u001b[0mComponents\u001b[0m\u001b[0;34m.\u001b[0m\u001b[0mFunctions\u001b[0m\u001b[0;34m.\u001b[0m\u001b[0mFunction\u001b[0m \u001b[0;32mimport\u001b[0m \u001b[0mFunction\u001b[0m\u001b[0;34m\u001b[0m\u001b[0m\n",
      "\u001b[0;32m/usr/local/lib/python3.6/site-packages/typecheck/framework.py\u001b[0m in \u001b[0;36m__init__\u001b[0;34m(self, check)\u001b[0m\n",
      "\u001b[0;32m/usr/local/lib/python3.6/site-packages/typecheck/framework.py\u001b[0m in \u001b[0;36mcreate\u001b[0;34m(cls, annotation_or_checker)\u001b[0m\n",
      "\u001b[0;32m/usr/local/lib/python3.6/site-packages/typecheck/typing_predicates.py\u001b[0m in \u001b[0;36m_is_tg_union\u001b[0;34m(annotation)\u001b[0m\n",
      "\u001b[0;32m/usr/local/Cellar/python3/3.6.2/Frameworks/Python.framework/Versions/3.6/lib/python3.6/typing.py\u001b[0m in \u001b[0;36m__subclasscheck__\u001b[0;34m(self, cls)\u001b[0m\n\u001b[1;32m    827\u001b[0m \u001b[0;34m\u001b[0m\u001b[0m\n\u001b[1;32m    828\u001b[0m     \u001b[0;32mdef\u001b[0m \u001b[0m__subclasscheck__\u001b[0m\u001b[0;34m(\u001b[0m\u001b[0mself\u001b[0m\u001b[0;34m,\u001b[0m \u001b[0mcls\u001b[0m\u001b[0;34m)\u001b[0m\u001b[0;34m:\u001b[0m\u001b[0;34m\u001b[0m\u001b[0m\n\u001b[0;32m--> 829\u001b[0;31m         \u001b[0;32mraise\u001b[0m \u001b[0mTypeError\u001b[0m\u001b[0;34m(\u001b[0m\u001b[0;34m\"Unions cannot be used with issubclass().\"\u001b[0m\u001b[0;34m)\u001b[0m\u001b[0;34m\u001b[0m\u001b[0m\n\u001b[0m\u001b[1;32m    830\u001b[0m \u001b[0;34m\u001b[0m\u001b[0m\n\u001b[1;32m    831\u001b[0m \u001b[0;34m\u001b[0m\u001b[0m\n",
      "\u001b[0;31mTypeError\u001b[0m: Unions cannot be used with issubclass()."
     ],
     "output_type": "error"
    }
   ],
   "source": [
    "from PsyNeuLink.Components.System import system\n",
    "\n",
    "from PsyNeuLink.Components.Process import *\n",
    "\n",
    "from PsyNeuLink.Components.Mechanisms.ProcessingMechanisms.TransferMechanism import TransferMechanism\n",
    "from PsyNeuLink.Components.Functions.Function import Linear, Logistic"
   ]
  },
  {
   "cell_type": "code",
   "execution_count": null,
   "metadata": {
    "collapsed": false
   },
   "outputs": [],
   "source": [
    "import numpy as np\n",
    "import matplotlib.pyplot as plt\n",
    "% matplotlib inline"
   ]
  },
  {
   "cell_type": "markdown",
   "metadata": {},
   "source": [
    "### Creating a mechanism\n",
    "\n",
    "*[Mechanisms](https://princetonuniversity.github.io/PsyNeuLink/Mechanism.html)* are the basic units of computation in PsyNeuLink. At their core is a parameterized *function* but they also contain the machinery to interact with input, output, control, and learning signals. Our first mechanism will perform a linear transformation on a scalar input. For now, we will initialize it by just specifying the *function* of the mechanism."
   ]
  },
  {
   "cell_type": "code",
   "execution_count": 18,
   "metadata": {
    "collapsed": false
   },
   "outputs": [],
   "source": [
    "linear_transfer_mechanism = TransferMechanism(\n",
    "    function=Linear(slope=1, intercept=0))"
   ]
  },
  {
   "cell_type": "markdown",
   "metadata": {},
   "source": [
    "In this case, we didn't actually need to specify the slope and intercept as the function will default to reasonable values (in this case, 1 and 0 respectively)."
   ]
  },
  {
   "cell_type": "code",
   "execution_count": 20,
   "metadata": {
    "collapsed": true
   },
   "outputs": [
    {
     "data": {
      "text/plain": [
       "array([[ 1.]])"
      ]
     },
     "execution_count": 20,
     "metadata": {},
     "output_type": "execute_result"
    }
   ],
   "source": [
    "linear_transfer_mechanism.execute([1])"
   ]
  },
  {
   "cell_type": "markdown",
   "metadata": {},
   "source": [
    "Try reparamaterizing the mechanism and executing again before moving on."
   ]
  },
  {
   "cell_type": "markdown",
   "metadata": {},
   "source": [
    "### Organizing into Processes\n",
    "\n",
    "Generally with PsyNeuLink, you won't be executing mechanisms as stand-alone entities. Rather, they will be encapsulated inside *[Processes](https://princetonuniversity.github.io/PsyNeuLink/Process.html)* and later *[Systems](https://princetonuniversity.github.io/PsyNeuLink/System.html)*. A process is a collection of mechanisms and projections to be executed serially. They may be thought of as a way to concatenate mechanisms into a single, more complex unit of analysis in order to simplify interacting with larger models.\n",
    "\n",
    "The main parameter when initializing a process is its pathway, which is the order in which the mechanisms will execute. Of course, with only one mechanism in our process, the list has just one element.\n",
    "\n",
    "To better see how the process runs, we also turn on output reporting. Reporting can happen at every level in PsyNeuLink so we set the preference for both the process and mechanism."
   ]
  },
  {
   "cell_type": "code",
   "execution_count": 23,
   "metadata": {
    "collapsed": false
   },
   "outputs": [],
   "source": [
    "linear_transfer_process = process(pathway = [linear_transfer_mechanism])\n",
    "\n",
    "# Note: Make sure you do not run this cell multiple times. This would create multiple\n",
    "# processes that share the same variable name in the PsyNeuLink registry causing\n",
    "# unexpected behavior.\n",
    "\n",
    "linear_transfer_mechanism.reportOutputPref = True\n",
    "linear_transfer_process.reportOutputPref = True"
   ]
  },
  {
   "cell_type": "code",
   "execution_count": 24,
   "metadata": {
    "collapsed": true
   },
   "outputs": [
    {
     "name": "stdout",
     "output_type": "stream",
     "text": [
      "\n\n****************************************\n\n\n'Process-1' executing with:\n- pathway: ['TransferMechanism-1']\n- input: [[4]]\n\n'TransferMechanism-1'  executed:\n- input:  4.0\n- params:\n\tfunction: Linear\n\t\tintercept: 0\n\t\tslope: 1\n\tinitial_value: 0\n\tnoise: 0.0\n\ttime_scale: TimeScale.TRIAL\n- output: 4.0\n\n'Process-1' completed:\n- output: 4.0\n\n\n****************************************\n\n"
     ]
    },
    {
     "data": {
      "text/plain": [
       "array([ 4.])"
      ]
     },
     "execution_count": 24,
     "metadata": {},
     "output_type": "execute_result"
    }
   ],
   "source": [
    "linear_transfer_process.execute([4])"
   ]
  },
  {
   "cell_type": "markdown",
   "metadata": {},
   "source": [
    "Let's turn off the reporting and look at our process' output over a wider range of values."
   ]
  },
  {
   "cell_type": "code",
   "execution_count": 7,
   "metadata": {
    "collapsed": true
   },
   "outputs": [
    {
     "name": "stdout",
     "output_type": "stream",
     "text": [
      "---------------------------------------------------"
     ]
    },
    {
     "data": {
      "image/png": "[encoded data removed]",
      "text/plain": [
       "<matplotlib.figure.Figure at 0x110313668>"
      ]
     },
     "metadata": {},
     "output_type": "display_data"
    }
   ],
   "source": [
    "linear_transfer_mechanism.reportOutputPref = False\n",
    "linear_transfer_process.reportOutputPref = False\n",
    "\n",
    "xVals = np.linspace(-3, 3, num=51)\n",
    "yVals = np.zeros((51,))\n",
    "for i in range(xVals.shape[0]):\n",
    "    yVals[i] = linear_transfer_process.execute([xVals[i]])[0]\n",
    "    # Progress bar\n",
    "    print(\"-\", end=\"\")\n",
    "plt.plot(xVals, yVals)\n",
    "plt.show()"
   ]
  },
  {
   "cell_type": "markdown",
   "metadata": {
    "collapsed": false
   },
   "source": [
    "Now let's put it all together and make a new transfer process, this time with a logistic activation function. We will also extend our mechanism by giving it two units (operating on a 1x2 matrix) rather than the default one (operating on a scalar)."
   ]
  },
  {
   "cell_type": "code",
   "execution_count": 25,
   "metadata": {
    "collapsed": false
   },
   "outputs": [
    {
     "name": "stdout",
     "output_type": "stream",
     "text": [
      "\n'TransferMechanism-2'  executed:\n- input:  -3.0, -6.0\n- params:\n\tfunction: Logistic\n\t\tbias: 0\n\t\tgain: 1\n\tinitial_value: 0 0\n\tnoise: 0.0\n\ttime_scale: TimeScale.TRIAL\n- output: 0.0474 0.00247\n-\n'TransferMechanism-2'  executed:\n- input:  -2.88, -5.76\n- params:\n\tfunction: Logistic\n\t\tbias: 0\n\t\tgain: 1\n\tinitial_value: 0 0\n\tnoise: 0.0\n\ttime_scale: TimeScale.TRIAL\n- output: 0.0532 0.00314\n-\n'TransferMechanism-2'  executed:\n- input:  -2.76, -5.52\n- params:\n\tfunction: Logistic\n\t\tbias: 0\n\t\tgain: 1\n\tinitial_value: 0 0\n\tnoise: 0.0\n\ttime_scale: TimeScale.TRIAL\n- output: 0.0595 0.00399\n-\n'TransferMechanism-2'  executed:\n- input:  -2.64, -5.28\n- params:\n\tfunction: Logistic\n\t\tbias: 0"
     ]
    },
    {
     "name": "stdout",
     "output_type": "stream",
     "text": [
      "\n\t\tgain: 1\n\tinitial_value: 0 0\n\tnoise: 0.0\n\ttime_scale: TimeScale.TRIAL\n- output: 0.0666 0.00507\n-\n'TransferMechanism-2'  executed:\n- input:  -2.52, -5.04\n- params:\n\tfunction: Logistic\n\t\tbias: 0\n\t\tgain: 1\n\tinitial_value: 0 0\n\tnoise: 0.0\n\ttime_scale: TimeScale.TRIAL\n- output: 0.0745 0.00643\n-\n'TransferMechanism-2'  executed:\n- input:  -2.4, -4.8\n- params:\n\tfunction: Logistic\n\t\tbias: 0\n\t\tgain: 1\n\tinitial_value: 0 0\n\tnoise: 0.0\n\ttime_scale: TimeScale.TRIAL\n- output: 0.0832 0.00816\n-\n'TransferMechanism-2'  executed:\n- input:  -2.28, -4.56\n- params:\n\tfunction: Logistic\n\t\tbias: 0\n\t\tgain: 1\n\tinitial_value: 0 0\n\tnoise: 0.0\n\ttime_scale: TimeScale.TRIAL\n- output: 0.0928 0.0104\n-\n'TransferMechanism-2'  executed:\n- input:  -2.16, -4.32\n- params:\n\tfunction: Logistic\n\t\tbias: 0\n\t\tgain: 1\n\tinitial_value: 0 0\n\tnoise: 0.0\n\ttime_scale: TimeScale.TRIAL\n- output: 0.103 0.0131\n-\n'TransferMechanism-2'  executed:\n- input:  -2.04, -4.08"
     ]
    },
    {
     "name": "stdout",
     "output_type": "stream",
     "text": [
      "\n- params:\n\tfunction: Logistic\n\t\tbias: 0\n\t\tgain: 1\n\tinitial_value: 0 0\n\tnoise: 0.0\n\ttime_scale: TimeScale.TRIAL\n- output: 0.115 0.0166\n-\n'TransferMechanism-2'  executed:\n- input:  -1.92, -3.84\n- params:\n\tfunction: Logistic\n\t\tbias: 0\n\t\tgain: 1\n\tinitial_value: 0 0\n\tnoise: 0.0\n\ttime_scale: TimeScale.TRIAL\n- output: 0.128 0.021\n-\n'TransferMechanism-2'  executed:\n- input:  -1.8, -3.6\n- params:\n\tfunction: Logistic\n\t\tbias: 0\n\t\tgain: 1\n\tinitial_value: 0 0\n\tnoise: 0.0\n\ttime_scale: TimeScale.TRIAL\n- output: 0.142 0.0266\n-\n'TransferMechanism-2'  executed:\n- input:  -1.68, -3.36\n- params:\n\tfunction: Logistic\n\t\tbias: 0\n\t\tgain: 1\n\tinitial_value: 0 0\n\tnoise: 0.0\n\ttime_scale: TimeScale.TRIAL\n- output: 0.157 0.0336\n-"
     ]
    },
    {
     "name": "stdout",
     "output_type": "stream",
     "text": [
      "\n'TransferMechanism-2'  executed:\n- input:  -1.56, -3.12\n- params:\n\tfunction: Logistic\n\t\tbias: 0\n\t\tgain: 1\n\tinitial_value: 0 0\n\tnoise: 0.0\n\ttime_scale: TimeScale.TRIAL\n- output: 0.174 0.0423\n-\n'TransferMechanism-2'  executed:\n- input:  -1.44, -2.88\n- params:\n\tfunction: Logistic\n\t\tbias: 0\n\t\tgain: 1\n\tinitial_value: 0 0\n\tnoise: 0.0\n\ttime_scale: TimeScale.TRIAL\n- output: 0.192 0.0532\n-\n'TransferMechanism-2'  executed:\n- input:  -1.32, -2.64\n- params:\n\tfunction: Logistic\n\t\tbias: 0\n\t\tgain: 1\n\tinitial_value: 0 0\n\tnoise: 0.0\n\ttime_scale: TimeScale.TRIAL\n- output: 0.211 0.0666\n-\n'TransferMechanism-2'  executed:\n- input:  -1.2, -2.4\n- params:\n\tfunction: Logistic\n\t\tbias: 0\n\t\tgain: 1\n\tinitial_value: 0 0\n\tnoise: 0.0\n\ttime_scale: TimeScale.TRIAL\n- output: 0.231 0.0832\n-\n'TransferMechanism-2'  executed:\n- input:  -1.08, -2.16\n- params:\n\tfunction: Logistic\n\t\tbias: 0\n\t\tgain: 1\n\tinitial_value: 0 0\n\tnoise: 0.0\n\ttime_scale: TimeScale.TRIAL\n- output: 0.254 0.103\n-"
     ]
    },
    {
     "name": "stdout",
     "output_type": "stream",
     "text": [
      "\n'TransferMechanism-2'  executed:\n- input:  -0.96, -1.92\n- params:\n\tfunction: Logistic\n\t\tbias: 0\n\t\tgain: 1\n\tinitial_value: 0 0\n\tnoise: 0.0\n\ttime_scale: TimeScale.TRIAL\n- output: 0.277 0.128\n-\n'TransferMechanism-2'  executed:\n- input:  -0.84, -1.68\n- params:\n\tfunction: Logistic\n\t\tbias: 0\n\t\tgain: 1\n\tinitial_value: 0 0\n\tnoise: 0.0\n\ttime_scale: TimeScale.TRIAL\n- output: 0.302 0.157\n-\n'TransferMechanism-2'  executed:\n- input:  -0.72, -1.44\n- params:\n\tfunction: Logistic\n\t\tbias: 0\n\t\tgain: 1\n\tinitial_value: 0 0\n\tnoise: 0.0\n\ttime_scale: TimeScale.TRIAL\n- output: 0.327 0.192\n-\n'TransferMechanism-2'  executed:\n- input:  -0.6, -1.2\n- params:\n\tfunction: Logistic\n\t\tbias: 0\n\t\tgain: 1\n\tinitial_value: 0 0\n\tnoise: 0.0\n\ttime_scale: TimeScale.TRIAL\n- output: 0.354 0.231\n-\n'TransferMechanism-2'  executed:\n- input:  -0.48, -0.96\n- params:\n\tfunction: Logistic\n\t\tbias: 0\n\t\tgain: 1\n\tinitial_value: 0 0\n"
     ]
    },
    {
     "name": "stdout",
     "output_type": "stream",
     "text": [
      "\tnoise: 0.0\n\ttime_scale: TimeScale.TRIAL\n- output: 0.382 0.277\n-\n'TransferMechanism-2'  executed:\n- input:  -0.36, -0.72\n- params:\n\tfunction: Logistic\n\t\tbias: 0\n\t\tgain: 1\n\tinitial_value: 0 0\n\tnoise: 0.0\n\ttime_scale: TimeScale.TRIAL\n- output: 0.411 0.327\n-\n'TransferMechanism-2'  executed:\n- input:  -0.24, -0.48\n- params:\n\tfunction: Logistic\n\t\tbias: 0\n\t\tgain: 1\n\tinitial_value: 0 0\n\tnoise: 0.0\n\ttime_scale: TimeScale.TRIAL\n- output: 0.44 0.382\n-\n'TransferMechanism-2'  executed:\n- input:  -0.12, -0.24\n- params:\n\tfunction: Logistic\n\t\tbias: 0\n\t\tgain: 1\n\tinitial_value: 0 0\n\tnoise: 0.0\n\ttime_scale: TimeScale.TRIAL\n- output: 0.47 0.44\n-\n'TransferMechanism-2'  executed:\n- input:  0.0, 0.0\n- params:\n\tfunction: Logistic\n\t\tbias: 0\n\t\tgain: 1\n\tinitial_value: 0 0\n\tnoise: 0.0\n\ttime_scale: TimeScale.TRIAL\n- output: 0.5 0.5\n-\n'TransferMechanism-2'  executed:\n- input:  0.12, 0.24\n- params:\n\tfunction: Logistic\n\t\tbias: 0\n\t\tgain: 1\n\tinitial_value: 0 0\n\tnoise: 0.0\n\ttime_scale: TimeScale.TRIAL\n- output: 0.53 0.56\n-\n'TransferMechanism-2'  executed:\n- input:  0.24, 0.48\n"
     ]
    },
    {
     "name": "stdout",
     "output_type": "stream",
     "text": [
      "- params:\n\tfunction: Logistic\n\t\tbias: 0\n\t\tgain: 1\n\tinitial_value: 0 0\n\tnoise: 0.0\n\ttime_scale: TimeScale.TRIAL\n- output: 0.56 0.618\n-\n'TransferMechanism-2'  executed:\n- input:  0.36, 0.72\n- params:\n\tfunction: Logistic\n\t\tbias: 0\n\t\tgain: 1\n\tinitial_value: 0 0\n\tnoise: 0.0\n\ttime_scale: TimeScale.TRIAL\n- output: 0.589 0.673\n-"
     ]
    },
    {
     "name": "stdout",
     "output_type": "stream",
     "text": [
      "\n'TransferMechanism-2'  executed:\n- input:  0.48, 0.96\n- params:\n\tfunction: Logistic\n\t\tbias: 0\n\t\tgain: 1\n\tinitial_value: 0 0\n\tnoise: 0.0\n\ttime_scale: TimeScale.TRIAL\n- output: 0.618 0.723\n-\n'TransferMechanism-2'  executed:\n- input:  0.6, 1.2\n- params:\n\tfunction: Logistic\n\t\tbias: 0\n\t\tgain: 1\n\tinitial_value: 0 0\n\tnoise: 0.0\n\ttime_scale: TimeScale.TRIAL\n- output: 0.646 0.769\n-"
     ]
    },
    {
     "name": "stdout",
     "output_type": "stream",
     "text": [
      "\n'TransferMechanism-2'  executed:\n- input:  0.72, 1.44\n- params:\n\tfunction: Logistic\n\t\tbias: 0\n\t\tgain: 1\n\tinitial_value: 0 0\n\tnoise: 0.0\n\ttime_scale: TimeScale.TRIAL\n- output: 0.673 0.808\n-"
     ]
    },
    {
     "name": "stdout",
     "output_type": "stream",
     "text": [
      "\n'TransferMechanism-2'  executed:\n- input:  0.84, 1.68\n- params:\n\tfunction: Logistic\n\t\tbias: 0\n\t\tgain: 1\n\tinitial_value: 0 0\n\tnoise: 0.0\n\ttime_scale: TimeScale.TRIAL\n- output: 0.698 0.843\n-\n'TransferMechanism-2'  executed:\n- input:  0.96, 1.92\n- params:\n\tfunction: Logistic\n\t\tbias: 0\n\t\tgain: 1\n\tinitial_value: 0 0\n\tnoise: 0.0\n\ttime_scale: TimeScale.TRIAL\n- output: 0.723 0.872\n-"
     ]
    },
    {
     "name": "stdout",
     "output_type": "stream",
     "text": [
      "\n'TransferMechanism-2'  executed:\n- input:  1.08, 2.16\n- params:\n\tfunction: Logistic\n\t\tbias: 0\n\t\tgain: 1\n\tinitial_value: 0 0\n\tnoise: 0.0\n\ttime_scale: TimeScale.TRIAL\n- output: 0.746 0.897\n-"
     ]
    },
    {
     "name": "stdout",
     "output_type": "stream",
     "text": [
      "\n'TransferMechanism-2'  executed:\n- input:  1.2, 2.4\n- params:\n\tfunction: Logistic\n\t\tbias: 0\n\t\tgain: 1\n\tinitial_value: 0 0\n\tnoise: 0.0\n\ttime_scale: TimeScale.TRIAL\n- output: 0.769 0.917\n-\n'TransferMechanism-2'  executed:\n- input:  1.32, 2.64\n- params:\n\tfunction: Logistic\n\t\tbias: 0\n\t\tgain: 1\n\tinitial_value: 0 0\n\tnoise: 0.0\n\ttime_scale: TimeScale.TRIAL"
     ]
    },
    {
     "name": "stdout",
     "output_type": "stream",
     "text": [
      "\n- output: 0.789 0.933\n-\n'TransferMechanism-2'  executed:\n- input:  1.44, 2.88\n- params:\n\tfunction: Logistic\n\t\tbias: 0\n\t\tgain: 1\n\tinitial_value: 0 0\n\tnoise: 0.0\n\ttime_scale: TimeScale.TRIAL\n- output: 0.808 0.947\n-\n'TransferMechanism-2'  executed:\n- input:  1.56, 3.12\n- params:\n\tfunction: Logistic\n\t\tbias: 0\n\t\tgain: 1\n\tinitial_value: 0 0\n\tnoise: 0.0\n\ttime_scale: TimeScale.TRIAL\n- output: 0.826 0.958\n-"
     ]
    },
    {
     "name": "stdout",
     "output_type": "stream",
     "text": [
      "\n'TransferMechanism-2'  executed:\n- input:  1.68, 3.36\n- params:\n\tfunction: Logistic\n\t\tbias: 0\n\t\tgain: 1\n\tinitial_value: 0 0\n\tnoise: 0.0\n\ttime_scale: TimeScale.TRIAL\n- output: 0.843 0.966\n-\n'TransferMechanism-2'  executed:\n- input:  1.8, 3.6\n- params:\n\tfunction: Logistic\n\t\tbias: 0\n\t\tgain: 1\n\tinitial_value: 0 0\n\tnoise: 0.0\n\ttime_scale: TimeScale.TRIAL\n- output: 0.858 0.973\n-\n'TransferMechanism-2'  executed:\n- input:  1.92, 3.84\n- params:\n\tfunction: Logistic\n\t\tbias: 0\n\t\tgain: 1\n\tinitial_value: 0 0\n\tnoise: 0.0\n\ttime_scale: TimeScale.TRIAL\n- output: 0.872 0.979\n-"
     ]
    },
    {
     "name": "stdout",
     "output_type": "stream",
     "text": [
      "\n'TransferMechanism-2'  executed:\n- input:  2.04, 4.08\n- params:\n\tfunction: Logistic\n\t\tbias: 0\n\t\tgain: 1\n\tinitial_value: 0 0\n\tnoise: 0.0\n\ttime_scale: TimeScale.TRIAL\n- output: 0.885 0.983\n-\n'TransferMechanism-2'  executed:\n- input:  2.16, 4.32\n- params:\n\tfunction: Logistic\n\t\tbias: 0\n\t\tgain: 1\n\tinitial_value: 0 0\n\tnoise: 0.0\n\ttime_scale: TimeScale.TRIAL\n- output: 0.897 0.987\n-\n'TransferMechanism-2'  executed:\n- input:  2.28, 4.56\n- params:\n\tfunction: Logistic\n\t\tbias: 0\n\t\tgain: 1\n\tinitial_value: 0 0\n\tnoise: 0.0\n\ttime_scale: TimeScale.TRIAL\n- output: 0.907 0.99\n-"
     ]
    },
    {
     "name": "stdout",
     "output_type": "stream",
     "text": [
      "\n'TransferMechanism-2'  executed:\n- input:  2.4, 4.8\n- params:\n\tfunction: Logistic\n\t\tbias: 0\n\t\tgain: 1\n\tinitial_value: 0 0\n\tnoise: 0.0\n\ttime_scale: TimeScale.TRIAL\n- output: 0.917 0.992\n-"
     ]
    },
    {
     "name": "stdout",
     "output_type": "stream",
     "text": [
      "\n'TransferMechanism-2'  executed:\n- input:  2.52, 5.04\n- params:\n\tfunction: Logistic\n\t\tbias: 0\n\t\tgain: 1\n\tinitial_value: 0 0\n\tnoise: 0.0\n\ttime_scale: TimeScale.TRIAL\n- output: 0.926 0.994\n-\n'TransferMechanism-2'  executed:\n- input:  2.64, 5.28\n- params:\n\tfunction: Logistic\n\t\tbias: 0\n\t\tgain: 1\n\tinitial_value: 0 0\n\tnoise: 0.0\n\ttime_scale: TimeScale.TRIAL\n- output: 0.933 0.995\n-"
     ]
    },
    {
     "name": "stdout",
     "output_type": "stream",
     "text": [
      "\n'TransferMechanism-2'  executed:\n- input:  2.76, 5.52\n- params:\n\tfunction: Logistic\n\t\tbias: 0\n\t\tgain: 1\n\tinitial_value: 0 0\n\tnoise: 0.0\n\ttime_scale: TimeScale.TRIAL\n- output: 0.94 0.996\n-\n'TransferMechanism-2'  executed:\n- input:  2.88, 5.76\n- params:\n\tfunction: Logistic\n\t\tbias: 0\n\t\tgain: 1\n\tinitial_value: 0 0\n\tnoise: 0.0\n\ttime_scale: TimeScale.TRIAL\n- output: 0.947 0.997\n-"
     ]
    },
    {
     "name": "stdout",
     "output_type": "stream",
     "text": [
      "\n'TransferMechanism-2'  executed:\n- input:  3.0, 6.0\n- params:\n\tfunction: Logistic\n\t\tbias: 0\n\t\tgain: 1\n\tinitial_value: 0 0\n\tnoise: 0.0\n\ttime_scale: TimeScale.TRIAL\n- output: 0.953 0.998\n-"
     ]
    },
    {
     "data": {
      "image/png": "[encoded data removed]",
      "text/plain": [
       "<matplotlib.figure.Figure at 0x10a5077f0>"
      ]
     },
     "metadata": {},
     "output_type": "display_data"
    }
   ],
   "source": [
    "# Create the mechanism\n",
    "logistic_transfer_mechanism = TransferMechanism(default_input_value=[0, 0],\n",
    "                                                function=Logistic(gain=1,\n",
    "                                                                  bias=0))\n",
    "\n",
    "# Package into a process\n",
    "logistic_transfer_process = process(pathway=[logistic_transfer_mechanism])\n",
    "\n",
    "# Iterate and plot\n",
    "xVals = np.linspace(-3, 3, num=51)\n",
    "y1Vals = np.zeros((51,))\n",
    "y2Vals = np.zeros((51,))\n",
    "for i in range(xVals.shape[0]):\n",
    "    # clarify why multiplying times 2\n",
    "    output = logistic_transfer_process.execute([xVals[i], xVals[i] * 2])\n",
    "    y1Vals[i] = output[0]\n",
    "    y2Vals[i] = output[1]\n",
    "    # Progress bar\n",
    "    print(\"-\", end=\"\")\n",
    "plt.plot(xVals, y1Vals)\n",
    "plt.plot(xVals, y2Vals)\n",
    "plt.show()"
   ]
  },
  {
   "cell_type": "markdown",
   "metadata": {},
   "source": [
    "The default_input_value parameter serves a dual function. It specifies the dimensionality of the mechanism as well as providing the inputs that will be given in the absence of explicit input at runtime."
   ]
  },
  {
   "cell_type": "markdown",
   "metadata": {},
   "source": [
    "### Adding Projections\n",
    "\n",
    "To make more complex processes, we need a way to link mechanisms together. This is done through *[Projections](https://princetonuniversity.github.io/PsyNeuLink/Projection.html)*. A projection takes a mechanism output, multiplies it by the projection's mapping matrix, and delivers the transformed value to the next mechanism in the process."
   ]
  },
  {
   "cell_type": "code",
   "execution_count": 26,
   "metadata": {
    "collapsed": true
   },
   "outputs": [
    {
     "name": "stdout",
     "output_type": "stream",
     "text": [
      "\n'TransferMechanism-3'  executed:\n- input:  -3.0\n- params:\n\tfunction: Linear\n\t\tintercept: 2\n\t\tslope: 2\n\tinitial_value: 0\n\tnoise: 0.0\n\ttime_scale: TimeScale.TRIAL\n- output: -4.0\n\n'TransferMechanism-4'  executed:\n- input:  -4.0\n- params:\n\tfunction: Logistic\n\t\tbias: 0.0\n\t\tgain: 1.0\n\tinitial_value: 0\n\tnoise: 0.0\n\ttime_scale: TimeScale.TRIAL\n- output: 0.018\n-\n'TransferMechanism-3'  executed:\n- input:  -2.88\n- params:\n\tfunction: Linear\n\t\tintercept: 2\n\t\tslope: 2\n\tinitial_value: 0\n\tnoise: 0.0\n\ttime_scale: TimeScale.TRIAL\n- output: -3.76\n\n'TransferMechanism-4'  executed:\n- input:  -3.76\n- params:\n\tfunction: Logistic\n\t\tbias: 0.0\n\t\tgain: 1.0\n\tinitial_value: 0\n\tnoise: 0.0\n\ttime_scale: TimeScale.TRIAL\n- output: 0.0228\n-\n'TransferMechanism-3'  executed:\n- input:  -2.76\n- params:\n\tfunction: Linear\n\t\tintercept: 2\n\t\tslope: 2\n\tinitial_value: 0\n\tnoise: 0.0\n\ttime_scale: TimeScale.TRIAL\n- output: -3.52\n\n'TransferMechanism-4'  executed:\n- input:  -3.52\n- params:\n\tfunction: Logistic\n\t\tbias: 0.0\n\t\tgain: 1.0\n\tinitial_value: 0\n\tnoise: 0.0\n\ttime_scale: TimeScale.TRIAL\n- output: 0.0287\n-"
     ]
    },
    {
     "name": "stdout",
     "output_type": "stream",
     "text": [
      "\n'TransferMechanism-3'  executed:\n- input:  -2.64\n- params:\n\tfunction: Linear\n\t\tintercept: 2\n\t\tslope: 2\n\tinitial_value: 0\n\tnoise: 0.0\n\ttime_scale: TimeScale.TRIAL\n- output: -3.28\n\n'TransferMechanism-4'  executed:\n- input:  -3.28\n- params:\n\tfunction: Logistic\n\t\tbias: 0.0\n\t\tgain: 1.0\n\tinitial_value: 0\n\tnoise: 0.0\n\ttime_scale: TimeScale.TRIAL\n- output: 0.0363\n-\n'TransferMechanism-3'  executed:\n- input:  -2.52\n- params:\n\tfunction: Linear\n\t\tintercept: 2\n\t\tslope: 2\n\tinitial_value: 0\n\tnoise: 0.0\n\ttime_scale: TimeScale.TRIAL\n- output: -3.04\n\n'TransferMechanism-4'  executed:\n- input:  -3.04\n- params:\n\tfunction: Logistic\n\t\tbias: 0.0\n\t\tgain: 1.0\n\tinitial_value: 0\n\tnoise: 0.0\n\ttime_scale: TimeScale.TRIAL\n- output: 0.0457\n-"
     ]
    },
    {
     "name": "stdout",
     "output_type": "stream",
     "text": [
      "\n'TransferMechanism-3'  executed:\n- input:  -2.4\n- params:\n\tfunction: Linear\n\t\tintercept: 2\n\t\tslope: 2\n\tinitial_value: 0\n\tnoise: 0.0\n\ttime_scale: TimeScale.TRIAL\n- output: -2.8\n\n'TransferMechanism-4'  executed:\n- input:  -2.8\n- params:\n\tfunction: Logistic\n\t\tbias: 0.0\n\t\tgain: 1.0\n\tinitial_value: 0\n\tnoise: 0.0\n\ttime_scale: TimeScale.TRIAL\n- output: 0.0573\n-\n'TransferMechanism-3'  executed:\n- input:  -2.28\n- params:\n\tfunction: Linear\n\t\tintercept: 2\n\t\tslope: 2\n\tinitial_value: 0\n\tnoise: 0.0\n\ttime_scale: TimeScale.TRIAL\n- output: -2.56\n\n'TransferMechanism-4'  executed:\n- input:  -2.56\n- params:\n\tfunction: Logistic\n\t\tbias: 0.0\n\t\tgain: 1.0\n\tinitial_value: 0\n\tnoise: 0.0\n\ttime_scale: TimeScale.TRIAL\n- output: 0.0718\n-\n'TransferMechanism-3'  executed:\n- input:  -2.16"
     ]
    },
    {
     "name": "stdout",
     "output_type": "stream",
     "text": [
      "\n- params:\n\tfunction: Linear\n\t\tintercept: 2\n\t\tslope: 2\n\tinitial_value: 0\n\tnoise: 0.0\n\ttime_scale: TimeScale.TRIAL\n- output: -2.32\n\n'TransferMechanism-4'  executed:\n- input:  -2.32\n- params:\n\tfunction: Logistic\n\t\tbias: 0.0\n\t\tgain: 1.0\n\tinitial_value: 0\n\tnoise: 0.0\n\ttime_scale: TimeScale.TRIAL\n- output: 0.0895\n-\n'TransferMechanism-3'  executed:\n- input:  -2.04\n- params:\n\tfunction: Linear\n\t\tintercept: 2\n\t\tslope: 2\n\tinitial_value: 0\n\tnoise: 0.0\n\ttime_scale: TimeScale.TRIAL\n- output: -2.08\n"
     ]
    },
    {
     "name": "stdout",
     "output_type": "stream",
     "text": [
      "\n'TransferMechanism-4'  executed:\n- input:  -2.08\n- params:\n\tfunction: Logistic\n\t\tbias: 0.0\n\t\tgain: 1.0\n\tinitial_value: 0\n\tnoise: 0.0\n\ttime_scale: TimeScale.TRIAL\n- output: 0.111\n-\n'TransferMechanism-3'  executed:\n- input:  -1.92\n- params:\n\tfunction: Linear\n\t\tintercept: 2\n\t\tslope: 2"
     ]
    },
    {
     "name": "stdout",
     "output_type": "stream",
     "text": [
      "\n\tinitial_value: 0\n\tnoise: 0.0\n\ttime_scale: TimeScale.TRIAL\n- output: -1.84\n\n'TransferMechanism-4'  executed:\n- input:  -1.84\n- params:\n\tfunction: Logistic\n\t\tbias: 0.0\n\t\tgain: 1.0\n\tinitial_value: 0\n\tnoise: 0.0\n\ttime_scale: TimeScale.TRIAL\n- output: 0.137\n-\n'TransferMechanism-3'  executed:\n- input:  -1.8\n- params:\n\tfunction: Linear\n\t\tintercept: 2\n\t\tslope: 2\n\tinitial_value: 0\n\tnoise: 0.0\n\ttime_scale: TimeScale.TRIAL\n- output: -1.6\n"
     ]
    },
    {
     "name": "stdout",
     "output_type": "stream",
     "text": [
      "\n'TransferMechanism-4'  executed:\n- input:  -1.6\n- params:\n\tfunction: Logistic\n\t\tbias: 0.0\n\t\tgain: 1.0\n\tinitial_value: 0\n\tnoise: 0.0\n\ttime_scale: TimeScale.TRIAL\n- output: 0.168\n-\n'TransferMechanism-3'  executed:\n- input:  -1.68\n- params:\n\tfunction: Linear\n\t\tintercept: 2\n\t\tslope: 2\n\tinitial_value: 0\n\tnoise: 0.0\n\ttime_scale: TimeScale.TRIAL\n- output: -1.36\n"
     ]
    },
    {
     "name": "stdout",
     "output_type": "stream",
     "text": [
      "\n'TransferMechanism-4'  executed:\n- input:  -1.36\n- params:\n\tfunction: Logistic\n\t\tbias: 0.0\n\t\tgain: 1.0\n\tinitial_value: 0\n\tnoise: 0.0\n\ttime_scale: TimeScale.TRIAL\n- output: 0.204\n-\n'TransferMechanism-3'  executed:\n- input:  -1.56\n- params:\n\tfunction: Linear\n\t\tintercept: 2\n\t\tslope: 2\n\tinitial_value: 0\n"
     ]
    },
    {
     "name": "stdout",
     "output_type": "stream",
     "text": [
      "\tnoise: 0.0\n\ttime_scale: TimeScale.TRIAL\n- output: -1.12\n\n'TransferMechanism-4'  executed:\n- input:  -1.12\n- params:\n\tfunction: Logistic\n\t\tbias: 0.0\n\t\tgain: 1.0\n\tinitial_value: 0\n\tnoise: 0.0\n\ttime_scale: TimeScale.TRIAL\n- output: 0.246\n-\n'TransferMechanism-3'  executed:\n- input:  -1.44\n- params:\n\tfunction: Linear\n\t\tintercept: 2"
     ]
    },
    {
     "name": "stdout",
     "output_type": "stream",
     "text": [
      "\n\t\tslope: 2\n\tinitial_value: 0\n\tnoise: 0.0\n\ttime_scale: TimeScale.TRIAL\n- output: -0.88\n\n'TransferMechanism-4'  executed:\n- input:  -0.88\n- params:\n\tfunction: Logistic\n\t\tbias: 0.0\n\t\tgain: 1.0\n\tinitial_value: 0\n\tnoise: 0.0\n\ttime_scale: TimeScale.TRIAL\n- output: 0.293\n-\n'TransferMechanism-3'  executed:\n- input:  -1.32\n- params:\n\tfunction: Linear\n\t\tintercept: 2\n\t\tslope: 2"
     ]
    },
    {
     "name": "stdout",
     "output_type": "stream",
     "text": [
      "\n\tinitial_value: 0\n\tnoise: 0.0\n\ttime_scale: TimeScale.TRIAL\n- output: -0.64\n\n'TransferMechanism-4'  executed:\n- input:  -0.64\n- params:\n\tfunction: Logistic\n\t\tbias: 0.0\n\t\tgain: 1.0\n\tinitial_value: 0\n\tnoise: 0.0\n\ttime_scale: TimeScale.TRIAL\n- output: 0.345\n-\n'TransferMechanism-3'  executed:\n- input:  -1.2\n- params:\n\tfunction: Linear\n\t\tintercept: 2\n\t\tslope: 2\n\tinitial_value: 0\n\tnoise: 0.0\n\ttime_scale: TimeScale.TRIAL\n- output: -0.4\n"
     ]
    },
    {
     "name": "stdout",
     "output_type": "stream",
     "text": [
      "\n'TransferMechanism-4'  executed:\n- input:  -0.4\n- params:\n\tfunction: Logistic\n\t\tbias: 0.0\n\t\tgain: 1.0\n\tinitial_value: 0\n\tnoise: 0.0\n\ttime_scale: TimeScale.TRIAL\n- output: 0.401\n-\n'TransferMechanism-3'  executed:\n- input:  -1.08\n- params:\n\tfunction: Linear\n\t\tintercept: 2\n\t\tslope: 2\n\tinitial_value: 0\n\tnoise: 0.0\n\ttime_scale: TimeScale.TRIAL\n- output: -0.16\n\n'TransferMechanism-4'  executed:\n- input:  -0.16\n- params:\n\tfunction: Logistic\n\t\tbias: 0.0\n\t\tgain: 1.0\n\tinitial_value: 0\n\tnoise: 0.0\n\ttime_scale: TimeScale.TRIAL\n- output: 0.46\n-"
     ]
    },
    {
     "name": "stdout",
     "output_type": "stream",
     "text": [
      "\n'TransferMechanism-3'  executed:\n- input:  -0.96\n- params:\n\tfunction: Linear\n\t\tintercept: 2\n\t\tslope: 2\n\tinitial_value: 0\n\tnoise: 0.0\n\ttime_scale: TimeScale.TRIAL\n- output: 0.08\n\n'TransferMechanism-4'  executed:\n- input:  0.08\n- params:\n\tfunction: Logistic\n\t\tbias: 0.0\n\t\tgain: 1.0\n\tinitial_value: 0\n\tnoise: 0.0\n\ttime_scale: TimeScale.TRIAL\n- output: 0.52\n-"
     ]
    },
    {
     "name": "stdout",
     "output_type": "stream",
     "text": [
      "\n'TransferMechanism-3'  executed:\n- input:  -0.84\n- params:\n\tfunction: Linear\n\t\tintercept: 2\n\t\tslope: 2\n\tinitial_value: 0\n\tnoise: 0.0\n\ttime_scale: TimeScale.TRIAL\n- output: 0.32\n\n'TransferMechanism-4'  executed:\n- input:  0.32\n- params:\n\tfunction: Logistic\n\t\tbias: 0.0"
     ]
    },
    {
     "name": "stdout",
     "output_type": "stream",
     "text": [
      "\n\t\tgain: 1.0\n\tinitial_value: 0\n\tnoise: 0.0\n\ttime_scale: TimeScale.TRIAL\n- output: 0.579\n-\n'TransferMechanism-3'  executed:\n- input:  -0.72\n- params:\n\tfunction: Linear\n\t\tintercept: 2\n\t\tslope: 2\n\tinitial_value: 0\n\tnoise: 0.0\n\ttime_scale: TimeScale.TRIAL\n- output: 0.56\n\n'TransferMechanism-4'  executed:\n- input:  0.56\n- params:\n\tfunction: Logistic\n\t\tbias: 0.0\n\t\tgain: 1.0\n\tinitial_value: 0\n\tnoise: 0.0\n\ttime_scale: TimeScale.TRIAL\n- output: 0.636\n-"
     ]
    },
    {
     "name": "stdout",
     "output_type": "stream",
     "text": [
      "\n'TransferMechanism-3'  executed:\n- input:  -0.6\n- params:\n\tfunction: Linear\n\t\tintercept: 2\n\t\tslope: 2\n\tinitial_value: 0\n\tnoise: 0.0\n\ttime_scale: TimeScale.TRIAL\n- output: 0.8\n\n'TransferMechanism-4'  executed:\n- input:  0.8\n- params:\n\tfunction: Logistic\n\t\tbias: 0.0\n\t\tgain: 1.0\n\tinitial_value: 0\n\tnoise: 0.0\n\ttime_scale: TimeScale.TRIAL"
     ]
    },
    {
     "name": "stdout",
     "output_type": "stream",
     "text": [
      "\n- output: 0.69\n-\n'TransferMechanism-3'  executed:\n- input:  -0.48\n- params:\n\tfunction: Linear\n\t\tintercept: 2\n\t\tslope: 2\n\tinitial_value: 0\n\tnoise: 0.0\n\ttime_scale: TimeScale.TRIAL\n- output: 1.04\n\n'TransferMechanism-4'  executed:\n- input:  1.04\n- params:\n\tfunction: Logistic\n\t\tbias: 0.0\n\t\tgain: 1.0\n\tinitial_value: 0\n\tnoise: 0.0\n\ttime_scale: TimeScale.TRIAL\n- output: 0.739\n-"
     ]
    },
    {
     "name": "stdout",
     "output_type": "stream",
     "text": [
      "\n'TransferMechanism-3'  executed:\n- input:  -0.36\n- params:\n\tfunction: Linear\n\t\tintercept: 2\n\t\tslope: 2\n\tinitial_value: 0\n\tnoise: 0.0\n\ttime_scale: TimeScale.TRIAL\n- output: 1.28\n"
     ]
    },
    {
     "name": "stdout",
     "output_type": "stream",
     "text": [
      "\n'TransferMechanism-4'  executed:\n- input:  1.28\n- params:\n\tfunction: Logistic\n\t\tbias: 0.0\n\t\tgain: 1.0\n\tinitial_value: 0\n\tnoise: 0.0\n\ttime_scale: TimeScale.TRIAL\n- output: 0.782\n-\n'TransferMechanism-3'  executed:\n- input:  -0.24\n- params:\n\tfunction: Linear\n\t\tintercept: 2\n"
     ]
    },
    {
     "name": "stdout",
     "output_type": "stream",
     "text": [
      "\t\tslope: 2\n\tinitial_value: 0\n\tnoise: 0.0\n\ttime_scale: TimeScale.TRIAL\n- output: 1.52\n\n'TransferMechanism-4'  executed:\n- input:  1.52\n- params:\n\tfunction: Logistic\n\t\tbias: 0.0\n\t\tgain: 1.0\n\tinitial_value: 0\n\tnoise: 0.0\n\ttime_scale: TimeScale.TRIAL\n- output: 0.821\n-\n'TransferMechanism-3'  executed:\n- input:  -0.12\n- params:\n\tfunction: Linear"
     ]
    },
    {
     "name": "stdout",
     "output_type": "stream",
     "text": [
      "\n\t\tintercept: 2\n\t\tslope: 2\n\tinitial_value: 0\n\tnoise: 0.0\n\ttime_scale: TimeScale.TRIAL\n- output: 1.76\n\n'TransferMechanism-4'  executed:\n- input:  1.76\n- params:\n\tfunction: Logistic\n\t\tbias: 0.0\n\t\tgain: 1.0\n\tinitial_value: 0\n\tnoise: 0.0\n\ttime_scale: TimeScale.TRIAL\n- output: 0.853\n-\n'TransferMechanism-3'  executed:\n- input:  0.0\n- params:\n\tfunction: Linear"
     ]
    },
    {
     "name": "stdout",
     "output_type": "stream",
     "text": [
      "\n\t\tintercept: 2\n\t\tslope: 2\n\tinitial_value: 0\n\tnoise: 0.0\n\ttime_scale: TimeScale.TRIAL\n- output: 2.0\n\n'TransferMechanism-4'  executed:\n- input:  2.0\n- params:\n\tfunction: Logistic\n\t\tbias: 0.0\n\t\tgain: 1.0\n\tinitial_value: 0\n\tnoise: 0.0\n\ttime_scale: TimeScale.TRIAL\n- output: 0.881\n-\n'TransferMechanism-3'  executed:\n- input:  0.12\n- params:\n\tfunction: Linear"
     ]
    },
    {
     "name": "stdout",
     "output_type": "stream",
     "text": [
      "\n\t\tintercept: 2\n\t\tslope: 2\n\tinitial_value: 0\n\tnoise: 0.0\n\ttime_scale: TimeScale.TRIAL\n- output: 2.24\n\n'TransferMechanism-4'  executed:\n- input:  2.24\n- params:\n\tfunction: Logistic\n\t\tbias: 0.0\n\t\tgain: 1.0\n\tinitial_value: 0\n\tnoise: 0.0\n\ttime_scale: TimeScale.TRIAL\n- output: 0.904\n-\n'TransferMechanism-3'  executed:\n- input:  0.24\n- params:\n\tfunction: Linear\n\t\tintercept: 2\n\t\tslope: 2\n\tinitial_value: 0\n\tnoise: 0.0\n\ttime_scale: TimeScale.TRIAL\n- output: 2.48\n"
     ]
    },
    {
     "name": "stdout",
     "output_type": "stream",
     "text": [
      "\n'TransferMechanism-4'  executed:\n- input:  2.48\n- params:\n\tfunction: Logistic\n\t\tbias: 0.0\n\t\tgain: 1.0\n\tinitial_value: 0\n\tnoise: 0.0\n\ttime_scale: TimeScale.TRIAL\n- output: 0.923\n-\n'TransferMechanism-3'  executed:\n- input:  0.36\n- params:\n\tfunction: Linear\n\t\tintercept: 2\n\t\tslope: 2\n\tinitial_value: 0\n\tnoise: 0.0\n\ttime_scale: TimeScale.TRIAL\n- output: 2.72\n"
     ]
    },
    {
     "name": "stdout",
     "output_type": "stream",
     "text": [
      "\n'TransferMechanism-4'  executed:\n- input:  2.72\n- params:\n\tfunction: Logistic\n\t\tbias: 0.0\n\t\tgain: 1.0\n\tinitial_value: 0\n\tnoise: 0.0\n\ttime_scale: TimeScale.TRIAL\n- output: 0.938\n-\n'TransferMechanism-3'  executed:\n- input:  0.48\n- params:\n\tfunction: Linear\n\t\tintercept: 2\n\t\tslope: 2\n\tinitial_value: 0\n\tnoise: 0.0\n\ttime_scale: TimeScale.TRIAL\n- output: 2.96\n"
     ]
    },
    {
     "name": "stdout",
     "output_type": "stream",
     "text": [
      "\n'TransferMechanism-4'  executed:\n- input:  2.96\n- params:\n\tfunction: Logistic\n\t\tbias: 0.0\n\t\tgain: 1.0\n\tinitial_value: 0\n\tnoise: 0.0\n\ttime_scale: TimeScale.TRIAL\n- output: 0.951\n-\n'TransferMechanism-3'  executed:\n- input:  0.6\n- params:\n\tfunction: Linear\n\t\tintercept: 2\n\t\tslope: 2\n\tinitial_value: 0\n\tnoise: 0.0\n\ttime_scale: TimeScale.TRIAL\n- output: 3.2\n"
     ]
    },
    {
     "name": "stdout",
     "output_type": "stream",
     "text": [
      "\n'TransferMechanism-4'  executed:\n- input:  3.2\n- params:\n\tfunction: Logistic\n\t\tbias: 0.0\n\t\tgain: 1.0\n\tinitial_value: 0\n\tnoise: 0.0\n\ttime_scale: TimeScale.TRIAL\n- output: 0.961\n-\n'TransferMechanism-3'  executed:\n- input:  0.72\n- params:\n\tfunction: Linear\n\t\tintercept: 2\n\t\tslope: 2\n\tinitial_value: 0\n\tnoise: 0.0\n\ttime_scale: TimeScale.TRIAL\n- output: 3.44\n"
     ]
    },
    {
     "name": "stdout",
     "output_type": "stream",
     "text": [
      "\n'TransferMechanism-4'  executed:\n- input:  3.44\n- params:\n\tfunction: Logistic\n\t\tbias: 0.0\n\t\tgain: 1.0\n\tinitial_value: 0\n\tnoise: 0.0\n\ttime_scale: TimeScale.TRIAL\n- output: 0.969\n-"
     ]
    },
    {
     "name": "stdout",
     "output_type": "stream",
     "text": [
      "\n'TransferMechanism-3'  executed:\n- input:  0.84\n- params:\n\tfunction: Linear\n\t\tintercept: 2\n\t\tslope: 2\n\tinitial_value: 0\n\tnoise: 0.0\n\ttime_scale: TimeScale.TRIAL\n- output: 3.68\n\n'TransferMechanism-4'  executed:\n- input:  3.68\n- params:\n\tfunction: Logistic\n\t\tbias: 0.0\n\t\tgain: 1.0\n\tinitial_value: 0\n\tnoise: 0.0\n\ttime_scale: TimeScale.TRIAL\n- output: 0.975\n-"
     ]
    },
    {
     "name": "stdout",
     "output_type": "stream",
     "text": [
      "\n'TransferMechanism-3'  executed:\n- input:  0.96\n- params:\n\tfunction: Linear\n\t\tintercept: 2\n\t\tslope: 2\n\tinitial_value: 0\n\tnoise: 0.0\n\ttime_scale: TimeScale.TRIAL\n- output: 3.92\n\n'TransferMechanism-4'  executed:\n- input:  3.92\n- params:\n\tfunction: Logistic\n\t\tbias: 0.0\n\t\tgain: 1.0\n\tinitial_value: 0\n\tnoise: 0.0\n\ttime_scale: TimeScale.TRIAL\n- output: 0.981\n-"
     ]
    },
    {
     "name": "stdout",
     "output_type": "stream",
     "text": [
      "\n'TransferMechanism-3'  executed:\n- input:  1.08\n- params:\n\tfunction: Linear\n\t\tintercept: 2\n\t\tslope: 2\n\tinitial_value: 0\n\tnoise: 0.0\n\ttime_scale: TimeScale.TRIAL\n- output: 4.16\n\n'TransferMechanism-4'  executed:\n- input:  4.16\n- params:\n\tfunction: Logistic\n\t\tbias: 0.0\n\t\tgain: 1.0\n\tinitial_value: 0\n\tnoise: 0.0\n\ttime_scale: TimeScale.TRIAL\n- output: 0.985\n"
     ]
    },
    {
     "name": "stdout",
     "output_type": "stream",
     "text": [
      "-\n'TransferMechanism-3'  executed:\n- input:  1.2\n- params:\n\tfunction: Linear\n\t\tintercept: 2\n\t\tslope: 2\n\tinitial_value: 0\n\tnoise: 0.0\n\ttime_scale: TimeScale.TRIAL\n- output: 4.4\n\n'TransferMechanism-4'  executed:\n- input:  4.4\n- params:\n\tfunction: Logistic\n\t\tbias: 0.0\n\t\tgain: 1.0\n\tinitial_value: 0\n\tnoise: 0.0\n\ttime_scale: TimeScale.TRIAL\n"
     ]
    },
    {
     "name": "stdout",
     "output_type": "stream",
     "text": [
      "- output: 0.988\n-\n'TransferMechanism-3'  executed:\n- input:  1.32\n- params:\n\tfunction: Linear\n\t\tintercept: 2\n\t\tslope: 2\n\tinitial_value: 0\n\tnoise: 0.0\n\ttime_scale: TimeScale.TRIAL\n- output: 4.64\n\n'TransferMechanism-4'  executed:\n- input:  4.64\n- params:\n\tfunction: Logistic\n\t\tbias: 0.0\n\t\tgain: 1.0\n\tinitial_value: 0\n\tnoise: 0.0\n\ttime_scale: TimeScale.TRIAL\n- output: 0.99\n"
     ]
    },
    {
     "name": "stdout",
     "output_type": "stream",
     "text": [
      "-\n'TransferMechanism-3'  executed:\n- input:  1.44\n- params:\n\tfunction: Linear\n\t\tintercept: 2\n\t\tslope: 2\n\tinitial_value: 0\n\tnoise: 0.0\n\ttime_scale: TimeScale.TRIAL\n- output: 4.88\n\n'TransferMechanism-4'  executed:\n- input:  4.88\n- params:\n\tfunction: Logistic\n\t\tbias: 0.0\n"
     ]
    },
    {
     "name": "stdout",
     "output_type": "stream",
     "text": [
      "\t\tgain: 1.0\n\tinitial_value: 0\n\tnoise: 0.0\n\ttime_scale: TimeScale.TRIAL\n- output: 0.992\n-\n'TransferMechanism-3'  executed:\n- input:  1.56\n- params:\n\tfunction: Linear\n\t\tintercept: 2\n\t\tslope: 2\n\tinitial_value: 0\n\tnoise: 0.0\n\ttime_scale: TimeScale.TRIAL\n- output: 5.12\n"
     ]
    },
    {
     "name": "stdout",
     "output_type": "stream",
     "text": [
      "\n'TransferMechanism-4'  executed:\n- input:  5.12\n- params:\n\tfunction: Logistic\n\t\tbias: 0.0\n\t\tgain: 1.0\n\tinitial_value: 0\n\tnoise: 0.0\n\ttime_scale: TimeScale.TRIAL\n- output: 0.994\n-\n'TransferMechanism-3'  executed:\n- input:  1.68\n- params:\n\tfunction: Linear\n\t\tintercept: 2\n\t\tslope: 2\n\tinitial_value: 0\n\tnoise: 0.0\n\ttime_scale: TimeScale.TRIAL\n- output: 5.36"
     ]
    },
    {
     "name": "stdout",
     "output_type": "stream",
     "text": [
      "\n\n'TransferMechanism-4'  executed:\n- input:  5.36\n- params:\n\tfunction: Logistic\n\t\tbias: 0.0\n\t\tgain: 1.0\n\tinitial_value: 0\n\tnoise: 0.0\n\ttime_scale: TimeScale.TRIAL\n- output: 0.995\n-"
     ]
    },
    {
     "name": "stdout",
     "output_type": "stream",
     "text": [
      "\n'TransferMechanism-3'  executed:\n- input:  1.8\n- params:\n\tfunction: Linear\n\t\tintercept: 2\n\t\tslope: 2\n\tinitial_value: 0\n\tnoise: 0.0\n\ttime_scale: TimeScale.TRIAL\n- output: 5.6\n\n'TransferMechanism-4'  executed:\n- input:  5.6\n- params:\n\tfunction: Logistic\n\t\tbias: 0.0\n\t\tgain: 1.0\n\tinitial_value: 0"
     ]
    },
    {
     "name": "stdout",
     "output_type": "stream",
     "text": [
      "\n\tnoise: 0.0\n\ttime_scale: TimeScale.TRIAL\n- output: 0.996\n-\n'TransferMechanism-3'  executed:\n- input:  1.92\n- params:\n\tfunction: Linear\n\t\tintercept: 2\n\t\tslope: 2\n\tinitial_value: 0\n\tnoise: 0.0\n\ttime_scale: TimeScale.TRIAL\n- output: 5.84\n\n'TransferMechanism-4'  executed:\n- input:  5.84\n- params:\n\tfunction: Logistic\n\t\tbias: 0.0\n\t\tgain: 1.0\n\tinitial_value: 0\n\tnoise: 0.0\n\ttime_scale: TimeScale.TRIAL"
     ]
    },
    {
     "name": "stdout",
     "output_type": "stream",
     "text": [
      "\n- output: 0.997\n-\n'TransferMechanism-3'  executed:\n- input:  2.04\n- params:\n\tfunction: Linear\n\t\tintercept: 2\n\t\tslope: 2\n\tinitial_value: 0\n\tnoise: 0.0\n\ttime_scale: TimeScale.TRIAL\n- output: 6.08\n\n'TransferMechanism-4'  executed:\n- input:  6.08\n- params:\n\tfunction: Logistic\n\t\tbias: 0.0\n\t\tgain: 1.0\n\tinitial_value: 0\n\tnoise: 0.0\n\ttime_scale: TimeScale.TRIAL\n- output: 0.998\n-"
     ]
    },
    {
     "name": "stdout",
     "output_type": "stream",
     "text": [
      "\n'TransferMechanism-3'  executed:\n- input:  2.16\n- params:\n\tfunction: Linear\n\t\tintercept: 2\n\t\tslope: 2\n\tinitial_value: 0\n\tnoise: 0.0\n\ttime_scale: TimeScale.TRIAL\n- output: 6.32\n\n'TransferMechanism-4'  executed:\n- input:  6.32\n- params:\n\tfunction: Logistic\n\t\tbias: 0.0\n\t\tgain: 1.0\n\tinitial_value: 0\n\tnoise: 0.0\n\ttime_scale: TimeScale.TRIAL\n- output: 0.998\n"
     ]
    },
    {
     "name": "stdout",
     "output_type": "stream",
     "text": [
      "-\n'TransferMechanism-3'  executed:\n- input:  2.28\n- params:\n\tfunction: Linear\n\t\tintercept: 2\n\t\tslope: 2\n\tinitial_value: 0\n\tnoise: 0.0\n\ttime_scale: TimeScale.TRIAL\n- output: 6.56\n\n'TransferMechanism-4'  executed:\n- input:  6.56\n- params:\n\tfunction: Logistic\n\t\tbias: 0.0\n\t\tgain: 1.0\n\tinitial_value: 0\n\tnoise: 0.0\n\ttime_scale: TimeScale.TRIAL\n- output: 0.999\n-"
     ]
    },
    {
     "name": "stdout",
     "output_type": "stream",
     "text": [
      "\n'TransferMechanism-3'  executed:\n- input:  2.4\n- params:\n\tfunction: Linear\n\t\tintercept: 2\n\t\tslope: 2\n\tinitial_value: 0\n\tnoise: 0.0\n\ttime_scale: TimeScale.TRIAL\n- output: 6.8\n\n'TransferMechanism-4'  executed:\n- input:  6.8\n- params:\n\tfunction: Logistic\n\t\tbias: 0.0\n\t\tgain: 1.0\n\tinitial_value: 0\n\tnoise: 0.0\n\ttime_scale: TimeScale.TRIAL\n- output: 0.999\n-"
     ]
    },
    {
     "name": "stdout",
     "output_type": "stream",
     "text": [
      "\n'TransferMechanism-3'  executed:\n- input:  2.52\n- params:\n\tfunction: Linear\n\t\tintercept: 2\n\t\tslope: 2\n\tinitial_value: 0\n\tnoise: 0.0\n\ttime_scale: TimeScale.TRIAL\n- output: 7.04\n\n'TransferMechanism-4'  executed:\n- input:  7.04\n- params:\n\tfunction: Logistic\n\t\tbias: 0.0\n\t\tgain: 1.0\n\tinitial_value: 0\n\tnoise: 0.0\n\ttime_scale: TimeScale.TRIAL\n- output: 0.999\n-"
     ]
    },
    {
     "name": "stdout",
     "output_type": "stream",
     "text": [
      "\n'TransferMechanism-3'  executed:\n- input:  2.64\n- params:\n\tfunction: Linear\n\t\tintercept: 2\n\t\tslope: 2\n\tinitial_value: 0\n\tnoise: 0.0\n\ttime_scale: TimeScale.TRIAL\n- output: 7.28\n\n'TransferMechanism-4'  executed:\n- input:  7.28\n- params:\n\tfunction: Logistic\n\t\tbias: 0.0\n\t\tgain: 1.0\n\tinitial_value: 0\n\tnoise: 0.0\n\ttime_scale: TimeScale.TRIAL\n- output: 0.999\n-\n'TransferMechanism-3'  executed:\n- input:  2.76\n- params:\n\tfunction: Linear\n\t\tintercept: 2\n\t\tslope: 2\n\tinitial_value: 0\n\tnoise: 0.0\n\ttime_scale: TimeScale.TRIAL\n- output: 7.52\n\n'TransferMechanism-4'  executed:\n- input:  7.52\n- params:\n\tfunction: Logistic\n\t\tbias: 0.0\n\t\tgain: 1.0\n\tinitial_value: 0\n\tnoise: 0.0\n\ttime_scale: TimeScale.TRIAL\n- output: 0.999\n-\n'TransferMechanism-3'  executed:\n- input:  2.88\n- params:\n\tfunction: Linear\n\t\tintercept: 2\n\t\tslope: 2\n\tinitial_value: 0\n\tnoise: 0.0\n\ttime_scale: TimeScale.TRIAL\n- output: 7.76\n"
     ]
    },
    {
     "name": "stdout",
     "output_type": "stream",
     "text": [
      "\n'TransferMechanism-4'  executed:\n- input:  7.76\n- params:\n\tfunction: Logistic\n\t\tbias: 0.0\n\t\tgain: 1.0\n\tinitial_value: 0\n\tnoise: 0.0\n\ttime_scale: TimeScale.TRIAL\n- output: 1.0\n-\n'TransferMechanism-3'  executed:\n- input:  3.0\n- params:\n\tfunction: Linear\n\t\tintercept: 2\n\t\tslope: 2\n\tinitial_value: 0\n\tnoise: 0.0\n\ttime_scale: TimeScale.TRIAL\n- output: 8.0\n\n'TransferMechanism-4'  executed:\n- input:  8.0\n- params:\n"
     ]
    },
    {
     "name": "stdout",
     "output_type": "stream",
     "text": [
      "\tfunction: Logistic\n\t\tbias: 0.0\n\t\tgain: 1.0\n\tinitial_value: 0\n\tnoise: 0.0\n\ttime_scale: TimeScale.TRIAL\n- output: 1.0\n-"
     ]
    },
    {
     "data": {
      "image/png": "[encoded data removed]",
      "text/plain": [
       "<matplotlib.figure.Figure at 0x10a5077f0>"
      ]
     },
     "metadata": {},
     "output_type": "display_data"
    }
   ],
   "source": [
    "linear_input_unit = TransferMechanism(function=Linear(slope=2, intercept=2))\n",
    "logistic_output_unit = TransferMechanism(function=Logistic())\n",
    "mini_connected_network = process(\n",
    "    pathway=[linear_input_unit, IDENTITY_MATRIX, logistic_output_unit])\n",
    "\n",
    "# Iterate and plot\n",
    "xVals = np.linspace(-3, 3, num=51)\n",
    "yVals = np.zeros((51,))\n",
    "for i in range(xVals.shape[0]):\n",
    "    yVals[i] = mini_connected_network.execute([xVals[i]])[0]\n",
    "    # Progress bar\n",
    "    print(\"-\", end=\"\")\n",
    "plt.plot(xVals, yVals)\n",
    "plt.show()"
   ]
  },
  {
   "cell_type": "markdown",
   "metadata": {},
   "source": [
    "IDENTITY_MATRIX is a keyword that provides a projection from the unit preceding it to the unit following that creates a one-to-one output to input projection between the two. Other useful projection keywords are...\n",
    "\n",
    "Now let's make our projection definition a bit more explicit."
   ]
  },
  {
   "cell_type": "code",
   "execution_count": 29,
   "metadata": {
    "collapsed": true
   },
   "outputs": [
    {
     "name": "stdout",
     "output_type": "stream",
     "text": [
      "\n'TransferMechanism-7'  executed:\n- input:  -3.0\n- params:\n\tfunction: Linear\n\t\tintercept: 2\n\t\tslope: 2\n\tinitial_value: 0\n\tnoise: 0.0\n\ttime_scale: TimeScale.TRIAL\n- output: -4.0\n\n'TransferMechanism-8'  executed:\n- input:  -4.0\n- params:\n\tfunction: Logistic\n\t\tbias: 0.0\n\t\tgain: 1.0\n\tinitial_value: 0\n\tnoise: 0.0\n\ttime_scale: TimeScale.TRIAL\n- output: 0.018\n-\n'TransferMechanism-7'  executed:\n- input:  -2.88\n- params:\n\tfunction: Linear\n\t\tintercept: 2\n\t\tslope: 2\n\tinitial_value: 0\n\tnoise: 0.0\n\ttime_scale: TimeScale.TRIAL\n- output: -3.76\n"
     ]
    },
    {
     "name": "stdout",
     "output_type": "stream",
     "text": [
      "\n'TransferMechanism-8'  executed:\n- input:  -3.76\n- params:\n\tfunction: Logistic\n\t\tbias: 0.0\n\t\tgain: 1.0\n\tinitial_value: 0\n\tnoise: 0.0\n\ttime_scale: TimeScale.TRIAL\n- output: 0.0228\n-\n'TransferMechanism-7'  executed:\n- input:  -2.76\n- params:\n\tfunction: Linear\n\t\tintercept: 2\n\t\tslope: 2\n\tinitial_value: 0\n\tnoise: 0.0\n\ttime_scale: TimeScale.TRIAL\n- output: -3.52\n\n'TransferMechanism-8'  executed:\n- input:  -3.52\n- params:\n\tfunction: Logistic\n\t\tbias: 0.0\n\t\tgain: 1.0\n\tinitial_value: 0\n\tnoise: 0.0\n\ttime_scale: TimeScale.TRIAL\n- output: 0.0287\n-\n'TransferMechanism-7'  executed:\n- input:  -2.64\n- params:\n\tfunction: Linear\n\t\tintercept: 2\n\t\tslope: 2\n\tinitial_value: 0\n\tnoise: 0.0\n"
     ]
    },
    {
     "name": "stdout",
     "output_type": "stream",
     "text": [
      "\ttime_scale: TimeScale.TRIAL\n- output: -3.28\n\n'TransferMechanism-8'  executed:\n- input:  -3.28\n- params:\n\tfunction: Logistic\n\t\tbias: 0.0\n\t\tgain: 1.0\n\tinitial_value: 0\n\tnoise: 0.0\n\ttime_scale: TimeScale.TRIAL\n- output: 0.0363\n-\n'TransferMechanism-7'  executed:\n- input:  -2.52\n- params:\n\tfunction: Linear\n\t\tintercept: 2\n\t\tslope: 2\n\tinitial_value: 0\n\tnoise: 0.0\n\ttime_scale: TimeScale.TRIAL\n- output: -3.04\n\n'TransferMechanism-8'  executed:\n- input:  -3.04\n- params:\n\tfunction: Logistic\n\t\tbias: 0.0\n\t\tgain: 1.0\n\tinitial_value: 0\n\tnoise: 0.0\n\ttime_scale: TimeScale.TRIAL\n- output: 0.0457\n-\n'TransferMechanism-7'  executed:\n- input:  -2.4\n- params:\n"
     ]
    },
    {
     "name": "stdout",
     "output_type": "stream",
     "text": [
      "\tfunction: Linear\n\t\tintercept: 2\n\t\tslope: 2\n\tinitial_value: 0\n\tnoise: 0.0\n\ttime_scale: TimeScale.TRIAL\n- output: -2.8\n\n'TransferMechanism-8'  executed:\n- input:  -2.8\n- params:\n\tfunction: Logistic\n\t\tbias: 0.0\n\t\tgain: 1.0\n\tinitial_value: 0\n\tnoise: 0.0\n\ttime_scale: TimeScale.TRIAL\n- output: 0.0573\n-\n'TransferMechanism-7'  executed:\n- input:  -2.28\n- params:\n\tfunction: Linear\n\t\tintercept: 2\n\t\tslope: 2\n\tinitial_value: 0\n\tnoise: 0.0\n\ttime_scale: TimeScale.TRIAL\n- output: -2.56\n\n'TransferMechanism-8'  executed:\n- input:  -2.56\n- params:\n\tfunction: Logistic\n\t\tbias: 0.0\n\t\tgain: 1.0\n\tinitial_value: 0\n\tnoise: 0.0\n\ttime_scale: TimeScale.TRIAL\n- output: 0.0718\n-\n'TransferMechanism-7'  executed:\n- input:  -2.16\n- params:\n\tfunction: Linear\n\t\tintercept: 2\n\t\tslope: 2\n\tinitial_value: 0"
     ]
    },
    {
     "name": "stdout",
     "output_type": "stream",
     "text": [
      "\n\tnoise: 0.0\n\ttime_scale: TimeScale.TRIAL\n- output: -2.32\n\n'TransferMechanism-8'  executed:\n- input:  -2.32\n- params:\n\tfunction: Logistic\n\t\tbias: 0.0\n\t\tgain: 1.0\n\tinitial_value: 0\n\tnoise: 0.0\n\ttime_scale: TimeScale.TRIAL\n- output: 0.0895\n-\n'TransferMechanism-7'  executed:\n- input:  -2.04\n- params:\n\tfunction: Linear\n\t\tintercept: 2\n\t\tslope: 2\n\tinitial_value: 0\n\tnoise: 0.0\n\ttime_scale: TimeScale.TRIAL\n- output: -2.08\n\n'TransferMechanism-8'  executed:\n- input:  -2.08\n- params:\n\tfunction: Logistic\n\t\tbias: 0.0\n\t\tgain: 1.0\n\tinitial_value: 0\n\tnoise: 0.0\n\ttime_scale: TimeScale.TRIAL\n- output: 0.111\n-"
     ]
    },
    {
     "name": "stdout",
     "output_type": "stream",
     "text": [
      "\n'TransferMechanism-7'  executed:\n- input:  -1.92\n- params:\n\tfunction: Linear\n\t\tintercept: 2\n\t\tslope: 2\n\tinitial_value: 0\n\tnoise: 0.0\n\ttime_scale: TimeScale.TRIAL\n- output: -1.84\n"
     ]
    },
    {
     "name": "stdout",
     "output_type": "stream",
     "text": [
      "\n'TransferMechanism-8'  executed:\n- input:  -1.84\n- params:\n\tfunction: Logistic\n\t\tbias: 0.0\n\t\tgain: 1.0\n\tinitial_value: 0\n\tnoise: 0.0\n\ttime_scale: TimeScale.TRIAL\n- output: 0.137\n-"
     ]
    },
    {
     "name": "stdout",
     "output_type": "stream",
     "text": [
      "\n'TransferMechanism-7'  executed:\n- input:  -1.8\n- params:\n\tfunction: Linear\n\t\tintercept: 2\n\t\tslope: 2\n\tinitial_value: 0\n\tnoise: 0.0\n\ttime_scale: TimeScale.TRIAL\n- output: -1.6\n"
     ]
    },
    {
     "name": "stdout",
     "output_type": "stream",
     "text": [
      "\n'TransferMechanism-8'  executed:\n- input:  -1.6\n- params:\n\tfunction: Logistic\n\t\tbias: 0.0\n\t\tgain: 1.0\n\tinitial_value: 0\n\tnoise: 0.0\n\ttime_scale: TimeScale.TRIAL\n- output: 0.168\n-\n'TransferMechanism-7'  executed:\n- input:  -1.68"
     ]
    },
    {
     "name": "stdout",
     "output_type": "stream",
     "text": [
      "\n- params:\n\tfunction: Linear\n\t\tintercept: 2\n\t\tslope: 2\n\tinitial_value: 0\n\tnoise: 0.0\n\ttime_scale: TimeScale.TRIAL\n- output: -1.36\n\n'TransferMechanism-8'  executed:\n- input:  -1.36\n- params:\n\tfunction: Logistic\n\t\tbias: 0.0\n\t\tgain: 1.0\n\tinitial_value: 0\n\tnoise: 0.0\n\ttime_scale: TimeScale.TRIAL\n- output: 0.204\n-\n'TransferMechanism-7'  executed:\n- input:  -1.56\n- params:\n\tfunction: Linear\n\t\tintercept: 2\n\t\tslope: 2\n\tinitial_value: 0\n\tnoise: 0.0\n\ttime_scale: TimeScale.TRIAL\n- output: -1.12\n\n'TransferMechanism-8'  executed:\n- input:  -1.12\n- params:\n\tfunction: Logistic\n\t\tbias: 0.0\n\t\tgain: 1.0\n\tinitial_value: 0\n\tnoise: 0.0\n\ttime_scale: TimeScale.TRIAL\n- output: 0.246\n-\n'TransferMechanism-7'  executed:\n- input:  -1.44\n- params:\n\tfunction: Linear\n\t\tintercept: 2\n\t\tslope: 2\n\tinitial_value: 0\n\tnoise: 0.0\n\ttime_scale: TimeScale.TRIAL\n- output: -0.88\n"
     ]
    },
    {
     "name": "stdout",
     "output_type": "stream",
     "text": [
      "\n'TransferMechanism-8'  executed:\n- input:  -0.88\n- params:\n\tfunction: Logistic\n\t\tbias: 0.0\n\t\tgain: 1.0\n\tinitial_value: 0\n\tnoise: 0.0\n\ttime_scale: TimeScale.TRIAL\n- output: 0.293\n-\n'TransferMechanism-7'  executed:\n- input:  -1.32\n- params:\n\tfunction: Linear\n\t\tintercept: 2\n\t\tslope: 2\n\tinitial_value: 0\n\tnoise: 0.0\n\ttime_scale: TimeScale.TRIAL\n- output: -0.64\n\n'TransferMechanism-8'  executed:\n- input:  -0.64\n- params:\n\tfunction: Logistic\n\t\tbias: 0.0\n\t\tgain: 1.0\n\tinitial_value: 0\n\tnoise: 0.0\n\ttime_scale: TimeScale.TRIAL\n- output: 0.345\n-\n'TransferMechanism-7'  executed:\n- input:  -1.2\n- params:\n\tfunction: Linear\n\t\tintercept: 2\n\t\tslope: 2\n\tinitial_value: 0\n\tnoise: 0.0\n\ttime_scale: TimeScale.TRIAL\n- output: -0.4\n\n'TransferMechanism-8'  executed:\n- input:  -0.4\n- params:\n\tfunction: Logistic\n\t\tbias: 0.0\n\t\tgain: 1.0\n\tinitial_value: 0\n\tnoise: 0.0\n\ttime_scale: TimeScale.TRIAL\n- output: 0.401\n-"
     ]
    },
    {
     "name": "stdout",
     "output_type": "stream",
     "text": [
      "\n'TransferMechanism-7'  executed:\n- input:  -1.08\n- params:\n\tfunction: Linear\n\t\tintercept: 2\n\t\tslope: 2\n\tinitial_value: 0\n\tnoise: 0.0\n\ttime_scale: TimeScale.TRIAL\n- output: -0.16\n\n'TransferMechanism-8'  executed:\n- input:  -0.16\n- params:\n\tfunction: Logistic\n\t\tbias: 0.0\n\t\tgain: 1.0\n\tinitial_value: 0\n\tnoise: 0.0\n\ttime_scale: TimeScale.TRIAL\n- output: 0.46\n-\n'TransferMechanism-7'  executed:\n- input:  -0.96\n- params:\n\tfunction: Linear\n\t\tintercept: 2\n\t\tslope: 2\n\tinitial_value: 0\n\tnoise: 0.0\n\ttime_scale: TimeScale.TRIAL\n- output: 0.08\n\n'TransferMechanism-8'  executed:\n- input:  0.08\n- params:\n\tfunction: Logistic\n\t\tbias: 0.0\n\t\tgain: 1.0\n\tinitial_value: 0\n\tnoise: 0.0\n\ttime_scale: TimeScale.TRIAL\n- output: 0.52\n-\n'TransferMechanism-7'  executed:\n- input:  -0.84\n- params:\n\tfunction: Linear\n\t\tintercept: 2\n\t\tslope: 2\n\tinitial_value: 0\n\tnoise: 0.0\n\ttime_scale: TimeScale.TRIAL\n- output: 0.32\n"
     ]
    },
    {
     "name": "stdout",
     "output_type": "stream",
     "text": [
      "\n'TransferMechanism-8'  executed:\n- input:  0.32\n- params:\n\tfunction: Logistic\n\t\tbias: 0.0\n\t\tgain: 1.0\n\tinitial_value: 0\n\tnoise: 0.0\n\ttime_scale: TimeScale.TRIAL\n- output: 0.579\n-\n'TransferMechanism-7'  executed:\n- input:  -0.72\n- params:\n\tfunction: Linear\n\t\tintercept: 2\n\t\tslope: 2\n\tinitial_value: 0\n\tnoise: 0.0\n\ttime_scale: TimeScale.TRIAL\n- output: 0.56\n\n'TransferMechanism-8'  executed:\n- input:  0.56\n- params:\n\tfunction: Logistic\n\t\tbias: 0.0\n\t\tgain: 1.0\n\tinitial_value: 0\n\tnoise: 0.0\n\ttime_scale: TimeScale.TRIAL\n- output: 0.636\n-\n'TransferMechanism-7'  executed:\n- input:  -0.6\n- params:\n\tfunction: Linear\n\t\tintercept: 2\n\t\tslope: 2\n\tinitial_value: 0\n\tnoise: 0.0\n\ttime_scale: TimeScale.TRIAL\n- output: 0.8\n\n'TransferMechanism-8'  executed:\n- input:  0.8\n- params:\n\tfunction: Logistic\n\t\tbias: 0.0\n\t\tgain: 1.0\n\tinitial_value: 0\n\tnoise: 0.0\n\ttime_scale: TimeScale.TRIAL\n- output: 0.69\n-"
     ]
    },
    {
     "name": "stdout",
     "output_type": "stream",
     "text": [
      "\n'TransferMechanism-7'  executed:\n- input:  -0.48\n- params:\n\tfunction: Linear\n\t\tintercept: 2\n\t\tslope: 2\n\tinitial_value: 0\n\tnoise: 0.0\n\ttime_scale: TimeScale.TRIAL\n- output: 1.04\n\n'TransferMechanism-8'  executed:\n- input:  1.04\n- params:\n\tfunction: Logistic\n\t\tbias: 0.0\n\t\tgain: 1.0\n\tinitial_value: 0\n\tnoise: 0.0\n\ttime_scale: TimeScale.TRIAL\n- output: 0.739\n-\n'TransferMechanism-7'  executed:\n- input:  -0.36\n- params:\n\tfunction: Linear\n\t\tintercept: 2\n\t\tslope: 2\n\tinitial_value: 0\n\tnoise: 0.0\n\ttime_scale: TimeScale.TRIAL\n- output: 1.28\n\n'TransferMechanism-8'  executed:\n- input:  1.28\n- params:\n\tfunction: Logistic\n\t\tbias: 0.0\n"
     ]
    },
    {
     "name": "stdout",
     "output_type": "stream",
     "text": [
      "\t\tgain: 1.0\n\tinitial_value: 0\n\tnoise: 0.0\n\ttime_scale: TimeScale.TRIAL\n- output: 0.782\n-\n'TransferMechanism-7'  executed:\n- input:  -0.24\n- params:\n\tfunction: Linear\n\t\tintercept: 2\n\t\tslope: 2\n\tinitial_value: 0\n\tnoise: 0.0\n\ttime_scale: TimeScale.TRIAL\n- output: 1.52\n\n'TransferMechanism-8'  executed:\n- input:  1.52\n- params:\n\tfunction: Logistic\n\t\tbias: 0.0\n\t\tgain: 1.0\n\tinitial_value: 0\n\tnoise: 0.0\n\ttime_scale: TimeScale.TRIAL\n- output: 0.821\n-\n'TransferMechanism-7'  executed:\n- input:  -0.12\n- params:\n\tfunction: Linear\n\t\tintercept: 2\n\t\tslope: 2\n\tinitial_value: 0\n\tnoise: 0.0\n\ttime_scale: TimeScale.TRIAL\n- output: 1.76\n\n'TransferMechanism-8'  executed:\n- input:  1.76\n- params:\n\tfunction: Logistic\n\t\tbias: 0.0\n\t\tgain: 1.0\n\tinitial_value: 0\n\tnoise: 0.0\n\ttime_scale: TimeScale.TRIAL\n- output: 0.853\n-"
     ]
    },
    {
     "name": "stdout",
     "output_type": "stream",
     "text": [
      "\n'TransferMechanism-7'  executed:\n- input:  0.0\n- params:\n\tfunction: Linear\n\t\tintercept: 2\n\t\tslope: 2\n\tinitial_value: 0\n\tnoise: 0.0\n\ttime_scale: TimeScale.TRIAL\n- output: 2.0\n\n'TransferMechanism-8'  executed:\n- input:  2.0\n- params:\n\tfunction: Logistic\n\t\tbias: 0.0\n\t\tgain: 1.0\n\tinitial_value: 0\n\tnoise: 0.0\n\ttime_scale: TimeScale.TRIAL\n- output: 0.881\n-\n'TransferMechanism-7'  executed:\n- input:  0.12\n- params:\n\tfunction: Linear\n\t\tintercept: 2\n\t\tslope: 2\n\tinitial_value: 0\n\tnoise: 0.0\n\ttime_scale: TimeScale.TRIAL\n- output: 2.24\n\n'TransferMechanism-8'  executed:\n- input:  2.24\n- params:\n\tfunction: Logistic\n\t\tbias: 0.0\n\t\tgain: 1.0\n\tinitial_value: 0\n\tnoise: 0.0\n\ttime_scale: TimeScale.TRIAL\n- output: 0.904\n-"
     ]
    },
    {
     "name": "stdout",
     "output_type": "stream",
     "text": [
      "\n'TransferMechanism-7'  executed:\n- input:  0.24\n- params:\n\tfunction: Linear\n\t\tintercept: 2\n\t\tslope: 2\n\tinitial_value: 0\n\tnoise: 0.0\n\ttime_scale: TimeScale.TRIAL\n- output: 2.48\n\n'TransferMechanism-8'  executed:\n- input:  2.48\n- params:\n\tfunction: Logistic\n\t\tbias: 0.0\n\t\tgain: 1.0\n\tinitial_value: 0\n\tnoise: 0.0\n\ttime_scale: TimeScale.TRIAL\n- output: 0.923\n-\n'TransferMechanism-7'  executed:\n- input:  0.36\n- params:\n\tfunction: Linear\n\t\tintercept: 2\n\t\tslope: 2\n\tinitial_value: 0\n\tnoise: 0.0\n\ttime_scale: TimeScale.TRIAL\n- output: 2.72\n\n'TransferMechanism-8'  executed:\n- input:  2.72\n- params:\n\tfunction: Logistic\n\t\tbias: 0.0\n\t\tgain: 1.0\n\tinitial_value: 0\n\tnoise: 0.0\n\ttime_scale: TimeScale.TRIAL\n- output: 0.938\n-\n'TransferMechanism-7'  executed:\n- input:  0.48\n- params:\n\tfunction: Linear\n"
     ]
    },
    {
     "name": "stdout",
     "output_type": "stream",
     "text": [
      "\t\tintercept: 2\n\t\tslope: 2\n\tinitial_value: 0\n\tnoise: 0.0\n\ttime_scale: TimeScale.TRIAL\n- output: 2.96\n\n'TransferMechanism-8'  executed:\n- input:  2.96\n- params:\n\tfunction: Logistic\n\t\tbias: 0.0\n\t\tgain: 1.0\n\tinitial_value: 0\n\tnoise: 0.0\n\ttime_scale: TimeScale.TRIAL\n- output: 0.951\n-\n'TransferMechanism-7'  executed:\n- input:  0.6\n- params:\n\tfunction: Linear\n\t\tintercept: 2\n\t\tslope: 2\n\tinitial_value: 0\n\tnoise: 0.0\n\ttime_scale: TimeScale.TRIAL\n- output: 3.2\n\n'TransferMechanism-8'  executed:\n- input:  3.2\n- params:\n\tfunction: Logistic\n\t\tbias: 0.0\n\t\tgain: 1.0\n\tinitial_value: 0\n\tnoise: 0.0\n\ttime_scale: TimeScale.TRIAL\n- output: 0.961\n-\n'TransferMechanism-7'  executed:\n- input:  0.72\n- params:\n\tfunction: Linear\n\t\tintercept: 2\n\t\tslope: 2\n\tinitial_value: 0\n\tnoise: 0.0\n\ttime_scale: TimeScale.TRIAL\n- output: 3.44\n\n'TransferMechanism-8'  executed:\n- input:  3.44\n- params:\n\tfunction: Logistic\n\t\tbias: 0.0\n\t\tgain: 1.0\n\tinitial_value: 0\n\tnoise: 0.0\n\ttime_scale: TimeScale.TRIAL\n- output: 0.969\n-\n'TransferMechanism-7'  executed:\n- input:  0.84\n- params:\n\tfunction: Linear\n\t\tintercept: 2\n"
     ]
    },
    {
     "name": "stdout",
     "output_type": "stream",
     "text": [
      "\t\tslope: 2\n\tinitial_value: 0\n\tnoise: 0.0\n\ttime_scale: TimeScale.TRIAL\n- output: 3.68\n\n'TransferMechanism-8'  executed:\n- input:  3.68\n- params:\n\tfunction: Logistic\n\t\tbias: 0.0\n\t\tgain: 1.0\n\tinitial_value: 0\n\tnoise: 0.0\n\ttime_scale: TimeScale.TRIAL\n- output: 0.975\n-\n'TransferMechanism-7'  executed:\n- input:  0.96\n- params:\n\tfunction: Linear\n\t\tintercept: 2\n\t\tslope: 2\n\tinitial_value: 0\n\tnoise: 0.0\n\ttime_scale: TimeScale.TRIAL\n- output: 3.92\n\n'TransferMechanism-8'  executed:\n- input:  3.92\n- params:\n\tfunction: Logistic\n\t\tbias: 0.0\n\t\tgain: 1.0\n\tinitial_value: 0\n\tnoise: 0.0\n\ttime_scale: TimeScale.TRIAL\n- output: 0.981\n-\n'TransferMechanism-7'  executed:\n- input:  1.08\n- params:\n\tfunction: Linear\n\t\tintercept: 2\n\t\tslope: 2\n\tinitial_value: 0\n\tnoise: 0.0\n\ttime_scale: TimeScale.TRIAL\n- output: 4.16\n\n'TransferMechanism-8'  executed:\n- input:  4.16\n- params:\n\tfunction: Logistic\n\t\tbias: 0.0\n\t\tgain: 1.0\n\tinitial_value: 0\n\tnoise: 0.0\n\ttime_scale: TimeScale.TRIAL\n- output: 0.985\n-"
     ]
    },
    {
     "name": "stdout",
     "output_type": "stream",
     "text": [
      "\n'TransferMechanism-7'  executed:\n- input:  1.2\n- params:\n\tfunction: Linear\n\t\tintercept: 2\n\t\tslope: 2\n\tinitial_value: 0\n\tnoise: 0.0\n\ttime_scale: TimeScale.TRIAL\n- output: 4.4\n\n'TransferMechanism-8'  executed:\n- input:  4.4\n- params:\n\tfunction: Logistic\n\t\tbias: 0.0\n\t\tgain: 1.0\n\tinitial_value: 0\n\tnoise: 0.0\n\ttime_scale: TimeScale.TRIAL\n- output: 0.988\n-\n'TransferMechanism-7'  executed:\n- input:  1.32\n- params:\n\tfunction: Linear\n\t\tintercept: 2\n\t\tslope: 2\n\tinitial_value: 0\n\tnoise: 0.0\n\ttime_scale: TimeScale.TRIAL\n- output: 4.64\n\n'TransferMechanism-8'  executed:\n- input:  4.64\n- params:\n\tfunction: Logistic\n\t\tbias: 0.0\n\t\tgain: 1.0\n\tinitial_value: 0\n\tnoise: 0.0\n\ttime_scale: TimeScale.TRIAL\n- output: 0.99\n-"
     ]
    },
    {
     "name": "stdout",
     "output_type": "stream",
     "text": [
      "\n'TransferMechanism-7'  executed:\n- input:  1.44\n- params:\n\tfunction: Linear\n\t\tintercept: 2\n\t\tslope: 2\n\tinitial_value: 0\n\tnoise: 0.0\n\ttime_scale: TimeScale.TRIAL\n- output: 4.88\n\n'TransferMechanism-8'  executed:\n- input:  4.88\n- params:\n\tfunction: Logistic\n\t\tbias: 0.0\n\t\tgain: 1.0\n\tinitial_value: 0\n\tnoise: 0.0\n\ttime_scale: TimeScale.TRIAL\n- output: 0.992\n-\n'TransferMechanism-7'  executed:\n- input:  1.56\n- params:\n\tfunction: Linear\n\t\tintercept: 2\n\t\tslope: 2\n\tinitial_value: 0\n\tnoise: 0.0\n\ttime_scale: TimeScale.TRIAL\n- output: 5.12\n\n'TransferMechanism-8'  executed:\n- input:  5.12"
     ]
    },
    {
     "name": "stdout",
     "output_type": "stream",
     "text": [
      "\n- params:\n\tfunction: Logistic\n\t\tbias: 0.0\n\t\tgain: 1.0\n\tinitial_value: 0\n\tnoise: 0.0\n\ttime_scale: TimeScale.TRIAL\n- output: 0.994\n-\n'TransferMechanism-7'  executed:\n- input:  1.68\n- params:\n\tfunction: Linear\n\t\tintercept: 2\n\t\tslope: 2\n\tinitial_value: 0\n\tnoise: 0.0\n\ttime_scale: TimeScale.TRIAL\n- output: 5.36\n\n'TransferMechanism-8'  executed:\n- input:  5.36\n- params:\n\tfunction: Logistic\n\t\tbias: 0.0\n\t\tgain: 1.0\n\tinitial_value: 0\n\tnoise: 0.0\n\ttime_scale: TimeScale.TRIAL\n- output: 0.995\n-\n'TransferMechanism-7'  executed:\n- input:  1.8\n- params:\n\tfunction: Linear\n\t\tintercept: 2\n\t\tslope: 2\n\tinitial_value: 0\n\tnoise: 0.0\n\ttime_scale: TimeScale.TRIAL\n- output: 5.6\n\n'TransferMechanism-8'  executed:\n- input:  5.6\n- params:\n\tfunction: Logistic\n\t\tbias: 0.0\n\t\tgain: 1.0\n\tinitial_value: 0\n\tnoise: 0.0\n\ttime_scale: TimeScale.TRIAL\n- output: 0.996\n-"
     ]
    },
    {
     "name": "stdout",
     "output_type": "stream",
     "text": [
      "\n'TransferMechanism-7'  executed:\n- input:  1.92\n- params:\n\tfunction: Linear\n\t\tintercept: 2\n\t\tslope: 2\n\tinitial_value: 0\n\tnoise: 0.0\n\ttime_scale: TimeScale.TRIAL\n- output: 5.84\n\n'TransferMechanism-8'  executed:\n- input:  5.84\n- params:\n\tfunction: Logistic\n\t\tbias: 0.0\n\t\tgain: 1.0\n\tinitial_value: 0\n\tnoise: 0.0\n\ttime_scale: TimeScale.TRIAL\n- output: 0.997\n-\n'TransferMechanism-7'  executed:\n- input:  2.04\n- params:\n\tfunction: Linear\n\t\tintercept: 2\n\t\tslope: 2\n\tinitial_value: 0\n\tnoise: 0.0\n\ttime_scale: TimeScale.TRIAL\n- output: 6.08\n\n'TransferMechanism-8'  executed:\n- input:  6.08\n- params:\n\tfunction: Logistic\n\t\tbias: 0.0\n\t\tgain: 1.0\n\tinitial_value: 0\n\tnoise: 0.0\n\ttime_scale: TimeScale.TRIAL\n- output: 0.998\n-"
     ]
    },
    {
     "name": "stdout",
     "output_type": "stream",
     "text": [
      "\n'TransferMechanism-7'  executed:\n- input:  2.16\n- params:\n\tfunction: Linear\n\t\tintercept: 2\n\t\tslope: 2\n\tinitial_value: 0\n\tnoise: 0.0\n\ttime_scale: TimeScale.TRIAL\n- output: 6.32\n\n'TransferMechanism-8'  executed:\n- input:  6.32\n- params:\n\tfunction: Logistic\n\t\tbias: 0.0\n\t\tgain: 1.0\n\tinitial_value: 0\n\tnoise: 0.0\n\ttime_scale: TimeScale.TRIAL\n- output: 0.998\n-\n'TransferMechanism-7'  executed:\n- input:  2.28\n- params:\n\tfunction: Linear\n\t\tintercept: 2\n\t\tslope: 2\n\tinitial_value: 0\n\tnoise: 0.0\n\ttime_scale: TimeScale.TRIAL\n- output: 6.56\n\n'TransferMechanism-8'  executed:\n- input:  6.56\n- params:\n\tfunction: Logistic\n\t\tbias: 0.0\n\t\tgain: 1.0\n\tinitial_value: 0\n\tnoise: 0.0\n\ttime_scale: TimeScale.TRIAL\n- output: 0.999\n-\n'TransferMechanism-7'  executed:\n- input:  2.4\n- params:\n\tfunction: Linear\n\t\tintercept: 2\n\t\tslope: 2"
     ]
    },
    {
     "name": "stdout",
     "output_type": "stream",
     "text": [
      "\n\tinitial_value: 0\n\tnoise: 0.0\n\ttime_scale: TimeScale.TRIAL\n- output: 6.8\n\n'TransferMechanism-8'  executed:\n- input:  6.8\n- params:\n\tfunction: Logistic\n\t\tbias: 0.0\n\t\tgain: 1.0\n\tinitial_value: 0\n\tnoise: 0.0\n\ttime_scale: TimeScale.TRIAL\n- output: 0.999\n-\n'TransferMechanism-7'  executed:\n- input:  2.52\n- params:\n\tfunction: Linear\n\t\tintercept: 2\n\t\tslope: 2\n\tinitial_value: 0\n\tnoise: 0.0\n\ttime_scale: TimeScale.TRIAL\n- output: 7.04\n\n'TransferMechanism-8'  executed:\n- input:  7.04\n- params:\n\tfunction: Logistic\n\t\tbias: 0.0\n\t\tgain: 1.0\n\tinitial_value: 0\n\tnoise: 0.0\n\ttime_scale: TimeScale.TRIAL\n- output: 0.999\n-\n'TransferMechanism-7'  executed:\n- input:  2.64\n- params:\n\tfunction: Linear\n\t\tintercept: 2\n\t\tslope: 2\n\tinitial_value: 0\n\tnoise: 0.0\n\ttime_scale: TimeScale.TRIAL\n- output: 7.28\n\n'TransferMechanism-8'  executed:\n- input:  7.28"
     ]
    },
    {
     "name": "stdout",
     "output_type": "stream",
     "text": [
      "\n- params:\n\tfunction: Logistic\n\t\tbias: 0.0\n\t\tgain: 1.0\n\tinitial_value: 0\n\tnoise: 0.0\n\ttime_scale: TimeScale.TRIAL\n- output: 0.999\n-\n'TransferMechanism-7'  executed:\n- input:  2.76\n- params:\n\tfunction: Linear\n\t\tintercept: 2\n\t\tslope: 2\n\tinitial_value: 0\n\tnoise: 0.0\n\ttime_scale: TimeScale.TRIAL\n- output: 7.52\n\n'TransferMechanism-8'  executed:\n- input:  7.52\n- params:\n\tfunction: Logistic\n\t\tbias: 0.0\n\t\tgain: 1.0\n\tinitial_value: 0\n\tnoise: 0.0\n\ttime_scale: TimeScale.TRIAL\n- output: 0.999\n-\n'TransferMechanism-7'  executed:\n- input:  2.88\n- params:\n\tfunction: Linear\n\t\tintercept: 2\n\t\tslope: 2\n\tinitial_value: 0\n\tnoise: 0.0\n\ttime_scale: TimeScale.TRIAL\n- output: 7.76\n\n'TransferMechanism-8'  executed:\n- input:  7.76\n- params:\n\tfunction: Logistic\n\t\tbias: 0.0\n\t\tgain: 1.0"
     ]
    },
    {
     "name": "stdout",
     "output_type": "stream",
     "text": [
      "\n\tinitial_value: 0\n\tnoise: 0.0\n\ttime_scale: TimeScale.TRIAL\n- output: 1.0\n-\n'TransferMechanism-7'  executed:\n- input:  3.0\n- params:\n\tfunction: Linear\n\t\tintercept: 2\n\t\tslope: 2\n\tinitial_value: 0\n\tnoise: 0.0\n\ttime_scale: TimeScale.TRIAL\n- output: 8.0\n\n'TransferMechanism-8'  executed:\n- input:  8.0\n- params:\n\tfunction: Logistic\n\t\tbias: 0.0\n\t\tgain: 1.0\n\tinitial_value: 0\n\tnoise: 0.0\n\ttime_scale: TimeScale.TRIAL\n- output: 1.0\n-"
     ]
    },
    {
     "data": {
      "image/png": "[encoded data removed]",
      "text/plain": [
       "<matplotlib.figure.Figure at 0x10a69eac8>"
      ]
     },
     "metadata": {},
     "output_type": "display_data"
    }
   ],
   "source": [
    "linear_input_unit = TransferMechanism(function=Linear(slope=2, intercept=2))\n",
    "logistic_output_unit = TransferMechanism(function=Logistic())\n",
    "\n",
    "mapping_matrix = np.asarray([[1]])\n",
    "unit_mapping_projection = MappingProjection(sender=linear_input_unit,\n",
    "                                            receiver=logistic_output_unit,\n",
    "                                            matrix=mapping_matrix)\n",
    "mini_connected_network = process(\n",
    "    pathway=[linear_input_unit, unit_mapping_projection, logistic_output_unit])\n",
    "\n",
    "# Iterate and plot\n",
    "xVals = np.linspace(-3, 3, num=51)\n",
    "yVals = np.zeros((51,))\n",
    "for i in range(xVals.shape[0]):\n",
    "    yVals[i] = mini_connected_network.execute([xVals[i]])[0]\n",
    "    # Progress bar\n",
    "    print(\"-\", end=\"\")\n",
    "plt.plot(xVals, yVals)\n",
    "plt.show()"
   ]
  },
  {
   "cell_type": "markdown",
   "metadata": {},
   "source": [
    "This time we specified our mapping matrix (which is a 2-D numpy array) then explicitly initialized a *[MappingProjection](https://princetonuniversity.github.io/PsyNeuLink/MappingProjection.html)* with that matrix as well as its input and output mechanisms. Note: because we specified the input and output mechanisms in the projection itself, we didn't need to include it in the process pathway as it will infer its position from those parameters. Ultimately, however, this does the exact same thing as our keyword method above which is far less verbose for this common use case."
   ]
  },
  {
   "cell_type": "markdown",
   "metadata": {},
   "source": [
    "### Systems\n",
    "\n",
    "The highest level at which models are considered in PsyNeuLink is that of the *[System](https://princetonuniversity.github.io/PsyNeuLink/System.html)*. A system is composed of one or more processes which can then run in unison. This allows system graphs to be more complex than the strictly linear ones of processes. Our first system will consist of two input nodes that converge on a single output mechanism. We will be modelling competition between color naming and word reading in the stroop task."
   ]
  },
  {
   "cell_type": "code",
   "execution_count": 3,
   "metadata": {
    "collapsed": true
   },
   "outputs": [],
   "source": [
    "colors = TransferMechanism(default_input_value=[0, 0], function=Linear,\n",
    "                           name=\"Colors\")\n",
    "words = TransferMechanism(default_input_value=[0, 0],\n",
    "                          function=Linear(slope=1.5), name=\"Words\")\n",
    "response = TransferMechanism(default_input_value=[0, 0], function=Logistic,\n",
    "                             name=\"Response\")\n",
    "\n",
    "color_naming_process = process(pathway=[colors, IDENTITY_MATRIX, response],\n",
    "                               name=\"Color Naming\")\n",
    "word_reading_process = process(pathway=[words, IDENTITY_MATRIX, response],\n",
    "                               name=\"Word Reading\")\n",
    "\n",
    "# Should pass in scheduler or have system create new scheduler if scheduler=None\n",
    "mini_stroop = system(processes=[color_naming_process, word_reading_process],\n",
    "                     name='Stroop Model')\n",
    "\n",
    "# Note: Once again, make sure you do not run this cell multiple times. This would create multiple\n",
    "# processes and systems that share the same variable name in the PsyNeuLink registry causing\n",
    "# unexpected behavior."
   ]
  },
  {
   "cell_type": "markdown",
   "metadata": {},
   "source": [
    "The order of processes in the system initialization is important here as it is the order we will feed inputs to the system."
   ]
  },
  {
   "cell_type": "code",
   "execution_count": 12,
   "metadata": {
    "collapsed": false
   },
   "outputs": [
    {
     "data": {
      "text/plain": [
       "[[array([ 0.73105858,  0.81757448])], [array([ 0.73105858,  0.81757448])]]"
      ]
     },
     "execution_count": 12,
     "metadata": {},
     "output_type": "execute_result"
    }
   ],
   "source": [
    "input = {colors: [1, 0], \n",
    "         words: [0, 1]}\n",
    "mini_stroop.run(input)3"
   ]
  },
  {
   "cell_type": "code",
   "execution_count": 15,
   "metadata": {
    "collapsed": false
   },
   "outputs": [
    {
     "data": {
      "text/plain": [
       "[[array([ 0.73105858,  0.81757448])],\n [array([ 0.73105858,  0.81757448])],\n [array([ 0.5       ,  0.92414182])]]"
      ]
     },
     "execution_count": 15,
     "metadata": {},
     "output_type": "execute_result"
    }
   ],
   "source": [
    "input_dict = {colors: [0, 1],\n",
    "              words: [0, 1]}\n",
    "mini_stroop.run(input_dict)"
   ]
  },
  {
   "cell_type": "markdown",
   "metadata": {},
   "source": [
    "As modeled, we see that word reading beats out color naming when there is conflict, but congruent stimuli elicit an even stronger response."
   ]
  },
  {
   "cell_type": "markdown",
   "metadata": {},
   "source": [
    "### Pre-trained Complete Stroop Model\n",
    "\n",
    "Let's practice using systems by recreating the more complex stroop model from Cohen et al (1990). Later we will train the network ourselves, but for now we will explicitly model the learned weights."
   ]
  },
  {
   "cell_type": "code",
   "execution_count": 16,
   "metadata": {
    "collapsed": false
   },
   "outputs": [],
   "source": [
    "ink_color = TransferMechanism(default_input_value=[0, 0], function=Linear())\n",
    "word = TransferMechanism(default_input_value=[0, 0], function=Linear())\n",
    "task_demand = TransferMechanism(default_input_value=[0, 0], function=Linear())\n",
    "\n",
    "hidden_layer = TransferMechanism(default_input_value=[0, 0, 0, 0],\n",
    "                                 function=Logistic(bias=-4))\n",
    "\n",
    "output_layer = TransferMechanism(default_input_value=[0, 0], function=Linear())\n",
    "\n",
    "color_mapping_matrix = np.asarray([[2.2, -2.2, 0, 0], [-2.2, 2.2, 0, 0]])\n",
    "color_projection = MappingProjection(sender=ink_color, receiver=hidden_layer,\n",
    "                                     matrix=color_mapping_matrix)\n",
    "word_mapping_matrix = np.asarray([[0, 0, 2.6, -2.6], [0, 0, -2.6, 2.6]])\n",
    "word_projection = MappingProjection(sender=word, receiver=hidden_layer,\n",
    "                                    matrix=word_mapping_matrix)\n",
    "task_mapping_matrix = np.asarray([[4, 4, 0, 0], [0, 0, 4, 4]])\n",
    "task_projection = MappingProjection(sender=task_demand, receiver=hidden_layer,\n",
    "                                    matrix=task_mapping_matrix)\n",
    "output_mapping_matrix = np.asarray(\n",
    "    [[1.3, -1.3], [-1.3, 1.3], [2.5, -2.5], [-2.5, 2.5]])\n",
    "MappingProjection(sender=hidden_layer, receiver=output_layer,\n",
    "                  matrix=output_mapping_matrix)\n",
    "\n",
    "color_naming_process = process(pathway=[ink_color, hidden_layer, output_layer])\n",
    "word_reading_process = process(pathway=[word, hidden_layer, output_layer])\n",
    "task_process = process(pathway=[task_demand, hidden_layer, output_layer])\n",
    "\n",
    "stroop_model = system(\n",
    "    processes=[color_naming_process, word_reading_process, task_process])\n",
    "\n",
    "ink_color.reportOutputPref = True\n",
    "word.reportOutputPref = True\n",
    "task_demand.reportOutputPref = True\n",
    "hidden_layer.reportOutputPref = True\n",
    "\n",
    "# Note: Once again, make sure you do not run this cell multiple times. This would create multiple\n",
    "# processes and systems that share the same variable name in the PsyNeuLink registry causing\n",
    "# unexpected behavior."
   ]
  },
  {
   "cell_type": "code",
   "execution_count": 17,
   "metadata": {
    "collapsed": false
   },
   "outputs": [
    {
     "name": "stdout",
     "output_type": "stream",
     "text": [
      "\n'TransferMechanism-1'  executed:\n- input:  1.0, 0.0\n- params:\n\tfunction: Linear\n\t\tintercept: 0.0\n\t\tslope: 1.0\n\tinitial_value: 0 0\n\tnoise: 0.0\n\ttime_scale: TimeScale.TRIAL\n- output: 1.0 0.0\n\n'TransferMechanism-3'  executed:\n- input:  0.0, 1.0\n- params:\n\tfunction: Linear\n\t\tintercept: 0.0\n\t\tslope: 1.0\n\tinitial_value: 0 0\n\tnoise: 0.0\n\ttime_scale: TimeScale.TRIAL\n- output: 0.0 1.0\n\n'TransferMechanism-2'  executed:\n- input:  1.0, 0.0\n- params:\n\tfunction: Linear\n\t\tintercept: 0.0\n\t\tslope: 1.0\n\tinitial_value: 0 0\n\tnoise: 0.0\n\ttime_scale: TimeScale.TRIAL\n- output: 1.0 0.0\n\n'TransferMechanism-4'  executed:\n- input:  2.2, -2.2, 6.6, 1.4\n- params:\n\tfunction: Logistic\n\t\tbias: -4\n\t\tgain: 1.0\n\tinitial_value: 0 0 0 0\n\tnoise: 0.0\n\ttime_scale: TimeScale.TRIAL\n- output: 0.998 0.858 1.0 0.996\n"
     ]
    },
    {
     "data": {
      "text/plain": [
       "[[array([ 0.19295186, -0.19295186])]]"
      ]
     },
     "execution_count": 17,
     "metadata": {},
     "output_type": "execute_result"
    }
   ],
   "source": [
    "input_dict = {ink_color: [1, 0],\n",
    "              word: [1, 0],\n",
    "              task_demand: [0, 1]}\n",
    "stroop_model.run(input_dict)"
   ]
  },
  {
   "cell_type": "markdown",
   "metadata": {},
   "source": [
    "This is currently the end of the tutorial, but more content is being added weekly. For further examples, look to the Scripts folder inside your PsyNeuLink directory for several functioning models."
   ]
  }
 ],
 "metadata": {
  "anaconda-cloud": {},
  "kernelspec": {
   "display_name": "Python 3",
   "language": "python",
   "name": "python3"
  },
  "language_info": {
   "codemirror_mode": {
    "name": "ipython",
    "version": 3
   },
   "file_extension": ".py",
   "mimetype": "text/x-python",
   "name": "python",
   "nbconvert_exporter": "python",
   "pygments_lexer": "ipython3",
   "version": "3.5.2"
  }
 },
 "nbformat": 4,
 "nbformat_minor": 0
}
