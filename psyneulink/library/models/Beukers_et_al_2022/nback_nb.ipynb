{
 "cells": [
  {
   "cell_type": "markdown",
   "source": [
    "# nback_nb"
   ],
   "metadata": {
    "collapsed": false,
    "pycharm": {
     "name": "#%% md\n"
    }
   }
  },
  {
   "cell_type": "code",
   "execution_count": 1,
   "outputs": [],
   "source": [
    "from nback import construct_model, train_network, run_model, analyze_results\n",
    "from psyneulink import *"
   ],
   "metadata": {
    "collapsed": false,
    "pycharm": {
     "name": "#%%\n"
    }
   }
  },
  {
   "cell_type": "markdown",
   "source": [
    "## Model Parameters:\n",
    "\n",
    "##### Fixed (structural) parameters:"
   ],
   "metadata": {
    "collapsed": false
   }
  },
  {
   "cell_type": "code",
   "execution_count": 2,
   "outputs": [],
   "source": [
    "MAX_NBACK_LEVELS = 3\n",
    "NUM_STIM = 8 # number of different stimuli in stimulus set -  QUESTION: WHY ISN\"T THIS EQUAL TO STIM_SIZE OR VICE VERSA?\n",
    "FFN_TRANSFER_FUNCTION = ReLU"
   ],
   "metadata": {
    "collapsed": false,
    "pycharm": {
     "name": "#%%\n"
    }
   }
  },
  {
   "cell_type": "markdown",
   "source": [
    "##### Constructor parameters:  (values are from nback-paper)"
   ],
   "metadata": {
    "collapsed": false
   }
  },
  {
   "cell_type": "code",
   "source": [
    "STIM_SIZE = 8                    # length of stimulus vector\n",
    "CONTEXT_SIZE = 25                # length of context vector\n",
    "HIDDEN_SIZE = STIM_SIZE*4        # dimension of hidden units in ff\n",
    "NBACK_LEVELS = [2,3]           # Currently restricted to these\n",
    "NUM_NBACK_LEVELS = len(NBACK_LEVELS)\n",
    "CONTEXT_DRIFT_NOISE = 0.0        # noise used by DriftOnASphereIntegrator (function of Context mech)\n",
    "RANDOM_WEIGHTS_INITIALIZATION=\\\n",
    "    RandomMatrix(center=0.0, range=0.1)  # Matrix spec used to initialize all Projections\n",
    "RETRIEVAL_SOFTMAX_TEMP = 1/8     # express as gain # precision of retrieval process\n",
    "RETRIEVAL_HAZARD_RATE = 0.04     # rate of re=sampling of em following non-match determination in a pass through ffn\n",
    "RETRIEVAL_STIM_WEIGHT = 0.05      # weighting of stimulus field in retrieval from em\n",
    "RETRIEVAL_CONTEXT_WEIGHT \\\n",
    "    = 1-RETRIEVAL_STIM_WEIGHT # weighting of context field in retrieval from em\n",
    "DECISION_SOFTMAX_TEMP=1"
   ],
   "metadata": {
    "collapsed": false,
    "pycharm": {
     "name": "#%%\n"
    }
   },
   "execution_count": 3,
   "outputs": []
  },
  {
   "cell_type": "markdown",
   "source": [
    "##### Training parameters:"
   ],
   "metadata": {
    "collapsed": false
   }
  },
  {
   "cell_type": "code",
   "source": [
    "NUM_EPOCHS = 6250    # nback-paper: 400,000 @ one trial per epoch = 6,250 @ 64 trials per epoch\n",
    "LEARNING_RATE =0.001  # nback-paper: .001\n",
    "\n",
    "#### Execution parameters:\n",
    "CONTEXT_DRIFT_RATE=.1 # drift rate used for DriftOnASphereIntegrator (function of Context mech) on each trial\n",
    "NUM_TRIALS = 48 # number of stimuli presented in a trial sequence\n",
    "REPORT_OUTPUT = ReportOutput.OFF   # Sets console output during run\n",
    "REPORT_PROGRESS = ReportProgress.OFF  # Sets console progress bar during run\n",
    "ANIMATE = False # {UNIT:EXECUTION_SET} # Specifies whether to generate animation of execution"
   ],
   "metadata": {
    "collapsed": false,
    "pycharm": {
     "name": "#%%\n"
    }
   },
   "execution_count": 4,
   "outputs": []
  },
  {
   "cell_type": "markdown",
   "source": [
    "##### Names of Compositions and Mechanisms:"
   ],
   "metadata": {
    "collapsed": false
   }
  },
  {
   "cell_type": "code",
   "source": [
    "NBACK_MODEL = \"N-back Model\"\n",
    "FFN_COMPOSITION = \"WORKING MEMORY (fnn)\"\n",
    "FFN_STIMULUS_INPUT = \"CURRENT STIMULUS\"\n",
    "FFN_CONTEXT_INPUT = \"CURRENT CONTEXT\"\n",
    "FFN_STIMULUS_RETRIEVED = \"RETRIEVED STIMULUS\"\n",
    "FFN_CONTEXT_RETRIEVED = \"RETRIEVED CONTEXT\"\n",
    "FFN_TASK = \"CURRENT TASK\"\n",
    "FFN_HIDDEN = \"HIDDEN LAYER\"\n",
    "FFN_OUTPUT = \"DECISION LAYER\"\n",
    "MODEL_STIMULUS_INPUT ='STIM'\n",
    "MODEL_CONTEXT_INPUT = 'CONTEXT'\n",
    "MODEL_TASK_INPUT = \"TASK\"\n",
    "EM = \"EPISODIC MEMORY (dict)\"\n",
    "CONTROLLER = \"READ/WRITE CONTROLLER\""
   ],
   "metadata": {
    "collapsed": false,
    "pycharm": {
     "name": "#%%\n"
    }
   },
   "execution_count": 7,
   "outputs": []
  },
  {
   "cell_type": "markdown",
   "metadata": {
    "pycharm": {
     "name": "#%% md\n"
    }
   },
   "source": [
    "## Construct the model:"
   ]
  },
  {
   "cell_type": "code",
   "execution_count": 8,
   "metadata": {
    "pycharm": {
     "name": "#%%\n"
    }
   },
   "outputs": [
    {
     "name": "stdout",
     "output_type": "stream",
     "text": [
      "constructing 'WORKING MEMORY (fnn)'...\n",
      "constructing 'nback Model'...\n",
      "full model constructed\n"
     ]
    }
   ],
   "source": [
    "clear_registry()\n",
    "nback_model = construct_model(stim_size=10 # Size of stimulus input layer\n",
    "                              )"
   ]
  },
  {
   "cell_type": "code",
   "execution_count": 10,
   "metadata": {
    "pycharm": {
     "name": "#%%\n"
    }
   },
   "outputs": [
    {
     "data": {
      "text/plain": "10"
     },
     "execution_count": 10,
     "metadata": {},
     "output_type": "execute_result"
    }
   ],
   "source": [
    "len(nback_model.nodes['STIM'].variable[0])"
   ]
  },
  {
   "cell_type": "markdown",
   "metadata": {},
   "source": [
    "## Display the model:"
   ]
  },
  {
   "cell_type": "code",
   "execution_count": 11,
   "metadata": {
    "pycharm": {
     "name": "#%%\n"
    }
   },
   "outputs": [
    {
     "data": {
      "text/plain": "<graphviz.dot.Digraph at 0x7f9f48a1ed90>",
      "image/svg+xml": "<?xml version=\"1.0\" encoding=\"UTF-8\" standalone=\"no\"?>\n<!DOCTYPE svg PUBLIC \"-//W3C//DTD SVG 1.1//EN\"\n \"http://www.w3.org/Graphics/SVG/1.1/DTD/svg11.dtd\">\n<!-- Generated by graphviz version 2.40.1 (20161225.0304)\n -->\n<!-- Title: nback Model Pages: 1 -->\n<svg width=\"973pt\" height=\"444pt\"\n viewBox=\"0.00 0.00 973.00 444.00\" xmlns=\"http://www.w3.org/2000/svg\" xmlns:xlink=\"http://www.w3.org/1999/xlink\">\n<g id=\"graph0\" class=\"graph\" transform=\"scale(1 1) rotate(0) translate(4 440)\">\n<title>nback Model</title>\n<polygon fill=\"#ffffff\" stroke=\"transparent\" points=\"-4,4 -4,-440 969,-440 969,4 -4,4\"/>\n<text text-anchor=\"middle\" x=\"482.5\" y=\"-6.8\" font-family=\"Times,serif\" font-size=\"14.00\" fill=\"#000000\">nback Model</text>\n<g id=\"clust1\" class=\"cluster\">\n<title>cluster_WORKING MEMORY (fnn)</title>\n<polygon fill=\"none\" stroke=\"#ff0000\" points=\"20,-210 20,-428 957,-428 957,-210 20,-210\"/>\n<text text-anchor=\"middle\" x=\"488.5\" y=\"-216.8\" font-family=\"Times,serif\" font-size=\"14.00\" fill=\"#000000\">WORKING MEMORY (fnn)</text>\n</g>\n<!-- TASK -->\n<g id=\"node1\" class=\"node\">\n<title>TASK</title>\n<ellipse fill=\"none\" stroke=\"#00ff00\" stroke-width=\"3\" cx=\"96\" cy=\"-184\" rx=\"29.3695\" ry=\"18\"/>\n<text text-anchor=\"middle\" x=\"96\" y=\"-181.2994\" font-family=\"arial\" font-size=\"12.00\" fill=\"#000000\">TASK</text>\n</g>\n<!-- CURRENT TASK -->\n<g id=\"node8\" class=\"node\">\n<title>CURRENT TASK</title>\n<ellipse fill=\"none\" stroke=\"#00ff00\" stroke-width=\"3\" cx=\"96\" cy=\"-258\" rx=\"67.7277\" ry=\"18\"/>\n<text text-anchor=\"middle\" x=\"96\" y=\"-255.2994\" font-family=\"arial\" font-size=\"12.00\" fill=\"#000000\">CURRENT TASK</text>\n</g>\n<!-- TASK&#45;&gt;CURRENT TASK -->\n<g id=\"edge4\" class=\"edge\">\n<title>TASK&#45;&gt;CURRENT TASK</title>\n<path fill=\"none\" stroke=\"#000000\" d=\"M96,-202.2921C96,-210.5365 96,-220.4624 96,-229.6378\"/>\n<polygon fill=\"#000000\" stroke=\"#000000\" points=\"92.5001,-229.9182 96,-239.9183 99.5001,-229.9183 92.5001,-229.9182\"/>\n</g>\n<!-- CONTEXT -->\n<g id=\"node2\" class=\"node\">\n<title>CONTEXT</title>\n<ellipse fill=\"none\" stroke=\"#00ff00\" stroke-width=\"3\" cx=\"271\" cy=\"-112\" rx=\"46.1482\" ry=\"18\"/>\n<text text-anchor=\"middle\" x=\"271\" y=\"-109.2994\" font-family=\"arial\" font-size=\"12.00\" fill=\"#000000\">CONTEXT</text>\n</g>\n<!-- EPISODIC MEMORY (dict) -->\n<g id=\"node5\" class=\"node\">\n<title>EPISODIC MEMORY (dict)</title>\n<ellipse fill=\"none\" stroke=\"#000000\" cx=\"463\" cy=\"-184\" rx=\"100.8581\" ry=\"18\"/>\n<text text-anchor=\"middle\" x=\"463\" y=\"-181.2994\" font-family=\"arial\" font-size=\"12.00\" fill=\"#000000\">EPISODIC MEMORY (dict)</text>\n</g>\n<!-- CONTEXT&#45;&gt;EPISODIC MEMORY (dict) -->\n<g id=\"edge6\" class=\"edge\">\n<title>CONTEXT&#45;&gt;EPISODIC MEMORY (dict)</title>\n<path fill=\"none\" stroke=\"#000000\" d=\"M304.4438,-124.5414C333.4866,-135.4325 376.059,-151.3971 409.7792,-164.0422\"/>\n<polygon fill=\"#000000\" stroke=\"#000000\" points=\"408.8925,-167.4476 419.4847,-167.6818 411.3504,-160.8933 408.8925,-167.4476\"/>\n</g>\n<!-- CURRENT CONTEXT -->\n<g id=\"node9\" class=\"node\">\n<title>CURRENT CONTEXT</title>\n<ellipse fill=\"none\" stroke=\"#00ff00\" stroke-width=\"3\" cx=\"267\" cy=\"-258\" rx=\"84.7796\" ry=\"18\"/>\n<text text-anchor=\"middle\" x=\"267\" y=\"-255.2994\" font-family=\"arial\" font-size=\"12.00\" fill=\"#000000\">CURRENT CONTEXT</text>\n</g>\n<!-- CONTEXT&#45;&gt;CURRENT CONTEXT -->\n<g id=\"edge5\" class=\"edge\">\n<title>CONTEXT&#45;&gt;CURRENT CONTEXT</title>\n<path fill=\"none\" stroke=\"#000000\" d=\"M270.5015,-130.1958C269.8188,-155.1132 268.5861,-200.1062 267.7805,-229.5123\"/>\n<polygon fill=\"#000000\" stroke=\"#000000\" points=\"264.2801,-229.4828 267.5048,-239.5749 271.2775,-229.6745 264.2801,-229.4828\"/>\n</g>\n<!-- STIM -->\n<g id=\"node3\" class=\"node\">\n<title>STIM</title>\n<ellipse fill=\"none\" stroke=\"#00ff00\" stroke-width=\"3\" cx=\"746\" cy=\"-112\" rx=\"28.1229\" ry=\"18\"/>\n<text text-anchor=\"middle\" x=\"746\" y=\"-109.2994\" font-family=\"arial\" font-size=\"12.00\" fill=\"#000000\">STIM</text>\n</g>\n<!-- CURRENT STIMULUS -->\n<g id=\"node4\" class=\"node\">\n<title>CURRENT STIMULUS</title>\n<ellipse fill=\"none\" stroke=\"#00ff00\" stroke-width=\"3\" cx=\"862\" cy=\"-258\" rx=\"86.9762\" ry=\"18\"/>\n<text text-anchor=\"middle\" x=\"862\" y=\"-255.2994\" font-family=\"arial\" font-size=\"12.00\" fill=\"#000000\">CURRENT STIMULUS</text>\n</g>\n<!-- STIM&#45;&gt;CURRENT STIMULUS -->\n<g id=\"edge1\" class=\"edge\">\n<title>STIM&#45;&gt;CURRENT STIMULUS</title>\n<path fill=\"none\" stroke=\"#000000\" d=\"M758.8572,-128.1824C778.8073,-153.2919 817.4055,-201.8724 841.3109,-231.9603\"/>\n<polygon fill=\"#000000\" stroke=\"#000000\" points=\"838.675,-234.269 847.6361,-239.9213 844.1557,-229.9144 838.675,-234.269\"/>\n</g>\n<!-- STIM&#45;&gt;EPISODIC MEMORY (dict) -->\n<g id=\"edge8\" class=\"edge\">\n<title>STIM&#45;&gt;EPISODIC MEMORY (dict)</title>\n<path fill=\"none\" stroke=\"#000000\" d=\"M719.8833,-118.6445C677.3037,-129.4775 591.5933,-151.2837 530.9071,-166.7233\"/>\n<polygon fill=\"#000000\" stroke=\"#000000\" points=\"529.8446,-163.382 521.0163,-169.2397 531.5706,-170.1659 529.8446,-163.382\"/>\n</g>\n<!-- HIDDEN LAYER -->\n<g id=\"node13\" class=\"node\">\n<title>HIDDEN LAYER</title>\n<ellipse fill=\"none\" stroke=\"#000000\" cx=\"365\" cy=\"-330\" rx=\"65.427\" ry=\"18\"/>\n<text text-anchor=\"middle\" x=\"365\" y=\"-327.2994\" font-family=\"arial\" font-size=\"12.00\" fill=\"#000000\">HIDDEN LAYER</text>\n</g>\n<!-- CURRENT STIMULUS&#45;&gt;HIDDEN LAYER -->\n<g id=\"edge12\" class=\"edge\">\n<title>CURRENT STIMULUS&#45;&gt;HIDDEN LAYER</title>\n<path fill=\"none\" stroke=\"#000000\" d=\"M798.5646,-270.3712C787.7172,-272.3499 776.5472,-274.3022 766,-276 650.4405,-294.6019 515.4322,-311.8652 435.2476,-321.6519\"/>\n<polygon fill=\"#000000\" stroke=\"#000000\" points=\"434.77,-318.1842 425.2658,-322.8662 435.6153,-325.1329 434.77,-318.1842\"/>\n</g>\n<!-- RETRIEVED STIMULUS -->\n<g id=\"node6\" class=\"node\">\n<title>RETRIEVED STIMULUS</title>\n<ellipse fill=\"none\" stroke=\"#00ff00\" stroke-width=\"3\" cx=\"463\" cy=\"-258\" rx=\"93.3314\" ry=\"18\"/>\n<text text-anchor=\"middle\" x=\"463\" y=\"-255.2994\" font-family=\"arial\" font-size=\"12.00\" fill=\"#000000\">RETRIEVED STIMULUS</text>\n</g>\n<!-- EPISODIC MEMORY (dict)&#45;&gt;RETRIEVED STIMULUS -->\n<g id=\"edge2\" class=\"edge\">\n<title>EPISODIC MEMORY (dict)&#45;&gt;RETRIEVED STIMULUS</title>\n<path fill=\"none\" stroke=\"#000000\" d=\"M463,-202.2921C463,-210.5365 463,-220.4624 463,-229.6378\"/>\n<polygon fill=\"#000000\" stroke=\"#000000\" points=\"459.5001,-229.9182 463,-239.9183 466.5001,-229.9183 459.5001,-229.9182\"/>\n</g>\n<!-- RETRIEVED CONTEXT -->\n<g id=\"node7\" class=\"node\">\n<title>RETRIEVED CONTEXT</title>\n<ellipse fill=\"none\" stroke=\"#00ff00\" stroke-width=\"3\" cx=\"666\" cy=\"-258\" rx=\"91.135\" ry=\"18\"/>\n<text text-anchor=\"middle\" x=\"666\" y=\"-255.2994\" font-family=\"arial\" font-size=\"12.00\" fill=\"#000000\">RETRIEVED CONTEXT</text>\n</g>\n<!-- EPISODIC MEMORY (dict)&#45;&gt;RETRIEVED CONTEXT -->\n<g id=\"edge3\" class=\"edge\">\n<title>EPISODIC MEMORY (dict)&#45;&gt;RETRIEVED CONTEXT</title>\n<path fill=\"none\" stroke=\"#000000\" d=\"M526.1543,-198.0594C539.1423,-201.5178 552.6248,-205.5301 565,-210 585.3694,-217.3575 607.1651,-227.4173 625.2761,-236.4273\"/>\n<polygon fill=\"#000000\" stroke=\"#000000\" points=\"623.8795,-239.6429 634.384,-241.0234 627.0331,-233.3935 623.8795,-239.6429\"/>\n</g>\n<!-- RETRIEVED STIMULUS&#45;&gt;HIDDEN LAYER -->\n<g id=\"edge15\" class=\"edge\">\n<title>RETRIEVED STIMULUS&#45;&gt;HIDDEN LAYER</title>\n<path fill=\"none\" stroke=\"#000000\" d=\"M439.2769,-275.4292C426.4233,-284.8727 410.3742,-296.6639 396.4864,-306.8672\"/>\n<polygon fill=\"#000000\" stroke=\"#000000\" points=\"394.153,-304.2384 388.1664,-312.9798 398.2976,-309.8796 394.153,-304.2384\"/>\n</g>\n<!-- RETRIEVED CONTEXT&#45;&gt;HIDDEN LAYER -->\n<g id=\"edge14\" class=\"edge\">\n<title>RETRIEVED CONTEXT&#45;&gt;HIDDEN LAYER</title>\n<path fill=\"none\" stroke=\"#000000\" d=\"M607.6073,-271.9677C554.927,-284.569 477.7823,-303.0222 424.7016,-315.7192\"/>\n<polygon fill=\"#000000\" stroke=\"#000000\" points=\"423.6629,-312.3689 414.7515,-318.0993 425.2914,-319.1768 423.6629,-312.3689\"/>\n</g>\n<!-- CURRENT TASK&#45;&gt;HIDDEN LAYER -->\n<g id=\"edge13\" class=\"edge\">\n<title>CURRENT TASK&#45;&gt;HIDDEN LAYER</title>\n<path fill=\"none\" stroke=\"#000000\" d=\"M143.7818,-270.7892C189.8278,-283.1138 259.5124,-301.7654 308.3347,-314.8331\"/>\n<polygon fill=\"#000000\" stroke=\"#000000\" points=\"307.5488,-318.2459 318.1137,-317.4505 309.3588,-311.4839 307.5488,-318.2459\"/>\n</g>\n<!-- CURRENT CONTEXT&#45;&gt;HIDDEN LAYER -->\n<g id=\"edge11\" class=\"edge\">\n<title>CURRENT CONTEXT&#45;&gt;HIDDEN LAYER</title>\n<path fill=\"none\" stroke=\"#000000\" d=\"M290.7231,-275.4292C303.5767,-284.8727 319.6258,-296.6639 333.5136,-306.8672\"/>\n<polygon fill=\"#000000\" stroke=\"#000000\" points=\"331.7024,-309.8796 341.8336,-312.9798 335.847,-304.2384 331.7024,-309.8796\"/>\n</g>\n<!-- READ/WRITE CONTROLLER -->\n<g id=\"node10\" class=\"node\">\n<title>READ/WRITE CONTROLLER</title>\n<polygon fill=\"none\" stroke=\"#0000ff\" stroke-width=\"3\" points=\"581.302,-104.5442 581.302,-119.4558 510.8307,-130 411.1693,-130 340.698,-119.4558 340.698,-104.5442 411.1693,-94 510.8307,-94 581.302,-104.5442\"/>\n<text text-anchor=\"middle\" x=\"461\" y=\"-109.2994\" font-family=\"arial\" font-size=\"12.00\" fill=\"#000000\">READ/WRITE CONTROLLER</text>\n</g>\n<!-- READ/WRITE CONTROLLER&#45;&gt;EPISODIC MEMORY (dict) -->\n<g id=\"edge7\" class=\"edge\">\n<title>READ/WRITE CONTROLLER&#45;&gt;EPISODIC MEMORY (dict)</title>\n<path fill=\"none\" stroke=\"#0000ff\" d=\"M461.5047,-130.1686C461.7186,-137.869 461.9729,-147.0257 462.2106,-155.5834\"/>\n<polygon fill=\"#0000ff\" stroke=\"#0000ff\" points=\"466.487,-165.4756 458.4901,-165.6978 458.2678,-157.7009 466.2648,-157.4787 466.487,-165.4756\"/>\n<polyline fill=\"none\" stroke=\"#0000ff\" points=\"462.2663,-157.5898 462.2108,-155.5906 \"/>\n</g>\n<!-- OBJECTIVE MECHANISM -->\n<g id=\"node11\" class=\"node\">\n<title>OBJECTIVE MECHANISM</title>\n<ellipse fill=\"none\" stroke=\"#000000\" cx=\"225\" cy=\"-40\" rx=\"100.2314\" ry=\"18\"/>\n<text text-anchor=\"middle\" x=\"225\" y=\"-37.2994\" font-family=\"arial\" font-size=\"12.00\" fill=\"#000000\">OBJECTIVE MECHANISM</text>\n</g>\n<!-- OBJECTIVE MECHANISM&#45;&gt;READ/WRITE CONTROLLER -->\n<g id=\"edge9\" class=\"edge\">\n<title>OBJECTIVE MECHANISM&#45;&gt;READ/WRITE CONTROLLER</title>\n<path fill=\"none\" stroke=\"#000000\" d=\"M275.9179,-55.5343C310.7464,-66.1599 357.2502,-80.3475 394.9295,-91.8429\"/>\n<polygon fill=\"#000000\" stroke=\"#000000\" points=\"394.2186,-95.2852 404.8047,-94.8557 396.2613,-88.5899 394.2186,-95.2852\"/>\n</g>\n<!-- DECISION LAYER -->\n<g id=\"node12\" class=\"node\">\n<title>DECISION LAYER</title>\n<ellipse fill=\"none\" stroke=\"#ff0000\" stroke-width=\"3\" cx=\"233\" cy=\"-402\" rx=\"72.5131\" ry=\"18\"/>\n<text text-anchor=\"middle\" x=\"233\" y=\"-399.2994\" font-family=\"arial\" font-size=\"12.00\" fill=\"#000000\">DECISION LAYER</text>\n</g>\n<!-- DECISION LAYER&#45;&gt;OBJECTIVE MECHANISM -->\n<g id=\"edge10\" class=\"edge\">\n<title>DECISION LAYER&#45;&gt;OBJECTIVE MECHANISM</title>\n<path fill=\"none\" stroke=\"#000000\" d=\"M172.9967,-391.8104C103.9605,-376.2492 0,-339.3161 0,-258 0,-184 0,-184 0,-184 0,-112.206 82.274,-74.5843 147.3198,-56.0593\"/>\n<polygon fill=\"#000000\" stroke=\"#000000\" points=\"148.468,-59.3738 157.1875,-53.3553 146.618,-52.6227 148.468,-59.3738\"/>\n</g>\n<!-- HIDDEN LAYER&#45;&gt;DECISION LAYER -->\n<g id=\"edge16\" class=\"edge\">\n<title>HIDDEN LAYER&#45;&gt;DECISION LAYER</title>\n<path fill=\"none\" stroke=\"#000000\" d=\"M335.3766,-346.1582C316.7882,-356.2973 292.6013,-369.4902 272.4045,-380.5066\"/>\n<polygon fill=\"#000000\" stroke=\"#000000\" points=\"270.5431,-377.5351 263.4401,-385.3963 273.8951,-383.6804 270.5431,-377.5351\"/>\n</g>\n</g>\n</svg>\n"
     },
     "execution_count": 11,
     "metadata": {},
     "output_type": "execute_result"
    }
   ],
   "source": [
    "nback_model.show_graph(output_fmt='jupyter')"
   ]
  },
  {
   "cell_type": "markdown",
   "source": [
    "## Train the model:"
   ],
   "metadata": {
    "collapsed": false,
    "pycharm": {
     "name": "#%% md\n"
    }
   }
  },
  {
   "cell_type": "code",
   "execution_count": 12,
   "metadata": {
    "pycharm": {
     "name": "#%%\n"
    }
   },
   "outputs": [
    {
     "name": "stdout",
     "output_type": "stream",
     "text": [
      "constructing training set for 'WORKING MEMORY (fnn)'...\n",
      "num training stimuli per training set (minibatch size): 64\n",
      "num weight updates (num_epochs): 100\n",
      "total num trials: 6400\n",
      "\n",
      "training 'WORKING MEMORY (fnn)'...\n"
     ]
    },
    {
     "ename": "RunError",
     "evalue": "'Input stimulus ([[1.0 0.0 0.0 0.0 0.0 0.0 0.0 0.0]\\n [1.0 0.0 0.0 0.0 0.0 0.0 0.0 0.0]\\n [1.0 0.0 0.0 0.0 0.0 0.0 0.0 0.0]\\n [1.0 0.0 0.0 0.0 0.0 0.0 0.0 0.0]\\n [0.0 1.0 0.0 0.0 0.0 0.0 0.0 0.0]\\n [0.0 1.0 0.0 0.0 0.0 0.0 0.0 0.0]\\n [0.0 1.0 0.0 0.0 0.0 0.0 0.0 0.0]\\n [0.0 1.0 0.0 0.0 0.0 0.0 0.0 0.0]\\n [0.0 0.0 1.0 0.0 0.0 0.0 0.0 0.0]\\n [0.0 0.0 1.0 0.0 0.0 0.0 0.0 0.0]\\n [0.0 0.0 1.0 0.0 0.0 0.0 0.0 0.0]\\n [0.0 0.0 1.0 0.0 0.0 0.0 0.0 0.0]\\n [0.0 0.0 0.0 1.0 0.0 0.0 0.0 0.0]\\n [0.0 0.0 0.0 1.0 0.0 0.0 0.0 0.0]\\n [0.0 0.0 0.0 1.0 0.0 0.0 0.0 0.0]\\n [0.0 0.0 0.0 1.0 0.0 0.0 0.0 0.0]\\n [0.0 0.0 0.0 0.0 1.0 0.0 0.0 0.0]\\n [0.0 0.0 0.0 0.0 1.0 0.0 0.0 0.0]\\n [0.0 0.0 0.0 0.0 1.0 0.0 0.0 0.0]\\n [0.0 0.0 0.0 0.0 1.0 0.0 0.0 0.0]\\n [0.0 0.0 0.0 0.0 0.0 1.0 0.0 0.0]\\n [0.0 0.0 0.0 0.0 0.0 1.0 0.0 0.0]\\n [0.0 0.0 0.0 0.0 0.0 1.0 0.0 0.0]\\n [0.0 0.0 0.0 0.0 0.0 1.0 0.0 0.0]\\n [0.0 0.0 0.0 0.0 0.0 0.0 1.0 0.0]\\n [0.0 0.0 0.0 0.0 0.0 0.0 1.0 0.0]\\n [0.0 0.0 0.0 0.0 0.0 0.0 1.0 0.0]\\n [0.0 0.0 0.0 0.0 0.0 0.0 1.0 0.0]\\n [0.0 0.0 0.0 0.0 0.0 0.0 0.0 1.0]\\n [0.0 0.0 0.0 0.0 0.0 0.0 0.0 1.0]\\n [0.0 0.0 0.0 0.0 0.0 0.0 0.0 1.0]\\n [0.0 0.0 0.0 0.0 0.0 0.0 0.0 1.0]\\n [1.0 0.0 0.0 0.0 0.0 0.0 0.0 0.0]\\n [1.0 0.0 0.0 0.0 0.0 0.0 0.0 0.0]\\n [1.0 0.0 0.0 0.0 0.0 0.0 0.0 0.0]\\n [1.0 0.0 0.0 0.0 0.0 0.0 0.0 0.0]\\n [0.0 1.0 0.0 0.0 0.0 0.0 0.0 0.0]\\n [0.0 1.0 0.0 0.0 0.0 0.0 0.0 0.0]\\n [0.0 1.0 0.0 0.0 0.0 0.0 0.0 0.0]\\n [0.0 1.0 0.0 0.0 0.0 0.0 0.0 0.0]\\n [0.0 0.0 1.0 0.0 0.0 0.0 0.0 0.0]\\n [0.0 0.0 1.0 0.0 0.0 0.0 0.0 0.0]\\n [0.0 0.0 1.0 0.0 0.0 0.0 0.0 0.0]\\n [0.0 0.0 1.0 0.0 0.0 0.0 0.0 0.0]\\n [0.0 0.0 0.0 1.0 0.0 0.0 0.0 0.0]\\n [0.0 0.0 0.0 1.0 0.0 0.0 0.0 0.0]\\n [0.0 0.0 0.0 1.0 0.0 0.0 0.0 0.0]\\n [0.0 0.0 0.0 1.0 0.0 0.0 0.0 0.0]\\n [0.0 0.0 0.0 0.0 1.0 0.0 0.0 0.0]\\n [0.0 0.0 0.0 0.0 1.0 0.0 0.0 0.0]\\n [0.0 0.0 0.0 0.0 1.0 0.0 0.0 0.0]\\n [0.0 0.0 0.0 0.0 1.0 0.0 0.0 0.0]\\n [0.0 0.0 0.0 0.0 0.0 1.0 0.0 0.0]\\n [0.0 0.0 0.0 0.0 0.0 1.0 0.0 0.0]\\n [0.0 0.0 0.0 0.0 0.0 1.0 0.0 0.0]\\n [0.0 0.0 0.0 0.0 0.0 1.0 0.0 0.0]\\n [0.0 0.0 0.0 0.0 0.0 0.0 1.0 0.0]\\n [0.0 0.0 0.0 0.0 0.0 0.0 1.0 0.0]\\n [0.0 0.0 0.0 0.0 0.0 0.0 1.0 0.0]\\n [0.0 0.0 0.0 0.0 0.0 0.0 1.0 0.0]\\n [0.0 0.0 0.0 0.0 0.0 0.0 0.0 1.0]\\n [0.0 0.0 0.0 0.0 0.0 0.0 0.0 1.0]\\n [0.0 0.0 0.0 0.0 0.0 0.0 0.0 1.0]\\n [0.0 0.0 0.0 0.0 0.0 0.0 0.0 1.0]]) for CURRENT STIMULUS is incompatible with the shape of its external input ([0.0 0.0 0.0 0.0 0.0 0.0 0.0 0.0 0.0 0.0]).'",
     "output_type": "error",
     "traceback": [
      "\u001B[0;31m---------------------------------------------------------------------------\u001B[0m",
      "\u001B[0;31mRunError\u001B[0m                                  Traceback (most recent call last)",
      "\u001B[0;32m/var/folders/wb/wcgyg5r88xj60s0059b9z8600000gn/T/ipykernel_72488/750198446.py\u001B[0m in \u001B[0;36m<module>\u001B[0;34m\u001B[0m\n\u001B[1;32m      1\u001B[0m \u001B[0mffn\u001B[0m \u001B[0;34m=\u001B[0m \u001B[0mnback_model\u001B[0m\u001B[0;34m.\u001B[0m\u001B[0mnodes\u001B[0m\u001B[0;34m[\u001B[0m\u001B[0;34m'WORKING MEMORY (fnn)'\u001B[0m\u001B[0;34m]\u001B[0m\u001B[0;34m\u001B[0m\u001B[0;34m\u001B[0m\u001B[0m\n\u001B[0;32m----> 2\u001B[0;31m \u001B[0mtrain_network\u001B[0m\u001B[0;34m(\u001B[0m\u001B[0mffn\u001B[0m\u001B[0;34m,\u001B[0m \u001B[0mnum_epochs\u001B[0m\u001B[0;34m=\u001B[0m\u001B[0;36m100\u001B[0m\u001B[0;34m)\u001B[0m\u001B[0;34m\u001B[0m\u001B[0;34m\u001B[0m\u001B[0m\n\u001B[0m",
      "\u001B[0;32m~/PyCharmProjects/PsyNeuLink/psyneulink/library/models/Beukers_et_al_2022/nback.py\u001B[0m in \u001B[0;36mtrain_network\u001B[0;34m(network, training_set, minibatch_size, learning_rate, num_epochs, save_weights_to)\u001B[0m\n\u001B[1;32m    708\u001B[0m     \u001B[0mprint\u001B[0m\u001B[0;34m(\u001B[0m\u001B[0;34mf\"\\ntraining '{network.name}'...\"\u001B[0m\u001B[0;34m)\u001B[0m\u001B[0;34m\u001B[0m\u001B[0;34m\u001B[0m\u001B[0m\n\u001B[1;32m    709\u001B[0m     \u001B[0mstart_time\u001B[0m \u001B[0;34m=\u001B[0m \u001B[0mtimeit\u001B[0m\u001B[0;34m.\u001B[0m\u001B[0mdefault_timer\u001B[0m\u001B[0;34m(\u001B[0m\u001B[0;34m)\u001B[0m\u001B[0;34m\u001B[0m\u001B[0;34m\u001B[0m\u001B[0m\n\u001B[0;32m--> 710\u001B[0;31m     network.learn(inputs=training_set,\n\u001B[0m\u001B[1;32m    711\u001B[0m                   \u001B[0mminibatch_size\u001B[0m\u001B[0;34m=\u001B[0m\u001B[0mminibatch_size\u001B[0m\u001B[0;34m,\u001B[0m\u001B[0;34m\u001B[0m\u001B[0;34m\u001B[0m\u001B[0m\n\u001B[1;32m    712\u001B[0m                   \u001B[0mreport_output\u001B[0m\u001B[0;34m=\u001B[0m\u001B[0mREPORT_OUTPUT\u001B[0m\u001B[0;34m,\u001B[0m\u001B[0;34m\u001B[0m\u001B[0;34m\u001B[0m\u001B[0m\n",
      "\u001B[0;32m~/PyCharmProjects/PsyNeuLink/psyneulink/library/compositions/autodiffcomposition.py\u001B[0m in \u001B[0;36mlearn\u001B[0;34m(self, *args, **kwargs)\u001B[0m\n\u001B[1;32m    606\u001B[0m                 \u001B[0mkwargs\u001B[0m\u001B[0;34m[\u001B[0m\u001B[0;34m'execution_mode'\u001B[0m\u001B[0;34m]\u001B[0m \u001B[0;34m=\u001B[0m \u001B[0mpnlvm\u001B[0m\u001B[0;34m.\u001B[0m\u001B[0mExecutionMode\u001B[0m\u001B[0;34m.\u001B[0m\u001B[0mPython\u001B[0m\u001B[0;34m\u001B[0m\u001B[0;34m\u001B[0m\u001B[0m\n\u001B[1;32m    607\u001B[0m \u001B[0;34m\u001B[0m\u001B[0m\n\u001B[0;32m--> 608\u001B[0;31m         \u001B[0;32mreturn\u001B[0m \u001B[0msuper\u001B[0m\u001B[0;34m(\u001B[0m\u001B[0;34m)\u001B[0m\u001B[0;34m.\u001B[0m\u001B[0mlearn\u001B[0m\u001B[0;34m(\u001B[0m\u001B[0;34m*\u001B[0m\u001B[0margs\u001B[0m\u001B[0;34m,\u001B[0m \u001B[0;34m**\u001B[0m\u001B[0mkwargs\u001B[0m\u001B[0;34m)\u001B[0m\u001B[0;34m\u001B[0m\u001B[0;34m\u001B[0m\u001B[0m\n\u001B[0m\u001B[1;32m    609\u001B[0m \u001B[0;34m\u001B[0m\u001B[0m\n\u001B[1;32m    610\u001B[0m     \u001B[0;34m@\u001B[0m\u001B[0mhandle_external_context\u001B[0m\u001B[0;34m(\u001B[0m\u001B[0;34m)\u001B[0m\u001B[0;34m\u001B[0m\u001B[0;34m\u001B[0m\u001B[0m\n",
      "\u001B[0;32m~/PyCharmProjects/PsyNeuLink/psyneulink/core/globals/context.py\u001B[0m in \u001B[0;36mwrapper\u001B[0;34m(context, *args, **kwargs)\u001B[0m\n\u001B[1;32m    735\u001B[0m \u001B[0;34m\u001B[0m\u001B[0m\n\u001B[1;32m    736\u001B[0m             \u001B[0;32mtry\u001B[0m\u001B[0;34m:\u001B[0m\u001B[0;34m\u001B[0m\u001B[0;34m\u001B[0m\u001B[0m\n\u001B[0;32m--> 737\u001B[0;31m                 \u001B[0;32mreturn\u001B[0m \u001B[0mfunc\u001B[0m\u001B[0;34m(\u001B[0m\u001B[0;34m*\u001B[0m\u001B[0margs\u001B[0m\u001B[0;34m,\u001B[0m \u001B[0mcontext\u001B[0m\u001B[0;34m=\u001B[0m\u001B[0mcontext\u001B[0m\u001B[0;34m,\u001B[0m \u001B[0;34m**\u001B[0m\u001B[0mkwargs\u001B[0m\u001B[0;34m)\u001B[0m\u001B[0;34m\u001B[0m\u001B[0;34m\u001B[0m\u001B[0m\n\u001B[0m\u001B[1;32m    738\u001B[0m             \u001B[0;32mexcept\u001B[0m \u001B[0mTypeError\u001B[0m \u001B[0;32mas\u001B[0m \u001B[0me\u001B[0m\u001B[0;34m:\u001B[0m\u001B[0;34m\u001B[0m\u001B[0;34m\u001B[0m\u001B[0m\n\u001B[1;32m    739\u001B[0m                 \u001B[0;31m# context parameter may be passed as a positional arg\u001B[0m\u001B[0;34m\u001B[0m\u001B[0;34m\u001B[0m\u001B[0m\n",
      "\u001B[0;32m~/PyCharmProjects/PsyNeuLink/psyneulink/core/compositions/composition.py\u001B[0m in \u001B[0;36mlearn\u001B[0;34m(self, inputs, targets, num_trials, epochs, learning_rate, minibatch_size, patience, min_delta, context, execution_mode, randomize_minibatches, call_before_minibatch, call_after_minibatch, *args, **kwargs)\u001B[0m\n\u001B[1;32m  10435\u001B[0m                     )\n\u001B[1;32m  10436\u001B[0m \u001B[0;34m\u001B[0m\u001B[0m\n\u001B[0;32m> 10437\u001B[0;31m         learning_results = runner.run_learning(\n\u001B[0m\u001B[1;32m  10438\u001B[0m             \u001B[0minputs\u001B[0m\u001B[0;34m=\u001B[0m\u001B[0minputs\u001B[0m\u001B[0;34m,\u001B[0m\u001B[0;34m\u001B[0m\u001B[0;34m\u001B[0m\u001B[0m\n\u001B[1;32m  10439\u001B[0m             \u001B[0mtargets\u001B[0m\u001B[0;34m=\u001B[0m\u001B[0mtargets\u001B[0m\u001B[0;34m,\u001B[0m\u001B[0;34m\u001B[0m\u001B[0;34m\u001B[0m\u001B[0m\n",
      "\u001B[0;32m~/PyCharmProjects/PsyNeuLink/psyneulink/library/compositions/compositionrunner.py\u001B[0m in \u001B[0;36mrun_learning\u001B[0;34m(self, inputs, targets, num_trials, epochs, learning_rate, minibatch_size, patience, min_delta, randomize_minibatches, call_before_minibatch, call_after_minibatch, context, execution_mode, **kwargs)\u001B[0m\n\u001B[1;32m    185\u001B[0m                 \u001B[0mstim_epoch\u001B[0m \u001B[0;34m=\u001B[0m \u001B[0mstim_input\u001B[0m\u001B[0;34m[\u001B[0m\u001B[0;34m'epochs'\u001B[0m\u001B[0;34m]\u001B[0m\u001B[0;34m\u001B[0m\u001B[0;34m\u001B[0m\u001B[0m\n\u001B[1;32m    186\u001B[0m \u001B[0;34m\u001B[0m\u001B[0m\n\u001B[0;32m--> 187\u001B[0;31m             \u001B[0mstim_input\u001B[0m\u001B[0;34m,\u001B[0m \u001B[0mnum_input_trials\u001B[0m \u001B[0;34m=\u001B[0m \u001B[0mself\u001B[0m\u001B[0;34m.\u001B[0m\u001B[0m_composition\u001B[0m\u001B[0;34m.\u001B[0m\u001B[0m_parse_learning_spec\u001B[0m\u001B[0;34m(\u001B[0m\u001B[0mstim_input\u001B[0m\u001B[0;34m,\u001B[0m \u001B[0mstim_target\u001B[0m\u001B[0;34m)\u001B[0m\u001B[0;34m\u001B[0m\u001B[0;34m\u001B[0m\u001B[0m\n\u001B[0m\u001B[1;32m    188\u001B[0m \u001B[0;34m\u001B[0m\u001B[0m\n\u001B[1;32m    189\u001B[0m             \u001B[0;32mif\u001B[0m \u001B[0mnum_trials\u001B[0m \u001B[0;32mis\u001B[0m \u001B[0;32mNone\u001B[0m\u001B[0;34m:\u001B[0m\u001B[0;34m\u001B[0m\u001B[0;34m\u001B[0m\u001B[0m\n",
      "\u001B[0;32m~/PyCharmProjects/PsyNeuLink/psyneulink/core/compositions/composition.py\u001B[0m in \u001B[0;36m_parse_learning_spec\u001B[0;34m(self, inputs, targets)\u001B[0m\n\u001B[1;32m   8968\u001B[0m         \u001B[0;31m# 3) Resize inputs to be of the form [[[]]],\u001B[0m\u001B[0;34m\u001B[0m\u001B[0;34m\u001B[0m\u001B[0m\n\u001B[1;32m   8969\u001B[0m         \u001B[0;31m# where each level corresponds to: <TRIALS <PORTS <INPUTS> > >\u001B[0m\u001B[0;34m\u001B[0m\u001B[0;34m\u001B[0m\u001B[0m\n\u001B[0;32m-> 8970\u001B[0;31m         \u001B[0minputs\u001B[0m\u001B[0;34m,\u001B[0m \u001B[0mnum_inputs_sets\u001B[0m \u001B[0;34m=\u001B[0m \u001B[0mself\u001B[0m\u001B[0;34m.\u001B[0m\u001B[0m_parse_input_dict\u001B[0m\u001B[0;34m(\u001B[0m\u001B[0minputs\u001B[0m\u001B[0;34m)\u001B[0m\u001B[0;34m\u001B[0m\u001B[0;34m\u001B[0m\u001B[0m\n\u001B[0m\u001B[1;32m   8971\u001B[0m \u001B[0;34m\u001B[0m\u001B[0m\n\u001B[1;32m   8972\u001B[0m         \u001B[0;32mreturn\u001B[0m \u001B[0minputs\u001B[0m\u001B[0;34m,\u001B[0m \u001B[0mnum_inputs_sets\u001B[0m\u001B[0;34m\u001B[0m\u001B[0;34m\u001B[0m\u001B[0m\n",
      "\u001B[0;32m~/PyCharmProjects/PsyNeuLink/psyneulink/core/compositions/composition.py\u001B[0m in \u001B[0;36m_parse_input_dict\u001B[0;34m(self, inputs, context)\u001B[0m\n\u001B[1;32m   9131\u001B[0m         \u001B[0m_inputs\u001B[0m \u001B[0;34m=\u001B[0m \u001B[0mself\u001B[0m\u001B[0;34m.\u001B[0m\u001B[0m_instantiate_input_dict\u001B[0m\u001B[0;34m(\u001B[0m\u001B[0m_inputs\u001B[0m\u001B[0;34m)\u001B[0m\u001B[0;34m\u001B[0m\u001B[0;34m\u001B[0m\u001B[0m\n\u001B[1;32m   9132\u001B[0m         \u001B[0m_inputs\u001B[0m \u001B[0;34m=\u001B[0m \u001B[0mself\u001B[0m\u001B[0;34m.\u001B[0m\u001B[0m_flatten_nested_dicts\u001B[0m\u001B[0;34m(\u001B[0m\u001B[0m_inputs\u001B[0m\u001B[0;34m)\u001B[0m\u001B[0;34m\u001B[0m\u001B[0;34m\u001B[0m\u001B[0m\n\u001B[0;32m-> 9133\u001B[0;31m         \u001B[0m_inputs\u001B[0m \u001B[0;34m=\u001B[0m \u001B[0mself\u001B[0m\u001B[0;34m.\u001B[0m\u001B[0m_validate_input_shapes\u001B[0m\u001B[0;34m(\u001B[0m\u001B[0m_inputs\u001B[0m\u001B[0;34m)\u001B[0m\u001B[0;34m\u001B[0m\u001B[0;34m\u001B[0m\u001B[0m\n\u001B[0m\u001B[1;32m   9134\u001B[0m         \u001B[0mnum_inputs_sets\u001B[0m \u001B[0;34m=\u001B[0m \u001B[0mlen\u001B[0m\u001B[0;34m(\u001B[0m\u001B[0mnext\u001B[0m\u001B[0;34m(\u001B[0m\u001B[0miter\u001B[0m\u001B[0;34m(\u001B[0m\u001B[0m_inputs\u001B[0m\u001B[0;34m.\u001B[0m\u001B[0mvalues\u001B[0m\u001B[0;34m(\u001B[0m\u001B[0;34m)\u001B[0m\u001B[0;34m)\u001B[0m\u001B[0;34m,\u001B[0m\u001B[0;34m[\u001B[0m\u001B[0;34m]\u001B[0m\u001B[0;34m)\u001B[0m\u001B[0;34m)\u001B[0m\u001B[0;34m\u001B[0m\u001B[0;34m\u001B[0m\u001B[0m\n\u001B[1;32m   9135\u001B[0m         \u001B[0;32mreturn\u001B[0m \u001B[0m_inputs\u001B[0m\u001B[0;34m,\u001B[0m \u001B[0mnum_inputs_sets\u001B[0m\u001B[0;34m\u001B[0m\u001B[0;34m\u001B[0m\u001B[0m\n",
      "\u001B[0;32m~/PyCharmProjects/PsyNeuLink/psyneulink/core/compositions/composition.py\u001B[0m in \u001B[0;36m_validate_input_shapes\u001B[0;34m(self, inputs)\u001B[0m\n\u001B[1;32m   9533\u001B[0m                                             \u001B[0;34m\"(or other values) to represent the outside stimulus for \"\u001B[0m\u001B[0;31m \u001B[0m\u001B[0;31m\\\u001B[0m\u001B[0;34m\u001B[0m\u001B[0;34m\u001B[0m\u001B[0m\n\u001B[1;32m   9534\u001B[0m                                             \u001B[0;34m\"the inhibition InputPort, and for Compositions, put your inputs\"\u001B[0m\u001B[0;34m\u001B[0m\u001B[0;34m\u001B[0m\u001B[0m\n\u001B[0;32m-> 9535\u001B[0;31m                     \u001B[0;32mraise\u001B[0m \u001B[0mRunError\u001B[0m\u001B[0;34m(\u001B[0m\u001B[0merr_msg\u001B[0m\u001B[0;34m)\u001B[0m\u001B[0;34m\u001B[0m\u001B[0;34m\u001B[0m\u001B[0m\n\u001B[0m\u001B[1;32m   9536\u001B[0m             \u001B[0m_inputs\u001B[0m\u001B[0;34m[\u001B[0m\u001B[0mreceiver\u001B[0m\u001B[0;34m]\u001B[0m \u001B[0;34m=\u001B[0m \u001B[0m_input\u001B[0m\u001B[0;34m\u001B[0m\u001B[0;34m\u001B[0m\u001B[0m\n\u001B[1;32m   9537\u001B[0m             \u001B[0minput_length\u001B[0m \u001B[0;34m=\u001B[0m \u001B[0mlen\u001B[0m\u001B[0;34m(\u001B[0m\u001B[0m_input\u001B[0m\u001B[0;34m)\u001B[0m\u001B[0;34m\u001B[0m\u001B[0;34m\u001B[0m\u001B[0m\n",
      "\u001B[0;31mRunError\u001B[0m: 'Input stimulus ([[1.0 0.0 0.0 0.0 0.0 0.0 0.0 0.0]\\n [1.0 0.0 0.0 0.0 0.0 0.0 0.0 0.0]\\n [1.0 0.0 0.0 0.0 0.0 0.0 0.0 0.0]\\n [1.0 0.0 0.0 0.0 0.0 0.0 0.0 0.0]\\n [0.0 1.0 0.0 0.0 0.0 0.0 0.0 0.0]\\n [0.0 1.0 0.0 0.0 0.0 0.0 0.0 0.0]\\n [0.0 1.0 0.0 0.0 0.0 0.0 0.0 0.0]\\n [0.0 1.0 0.0 0.0 0.0 0.0 0.0 0.0]\\n [0.0 0.0 1.0 0.0 0.0 0.0 0.0 0.0]\\n [0.0 0.0 1.0 0.0 0.0 0.0 0.0 0.0]\\n [0.0 0.0 1.0 0.0 0.0 0.0 0.0 0.0]\\n [0.0 0.0 1.0 0.0 0.0 0.0 0.0 0.0]\\n [0.0 0.0 0.0 1.0 0.0 0.0 0.0 0.0]\\n [0.0 0.0 0.0 1.0 0.0 0.0 0.0 0.0]\\n [0.0 0.0 0.0 1.0 0.0 0.0 0.0 0.0]\\n [0.0 0.0 0.0 1.0 0.0 0.0 0.0 0.0]\\n [0.0 0.0 0.0 0.0 1.0 0.0 0.0 0.0]\\n [0.0 0.0 0.0 0.0 1.0 0.0 0.0 0.0]\\n [0.0 0.0 0.0 0.0 1.0 0.0 0.0 0.0]\\n [0.0 0.0 0.0 0.0 1.0 0.0 0.0 0.0]\\n [0.0 0.0 0.0 0.0 0.0 1.0 0.0 0.0]\\n [0.0 0.0 0.0 0.0 0.0 1.0 0.0 0.0]\\n [0.0 0.0 0.0 0.0 0.0 1.0 0.0 0.0]\\n [0.0 0.0 0.0 0.0 0.0 1.0 0.0 0.0]\\n [0.0 0.0 0.0 0.0 0.0 0.0 1.0 0.0]\\n [0.0 0.0 0.0 0.0 0.0 0.0 1.0 0.0]\\n [0.0 0.0 0.0 0.0 0.0 0.0 1.0 0.0]\\n [0.0 0.0 0.0 0.0 0.0 0.0 1.0 0.0]\\n [0.0 0.0 0.0 0.0 0.0 0.0 0.0 1.0]\\n [0.0 0.0 0.0 0.0 0.0 0.0 0.0 1.0]\\n [0.0 0.0 0.0 0.0 0.0 0.0 0.0 1.0]\\n [0.0 0.0 0.0 0.0 0.0 0.0 0.0 1.0]\\n [1.0 0.0 0.0 0.0 0.0 0.0 0.0 0.0]\\n [1.0 0.0 0.0 0.0 0.0 0.0 0.0 0.0]\\n [1.0 0.0 0.0 0.0 0.0 0.0 0.0 0.0]\\n [1.0 0.0 0.0 0.0 0.0 0.0 0.0 0.0]\\n [0.0 1.0 0.0 0.0 0.0 0.0 0.0 0.0]\\n [0.0 1.0 0.0 0.0 0.0 0.0 0.0 0.0]\\n [0.0 1.0 0.0 0.0 0.0 0.0 0.0 0.0]\\n [0.0 1.0 0.0 0.0 0.0 0.0 0.0 0.0]\\n [0.0 0.0 1.0 0.0 0.0 0.0 0.0 0.0]\\n [0.0 0.0 1.0 0.0 0.0 0.0 0.0 0.0]\\n [0.0 0.0 1.0 0.0 0.0 0.0 0.0 0.0]\\n [0.0 0.0 1.0 0.0 0.0 0.0 0.0 0.0]\\n [0.0 0.0 0.0 1.0 0.0 0.0 0.0 0.0]\\n [0.0 0.0 0.0 1.0 0.0 0.0 0.0 0.0]\\n [0.0 0.0 0.0 1.0 0.0 0.0 0.0 0.0]\\n [0.0 0.0 0.0 1.0 0.0 0.0 0.0 0.0]\\n [0.0 0.0 0.0 0.0 1.0 0.0 0.0 0.0]\\n [0.0 0.0 0.0 0.0 1.0 0.0 0.0 0.0]\\n [0.0 0.0 0.0 0.0 1.0 0.0 0.0 0.0]\\n [0.0 0.0 0.0 0.0 1.0 0.0 0.0 0.0]\\n [0.0 0.0 0.0 0.0 0.0 1.0 0.0 0.0]\\n [0.0 0.0 0.0 0.0 0.0 1.0 0.0 0.0]\\n [0.0 0.0 0.0 0.0 0.0 1.0 0.0 0.0]\\n [0.0 0.0 0.0 0.0 0.0 1.0 0.0 0.0]\\n [0.0 0.0 0.0 0.0 0.0 0.0 1.0 0.0]\\n [0.0 0.0 0.0 0.0 0.0 0.0 1.0 0.0]\\n [0.0 0.0 0.0 0.0 0.0 0.0 1.0 0.0]\\n [0.0 0.0 0.0 0.0 0.0 0.0 1.0 0.0]\\n [0.0 0.0 0.0 0.0 0.0 0.0 0.0 1.0]\\n [0.0 0.0 0.0 0.0 0.0 0.0 0.0 1.0]\\n [0.0 0.0 0.0 0.0 0.0 0.0 0.0 1.0]\\n [0.0 0.0 0.0 0.0 0.0 0.0 0.0 1.0]]) for CURRENT STIMULUS is incompatible with the shape of its external input ([0.0 0.0 0.0 0.0 0.0 0.0 0.0 0.0 0.0 0.0]).'"
     ]
    }
   ],
   "source": [
    "ffn = nback_model.nodes['WORKING MEMORY (fnn)']\n",
    "train_network(ffn, num_epochs=100)"
   ]
  },
  {
   "cell_type": "markdown",
   "metadata": {},
   "source": [
    "## Run the model:"
   ]
  },
  {
   "cell_type": "code",
   "metadata": {
    "pycharm": {
     "name": "#%%\n"
    }
   },
   "source": [
    "results = run_model(nback_model)"
   ],
   "execution_count": 5,
   "outputs": [
    {
     "ename": "NameError",
     "evalue": "name 'nback_model' is not defined",
     "output_type": "error",
     "traceback": [
      "\u001B[0;31m---------------------------------------------------------------------------\u001B[0m",
      "\u001B[0;31mNameError\u001B[0m                                 Traceback (most recent call last)",
      "Input \u001B[0;32mIn [5]\u001B[0m, in \u001B[0;36m<cell line: 1>\u001B[0;34m()\u001B[0m\n\u001B[0;32m----> 1\u001B[0m results \u001B[38;5;241m=\u001B[39m run_model(\u001B[43mnback_model\u001B[49m)\n",
      "\u001B[0;31mNameError\u001B[0m: name 'nback_model' is not defined"
     ]
    }
   ]
  },
  {
   "cell_type": "markdown",
   "source": [
    "## Analyze the results:"
   ],
   "metadata": {
    "collapsed": false,
    "pycharm": {
     "name": "#%% md\n"
    }
   }
  },
  {
   "cell_type": "code",
   "execution_count": null,
   "outputs": [],
   "source": [
    "coded_responses, stats = analyze_results(results,\n",
    "                                         num_trials=NUM_TRIALS,\n",
    "                                         nback_levels=NBACK_LEVELS)\n",
    "\n"
   ],
   "metadata": {
    "collapsed": false,
    "pycharm": {
     "name": "#%%\n"
    }
   }
  }
 ],
 "metadata": {
  "kernelspec": {
   "display_name": "Python 3 (ipykernel)",
   "language": "python",
   "name": "python3"
  },
  "language_info": {
   "codemirror_mode": {
    "name": "ipython",
    "version": 3
   },
   "file_extension": ".py",
   "mimetype": "text/x-python",
   "name": "python",
   "nbconvert_exporter": "python",
   "pygments_lexer": "ipython3",
   "version": "3.9.7"
  }
 },
 "nbformat": 4,
 "nbformat_minor": 1
}