{
 "cells": [
  {
   "cell_type": "code",
   "execution_count": 5,
   "metadata": {
    "pycharm": {
     "name": "#%%\n"
    }
   },
   "outputs": [],
   "source": [
    "from nback import construct_model, train_network, run_model, analyze_results\n",
    "from psyneulink import *"
   ]
  },
  {
   "cell_type": "markdown",
   "source": [
    "## Model Parameters:\n",
    "\n",
    "##### Fixed (structural) parameters:"
   ],
   "metadata": {
    "collapsed": false,
    "pycharm": {
     "name": "#%% md\n"
    }
   }
  },
  {
   "cell_type": "code",
   "execution_count": 6,
   "outputs": [],
   "source": [
    "MAX_NBACK_LEVELS = 3\n",
    "NUM_STIM = 8 # number of different stimuli in stimulus set -  QUESTION: WHY ISN\"T THIS EQUAL TO STIM_SIZE OR VICE VERSA?\n",
    "FFN_TRANSFER_FUNCTION = ReLU"
   ],
   "metadata": {
    "collapsed": false,
    "pycharm": {
     "name": "#%%\n"
    }
   }
  },
  {
   "cell_type": "markdown",
   "source": [
    "##### Constructor parameters:  (values are from nback-paper)"
   ],
   "metadata": {
    "collapsed": false
   }
  },
  {
   "cell_type": "code",
   "source": [
    "STIM_SIZE = 8                    # length of stimulus vector\n",
    "CONTEXT_SIZE = 25                # length of context vector\n",
    "HIDDEN_SIZE = STIM_SIZE*4        # dimension of hidden units in ff\n",
    "NBACK_LEVELS = [2,3]           # Currently restricted to these\n",
    "NUM_NBACK_LEVELS = len(NBACK_LEVELS)\n",
    "CONTEXT_DRIFT_NOISE = 0.0        # noise used by DriftOnASphereIntegrator (function of Context mech)\n",
    "RANDOM_WEIGHTS_INITIALIZATION=\\\n",
    "    RandomMatrix(center=0.0, range=0.1)  # Matrix spec used to initialize all Projections\n",
    "RETRIEVAL_SOFTMAX_TEMP = 1/8     # express as gain # precision of retrieval process\n",
    "RETRIEVAL_HAZARD_RATE = 0.04     # rate of re=sampling of em following non-match determination in a pass through ffn\n",
    "RETRIEVAL_STIM_WEIGHT = 0.05      # weighting of stimulus field in retrieval from em\n",
    "RETRIEVAL_CONTEXT_WEIGHT \\\n",
    "    = 1-RETRIEVAL_STIM_WEIGHT # weighting of context field in retrieval from em\n",
    "DECISION_SOFTMAX_TEMP=1"
   ],
   "metadata": {
    "collapsed": false,
    "pycharm": {
     "name": "#%%\n"
    }
   },
   "execution_count": 7,
   "outputs": []
  },
  {
   "cell_type": "markdown",
   "source": [
    "##### Training parameters:"
   ],
   "metadata": {
    "collapsed": false
   }
  },
  {
   "cell_type": "code",
   "source": [
    "NUM_EPOCHS = 6250    # nback-paper: 400,000 @ one trial per epoch = 6,250 @ 64 trials per epoch\n",
    "LEARNING_RATE =0.001  # nback-paper: .001\n",
    "\n",
    "#### Execution parameters:\n",
    "CONTEXT_DRIFT_RATE=.1 # drift rate used for DriftOnASphereIntegrator (function of Context mech) on each trial\n",
    "NUM_TRIALS = 48 # number of stimuli presented in a trial sequence\n",
    "REPORT_OUTPUT = ReportOutput.OFF   # Sets console output during run\n",
    "REPORT_PROGRESS = ReportProgress.OFF  # Sets console progress bar during run\n",
    "REPORT_LEARNING = ReportLearning.OFF  # Sets console progress bar during training\n",
    "ANIMATE = False # {UNIT:EXECUTION_SET} # Specifies whether to generate animation of execution"
   ],
   "metadata": {
    "collapsed": false,
    "pycharm": {
     "name": "#%%\n"
    }
   },
   "execution_count": null,
   "outputs": []
  },
  {
   "cell_type": "markdown",
   "source": [
    "##### Names of Compositions and Mechanisms:"
   ],
   "metadata": {
    "collapsed": false
   }
  },
  {
   "cell_type": "code",
   "source": [
    "NBACK_MODEL = \"N-back Model\"\n",
    "FFN_COMPOSITION = \"WORKING MEMORY (fnn)\"\n",
    "FFN_STIMULUS_INPUT = \"CURRENT STIMULUS\"\n",
    "FFN_CONTEXT_INPUT = \"CURRENT CONTEXT\"\n",
    "FFN_STIMULUS_RETRIEVED = \"RETRIEVED STIMULUS\"\n",
    "FFN_CONTEXT_RETRIEVED = \"RETRIEVED CONTEXT\"\n",
    "FFN_TASK = \"CURRENT TASK\"\n",
    "FFN_HIDDEN = \"HIDDEN LAYER\"\n",
    "FFN_OUTPUT = \"DECISION LAYER\"\n",
    "MODEL_STIMULUS_INPUT ='STIM'\n",
    "MODEL_CONTEXT_INPUT = 'CONTEXT'\n",
    "MODEL_TASK_INPUT = \"TASK\"\n",
    "EM = \"EPISODIC MEMORY (dict)\"\n",
    "CONTROLLER = \"READ/WRITE CONTROLLER\""
   ],
   "metadata": {
    "collapsed": false,
    "pycharm": {
     "name": "#%%\n"
    }
   },
   "execution_count": null,
   "outputs": []
  },
  {
   "cell_type": "markdown",
   "metadata": {
    "pycharm": {
     "name": "#%% md\n"
    }
   },
   "source": [
    "## Construct the model:"
   ]
  },
  {
   "cell_type": "code",
   "execution_count": 8,
   "metadata": {
    "pycharm": {
     "name": "#%%\n"
    }
   },
   "outputs": [
    {
     "name": "stdout",
     "output_type": "stream",
     "text": [
      "constructing 'WORKING MEMORY (fnn)'...\n",
      "'constructing N-back Model'...\n"
     ]
    },
    {
     "name": "stderr",
     "output_type": "stream",
     "text": [
      "/Users/jdc/PycharmProjects/PsyNeuLink/psyneulink/core/globals/utilities.py:443: VisibleDeprecationWarning: Creating an ndarray from ragged nested sequences (which is a list-or-tuple of lists-or-tuples-or ndarrays with different lengths or shapes) is deprecated. If you meant to do this, you must specify 'dtype=object' when creating the ndarray.\n",
      "  if reference is not None and (candidate == reference):\n",
      "/Users/jdc/PycharmProjects/PsyNeuLink/psyneulink/core/globals/utilities.py:443: VisibleDeprecationWarning: Creating an ndarray from ragged nested sequences (which is a list-or-tuple of lists-or-tuples-or ndarrays with different lengths or shapes) is deprecated. If you meant to do this, you must specify 'dtype=object' when creating the ndarray.\n",
      "  if reference is not None and (candidate == reference):\n"
     ]
    },
    {
     "name": "stdout",
     "output_type": "stream",
     "text": [
      "full model constructed\n"
     ]
    }
   ],
   "source": [
    "clear_registry()\n",
    "nback_model = construct_model(stim_size=10 # Size of stimulus input layer\n",
    "                              )"
   ]
  },
  {
   "cell_type": "code",
   "execution_count": 9,
   "metadata": {
    "pycharm": {
     "name": "#%%\n"
    }
   },
   "outputs": [
    {
     "data": {
      "text/plain": "10"
     },
     "execution_count": 9,
     "metadata": {},
     "output_type": "execute_result"
    }
   ],
   "source": [
    "len(nback_model.nodes['STIM'].variable[0])"
   ]
  },
  {
   "cell_type": "markdown",
   "metadata": {},
   "source": [
    "## Display the model:"
   ]
  },
  {
   "cell_type": "code",
   "execution_count": 10,
   "metadata": {
    "pycharm": {
     "name": "#%%\n"
    }
   },
   "outputs": [
    {
     "data": {
      "text/plain": "<graphviz.dot.Digraph at 0x7faf828fb280>",
      "image/svg+xml": "<?xml version=\"1.0\" encoding=\"UTF-8\" standalone=\"no\"?>\n<!DOCTYPE svg PUBLIC \"-//W3C//DTD SVG 1.1//EN\"\n \"http://www.w3.org/Graphics/SVG/1.1/DTD/svg11.dtd\">\n<!-- Generated by graphviz version 2.40.1 (20161225.0304)\n -->\n<!-- Title: N&#45;back Model Pages: 1 -->\n<svg width=\"961pt\" height=\"446pt\"\n viewBox=\"0.00 0.00 961.00 446.00\" xmlns=\"http://www.w3.org/2000/svg\" xmlns:xlink=\"http://www.w3.org/1999/xlink\">\n<g id=\"graph0\" class=\"graph\" transform=\"scale(1 1) rotate(0) translate(4 442)\">\n<title>N&#45;back Model</title>\n<polygon fill=\"#ffffff\" stroke=\"transparent\" points=\"-4,4 -4,-442 957,-442 957,4 -4,4\"/>\n<text text-anchor=\"middle\" x=\"476.5\" y=\"-7.8\" font-family=\"Times,serif\" font-size=\"14.00\" fill=\"#000000\">N&#45;back Model</text>\n<g id=\"clust1\" class=\"cluster\">\n<title>cluster_WORKING MEMORY (fnn)</title>\n<polygon fill=\"none\" stroke=\"#ff0000\" points=\"20,-211 20,-430 945,-430 945,-211 20,-211\"/>\n<text text-anchor=\"middle\" x=\"482.5\" y=\"-218.8\" font-family=\"Times,serif\" font-size=\"14.00\" fill=\"#000000\">WORKING MEMORY (fnn)</text>\n</g>\n<!-- TASK -->\n<g id=\"node1\" class=\"node\">\n<title>TASK</title>\n<ellipse fill=\"none\" stroke=\"#00ff00\" stroke-width=\"3\" cx=\"96\" cy=\"-185\" rx=\"29.5964\" ry=\"18\"/>\n<text text-anchor=\"middle\" x=\"96\" y=\"-181.9\" font-family=\"arial\" font-size=\"12.00\" fill=\"#000000\">TASK</text>\n</g>\n<!-- CURRENT TASK -->\n<g id=\"node5\" class=\"node\">\n<title>CURRENT TASK</title>\n<ellipse fill=\"none\" stroke=\"#00ff00\" stroke-width=\"3\" cx=\"96\" cy=\"-260\" rx=\"67.9298\" ry=\"18\"/>\n<text text-anchor=\"middle\" x=\"96\" y=\"-256.9\" font-family=\"arial\" font-size=\"12.00\" fill=\"#000000\">CURRENT TASK</text>\n</g>\n<!-- TASK&#45;&gt;CURRENT TASK -->\n<g id=\"edge2\" class=\"edge\">\n<title>TASK&#45;&gt;CURRENT TASK</title>\n<path fill=\"none\" stroke=\"#000000\" d=\"M96,-203.1554C96,-211.6599 96,-221.9924 96,-231.5036\"/>\n<polygon fill=\"#000000\" stroke=\"#000000\" points=\"92.5001,-231.7518 96,-241.7518 99.5001,-231.7519 92.5001,-231.7518\"/>\n</g>\n<!-- CONTEXT -->\n<g id=\"node2\" class=\"node\">\n<title>CONTEXT</title>\n<ellipse fill=\"none\" stroke=\"#00ff00\" stroke-width=\"3\" cx=\"269\" cy=\"-113\" rx=\"45.6069\" ry=\"18\"/>\n<text text-anchor=\"middle\" x=\"269\" y=\"-109.9\" font-family=\"arial\" font-size=\"12.00\" fill=\"#000000\">CONTEXT</text>\n</g>\n<!-- EPISODIC MEMORY (dict) -->\n<g id=\"node6\" class=\"node\">\n<title>EPISODIC MEMORY (dict)</title>\n<ellipse fill=\"none\" stroke=\"#000000\" cx=\"458\" cy=\"-185\" rx=\"99.2191\" ry=\"18\"/>\n<text text-anchor=\"middle\" x=\"458\" y=\"-181.9\" font-family=\"arial\" font-size=\"12.00\" fill=\"#000000\">EPISODIC MEMORY (dict)</text>\n</g>\n<!-- CONTEXT&#45;&gt;EPISODIC MEMORY (dict) -->\n<g id=\"edge6\" class=\"edge\">\n<title>CONTEXT&#45;&gt;EPISODIC MEMORY (dict)</title>\n<path fill=\"none\" stroke=\"#000000\" d=\"M301.9213,-125.5414C330.5103,-136.4325 372.4174,-152.3971 405.6108,-165.0422\"/>\n<polygon fill=\"#000000\" stroke=\"#000000\" points=\"404.5738,-168.3925 415.1647,-168.6818 407.0658,-161.851 404.5738,-168.3925\"/>\n</g>\n<!-- CURRENT CONTEXT -->\n<g id=\"node8\" class=\"node\">\n<title>CURRENT CONTEXT</title>\n<ellipse fill=\"none\" stroke=\"#00ff00\" stroke-width=\"3\" cx=\"265\" cy=\"-260\" rx=\"83.9402\" ry=\"18\"/>\n<text text-anchor=\"middle\" x=\"265\" y=\"-256.9\" font-family=\"arial\" font-size=\"12.00\" fill=\"#000000\">CURRENT CONTEXT</text>\n</g>\n<!-- CONTEXT&#45;&gt;CURRENT CONTEXT -->\n<g id=\"edge4\" class=\"edge\">\n<title>CONTEXT&#45;&gt;CURRENT CONTEXT</title>\n<path fill=\"none\" stroke=\"#000000\" d=\"M268.5095,-131.0251C267.8258,-156.1525 266.5793,-201.9607 265.7707,-231.676\"/>\n<polygon fill=\"#000000\" stroke=\"#000000\" points=\"262.2679,-231.7359 265.4945,-241.8275 269.2653,-231.9264 262.2679,-231.7359\"/>\n</g>\n<!-- STIM -->\n<g id=\"node3\" class=\"node\">\n<title>STIM</title>\n<ellipse fill=\"none\" stroke=\"#00ff00\" stroke-width=\"3\" cx=\"737\" cy=\"-113\" rx=\"27.9043\" ry=\"18\"/>\n<text text-anchor=\"middle\" x=\"737\" y=\"-109.9\" font-family=\"arial\" font-size=\"12.00\" fill=\"#000000\">STIM</text>\n</g>\n<!-- CURRENT STIMULUS -->\n<g id=\"node4\" class=\"node\">\n<title>CURRENT STIMULUS</title>\n<ellipse fill=\"none\" stroke=\"#00ff00\" stroke-width=\"3\" cx=\"851\" cy=\"-260\" rx=\"85.6332\" ry=\"18\"/>\n<text text-anchor=\"middle\" x=\"851\" y=\"-256.9\" font-family=\"arial\" font-size=\"12.00\" fill=\"#000000\">CURRENT STIMULUS</text>\n</g>\n<!-- STIM&#45;&gt;CURRENT STIMULUS -->\n<g id=\"edge1\" class=\"edge\">\n<title>STIM&#45;&gt;CURRENT STIMULUS</title>\n<path fill=\"none\" stroke=\"#000000\" d=\"M749.6356,-129.2932C769.2416,-154.5747 807.1744,-203.488 830.6676,-233.7819\"/>\n<polygon fill=\"#000000\" stroke=\"#000000\" points=\"827.9897,-236.0402 836.8838,-241.7975 833.5213,-231.7504 827.9897,-236.0402\"/>\n</g>\n<!-- STIM&#45;&gt;EPISODIC MEMORY (dict) -->\n<g id=\"edge8\" class=\"edge\">\n<title>STIM&#45;&gt;EPISODIC MEMORY (dict)</title>\n<path fill=\"none\" stroke=\"#000000\" d=\"M711.2524,-119.6445C669.2747,-130.4775 584.7757,-152.2837 524.9473,-167.7233\"/>\n<polygon fill=\"#000000\" stroke=\"#000000\" points=\"524.0045,-164.3518 515.1963,-170.2397 525.7537,-171.1298 524.0045,-164.3518\"/>\n</g>\n<!-- HIDDEN LAYER -->\n<g id=\"node13\" class=\"node\">\n<title>HIDDEN LAYER</title>\n<ellipse fill=\"none\" stroke=\"#000000\" cx=\"361\" cy=\"-332\" rx=\"64.7736\" ry=\"18\"/>\n<text text-anchor=\"middle\" x=\"361\" y=\"-328.9\" font-family=\"arial\" font-size=\"12.00\" fill=\"#000000\">HIDDEN LAYER</text>\n</g>\n<!-- CURRENT STIMULUS&#45;&gt;HIDDEN LAYER -->\n<g id=\"edge12\" class=\"edge\">\n<title>CURRENT STIMULUS&#45;&gt;HIDDEN LAYER</title>\n<path fill=\"none\" stroke=\"#000000\" d=\"M788.6382,-272.4279C778.0955,-274.3893 767.2484,-276.3213 757,-278 643.1391,-296.651 510.1172,-313.8558 430.8655,-323.6241\"/>\n<polygon fill=\"#000000\" stroke=\"#000000\" points=\"430.0213,-320.2014 420.5226,-324.8943 430.8746,-327.1492 430.0213,-320.2014\"/>\n</g>\n<!-- CURRENT TASK&#45;&gt;HIDDEN LAYER -->\n<g id=\"edge13\" class=\"edge\">\n<title>CURRENT TASK&#45;&gt;HIDDEN LAYER</title>\n<path fill=\"none\" stroke=\"#000000\" d=\"M143.3767,-272.8722C188.5477,-285.145 256.608,-303.6369 304.5651,-316.6667\"/>\n<polygon fill=\"#000000\" stroke=\"#000000\" points=\"303.9101,-320.1156 314.478,-319.3601 305.7455,-313.3605 303.9101,-320.1156\"/>\n</g>\n<!-- RETRIEVED STIMULUS -->\n<g id=\"node7\" class=\"node\">\n<title>RETRIEVED STIMULUS</title>\n<ellipse fill=\"none\" stroke=\"#00ff00\" stroke-width=\"3\" cx=\"458\" cy=\"-260\" rx=\"91.9455\" ry=\"18\"/>\n<text text-anchor=\"middle\" x=\"458\" y=\"-256.9\" font-family=\"arial\" font-size=\"12.00\" fill=\"#000000\">RETRIEVED STIMULUS</text>\n</g>\n<!-- EPISODIC MEMORY (dict)&#45;&gt;RETRIEVED STIMULUS -->\n<g id=\"edge3\" class=\"edge\">\n<title>EPISODIC MEMORY (dict)&#45;&gt;RETRIEVED STIMULUS</title>\n<path fill=\"none\" stroke=\"#000000\" d=\"M458,-203.1554C458,-211.6599 458,-221.9924 458,-231.5036\"/>\n<polygon fill=\"#000000\" stroke=\"#000000\" points=\"454.5001,-231.7518 458,-241.7518 461.5001,-231.7519 454.5001,-231.7518\"/>\n</g>\n<!-- RETRIEVED CONTEXT -->\n<g id=\"node9\" class=\"node\">\n<title>RETRIEVED CONTEXT</title>\n<ellipse fill=\"none\" stroke=\"#00ff00\" stroke-width=\"3\" cx=\"658\" cy=\"-260\" rx=\"89.7516\" ry=\"18\"/>\n<text text-anchor=\"middle\" x=\"658\" y=\"-256.9\" font-family=\"arial\" font-size=\"12.00\" fill=\"#000000\">RETRIEVED CONTEXT</text>\n</g>\n<!-- EPISODIC MEMORY (dict)&#45;&gt;RETRIEVED CONTEXT -->\n<g id=\"edge5\" class=\"edge\">\n<title>EPISODIC MEMORY (dict)&#45;&gt;RETRIEVED CONTEXT</title>\n<path fill=\"none\" stroke=\"#000000\" d=\"M520.8552,-199.0217C533.6294,-202.472 546.8647,-206.4906 559,-211 579.2068,-218.5086 600.7554,-228.8704 618.5718,-238.1322\"/>\n<polygon fill=\"#000000\" stroke=\"#000000\" points=\"617.0437,-241.2833 627.5214,-242.8543 620.3103,-235.0922 617.0437,-241.2833\"/>\n</g>\n<!-- RETRIEVED STIMULUS&#45;&gt;HIDDEN LAYER -->\n<g id=\"edge15\" class=\"edge\">\n<title>RETRIEVED STIMULUS&#45;&gt;HIDDEN LAYER</title>\n<path fill=\"none\" stroke=\"#000000\" d=\"M434.519,-277.4292C421.7966,-286.8727 405.9112,-298.6639 392.1651,-308.8672\"/>\n<polygon fill=\"#000000\" stroke=\"#000000\" points=\"389.8737,-306.2091 383.93,-314.9798 394.0458,-311.8299 389.8737,-306.2091\"/>\n</g>\n<!-- CURRENT CONTEXT&#45;&gt;HIDDEN LAYER -->\n<g id=\"edge11\" class=\"edge\">\n<title>CURRENT CONTEXT&#45;&gt;HIDDEN LAYER</title>\n<path fill=\"none\" stroke=\"#000000\" d=\"M288.2389,-277.4292C300.8302,-286.8727 316.5518,-298.6639 330.1562,-308.8672\"/>\n<polygon fill=\"#000000\" stroke=\"#000000\" points=\"328.2063,-311.7797 338.3063,-314.9798 332.4063,-306.1797 328.2063,-311.7797\"/>\n</g>\n<!-- RETRIEVED CONTEXT&#45;&gt;HIDDEN LAYER -->\n<g id=\"edge14\" class=\"edge\">\n<title>RETRIEVED CONTEXT&#45;&gt;HIDDEN LAYER</title>\n<path fill=\"none\" stroke=\"#000000\" d=\"M600.7354,-273.8823C548.794,-286.4742 472.5391,-304.9602 420.0498,-317.6849\"/>\n<polygon fill=\"#000000\" stroke=\"#000000\" points=\"419.104,-314.3127 410.2101,-320.0703 420.7532,-321.1157 419.104,-314.3127\"/>\n</g>\n<!-- READ/WRITE CONTROLLER -->\n<g id=\"node10\" class=\"node\">\n<title>READ/WRITE CONTROLLER</title>\n<polygon fill=\"none\" stroke=\"#0000ff\" stroke-width=\"3\" points=\"573.8726,-105.5442 573.8726,-120.4558 504.8244,-131 407.1756,-131 338.1274,-120.4558 338.1274,-105.5442 407.1756,-95 504.8244,-95 573.8726,-105.5442\"/>\n<text text-anchor=\"middle\" x=\"456\" y=\"-109.9\" font-family=\"arial\" font-size=\"12.00\" fill=\"#000000\">READ/WRITE CONTROLLER</text>\n</g>\n<!-- READ/WRITE CONTROLLER&#45;&gt;EPISODIC MEMORY (dict) -->\n<g id=\"edge7\" class=\"edge\">\n<title>READ/WRITE CONTROLLER&#45;&gt;EPISODIC MEMORY (dict)</title>\n<path fill=\"none\" stroke=\"#0000ff\" d=\"M456.5047,-131.1686C456.7186,-138.869 456.9729,-148.0257 457.2106,-156.5834\"/>\n<polygon fill=\"#0000ff\" stroke=\"#0000ff\" points=\"461.487,-166.4756 453.4901,-166.6978 453.2678,-158.7009 461.2648,-158.4787 461.487,-166.4756\"/>\n<polyline fill=\"none\" stroke=\"#0000ff\" points=\"457.2663,-158.5898 457.2108,-156.5906 \"/>\n</g>\n<!-- OBJECTIVE MECHANISM -->\n<g id=\"node11\" class=\"node\">\n<title>OBJECTIVE MECHANISM</title>\n<ellipse fill=\"none\" stroke=\"#000000\" cx=\"223\" cy=\"-41\" rx=\"98.4878\" ry=\"18\"/>\n<text text-anchor=\"middle\" x=\"223\" y=\"-37.9\" font-family=\"arial\" font-size=\"12.00\" fill=\"#000000\">OBJECTIVE MECHANISM</text>\n</g>\n<!-- OBJECTIVE MECHANISM&#45;&gt;READ/WRITE CONTROLLER -->\n<g id=\"edge9\" class=\"edge\">\n<title>OBJECTIVE MECHANISM&#45;&gt;READ/WRITE CONTROLLER</title>\n<path fill=\"none\" stroke=\"#000000\" d=\"M273.2707,-56.5343C307.6564,-67.1599 353.569,-81.3475 390.7694,-92.8429\"/>\n<polygon fill=\"#000000\" stroke=\"#000000\" points=\"389.9315,-96.2472 400.5191,-95.8557 391.9982,-89.5592 389.9315,-96.2472\"/>\n</g>\n<!-- DECISION LAYER -->\n<g id=\"node12\" class=\"node\">\n<title>DECISION LAYER</title>\n<ellipse fill=\"none\" stroke=\"#ff0000\" stroke-width=\"3\" cx=\"231\" cy=\"-404\" rx=\"72.0474\" ry=\"18\"/>\n<text text-anchor=\"middle\" x=\"231\" y=\"-400.9\" font-family=\"arial\" font-size=\"12.00\" fill=\"#000000\">DECISION LAYER</text>\n</g>\n<!-- DECISION LAYER&#45;&gt;OBJECTIVE MECHANISM -->\n<g id=\"edge10\" class=\"edge\">\n<title>DECISION LAYER&#45;&gt;OBJECTIVE MECHANISM</title>\n<path fill=\"none\" stroke=\"#000000\" d=\"M171.8117,-393.7125C103.3697,-378.0226 0,-340.9298 0,-260 0,-185 0,-185 0,-185 0,-113.439 82.0445,-75.7104 146.604,-57.0997\"/>\n<polygon fill=\"#000000\" stroke=\"#000000\" points=\"147.6948,-60.4294 156.3947,-54.3828 145.8229,-53.6843 147.6948,-60.4294\"/>\n</g>\n<!-- HIDDEN LAYER&#45;&gt;DECISION LAYER -->\n<g id=\"edge16\" class=\"edge\">\n<title>HIDDEN LAYER&#45;&gt;DECISION LAYER</title>\n<path fill=\"none\" stroke=\"#000000\" d=\"M331.8255,-348.1582C313.5187,-358.2973 289.6982,-371.4902 269.8075,-382.5066\"/>\n<polygon fill=\"#000000\" stroke=\"#000000\" points=\"268.0311,-379.4895 260.9789,-387.3963 271.4226,-385.613 268.0311,-379.4895\"/>\n</g>\n</g>\n</svg>\n"
     },
     "execution_count": 10,
     "metadata": {},
     "output_type": "execute_result"
    }
   ],
   "source": [
    "nback_model.show_graph(output_fmt='jupyter')"
   ]
  },
  {
   "cell_type": "markdown",
   "source": [
    "## Train the model:"
   ],
   "metadata": {
    "collapsed": false,
    "pycharm": {
     "name": "#%% md\n"
    }
   }
  },
  {
   "cell_type": "code",
   "execution_count": null,
   "metadata": {
    "pycharm": {
     "name": "#%%\n"
    }
   },
   "outputs": [],
   "source": [
    "ffn = nback_model.nodes['WORKING MEMORY (fnn)']\n",
    "train_network(ffn, num_epochs=100)"
   ]
  },
  {
   "cell_type": "markdown",
   "metadata": {},
   "source": [
    "## Run the model:"
   ]
  },
  {
   "cell_type": "code",
   "metadata": {
    "pycharm": {
     "name": "#%%\n"
    }
   },
   "source": [
    "results = run_model(nback_model)"
   ],
   "execution_count": 11,
   "outputs": [
    {
     "ename": "NameError",
     "evalue": "name 'nback_model' is not defined",
     "output_type": "error",
     "traceback": [
      "\u001B[0;31m---------------------------------------------------------------------------\u001B[0m",
      "\u001B[0;31mNameError\u001B[0m                                 Traceback (most recent call last)",
      "\u001B[0;32m/var/folders/_8/09rzl01902954fwz0xrgrx7h0000gp/T/ipykernel_57864/313089602.py\u001B[0m in \u001B[0;36m<module>\u001B[0;34m\u001B[0m\n\u001B[0;32m----> 1\u001B[0;31m \u001B[0mresults\u001B[0m \u001B[0;34m=\u001B[0m \u001B[0mrun_model\u001B[0m\u001B[0;34m(\u001B[0m\u001B[0mnback_model\u001B[0m\u001B[0;34m)\u001B[0m\u001B[0;34m\u001B[0m\u001B[0;34m\u001B[0m\u001B[0m\n\u001B[0m\u001B[1;32m      2\u001B[0m \u001B[0;34m\u001B[0m\u001B[0m\n",
      "\u001B[0;32m~/PycharmProjects/PsyNeuLink/Scripts/Models (Under Development)/N-Back/nback.py\u001B[0m in \u001B[0;36mrun_model\u001B[0;34m(model, load_weights_from, context_drift_rate, num_trials, report_output, report_progress, animate, save_results_to)\u001B[0m\n\u001B[1;32m    627\u001B[0m         \u001B[0;32mif\u001B[0m \u001B[0;32mNone\u001B[0m\u001B[0;34m,\u001B[0m \u001B[0mthose\u001B[0m \u001B[0mare\u001B[0m \u001B[0mreturned\u001B[0m \u001B[0mby\u001B[0m \u001B[0mcall\u001B[0m \u001B[0mbut\u001B[0m \u001B[0;32mnot\u001B[0m \u001B[0msaved\u001B[0m\u001B[0;34m.\u001B[0m\u001B[0;34m\u001B[0m\u001B[0;34m\u001B[0m\u001B[0m\n\u001B[1;32m    628\u001B[0m     \"\"\"\n\u001B[0;32m--> 629\u001B[0;31m     \u001B[0mffn\u001B[0m \u001B[0;34m=\u001B[0m \u001B[0mnback_model\u001B[0m\u001B[0;34m.\u001B[0m\u001B[0mnodes\u001B[0m\u001B[0;34m[\u001B[0m\u001B[0mFFN_COMPOSITION\u001B[0m\u001B[0;34m]\u001B[0m\u001B[0;34m\u001B[0m\u001B[0;34m\u001B[0m\u001B[0m\n\u001B[0m\u001B[1;32m    630\u001B[0m     \u001B[0mem\u001B[0m \u001B[0;34m=\u001B[0m \u001B[0mmodel\u001B[0m\u001B[0;34m.\u001B[0m\u001B[0mnodes\u001B[0m\u001B[0;34m[\u001B[0m\u001B[0mEM\u001B[0m\u001B[0;34m]\u001B[0m\u001B[0;34m\u001B[0m\u001B[0;34m\u001B[0m\u001B[0m\n\u001B[1;32m    631\u001B[0m     \u001B[0;32mif\u001B[0m \u001B[0mload_weights_from\u001B[0m\u001B[0;34m:\u001B[0m\u001B[0;34m\u001B[0m\u001B[0;34m\u001B[0m\u001B[0m\n",
      "\u001B[0;31mNameError\u001B[0m: name 'nback_model' is not defined"
     ]
    }
   ]
  },
  {
   "cell_type": "markdown",
   "source": [
    "## Analyze the results:"
   ],
   "metadata": {
    "collapsed": false,
    "pycharm": {
     "name": "#%% md\n"
    }
   }
  },
  {
   "cell_type": "code",
   "execution_count": null,
   "outputs": [],
   "source": [
    "coded_responses, stats = analyze_results(results,\n",
    "                                         num_trials=NUM_TRIALS,\n",
    "                                         nback_levels=NBACK_LEVELS)\n",
    "\n"
   ],
   "metadata": {
    "collapsed": false,
    "pycharm": {
     "name": "#%%\n"
    }
   }
  }
 ],
 "metadata": {
  "kernelspec": {
   "display_name": "Python 3 (ipykernel)",
   "language": "python",
   "name": "python3"
  },
  "language_info": {
   "codemirror_mode": {
    "name": "ipython",
    "version": 3
   },
   "file_extension": ".py",
   "mimetype": "text/x-python",
   "name": "python",
   "nbconvert_exporter": "python",
   "pygments_lexer": "ipython3",
   "version": "3.9.7"
  }
 },
 "nbformat": 4,
 "nbformat_minor": 1
}