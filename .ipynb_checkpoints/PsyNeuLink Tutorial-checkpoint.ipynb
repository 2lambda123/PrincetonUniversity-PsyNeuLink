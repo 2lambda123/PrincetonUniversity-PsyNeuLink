{
 "cells": [
  {
   "cell_type": "code",
   "execution_count": 1,
   "metadata": {
    "collapsed": true
   },
   "outputs": [],
   "source": [
    "##############################################################################\n",
    "# What is PsyNeuLink?\n",
    "# \n",
    "# PsyNeuLink is an integrated language and toolkit for creating\n",
    "# cognitive models. It decreases the overhead required for cognitive\n",
    "# modeling by providing standard building blocks (DDMS, Neural Nets, etc.)\n",
    "# and the means to connect them together in a single environment.\n",
    "# PsyNeuLink is designed to make the user think about computation\n",
    "# in a \"mind/brain-like\" way while imposing minimal constraint\n",
    "# on the type of models that can be implemented.\n",
    "##############################################################################"
   ]
  },
  {
   "cell_type": "code",
   "execution_count": 2,
   "metadata": {
    "collapsed": true
   },
   "outputs": [],
   "source": [
    "##############################################################################\n",
    "# How do I get PsyNeuLink?\n",
    "# \n",
    "# Go to https://github.com/PrincetonUniversity/PsyNeuLink\n",
    "# Press the green \"Clone or download\" button, then \"Download ZIP\"\n",
    "# Unzip in the directory of your choice.\n",
    "#\n",
    "# Right now, you need explicit permission to download PsyNeuLink,\n",
    "# so if you can't follow these directions, this is likely the reason.\n",
    "#\n",
    "# Note to Jon: Should I teach them with these directions or should I\n",
    "# teach them to use git clone?\n",
    "#\n",
    "# Once you have downloaded the repository, move this file to the main PsyNeuLink\n",
    "# folder and restart the kernel from the jupyter toolbar.\n",
    "##############################################################################"
   ]
  },
  {
   "cell_type": "code",
   "execution_count": 3,
   "metadata": {
    "collapsed": false
   },
   "outputs": [
    {
     "name": "stdout",
     "output_type": "stream",
     "text": [
      "Requirement already satisfied (use --upgrade to upgrade): toposort in /usr/local/lib/python3.5/site-packages\n",
      "Requirement already satisfied (use --upgrade to upgrade): mpi4py in /usr/local/lib/python3.5/site-packages\n"
     ]
    }
   ],
   "source": [
    "# Run this cell to download required packages.\n",
    "! pip3 install toposort\n",
    "! pip3 install mpi4py"
   ]
  },
  {
   "cell_type": "code",
   "execution_count": 4,
   "metadata": {
    "collapsed": false
   },
   "outputs": [],
   "source": [
    "##############################################################################\n",
    "# What will we do in this tutorial?\n",
    "#\n",
    "# This tutorial is meant to get you accustomed to the basic structure of PsyNeuLink\n",
    "# and be able to construct basic models. Starting with a simple 1-to-1 transformation,\n",
    "# we will build up to ....#SOMETHING EXCITING#\n",
    "##############################################################################"
   ]
  },
  {
   "cell_type": "code",
   "execution_count": 5,
   "metadata": {
    "collapsed": false
   },
   "outputs": [],
   "source": [
    "# First we need to import the necessary packages. Right now, these lines only work from\n",
    "# files in this directory, but eventually PsyNeuLink will be an installable python package.\n",
    "\n",
    "# This first package contains the basic methods to create and handle Processes,\n",
    "# which we will discuss later.\n",
    "from PsyNeuLink.Functions.Process import *\n",
    "\n",
    "# The second imports a specific type of mechansim, a Transfer mechanism, that we will be\n",
    "# using in this tutorial. Don't worry if this doesn't make sense right now! ##Change\n",
    "from PsyNeuLink.Functions.Mechanisms.ProcessingMechanisms.Transfer import *"
   ]
  },
  {
   "cell_type": "code",
   "execution_count": 6,
   "metadata": {
    "collapsed": true
   },
   "outputs": [],
   "source": [
    "# Now we import tools for plotting so we can see what our mechanisms do.\n",
    "import numpy as np\n",
    "import matplotlib.pyplot as plt\n",
    "% matplotlib inline"
   ]
  },
  {
   "cell_type": "code",
   "execution_count": 7,
   "metadata": {
    "collapsed": false
   },
   "outputs": [
    {
     "name": "stdout",
     "output_type": "stream",
     "text": [
      "Requirement already satisfied (use --upgrade to upgrade): numpy in /usr/local/lib/python3.5/site-packages\n",
      "Requirement already satisfied (use --upgrade to upgrade): matplotlib in /usr/local/lib/python3.5/site-packages\n",
      "Requirement already satisfied (use --upgrade to upgrade): numpy>=1.6 in /usr/local/lib/python3.5/site-packages (from matplotlib)\n",
      "Requirement already satisfied (use --upgrade to upgrade): pyparsing!=2.0.0,!=2.0.4,>=1.5.6 in /usr/local/lib/python3.5/site-packages (from matplotlib)\n",
      "Requirement already satisfied (use --upgrade to upgrade): cycler in /usr/local/lib/python3.5/site-packages (from matplotlib)\n",
      "Requirement already satisfied (use --upgrade to upgrade): python-dateutil in /usr/local/lib/python3.5/site-packages (from matplotlib)\n",
      "Requirement already satisfied (use --upgrade to upgrade): pytz in /usr/local/lib/python3.5/site-packages (from matplotlib)\n",
      "Requirement already satisfied (use --upgrade to upgrade): six in /usr/local/lib/python3.5/site-packages (from cycler->matplotlib)\n"
     ]
    }
   ],
   "source": [
    "# If this doesn't work, execute this cell to download the packages, then rerun the import statements\n",
    "! pip3 install numpy\n",
    "! pip3 install matplotlib"
   ]
  },
  {
   "cell_type": "code",
   "execution_count": 8,
   "metadata": {
    "collapsed": true
   },
   "outputs": [],
   "source": [
    "# Now we are ready to create our first mechanism. A mechanism is the basic unit\n",
    "# of computation in PsyNeuLink. It takes inputs, runs them through a function\n",
    "# (an execute method), then provides outputs. First we will make a mechanism \n",
    "# that takes a number and returns that same number multiplied by some gain \n",
    "# plus a bias term – a linear transformation."
   ]
  },
  {
   "cell_type": "code",
   "execution_count": 9,
   "metadata": {
    "collapsed": false
   },
   "outputs": [],
   "source": [
    "# Let's set a name for our mechanism and define the execute method, in this case linear.\n",
    "mechanism_name = \"Linear Transfer Mechanism\"\n",
    "\n",
    "# Parameters are passed in a dictionary of key:value pairs. Inside that, the execute method\n",
    "# parameters are passed in another dictionary. Notice that we do not specify\n",
    "# a bias (or other parameters) for our Linear execute method. This is because they \n",
    "# will default to reasonable values, which is 0 for bias (the y-intercept) in the linear function.\n",
    "mechanism_params = {kwExecuteMethod:Linear, kwExecuteMethodParams:{kwTransfer_Gain:2}}"
   ]
  },
  {
   "cell_type": "code",
   "execution_count": 10,
   "metadata": {
    "collapsed": false
   },
   "outputs": [],
   "source": [
    "# The \"Transfer\" function creates a new transfer mechanism.\n",
    "linear_transfer_mechanism = Transfer(name = mechanism_name, params = mechanism_params)"
   ]
  },
  {
   "cell_type": "code",
   "execution_count": 11,
   "metadata": {
    "collapsed": false
   },
   "outputs": [
    {
     "name": "stdout",
     "output_type": "stream",
     "text": [
      "\n",
      "Linear Transfer Process-1 initialized with:\n",
      "- configuration: ['Linear Transfer Mechanism-1']\n"
     ]
    }
   ],
   "source": [
    "# Now we have to put our mechanism in a process. In PsyNeuLink, a process is\n",
    "# a collection of mechanisms and projections (which we will learn about later)\n",
    "# connected in a certain configuration to be executed.\n",
    "process_name = \"Linear Transfer Process\"\n",
    "\n",
    "# Since we only have one mechanism, the configuration list has only one element.\n",
    "# We will leave the other parameters to default.\n",
    "process_params = {kwConfiguration:[linear_transfer_mechanism]}\n",
    "\n",
    "linear_transfer_process = Process_Base(name = process_name, params = process_params)"
   ]
  },
  {
   "cell_type": "code",
   "execution_count": 12,
   "metadata": {
    "collapsed": false
   },
   "outputs": [
    {
     "name": "stdout",
     "output_type": "stream",
     "text": [
      "\n",
      "Linear Transfer Process-1 executing with:\n",
      "- configuration: ['Linear Transfer Mechanism-1']\n",
      "- input: 1\n",
      "\n",
      "Linear Transfer Mechanism-1 execute method:\n",
      "- input:  1.\n",
      "- params:\n",
      "    length: 1.0 \n",
      "    input:  1. \n",
      "    gain: 2.0 \n",
      "    bias: 0.0 \n",
      "    value range:  \n",
      "- output: \n",
      "    mean output: 2.0 \n",
      "    output variance: 0.0\n",
      "Output:   2.\n",
      "\n",
      "Linear Transfer Mechanism-1 Mechanism executed:\n",
      "- output:  2.\n",
      "\n",
      "Linear Transfer Process-1 executed Linear Transfer Mechanism-1:\n",
      "- output:  2.\n",
      "\n",
      "Linear Transfer Process-1 completed:\n",
      "- output:  2.\n"
     ]
    },
    {
     "data": {
      "text/plain": [
       "array([ 2.])"
      ]
     },
     "execution_count": 12,
     "metadata": {},
     "output_type": "execute_result"
    }
   ],
   "source": [
    "# We will execute this process with an input of 1. Since the gain is 2 and the\n",
    "# bias is 0 (remember that it defaulted), the output should be 2\n",
    "linear_transfer_process.execute([1])"
   ]
  },
  {
   "cell_type": "code",
   "execution_count": 13,
   "metadata": {
    "collapsed": false
   },
   "outputs": [],
   "source": [
    "# Now let's see if it runs properly over a wide range of values\n",
    "# First we want to get rid of that long chunk of output. This is done by setting\n",
    "# up a preference set and passing it to our mechanism. We need to set this both for\n",
    "# our mechanism(s) and our process(es)\n",
    "\n",
    "mechanism_prefs = FunctionPreferenceSet(\n",
    "                   prefs = {\n",
    "                    kpVerbosePref: PreferenceEntry(False,PreferenceLevel.INSTANCE),\n",
    "                    kpReportOutputPref: PreferenceEntry(False,PreferenceLevel.INSTANCE)})\n",
    "linear_transfer_mechanism.prefs = mechanism_prefs\n",
    "process_prefs = FunctionPreferenceSet(\n",
    "                 prefs = {\n",
    "                  kpVerbosePref: PreferenceEntry(False,PreferenceLevel.INSTANCE),\n",
    "                  kpReportOutputPref: PreferenceEntry(False,PreferenceLevel.INSTANCE)})\n",
    "linear_transfer_process.prefs = process_prefs\n",
    "# Notice that while process and mechanism params are passed in a dictionary, prefs are\n",
    "# packaged in a FunctionPreferenceSet object"
   ]
  },
  {
   "cell_type": "code",
   "execution_count": 14,
   "metadata": {
    "collapsed": false
   },
   "outputs": [
    {
     "data": {
      "text/plain": [
       "array([ 4.])"
      ]
     },
     "execution_count": 14,
     "metadata": {},
     "output_type": "execute_result"
    }
   ],
   "source": [
    "### EXERCISE 1 ###\n",
    "# Let's check to make sure our preferences suppress the output.\n",
    "# Type your own code to execute the process with an input of 2\n",
    "\n",
    "linear_transfer_process.execute([2])"
   ]
  },
  {
   "cell_type": "code",
   "execution_count": 15,
   "metadata": {
    "collapsed": false
   },
   "outputs": [
    {
     "name": "stdout",
     "output_type": "stream",
     "text": [
      "---------------------------------------------------"
     ]
    },
    {
     "data": {
      "image/png": "[encoded data removed]",
      "text/plain": [
       "<matplotlib.figure.Figure at 0x10a3e1b38>"
      ]
     },
     "metadata": {},
     "output_type": "display_data"
    }
   ],
   "source": [
    "# Finally, let's see the output of our process over a range of values using pyplot\n",
    "xVals = np.linspace(-3, 3, num=51)\n",
    "yVals = np.zeros((51,))\n",
    "for i in range(xVals.shape[0]):\n",
    "    # Progress bar\n",
    "    print(\"-\", end=\"\")\n",
    "    yVals[i] = linear_transfer_process.execute([xVals[i]])[0]\n",
    "plt.plot(xVals, yVals)\n",
    "plt.show()"
   ]
  },
  {
   "cell_type": "code",
   "execution_count": 16,
   "metadata": {
    "collapsed": false
   },
   "outputs": [
    {
     "name": "stdout",
     "output_type": "stream",
     "text": [
      "\n",
      "Logistic Transfer Process initialized with:\n",
      "- configuration: ['Logistic Transfer Mechanism']\n",
      "\n",
      "Logistic Transfer Process executing with:\n",
      "- configuration: ['Logistic Transfer Mechanism']\n",
      "- input: 1\n",
      "\n",
      "Logistic Transfer Mechanism execute method:\n",
      "- input:  1.\n",
      "- params:\n",
      "    length: 1.0 \n",
      "    input:  1. \n",
      "    gain: 1.0 \n",
      "    bias: 0.0 \n",
      "    value range:  \n",
      "- output: \n",
      "    mean output: 0.7310585786300049 \n",
      "    output variance: 0.0\n",
      "Output:   0.73105858\n",
      "\n",
      "Logistic Transfer Mechanism Mechanism executed:\n",
      "- output:  0.73105858\n",
      "\n",
      "Logistic Transfer Process executed Logistic Transfer Mechanism:\n",
      "- output:  0.73105858\n",
      "\n",
      "Logistic Transfer Process completed:\n",
      "- output:  0.73105858\n",
      "---------------------------------------------------"
     ]
    },
    {
     "data": {
      "image/png": "[encoded data removed]",
      "text/plain": [
       "<matplotlib.figure.Figure at 0x10cd41630>"
      ]
     },
     "metadata": {},
     "output_type": "display_data"
    }
   ],
   "source": [
    "# Now let's put it all together and make a new logistic transfer process\n",
    "# Create the mechanism\n",
    "mechanism_name = \"Logistic Transfer Mechanism\"\n",
    "mechanism_params = {kwExecuteMethod:Logistic}\n",
    "logistic_transfer_mechanism = Transfer(name = mechanism_name, params = mechanism_params)\n",
    "\n",
    "# Package into a process\n",
    "process_name = \"Logistic Transfer Process\"\n",
    "process_params = {kwConfiguration:[logistic_transfer_mechanism]}\n",
    "logistic_transfer_process = Process_Base(name = process_name, params = process_params)\n",
    "\n",
    "# Test execution\n",
    "logistic_transfer_process.execute([1])\n",
    "\n",
    "# Silence output\n",
    "mechanism_prefs = FunctionPreferenceSet(\n",
    "                   prefs = {\n",
    "                    kpVerbosePref: PreferenceEntry(False,PreferenceLevel.INSTANCE),\n",
    "                    kpReportOutputPref: PreferenceEntry(False,PreferenceLevel.INSTANCE)})\n",
    "logistic_transfer_mechanism.prefs = mechanism_prefs\n",
    "process_prefs = FunctionPreferenceSet(\n",
    "                 prefs = {\n",
    "                  kpVerbosePref: PreferenceEntry(False,PreferenceLevel.INSTANCE),\n",
    "                  kpReportOutputPref: PreferenceEntry(False,PreferenceLevel.INSTANCE)})\n",
    "logistic_transfer_process.prefs = process_prefs\n",
    "\n",
    "# Iterate and plot\n",
    "xVals = np.linspace(-3, 3, num=51)\n",
    "yVals = np.zeros((51,))\n",
    "for i in range(xVals.shape[0]):\n",
    "    # Progress bar\n",
    "    print(\"-\", end=\"\")\n",
    "    yVals[i] = logistic_transfer_process.execute([xVals[i]])[0]\n",
    "plt.plot(xVals, yVals)\n",
    "plt.show()"
   ]
  },
  {
   "cell_type": "code",
   "execution_count": 18,
   "metadata": {
    "collapsed": false
   },
   "outputs": [
    {
     "data": {
      "text/plain": [
       "{'Mechanism Time Scale': <TimeScale.TRIAL: 1>,\n",
       " 'MechanismInputStates': None,\n",
       " 'MechanismOutputStates': ['Transfer_Activation',\n",
       "  'Transfer_Activation_Mean ',\n",
       "  'kwTransfer_Output_Variance'],\n",
       " 'MonitoredOutputStates': NotImplemented,\n",
       " 'Time Scale': <TimeScale.TRIAL: 1>,\n",
       " 'kwExecuteMethod': <bound method Transfer.execute of <Functions.Mechanisms.ProcessingMechanisms.Transfer.Transfer object at 0x10cd473c8>>,\n",
       " 'kwExecuteMethodParams': {'Transfer_Bias': 0,\n",
       "  'Transfer_Gain': 1,\n",
       "  'Transfer_Net_Input': 0,\n",
       "  'Transfer_Number_Of_Units': 1,\n",
       "  'Transfer_Range': array([], dtype=float64)}}"
      ]
     },
     "execution_count": 18,
     "metadata": {},
     "output_type": "execute_result"
    }
   ],
   "source": [
    "logistic_transfer_mechanism.params"
   ]
  },
  {
   "cell_type": "code",
   "execution_count": null,
   "metadata": {
    "collapsed": true
   },
   "outputs": [],
   "source": [
    ""
   ]
  }
 ],
 "metadata": {
  "kernelspec": {
   "display_name": "Python 3",
   "language": "python",
   "name": "python3"
  },
  "language_info": {
   "codemirror_mode": {
    "name": "ipython",
    "version": 3.0
   },
   "file_extension": ".py",
   "mimetype": "text/x-python",
   "name": "python",
   "nbconvert_exporter": "python",
   "pygments_lexer": "ipython3",
   "version": "3.5.2"
  }
 },
 "nbformat": 4,
 "nbformat_minor": 0
}