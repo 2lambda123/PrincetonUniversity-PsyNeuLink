{
 "cells": [
  {
   "cell_type": "markdown",
   "source": [
    "# NBackModelNotebook"
   ],
   "metadata": {
    "collapsed": false,
    "pycharm": {
     "name": "#%% md\n"
    }
   }
  },
  {
   "cell_type": "code",
   "execution_count": 3,
   "outputs": [],
   "source": [
    "from psyneulink.library.models.Beukers_et_al_2022.nback import \\\n",
    "    construct_model, train_network, run_model, analyze_results\n",
    "from psyneulink import *"
   ],
   "metadata": {
    "collapsed": false,
    "pycharm": {
     "name": "#%%\n"
    }
   }
  },
  {
   "cell_type": "markdown",
   "source": [],
   "metadata": {
    "collapsed": false
   }
  },
  {
   "cell_type": "code",
   "execution_count": 4,
   "outputs": [],
   "source": [
    "MAX_NBACK_LEVELS = 3\n",
    "NUM_STIM = 8 # number of different stimuli in stimulus set -  QUESTION: WHY ISN\"T THIS EQUAL TO STIM_SIZE OR VICE VERSA?\n",
    "FFN_TRANSFER_FUNCTION = ReLU"
   ],
   "metadata": {
    "collapsed": false,
    "pycharm": {
     "name": "#%%\n"
    }
   }
  },
  {
   "cell_type": "markdown",
   "source": [
    "### Constructor parameters:  (values are from nback-paper)"
   ],
   "metadata": {
    "collapsed": false
   }
  },
  {
   "cell_type": "code",
   "source": [
    "STIM_SIZE = 8                            # length of stimulus vector\n",
    "CONTEXT_SIZE = 25                        # length of context vector\n",
    "HIDDEN_SIZE = STIM_SIZE*4                # dimension of hidden units in ff\n",
    "NBACK_LEVELS = [2,3]                     # Currently restricted to these\n",
    "NUM_NBACK_LEVELS = len(NBACK_LEVELS)\n",
    "CONTEXT_DRIFT_NOISE = 0.0                # noise used by DriftOnASphereIntegrator (function of Context mech)\n",
    "RANDOM_WEIGHTS_INITIALIZATION=\\\n",
    "    RandomMatrix(center=0.0, range=0.1)  # Matrix spec used to initialize all Projections\n",
    "RETRIEVAL_SOFTMAX_TEMP = 1/8             # express as gain # precision of retrieval process\n",
    "RETRIEVAL_HAZARD_RATE = 0.04             # rate of re=sampling of em following non-match in a pass through ffn\n",
    "RETRIEVAL_STIM_WEIGHT = 0.05             # weighting of stimulus field in retrieval from em\n",
    "RETRIEVAL_CONTEXT_WEIGHT \\\n",
    "    = 1-RETRIEVAL_STIM_WEIGHT            # weighting of context field in retrieval from em\n",
    "DECISION_SOFTMAX_TEMP=1"
   ],
   "metadata": {
    "collapsed": false,
    "pycharm": {
     "name": "#%%\n"
    }
   },
   "execution_count": 5,
   "outputs": []
  },
  {
   "cell_type": "markdown",
   "source": [
    "### Training parameters:"
   ],
   "metadata": {
    "collapsed": false
   }
  },
  {
   "cell_type": "code",
   "source": [
    "NUM_EPOCHS = 6250    # nback-paper: 400,000 @ one trial per epoch = 6,250 @ 64 trials per epoch\n",
    "LEARNING_RATE =0.001  # nback-paper: .001\n",
    "\n",
    "#### Execution parameters:\n",
    "CONTEXT_DRIFT_RATE=.1 # drift rate used for DriftOnASphereIntegrator (function of Context mech) on each trial\n",
    "NUM_TRIALS = 48 # number of stimuli presented in a trial sequence\n",
    "REPORT_OUTPUT = ReportOutput.OFF   # Sets console output during run\n",
    "REPORT_PROGRESS = ReportProgress.OFF  # Sets console progress bar during run\n",
    "ANIMATE = False # {UNIT:EXECUTION_SET} # Specifies whether to generate animation of execution"
   ],
   "metadata": {
    "collapsed": false,
    "pycharm": {
     "name": "#%%\n"
    }
   },
   "execution_count": 6,
   "outputs": []
  },
  {
   "cell_type": "markdown",
   "source": [
    "### Names of Compositions and Mechanisms:"
   ],
   "metadata": {
    "collapsed": false
   }
  },
  {
   "cell_type": "code",
   "source": [
    "NBACK_MODEL = \"N-back Model\"\n",
    "FFN_COMPOSITION = \"WORKING MEMORY (fnn)\"\n",
    "FFN_STIMULUS_INPUT = \"CURRENT STIMULUS\"\n",
    "FFN_CONTEXT_INPUT = \"CURRENT CONTEXT\"\n",
    "FFN_STIMULUS_RETRIEVED = \"RETRIEVED STIMULUS\"\n",
    "FFN_CONTEXT_RETRIEVED = \"RETRIEVED CONTEXT\"\n",
    "FFN_TASK = \"CURRENT TASK\"\n",
    "FFN_HIDDEN = \"HIDDEN LAYER\"\n",
    "FFN_OUTPUT = \"DECISION LAYER\"\n",
    "MODEL_STIMULUS_INPUT ='STIM'\n",
    "MODEL_CONTEXT_INPUT = 'CONTEXT'\n",
    "MODEL_TASK_INPUT = \"TASK\"\n",
    "EM = \"EPISODIC MEMORY (dict)\"\n",
    "CONTROLLER = \"READ/WRITE CONTROLLER\""
   ],
   "metadata": {
    "collapsed": false,
    "pycharm": {
     "name": "#%%\n"
    }
   },
   "execution_count": 7,
   "outputs": []
  },
  {
   "cell_type": "markdown",
   "metadata": {
    "pycharm": {
     "name": "#%% md\n"
    }
   },
   "source": [
    "## Construct the model:"
   ]
  },
  {
   "cell_type": "code",
   "execution_count": 25,
   "metadata": {
    "pycharm": {
     "name": "#%%\n"
    }
   },
   "outputs": [
    {
     "name": "stdout",
     "output_type": "stream",
     "text": [
      "constructing 'WORKING MEMORY (fnn)'...\n",
      "constructing 'nback Model'...\n",
      "full model constructed\n"
     ]
    }
   ],
   "source": [
    "clear_registry()\n",
    "nback_model = construct_model(stim_size=10)"
   ]
  },
  {
   "cell_type": "markdown",
   "source": [
    "## Train the model:"
   ],
   "metadata": {
    "collapsed": false,
    "pycharm": {
     "name": "#%% md\n"
    }
   }
  },
  {
   "cell_type": "code",
   "execution_count": 26,
   "metadata": {
    "pycharm": {
     "name": "#%%\n"
    }
   },
   "outputs": [
    {
     "name": "stdout",
     "output_type": "stream",
     "text": [
      "constructing training set for 'WORKING MEMORY (fnn)'...\n",
      "num training stimuli per training set (minibatch size): 64\n",
      "num weight updates (num_epochs): 6250\n",
      "total num trials: 400000\n",
      "\n",
      "training 'WORKING MEMORY (fnn)'...\n"
     ]
    },
    {
     "ename": "RunError",
     "evalue": "'Input stimulus ([[1.0 0.0 0.0 0.0 0.0 0.0 0.0 0.0]\\n [1.0 0.0 0.0 0.0 0.0 0.0 0.0 0.0]\\n [0.0 0.0 0.0 0.0 0.0 1.0 0.0 0.0]\\n [0.0 0.0 0.0 0.0 0.0 1.0 0.0 0.0]\\n [0.0 1.0 0.0 0.0 0.0 0.0 0.0 0.0]\\n [0.0 1.0 0.0 0.0 0.0 0.0 0.0 0.0]\\n [0.0 0.0 1.0 0.0 0.0 0.0 0.0 0.0]\\n [0.0 0.0 1.0 0.0 0.0 0.0 0.0 0.0]\\n [0.0 0.0 1.0 0.0 0.0 0.0 0.0 0.0]\\n [0.0 0.0 1.0 0.0 0.0 0.0 0.0 0.0]\\n [0.0 0.0 0.0 0.0 0.0 0.0 0.0 1.0]\\n [0.0 0.0 0.0 0.0 0.0 0.0 0.0 1.0]\\n [0.0 0.0 0.0 1.0 0.0 0.0 0.0 0.0]\\n [0.0 0.0 0.0 1.0 0.0 0.0 0.0 0.0]\\n [0.0 0.0 0.0 0.0 0.0 1.0 0.0 0.0]\\n [0.0 0.0 0.0 0.0 0.0 1.0 0.0 0.0]\\n [0.0 0.0 0.0 0.0 1.0 0.0 0.0 0.0]\\n [0.0 0.0 0.0 0.0 1.0 0.0 0.0 0.0]\\n [0.0 0.0 1.0 0.0 0.0 0.0 0.0 0.0]\\n [0.0 0.0 1.0 0.0 0.0 0.0 0.0 0.0]\\n [0.0 0.0 0.0 0.0 0.0 1.0 0.0 0.0]\\n [0.0 0.0 0.0 0.0 0.0 1.0 0.0 0.0]\\n [0.0 0.0 0.0 1.0 0.0 0.0 0.0 0.0]\\n [0.0 0.0 0.0 1.0 0.0 0.0 0.0 0.0]\\n [0.0 0.0 0.0 0.0 0.0 0.0 1.0 0.0]\\n [0.0 0.0 0.0 0.0 0.0 0.0 1.0 0.0]\\n [0.0 0.0 1.0 0.0 0.0 0.0 0.0 0.0]\\n [0.0 0.0 1.0 0.0 0.0 0.0 0.0 0.0]\\n [0.0 0.0 0.0 0.0 0.0 0.0 0.0 1.0]\\n [0.0 0.0 0.0 0.0 0.0 0.0 0.0 1.0]\\n [0.0 1.0 0.0 0.0 0.0 0.0 0.0 0.0]\\n [0.0 1.0 0.0 0.0 0.0 0.0 0.0 0.0]\\n [1.0 0.0 0.0 0.0 0.0 0.0 0.0 0.0]\\n [1.0 0.0 0.0 0.0 0.0 0.0 0.0 0.0]\\n [0.0 1.0 0.0 0.0 0.0 0.0 0.0 0.0]\\n [0.0 1.0 0.0 0.0 0.0 0.0 0.0 0.0]\\n [0.0 1.0 0.0 0.0 0.0 0.0 0.0 0.0]\\n [0.0 1.0 0.0 0.0 0.0 0.0 0.0 0.0]\\n [0.0 0.0 0.0 0.0 0.0 0.0 1.0 0.0]\\n [0.0 0.0 0.0 0.0 0.0 0.0 1.0 0.0]\\n [0.0 0.0 1.0 0.0 0.0 0.0 0.0 0.0]\\n [0.0 0.0 1.0 0.0 0.0 0.0 0.0 0.0]\\n [0.0 0.0 0.0 1.0 0.0 0.0 0.0 0.0]\\n [0.0 0.0 0.0 1.0 0.0 0.0 0.0 0.0]\\n [0.0 0.0 0.0 1.0 0.0 0.0 0.0 0.0]\\n [0.0 0.0 0.0 1.0 0.0 0.0 0.0 0.0]\\n [0.0 1.0 0.0 0.0 0.0 0.0 0.0 0.0]\\n [0.0 1.0 0.0 0.0 0.0 0.0 0.0 0.0]\\n [0.0 0.0 0.0 0.0 1.0 0.0 0.0 0.0]\\n [0.0 0.0 0.0 0.0 1.0 0.0 0.0 0.0]\\n [0.0 1.0 0.0 0.0 0.0 0.0 0.0 0.0]\\n [0.0 1.0 0.0 0.0 0.0 0.0 0.0 0.0]\\n [0.0 0.0 0.0 0.0 0.0 1.0 0.0 0.0]\\n [0.0 0.0 0.0 0.0 0.0 1.0 0.0 0.0]\\n [1.0 0.0 0.0 0.0 0.0 0.0 0.0 0.0]\\n [1.0 0.0 0.0 0.0 0.0 0.0 0.0 0.0]\\n [0.0 0.0 0.0 0.0 0.0 0.0 1.0 0.0]\\n [0.0 0.0 0.0 0.0 0.0 0.0 1.0 0.0]\\n [0.0 0.0 0.0 1.0 0.0 0.0 0.0 0.0]\\n [0.0 0.0 0.0 1.0 0.0 0.0 0.0 0.0]\\n [0.0 0.0 0.0 0.0 0.0 0.0 0.0 1.0]\\n [0.0 0.0 0.0 0.0 0.0 0.0 0.0 1.0]\\n [0.0 0.0 0.0 0.0 1.0 0.0 0.0 0.0]\\n [0.0 0.0 0.0 0.0 1.0 0.0 0.0 0.0]]) for RETRIEVED STIMULUS is incompatible with the shape of its external input ([0.0 0.0 0.0 0.0 0.0 0.0 0.0 0.0 0.0 0.0]).'",
     "output_type": "error",
     "traceback": [
      "\u001B[0;31m---------------------------------------------------------------------------\u001B[0m",
      "\u001B[0;31mRunError\u001B[0m                                  Traceback (most recent call last)",
      "\u001B[0;32m/var/folders/wb/wcgyg5r88xj60s0059b9z8600000gn/T/ipykernel_50705/4004385998.py\u001B[0m in \u001B[0;36m<module>\u001B[0;34m\u001B[0m\n\u001B[1;32m      1\u001B[0m \u001B[0mffn\u001B[0m \u001B[0;34m=\u001B[0m \u001B[0mnback_model\u001B[0m\u001B[0;34m.\u001B[0m\u001B[0mnodes\u001B[0m\u001B[0;34m[\u001B[0m\u001B[0;34m'WORKING MEMORY (fnn)'\u001B[0m\u001B[0;34m]\u001B[0m\u001B[0;34m\u001B[0m\u001B[0;34m\u001B[0m\u001B[0m\n\u001B[0;32m----> 2\u001B[0;31m \u001B[0mtrain_network\u001B[0m\u001B[0;34m(\u001B[0m\u001B[0mffn\u001B[0m\u001B[0;34m,\u001B[0m \u001B[0mnum_epochs\u001B[0m\u001B[0;34m=\u001B[0m\u001B[0;36m6250\u001B[0m\u001B[0;34m)\u001B[0m\u001B[0;34m\u001B[0m\u001B[0;34m\u001B[0m\u001B[0m\n\u001B[0m",
      "\u001B[0;32m~/PyCharmProjects/PsyNeuLink/psyneulink/library/models/Beukers_et_al_2022/nback.py\u001B[0m in \u001B[0;36mtrain_network\u001B[0;34m(network, training_set, minibatch_size, learning_rate, num_epochs, save_weights_to)\u001B[0m\n\u001B[1;32m    715\u001B[0m     \u001B[0mprint\u001B[0m\u001B[0;34m(\u001B[0m\u001B[0;34mf\"\\ntraining '{network.name}'...\"\u001B[0m\u001B[0;34m)\u001B[0m\u001B[0;34m\u001B[0m\u001B[0;34m\u001B[0m\u001B[0m\n\u001B[1;32m    716\u001B[0m     \u001B[0mstart_time\u001B[0m \u001B[0;34m=\u001B[0m \u001B[0mtimeit\u001B[0m\u001B[0;34m.\u001B[0m\u001B[0mdefault_timer\u001B[0m\u001B[0;34m(\u001B[0m\u001B[0;34m)\u001B[0m\u001B[0;34m\u001B[0m\u001B[0;34m\u001B[0m\u001B[0m\n\u001B[0;32m--> 717\u001B[0;31m     network.learn(inputs=training_set,\n\u001B[0m\u001B[1;32m    718\u001B[0m                   \u001B[0mminibatch_size\u001B[0m\u001B[0;34m=\u001B[0m\u001B[0mminibatch_size\u001B[0m\u001B[0;34m,\u001B[0m\u001B[0;34m\u001B[0m\u001B[0;34m\u001B[0m\u001B[0m\n\u001B[1;32m    719\u001B[0m                   \u001B[0mreport_output\u001B[0m\u001B[0;34m=\u001B[0m\u001B[0mREPORT_OUTPUT\u001B[0m\u001B[0;34m,\u001B[0m\u001B[0;34m\u001B[0m\u001B[0;34m\u001B[0m\u001B[0m\n",
      "\u001B[0;32m~/PyCharmProjects/PsyNeuLink/psyneulink/library/compositions/autodiffcomposition.py\u001B[0m in \u001B[0;36mlearn\u001B[0;34m(self, *args, **kwargs)\u001B[0m\n\u001B[1;32m    609\u001B[0m                 \u001B[0mkwargs\u001B[0m\u001B[0;34m[\u001B[0m\u001B[0;34m'execution_mode'\u001B[0m\u001B[0;34m]\u001B[0m \u001B[0;34m=\u001B[0m \u001B[0mpnlvm\u001B[0m\u001B[0;34m.\u001B[0m\u001B[0mExecutionMode\u001B[0m\u001B[0;34m.\u001B[0m\u001B[0mPython\u001B[0m\u001B[0;34m\u001B[0m\u001B[0;34m\u001B[0m\u001B[0m\n\u001B[1;32m    610\u001B[0m \u001B[0;34m\u001B[0m\u001B[0m\n\u001B[0;32m--> 611\u001B[0;31m         \u001B[0;32mreturn\u001B[0m \u001B[0msuper\u001B[0m\u001B[0;34m(\u001B[0m\u001B[0;34m)\u001B[0m\u001B[0;34m.\u001B[0m\u001B[0mlearn\u001B[0m\u001B[0;34m(\u001B[0m\u001B[0;34m*\u001B[0m\u001B[0margs\u001B[0m\u001B[0;34m,\u001B[0m \u001B[0;34m**\u001B[0m\u001B[0mkwargs\u001B[0m\u001B[0;34m)\u001B[0m\u001B[0;34m\u001B[0m\u001B[0;34m\u001B[0m\u001B[0m\n\u001B[0m\u001B[1;32m    612\u001B[0m \u001B[0;34m\u001B[0m\u001B[0m\n\u001B[1;32m    613\u001B[0m     \u001B[0;34m@\u001B[0m\u001B[0mhandle_external_context\u001B[0m\u001B[0;34m(\u001B[0m\u001B[0;34m)\u001B[0m\u001B[0;34m\u001B[0m\u001B[0;34m\u001B[0m\u001B[0m\n",
      "\u001B[0;32m~/PyCharmProjects/PsyNeuLink/psyneulink/core/globals/context.py\u001B[0m in \u001B[0;36mwrapper\u001B[0;34m(context, *args, **kwargs)\u001B[0m\n\u001B[1;32m    735\u001B[0m \u001B[0;34m\u001B[0m\u001B[0m\n\u001B[1;32m    736\u001B[0m             \u001B[0;32mtry\u001B[0m\u001B[0;34m:\u001B[0m\u001B[0;34m\u001B[0m\u001B[0;34m\u001B[0m\u001B[0m\n\u001B[0;32m--> 737\u001B[0;31m                 \u001B[0;32mreturn\u001B[0m \u001B[0mfunc\u001B[0m\u001B[0;34m(\u001B[0m\u001B[0;34m*\u001B[0m\u001B[0margs\u001B[0m\u001B[0;34m,\u001B[0m \u001B[0mcontext\u001B[0m\u001B[0;34m=\u001B[0m\u001B[0mcontext\u001B[0m\u001B[0;34m,\u001B[0m \u001B[0;34m**\u001B[0m\u001B[0mkwargs\u001B[0m\u001B[0;34m)\u001B[0m\u001B[0;34m\u001B[0m\u001B[0;34m\u001B[0m\u001B[0m\n\u001B[0m\u001B[1;32m    738\u001B[0m             \u001B[0;32mexcept\u001B[0m \u001B[0mTypeError\u001B[0m \u001B[0;32mas\u001B[0m \u001B[0me\u001B[0m\u001B[0;34m:\u001B[0m\u001B[0;34m\u001B[0m\u001B[0;34m\u001B[0m\u001B[0m\n\u001B[1;32m    739\u001B[0m                 \u001B[0;31m# context parameter may be passed as a positional arg\u001B[0m\u001B[0;34m\u001B[0m\u001B[0;34m\u001B[0m\u001B[0m\n",
      "\u001B[0;32m~/PyCharmProjects/PsyNeuLink/psyneulink/core/compositions/composition.py\u001B[0m in \u001B[0;36mlearn\u001B[0;34m(self, inputs, targets, num_trials, epochs, learning_rate, minibatch_size, patience, min_delta, context, execution_mode, randomize_minibatches, call_before_minibatch, call_after_minibatch, *args, **kwargs)\u001B[0m\n\u001B[1;32m  10435\u001B[0m                     )\n\u001B[1;32m  10436\u001B[0m \u001B[0;34m\u001B[0m\u001B[0m\n\u001B[0;32m> 10437\u001B[0;31m         learning_results = runner.run_learning(\n\u001B[0m\u001B[1;32m  10438\u001B[0m             \u001B[0minputs\u001B[0m\u001B[0;34m=\u001B[0m\u001B[0minputs\u001B[0m\u001B[0;34m,\u001B[0m\u001B[0;34m\u001B[0m\u001B[0;34m\u001B[0m\u001B[0m\n\u001B[1;32m  10439\u001B[0m             \u001B[0mtargets\u001B[0m\u001B[0;34m=\u001B[0m\u001B[0mtargets\u001B[0m\u001B[0;34m,\u001B[0m\u001B[0;34m\u001B[0m\u001B[0;34m\u001B[0m\u001B[0m\n",
      "\u001B[0;32m~/PyCharmProjects/PsyNeuLink/psyneulink/library/compositions/compositionrunner.py\u001B[0m in \u001B[0;36mrun_learning\u001B[0;34m(self, inputs, targets, num_trials, epochs, learning_rate, minibatch_size, patience, min_delta, randomize_minibatches, call_before_minibatch, call_after_minibatch, context, execution_mode, **kwargs)\u001B[0m\n\u001B[1;32m    185\u001B[0m                 \u001B[0mstim_epoch\u001B[0m \u001B[0;34m=\u001B[0m \u001B[0mstim_input\u001B[0m\u001B[0;34m[\u001B[0m\u001B[0;34m'epochs'\u001B[0m\u001B[0;34m]\u001B[0m\u001B[0;34m\u001B[0m\u001B[0;34m\u001B[0m\u001B[0m\n\u001B[1;32m    186\u001B[0m \u001B[0;34m\u001B[0m\u001B[0m\n\u001B[0;32m--> 187\u001B[0;31m             \u001B[0mstim_input\u001B[0m\u001B[0;34m,\u001B[0m \u001B[0mnum_input_trials\u001B[0m \u001B[0;34m=\u001B[0m \u001B[0mself\u001B[0m\u001B[0;34m.\u001B[0m\u001B[0m_composition\u001B[0m\u001B[0;34m.\u001B[0m\u001B[0m_parse_learning_spec\u001B[0m\u001B[0;34m(\u001B[0m\u001B[0mstim_input\u001B[0m\u001B[0;34m,\u001B[0m \u001B[0mstim_target\u001B[0m\u001B[0;34m)\u001B[0m\u001B[0;34m\u001B[0m\u001B[0;34m\u001B[0m\u001B[0m\n\u001B[0m\u001B[1;32m    188\u001B[0m \u001B[0;34m\u001B[0m\u001B[0m\n\u001B[1;32m    189\u001B[0m             \u001B[0;32mif\u001B[0m \u001B[0mnum_trials\u001B[0m \u001B[0;32mis\u001B[0m \u001B[0;32mNone\u001B[0m\u001B[0;34m:\u001B[0m\u001B[0;34m\u001B[0m\u001B[0;34m\u001B[0m\u001B[0m\n",
      "\u001B[0;32m~/PyCharmProjects/PsyNeuLink/psyneulink/core/compositions/composition.py\u001B[0m in \u001B[0;36m_parse_learning_spec\u001B[0;34m(self, inputs, targets)\u001B[0m\n\u001B[1;32m   8968\u001B[0m         \u001B[0;31m# 3) Resize inputs to be of the form [[[]]],\u001B[0m\u001B[0;34m\u001B[0m\u001B[0;34m\u001B[0m\u001B[0m\n\u001B[1;32m   8969\u001B[0m         \u001B[0;31m# where each level corresponds to: <TRIALS <PORTS <INPUTS> > >\u001B[0m\u001B[0;34m\u001B[0m\u001B[0;34m\u001B[0m\u001B[0m\n\u001B[0;32m-> 8970\u001B[0;31m         \u001B[0minputs\u001B[0m\u001B[0;34m,\u001B[0m \u001B[0mnum_inputs_sets\u001B[0m \u001B[0;34m=\u001B[0m \u001B[0mself\u001B[0m\u001B[0;34m.\u001B[0m\u001B[0m_parse_input_dict\u001B[0m\u001B[0;34m(\u001B[0m\u001B[0minputs\u001B[0m\u001B[0;34m)\u001B[0m\u001B[0;34m\u001B[0m\u001B[0;34m\u001B[0m\u001B[0m\n\u001B[0m\u001B[1;32m   8971\u001B[0m \u001B[0;34m\u001B[0m\u001B[0m\n\u001B[1;32m   8972\u001B[0m         \u001B[0;32mreturn\u001B[0m \u001B[0minputs\u001B[0m\u001B[0;34m,\u001B[0m \u001B[0mnum_inputs_sets\u001B[0m\u001B[0;34m\u001B[0m\u001B[0;34m\u001B[0m\u001B[0m\n",
      "\u001B[0;32m~/PyCharmProjects/PsyNeuLink/psyneulink/core/compositions/composition.py\u001B[0m in \u001B[0;36m_parse_input_dict\u001B[0;34m(self, inputs, context)\u001B[0m\n\u001B[1;32m   9131\u001B[0m         \u001B[0m_inputs\u001B[0m \u001B[0;34m=\u001B[0m \u001B[0mself\u001B[0m\u001B[0;34m.\u001B[0m\u001B[0m_instantiate_input_dict\u001B[0m\u001B[0;34m(\u001B[0m\u001B[0m_inputs\u001B[0m\u001B[0;34m)\u001B[0m\u001B[0;34m\u001B[0m\u001B[0;34m\u001B[0m\u001B[0m\n\u001B[1;32m   9132\u001B[0m         \u001B[0m_inputs\u001B[0m \u001B[0;34m=\u001B[0m \u001B[0mself\u001B[0m\u001B[0;34m.\u001B[0m\u001B[0m_flatten_nested_dicts\u001B[0m\u001B[0;34m(\u001B[0m\u001B[0m_inputs\u001B[0m\u001B[0;34m)\u001B[0m\u001B[0;34m\u001B[0m\u001B[0;34m\u001B[0m\u001B[0m\n\u001B[0;32m-> 9133\u001B[0;31m         \u001B[0m_inputs\u001B[0m \u001B[0;34m=\u001B[0m \u001B[0mself\u001B[0m\u001B[0;34m.\u001B[0m\u001B[0m_validate_input_shapes\u001B[0m\u001B[0;34m(\u001B[0m\u001B[0m_inputs\u001B[0m\u001B[0;34m)\u001B[0m\u001B[0;34m\u001B[0m\u001B[0;34m\u001B[0m\u001B[0m\n\u001B[0m\u001B[1;32m   9134\u001B[0m         \u001B[0mnum_inputs_sets\u001B[0m \u001B[0;34m=\u001B[0m \u001B[0mlen\u001B[0m\u001B[0;34m(\u001B[0m\u001B[0mnext\u001B[0m\u001B[0;34m(\u001B[0m\u001B[0miter\u001B[0m\u001B[0;34m(\u001B[0m\u001B[0m_inputs\u001B[0m\u001B[0;34m.\u001B[0m\u001B[0mvalues\u001B[0m\u001B[0;34m(\u001B[0m\u001B[0;34m)\u001B[0m\u001B[0;34m)\u001B[0m\u001B[0;34m,\u001B[0m\u001B[0;34m[\u001B[0m\u001B[0;34m]\u001B[0m\u001B[0;34m)\u001B[0m\u001B[0;34m)\u001B[0m\u001B[0;34m\u001B[0m\u001B[0;34m\u001B[0m\u001B[0m\n\u001B[1;32m   9135\u001B[0m         \u001B[0;32mreturn\u001B[0m \u001B[0m_inputs\u001B[0m\u001B[0;34m,\u001B[0m \u001B[0mnum_inputs_sets\u001B[0m\u001B[0;34m\u001B[0m\u001B[0;34m\u001B[0m\u001B[0m\n",
      "\u001B[0;32m~/PyCharmProjects/PsyNeuLink/psyneulink/core/compositions/composition.py\u001B[0m in \u001B[0;36m_validate_input_shapes\u001B[0;34m(self, inputs)\u001B[0m\n\u001B[1;32m   9533\u001B[0m                                             \u001B[0;34m\"(or other values) to represent the outside stimulus for \"\u001B[0m\u001B[0;31m \u001B[0m\u001B[0;31m\\\u001B[0m\u001B[0;34m\u001B[0m\u001B[0;34m\u001B[0m\u001B[0m\n\u001B[1;32m   9534\u001B[0m                                             \u001B[0;34m\"the inhibition InputPort, and for Compositions, put your inputs\"\u001B[0m\u001B[0;34m\u001B[0m\u001B[0;34m\u001B[0m\u001B[0m\n\u001B[0;32m-> 9535\u001B[0;31m                     \u001B[0;32mraise\u001B[0m \u001B[0mRunError\u001B[0m\u001B[0;34m(\u001B[0m\u001B[0merr_msg\u001B[0m\u001B[0;34m)\u001B[0m\u001B[0;34m\u001B[0m\u001B[0;34m\u001B[0m\u001B[0m\n\u001B[0m\u001B[1;32m   9536\u001B[0m             \u001B[0m_inputs\u001B[0m\u001B[0;34m[\u001B[0m\u001B[0mreceiver\u001B[0m\u001B[0;34m]\u001B[0m \u001B[0;34m=\u001B[0m \u001B[0m_input\u001B[0m\u001B[0;34m\u001B[0m\u001B[0;34m\u001B[0m\u001B[0m\n\u001B[1;32m   9537\u001B[0m             \u001B[0minput_length\u001B[0m \u001B[0;34m=\u001B[0m \u001B[0mlen\u001B[0m\u001B[0;34m(\u001B[0m\u001B[0m_input\u001B[0m\u001B[0;34m)\u001B[0m\u001B[0;34m\u001B[0m\u001B[0;34m\u001B[0m\u001B[0m\n",
      "\u001B[0;31mRunError\u001B[0m: 'Input stimulus ([[1.0 0.0 0.0 0.0 0.0 0.0 0.0 0.0]\\n [1.0 0.0 0.0 0.0 0.0 0.0 0.0 0.0]\\n [0.0 0.0 0.0 0.0 0.0 1.0 0.0 0.0]\\n [0.0 0.0 0.0 0.0 0.0 1.0 0.0 0.0]\\n [0.0 1.0 0.0 0.0 0.0 0.0 0.0 0.0]\\n [0.0 1.0 0.0 0.0 0.0 0.0 0.0 0.0]\\n [0.0 0.0 1.0 0.0 0.0 0.0 0.0 0.0]\\n [0.0 0.0 1.0 0.0 0.0 0.0 0.0 0.0]\\n [0.0 0.0 1.0 0.0 0.0 0.0 0.0 0.0]\\n [0.0 0.0 1.0 0.0 0.0 0.0 0.0 0.0]\\n [0.0 0.0 0.0 0.0 0.0 0.0 0.0 1.0]\\n [0.0 0.0 0.0 0.0 0.0 0.0 0.0 1.0]\\n [0.0 0.0 0.0 1.0 0.0 0.0 0.0 0.0]\\n [0.0 0.0 0.0 1.0 0.0 0.0 0.0 0.0]\\n [0.0 0.0 0.0 0.0 0.0 1.0 0.0 0.0]\\n [0.0 0.0 0.0 0.0 0.0 1.0 0.0 0.0]\\n [0.0 0.0 0.0 0.0 1.0 0.0 0.0 0.0]\\n [0.0 0.0 0.0 0.0 1.0 0.0 0.0 0.0]\\n [0.0 0.0 1.0 0.0 0.0 0.0 0.0 0.0]\\n [0.0 0.0 1.0 0.0 0.0 0.0 0.0 0.0]\\n [0.0 0.0 0.0 0.0 0.0 1.0 0.0 0.0]\\n [0.0 0.0 0.0 0.0 0.0 1.0 0.0 0.0]\\n [0.0 0.0 0.0 1.0 0.0 0.0 0.0 0.0]\\n [0.0 0.0 0.0 1.0 0.0 0.0 0.0 0.0]\\n [0.0 0.0 0.0 0.0 0.0 0.0 1.0 0.0]\\n [0.0 0.0 0.0 0.0 0.0 0.0 1.0 0.0]\\n [0.0 0.0 1.0 0.0 0.0 0.0 0.0 0.0]\\n [0.0 0.0 1.0 0.0 0.0 0.0 0.0 0.0]\\n [0.0 0.0 0.0 0.0 0.0 0.0 0.0 1.0]\\n [0.0 0.0 0.0 0.0 0.0 0.0 0.0 1.0]\\n [0.0 1.0 0.0 0.0 0.0 0.0 0.0 0.0]\\n [0.0 1.0 0.0 0.0 0.0 0.0 0.0 0.0]\\n [1.0 0.0 0.0 0.0 0.0 0.0 0.0 0.0]\\n [1.0 0.0 0.0 0.0 0.0 0.0 0.0 0.0]\\n [0.0 1.0 0.0 0.0 0.0 0.0 0.0 0.0]\\n [0.0 1.0 0.0 0.0 0.0 0.0 0.0 0.0]\\n [0.0 1.0 0.0 0.0 0.0 0.0 0.0 0.0]\\n [0.0 1.0 0.0 0.0 0.0 0.0 0.0 0.0]\\n [0.0 0.0 0.0 0.0 0.0 0.0 1.0 0.0]\\n [0.0 0.0 0.0 0.0 0.0 0.0 1.0 0.0]\\n [0.0 0.0 1.0 0.0 0.0 0.0 0.0 0.0]\\n [0.0 0.0 1.0 0.0 0.0 0.0 0.0 0.0]\\n [0.0 0.0 0.0 1.0 0.0 0.0 0.0 0.0]\\n [0.0 0.0 0.0 1.0 0.0 0.0 0.0 0.0]\\n [0.0 0.0 0.0 1.0 0.0 0.0 0.0 0.0]\\n [0.0 0.0 0.0 1.0 0.0 0.0 0.0 0.0]\\n [0.0 1.0 0.0 0.0 0.0 0.0 0.0 0.0]\\n [0.0 1.0 0.0 0.0 0.0 0.0 0.0 0.0]\\n [0.0 0.0 0.0 0.0 1.0 0.0 0.0 0.0]\\n [0.0 0.0 0.0 0.0 1.0 0.0 0.0 0.0]\\n [0.0 1.0 0.0 0.0 0.0 0.0 0.0 0.0]\\n [0.0 1.0 0.0 0.0 0.0 0.0 0.0 0.0]\\n [0.0 0.0 0.0 0.0 0.0 1.0 0.0 0.0]\\n [0.0 0.0 0.0 0.0 0.0 1.0 0.0 0.0]\\n [1.0 0.0 0.0 0.0 0.0 0.0 0.0 0.0]\\n [1.0 0.0 0.0 0.0 0.0 0.0 0.0 0.0]\\n [0.0 0.0 0.0 0.0 0.0 0.0 1.0 0.0]\\n [0.0 0.0 0.0 0.0 0.0 0.0 1.0 0.0]\\n [0.0 0.0 0.0 1.0 0.0 0.0 0.0 0.0]\\n [0.0 0.0 0.0 1.0 0.0 0.0 0.0 0.0]\\n [0.0 0.0 0.0 0.0 0.0 0.0 0.0 1.0]\\n [0.0 0.0 0.0 0.0 0.0 0.0 0.0 1.0]\\n [0.0 0.0 0.0 0.0 1.0 0.0 0.0 0.0]\\n [0.0 0.0 0.0 0.0 1.0 0.0 0.0 0.0]]) for RETRIEVED STIMULUS is incompatible with the shape of its external input ([0.0 0.0 0.0 0.0 0.0 0.0 0.0 0.0 0.0 0.0]).'"
     ]
    }
   ],
   "source": [
    "ffn = nback_model.nodes['WORKING MEMORY (fnn)']\n",
    "train_network(ffn, num_epochs=6250)"
   ]
  },
  {
   "cell_type": "markdown",
   "metadata": {},
   "source": [
    "## Run the model:"
   ]
  },
  {
   "cell_type": "code",
   "metadata": {
    "pycharm": {
     "name": "#%%\n"
    }
   },
   "source": [
    "results = run_model(nback_model)"
   ],
   "execution_count": 11,
   "outputs": [
    {
     "ename": "NameError",
     "evalue": "name 'nback_model' is not defined",
     "output_type": "error",
     "traceback": [
      "\u001B[0;31m---------------------------------------------------------------------------\u001B[0m",
      "\u001B[0;31mNameError\u001B[0m                                 Traceback (most recent call last)",
      "\u001B[0;32m/var/folders/_8/09rzl01902954fwz0xrgrx7h0000gp/T/ipykernel_57864/313089602.py\u001B[0m in \u001B[0;36m<module>\u001B[0;34m\u001B[0m\n\u001B[0;32m----> 1\u001B[0;31m \u001B[0mresults\u001B[0m \u001B[0;34m=\u001B[0m \u001B[0mrun_model\u001B[0m\u001B[0;34m(\u001B[0m\u001B[0mnback_model\u001B[0m\u001B[0;34m)\u001B[0m\u001B[0;34m\u001B[0m\u001B[0;34m\u001B[0m\u001B[0m\n\u001B[0m\u001B[1;32m      2\u001B[0m \u001B[0;34m\u001B[0m\u001B[0m\n",
      "\u001B[0;32m~/PycharmProjects/PsyNeuLink/Scripts/Models (Under Development)/N-Back/nback.py\u001B[0m in \u001B[0;36mrun_model\u001B[0;34m(model, load_weights_from, context_drift_rate, num_trials, report_output, report_progress, animate, save_results_to)\u001B[0m\n\u001B[1;32m    627\u001B[0m         \u001B[0;32mif\u001B[0m \u001B[0;32mNone\u001B[0m\u001B[0;34m,\u001B[0m \u001B[0mthose\u001B[0m \u001B[0mare\u001B[0m \u001B[0mreturned\u001B[0m \u001B[0mby\u001B[0m \u001B[0mcall\u001B[0m \u001B[0mbut\u001B[0m \u001B[0;32mnot\u001B[0m \u001B[0msaved\u001B[0m\u001B[0;34m.\u001B[0m\u001B[0;34m\u001B[0m\u001B[0;34m\u001B[0m\u001B[0m\n\u001B[1;32m    628\u001B[0m     \"\"\"\n\u001B[0;32m--> 629\u001B[0;31m     \u001B[0mffn\u001B[0m \u001B[0;34m=\u001B[0m \u001B[0mnback_model\u001B[0m\u001B[0;34m.\u001B[0m\u001B[0mnodes\u001B[0m\u001B[0;34m[\u001B[0m\u001B[0mFFN_COMPOSITION\u001B[0m\u001B[0;34m]\u001B[0m\u001B[0;34m\u001B[0m\u001B[0;34m\u001B[0m\u001B[0m\n\u001B[0m\u001B[1;32m    630\u001B[0m     \u001B[0mem\u001B[0m \u001B[0;34m=\u001B[0m \u001B[0mmodel\u001B[0m\u001B[0;34m.\u001B[0m\u001B[0mnodes\u001B[0m\u001B[0;34m[\u001B[0m\u001B[0mEM\u001B[0m\u001B[0;34m]\u001B[0m\u001B[0;34m\u001B[0m\u001B[0;34m\u001B[0m\u001B[0m\n\u001B[1;32m    631\u001B[0m     \u001B[0;32mif\u001B[0m \u001B[0mload_weights_from\u001B[0m\u001B[0;34m:\u001B[0m\u001B[0;34m\u001B[0m\u001B[0;34m\u001B[0m\u001B[0m\n",
      "\u001B[0;31mNameError\u001B[0m: name 'nback_model' is not defined"
     ]
    }
   ]
  },
  {
   "cell_type": "markdown",
   "source": [
    "## Analyze the results:"
   ],
   "metadata": {
    "collapsed": false,
    "pycharm": {
     "name": "#%% md\n"
    }
   }
  },
  {
   "cell_type": "code",
   "execution_count": null,
   "outputs": [],
   "source": [
    "coded_responses, stats = analyze_results(results,\n",
    "                                         num_trials=NUM_TRIALS,\n",
    "                                         nback_levels=NBACK_LEVELS)\n",
    "\n"
   ],
   "metadata": {
    "collapsed": false,
    "pycharm": {
     "name": "#%%\n"
    }
   }
  }
 ],
 "metadata": {
  "kernelspec": {
   "display_name": "Python 3 (ipykernel)",
   "language": "python",
   "name": "python3"
  },
  "language_info": {
   "codemirror_mode": {
    "name": "ipython",
    "version": 3
   },
   "file_extension": ".py",
   "mimetype": "text/x-python",
   "name": "python",
   "nbconvert_exporter": "python",
   "pygments_lexer": "ipython3",
   "version": "3.9.7"
  }
 },
 "nbformat": 4,
 "nbformat_minor": 1
}